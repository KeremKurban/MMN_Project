{
 "cells": [
  {
   "cell_type": "markdown",
   "metadata": {},
   "source": [
    "###### Imports"
   ]
  },
  {
   "cell_type": "code",
   "execution_count": 1,
   "metadata": {},
   "outputs": [],
   "source": [
    "import neurom as nm\n",
    "import morphio\n",
    "import numpy as np\n",
    "import matplotlib.pyplot as plt\n",
    "import networkx as nx\n",
    "from scipy.spatial import distance_matrix\n",
    "import gudhi as gd  \n",
    "import random\n",
    "import math\n",
    "import tmd\n",
    "import os\n",
    "import cv2\n",
    "from tmd.view import plot as tmdplt\n",
    "from tmd.Topology import analysis\n",
    "from tensorflow.keras.applications.vgg16 import VGG16 \n",
    "from tensorflow.keras.models import Model\n",
    "from sklearn.decomposition import PCA\n",
    "plt.style.use(['seaborn-white'])"
   ]
  },
  {
   "cell_type": "markdown",
   "metadata": {},
   "source": [
    "###### General variables"
   ]
  },
  {
   "cell_type": "code",
   "execution_count": 2,
   "metadata": {},
   "outputs": [],
   "source": [
    "data_path = 'data/morphologies/swc30/'"
   ]
  },
  {
   "cell_type": "markdown",
   "metadata": {},
   "source": [
    "###### Loading morphologies"
   ]
  },
  {
   "cell_type": "code",
   "execution_count": null,
   "metadata": {
    "scrolled": true
   },
   "outputs": [
    {
     "name": "stdout",
     "output_type": "stream",
     "text": [
      "Could not load the file.\n",
      "Could not load the file.\n",
      "Could not load the file.\n",
      "Could not load the file.\n"
     ]
    }
   ],
   "source": [
    "list_morpho = os.listdir(data_path)\n",
    "all_morphos = []\n",
    "all_names = []\n",
    "for i, tmp_morpho in enumerate(list_morpho):\n",
    "    if tmp_morpho.endswith('.swc'):\n",
    "        tmp_filename = data_path + tmp_morpho\n",
    "        try: \n",
    "            all_morphos.append(tmd.io.load_neuron_from_morphio(tmp_filename))\n",
    "            all_names.append(tmp_morpho)\n",
    "        except: print('Could not load the file.')\n",
    "print('%d morphologies were loaded.'%len(all_morphos))"
   ]
  },
  {
   "cell_type": "markdown",
   "metadata": {},
   "source": [
    "###### Getting only the axon neurite"
   ]
  },
  {
   "cell_type": "code",
   "execution_count": null,
   "metadata": {},
   "outputs": [],
   "source": [
    "all_morpho_axons = [morpho.axon[0] for morpho in all_morphos]"
   ]
  },
  {
   "cell_type": "markdown",
   "metadata": {},
   "source": [
    "###### Computing the persistent diagrams"
   ]
  },
  {
   "cell_type": "code",
   "execution_count": null,
   "metadata": {},
   "outputs": [],
   "source": [
    "all_pd = {'rad' : [], 'path' : []}\n",
    "for axon_tree in all_morpho_axons:\n",
    "    all_pd['rad'].append(tmd.methods.get_persistence_diagram(axon_tree, feature = \"radial_distances\"))\n",
    "    all_pd['path'].append(tmd.methods.get_persistence_diagram(axon_tree, feature = \"path_distances\"))"
   ]
  },
  {
   "cell_type": "markdown",
   "metadata": {},
   "source": [
    "###### Computing the persistent images"
   ]
  },
  {
   "cell_type": "code",
   "execution_count": null,
   "metadata": {},
   "outputs": [],
   "source": [
    "all_pi = {'rad': [], 'path' : []}\n",
    "not_computed_idx = []\n",
    "for metric in all_pd.keys():\n",
    "    for i, tmp_pd in enumerate(all_pd[metric]):\n",
    "        try: \n",
    "            all_pi[metric].append(analysis.get_persistence_image_data(tmp_pd))\n",
    "            tmp , _ = tmdplt.persistence_image(tmp_pd)\n",
    "            plt.savefig('Persistent_images/%s/%s.png'%(metric, all_names[i].split('.')[0]), bbox_inches = 'tight')\n",
    "        except: \n",
    "            print('Persistent image has not been computed.')\n",
    "            not_computed_idx.append(i)\n",
    "all_names_pi = np.delete(all_names, not_computed_idx)"
   ]
  },
  {
   "cell_type": "code",
   "execution_count": null,
   "metadata": {},
   "outputs": [],
   "source": []
  },
  {
   "cell_type": "code",
   "execution_count": null,
   "metadata": {},
   "outputs": [],
   "source": []
  }
 ],
 "metadata": {
  "kernelspec": {
   "display_name": "Python 3",
   "language": "python",
   "name": "python3"
  },
  "language_info": {
   "codemirror_mode": {
    "name": "ipython",
    "version": 3
   },
   "file_extension": ".py",
   "mimetype": "text/x-python",
   "name": "python",
   "nbconvert_exporter": "python",
   "pygments_lexer": "ipython3",
   "version": "3.8.3"
  }
 },
 "nbformat": 4,
 "nbformat_minor": 4
}
