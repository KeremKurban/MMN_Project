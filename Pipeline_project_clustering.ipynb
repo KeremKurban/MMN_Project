{
 "cells": [
  {
   "cell_type": "markdown",
   "metadata": {},
   "source": [
    "###### Imports"
   ]
  },
  {
   "cell_type": "code",
   "execution_count": 82,
   "metadata": {},
   "outputs": [],
   "source": [
    "import numpy as np\n",
    "import matplotlib.pyplot as plt\n",
    "import networkx as nx\n",
    "from scipy.spatial import distance_matrix\n",
    "import gudhi as gd  \n",
    "import random\n",
    "import math\n",
    "import tmd\n",
    "import os\n",
    "import cv2\n",
    "from tmd.view import plot as tmdplt\n",
    "from tmd.Topology import analysis\n",
    "from tensorflow.keras.applications.vgg16 import VGG16 \n",
    "from tensorflow.keras.models import Model\n",
    "from sklearn.decomposition import PCA\n",
    "plt.style.use(['seaborn-white'])"
   ]
  },
  {
   "cell_type": "markdown",
   "metadata": {},
   "source": [
    "###### General variables"
   ]
  },
  {
   "cell_type": "code",
   "execution_count": 12,
   "metadata": {},
   "outputs": [],
   "source": [
    "data_path = 'Cortical_morphologies'\n",
    "class1 = 'L4_SSC'\n",
    "class2 = 'L4_TPC'\n",
    "class3 = 'L4_UPC'\n",
    "list_cells_C1 = os.listdir(data_path + '/' + class1)\n",
    "list_cells_C2 = os.listdir(data_path + '/' + class2)\n",
    "list_cells_C3 = os.listdir(data_path + '/' + class3)\n",
    "classes = [class1, class2, class3]\n",
    "all_files = [list_cells_C1, list_cells_C2, list_cells_C3]"
   ]
  },
  {
   "cell_type": "markdown",
   "metadata": {},
   "source": [
    "###### Loading"
   ]
  },
  {
   "cell_type": "code",
   "execution_count": 29,
   "metadata": {},
   "outputs": [
    {
     "name": "stdout",
     "output_type": "stream",
     "text": [
      "Loading neuron class A\n",
      "Loading neuron class B\n",
      "Loading neuron class C\n"
     ]
    }
   ],
   "source": [
    "all_neurons = {'A' : [], 'B' : [], 'C' : []}\n",
    "# Load neurons for each class\n",
    "for k, key in enumerate(all_neurons.keys()):\n",
    "    print('Loading neuron class %s'%key)\n",
    "    for file in all_files[k]:\n",
    "        filename = data_path + '/' + classes[k] + '/' + file\n",
    "        # Loading morphology --> We are taking only the axon\n",
    "        all_neurons[key].append(tmd.io.load_neuron_from_morphio(filename).axon[0])"
   ]
  },
  {
   "cell_type": "markdown",
   "metadata": {},
   "source": [
    "###### Computing persistent homology features"
   ]
  },
  {
   "cell_type": "code",
   "execution_count": 32,
   "metadata": {},
   "outputs": [],
   "source": [
    "PH = {}\n",
    "for morpho_class in all_neurons.keys():\n",
    "    PH[morpho_class] = []\n",
    "    for neuron_tree in all_neurons[morpho_class]:\n",
    "        PH[morpho_class].append(tmd.methods.get_persistence_diagram(neuron_tree, feature = 'radial_distances'))"
   ]
  },
  {
   "cell_type": "markdown",
   "metadata": {},
   "source": [
    "###### Getting persistent images"
   ]
  },
  {
   "cell_type": "code",
   "execution_count": 37,
   "metadata": {},
   "outputs": [],
   "source": [
    "Pers_images = {}\n",
    "for morpho_class in PH.keys():\n",
    "    Pers_images[morpho_class] = []\n",
    "    for neuron_ph in PH[morpho_class]:\n",
    "        Pers_images[morpho_class].append(analysis.get_persistence_image_data(neuron_ph))"
   ]
  },
  {
   "cell_type": "markdown",
   "metadata": {},
   "source": [
    "###### Loading the model for features extractionr and restructuring (reshaping) images"
   ]
  },
  {
   "cell_type": "code",
   "execution_count": 56,
   "metadata": {},
   "outputs": [
    {
     "name": "stdout",
     "output_type": "stream",
     "text": [
      "Downloading data from https://storage.googleapis.com/tensorflow/keras-applications/vgg16/vgg16_weights_tf_dim_ordering_tf_kernels.h5\n",
      "553467904/553467096 [==============================] - 113s 0us/step\n"
     ]
    }
   ],
   "source": [
    "# load model\n",
    "model = VGG16()\n",
    "# remove the output layer (we do not need to perform ImageNet classification)\n",
    "model = Model(inputs = model.inputs, outputs = model.layers[-2].output)"
   ]
  },
  {
   "cell_type": "code",
   "execution_count": 70,
   "metadata": {},
   "outputs": [],
   "source": [
    "# We resize the persistent images to the size required by VGG16\n",
    "resized_Pers_images = {}\n",
    "for morpho_class in Pers_images.keys():\n",
    "    resized_Pers_images[morpho_class] = []\n",
    "    for image in Pers_images[morpho_class]:\n",
    "        res_image = cv2.resize(image, dsize = (224, 224), interpolation = cv2.INTER_CUBIC)\n",
    "        res_image_3D = np.repeat(np.expand_dims(res_image, axis = -1), 3, axis = -1)\n",
    "        resized_Pers_images[morpho_class].append(res_image_3D)"
   ]
  },
  {
   "cell_type": "markdown",
   "metadata": {},
   "source": [
    "###### Extracting features from persistent images"
   ]
  },
  {
   "cell_type": "code",
   "execution_count": 73,
   "metadata": {},
   "outputs": [],
   "source": [
    "features = {}\n",
    "for morpho_class in resized_Pers_images.keys():\n",
    "    features[morpho_class] = []\n",
    "    for image in resized_Pers_images[morpho_class]:\n",
    "        tmp_image = image.reshape(1,*image.shape)\n",
    "        features[morpho_class].append(model.predict(tmp_image))"
   ]
  },
  {
   "cell_type": "markdown",
   "metadata": {},
   "source": [
    "###### Building final features matrix"
   ]
  },
  {
   "cell_type": "code",
   "execution_count": 81,
   "metadata": {},
   "outputs": [
    {
     "name": "stdout",
     "output_type": "stream",
     "text": [
      "There are 10 samples for class A\n",
      "There are 10 samples for class B\n",
      "There are 10 samples for class C\n",
      "\n",
      "Final shape features matrix : (30, 4096)\n"
     ]
    }
   ],
   "source": [
    "all_vals = []\n",
    "all_labels = []\n",
    "for morpho_class in features.keys():\n",
    "    features_tmp = np.squeeze(features[morpho_class])\n",
    "    n_samples = np.shape(features_tmp)[0]\n",
    "    all_vals.append(features_tmp)\n",
    "    all_labels.append([morpho_class]*n_samples)\n",
    "    print('There are %d samples for class %s'%(n_samples, morpho_class))\n",
    "all_vals = np.concatenate(all_vals, axis = 0)\n",
    "all_labels = np.concatenate(all_labels)\n",
    "print('\\nFinal shape features matrix :', all_vals.shape)"
   ]
  },
  {
   "cell_type": "markdown",
   "metadata": {},
   "source": [
    "###### Applying dimensionality reduction"
   ]
  },
  {
   "cell_type": "code",
   "execution_count": 86,
   "metadata": {},
   "outputs": [
    {
     "name": "stdout",
     "output_type": "stream",
     "text": [
      "\n",
      "Shape features matrix after PCA: (30, 30)\n"
     ]
    }
   ],
   "source": [
    "pca = PCA()\n",
    "PCAed_data = pca.fit_transform(all_vals)\n",
    "print('\\nShape features matrix after PCA:', PCAed_data.shape)"
   ]
  },
  {
   "cell_type": "code",
   "execution_count": 95,
   "metadata": {},
   "outputs": [
    {
     "data": {
      "text/plain": [
       "0.73661757"
      ]
     },
     "execution_count": 95,
     "metadata": {},
     "output_type": "execute_result"
    }
   ],
   "source": [
    "np.sum(pca.explained_variance_)"
   ]
  },
  {
   "cell_type": "code",
   "execution_count": 96,
   "metadata": {},
   "outputs": [
    {
     "data": {
      "image/png": "[encoded data removed]",
      "text/plain": [
       "<Figure size 288x360 with 1 Axes>"
      ]
     },
     "metadata": {},
     "output_type": "display_data"
    }
   ],
   "source": [
    "plt.figure(figsize = (4,5))\n",
    "plt.plot(np.cumsum(pca.explained_variance_*100), color = 'black', lw = 4)\n",
    "plt.xlabel('PCs', fontsize = 18, weight = 'bold')\n",
    "plt.ylabel('Cumulative variance explained [%]', fontsize = 18, weight = 'bold')\n",
    "plt.xticks(fontsize = 18)\n",
    "plt.yticks(fontsize = 18)\n",
    "plt.show()"
   ]
  },
  {
   "cell_type": "code",
   "execution_count": 106,
   "metadata": {},
   "outputs": [],
   "source": [
    "class1_idx = np.where(all_labels == 'A')[0]\n",
    "class2_idx = np.where(all_labels == 'B')[0]\n",
    "class3_idx = np.where(all_labels == 'C')[0]"
   ]
  },
  {
   "cell_type": "code",
   "execution_count": 111,
   "metadata": {},
   "outputs": [
    {
     "data": {
      "image/png": "[encoded data removed]",
      "text/plain": [
       "<Figure size 432x432 with 1 Axes>"
      ]
     },
     "metadata": {},
     "output_type": "display_data"
    }
   ],
   "source": [
    "plt.figure(figsize = (6,6))\n",
    "plt.scatter(PCAed_data[class1_idx,0], PCAed_data[class1_idx,1], color = 'goldenrod', s = 100)\n",
    "plt.scatter(PCAed_data[class2_idx,0], PCAed_data[class2_idx,1], color = 'steelblue', s = 100)\n",
    "plt.scatter(PCAed_data[class3_idx,0], PCAed_data[class3_idx,1], color = 'firebrick', s = 100)\n",
    "plt.show()"
   ]
  },
  {
   "cell_type": "code",
   "execution_count": null,
   "metadata": {},
   "outputs": [],
   "source": []
  }
 ],
 "metadata": {
  "kernelspec": {
   "display_name": "Python 3",
   "language": "python",
   "name": "python3"
  },
  "language_info": {
   "codemirror_mode": {
    "name": "ipython",
    "version": 3
   },
   "file_extension": ".py",
   "mimetype": "text/x-python",
   "name": "python",
   "nbconvert_exporter": "python",
   "pygments_lexer": "ipython3",
   "version": "3.8.3"
  }
 },
 "nbformat": 4,
 "nbformat_minor": 4
}
