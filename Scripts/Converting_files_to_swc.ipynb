{
 "cells": [
  {
   "cell_type": "markdown",
   "metadata": {},
   "source": [
    "### Imports"
   ]
  },
  {
   "cell_type": "code",
   "execution_count": 1,
   "metadata": {},
   "outputs": [],
   "source": [
    "import json\n",
    "import numpy as np\n",
    "from scipy.spatial import distance"
   ]
  },
  {
   "cell_type": "code",
   "execution_count": 9,
   "metadata": {},
   "outputs": [],
   "source": [
    "data_path = 'Data_JSON/'\n",
    "filename = 'AA0001'\n",
    "filename_json = data_path + filename + '.json'"
   ]
  },
  {
   "cell_type": "code",
   "execution_count": 28,
   "metadata": {},
   "outputs": [],
   "source": [
    "# Load the JSON file\n",
    "with open(filename_json) as f:\n",
    "    data = json.load(f)\n",
    "\n",
    "# Extract the data\n",
    "samples = data['neuron']['axon']\n",
    "\n",
    "# Convert nodes to SWC format\n",
    "swc_axons_samples = []\n",
    "for sample in samples:\n",
    "    swc_axons_sample = [sample['structureIdentifier'], sample['x'], sample['y'], sample['z'], sample['radius'], sample['parentNumber'], sample['allenId']]\n",
    "    swc_axons_samples.append(swc_axons_sample)\n",
    "\n",
    "# Write the SWC file\n",
    "output_filename = filename + '.swc'\n",
    "with open(output_filename, 'w') as f:\n",
    "    for swc_axons_sample in swc_axons_samples:\n",
    "        f.write('{} {} {} {} {} {} {}\\n'.format(*swc_axons_sample))"
   ]
  },
  {
   "cell_type": "code",
   "execution_count": 32,
   "metadata": {},
   "outputs": [],
   "source": [
    "import json\n",
    "import numpy as np\n",
    "from scipy.spatial import distance\n",
    "\n",
    "def convert_json_to_swc(input_file, output_file):\n",
    "    with open(input_file) as f:\n",
    "        data = json.load(f)\n",
    "\n",
    "    neuron = data['neuron']\n",
    "    nodes = []\n",
    "    edges = []\n",
    "\n",
    "    # Parse soma, axon, and dendrite data\n",
    "    for section_type in ['soma', 'axon', 'dendrite']:\n",
    "        section_data = neuron[section_type]\n",
    "        parent_node_id = section_data['parent'] if 'parent' in section_data else None\n",
    "        for node_data in section_data:\n",
    "            node_id = node_data['id']\n",
    "            node_x = node_data['location']['x']\n",
    "            node_y = node_data['location']['y']\n",
    "            node_z = node_data['location']['z']\n",
    "            node_radius = node_data['radius']\n",
    "            node_type = section_type.upper()\n",
    "            nodes.append((node_id, node_type, node_x, node_y, node_z, node_radius, parent_node_id))\n",
    "            if parent_node_id is not None:\n",
    "                edges.append((parent_node_id, node_id, 2, distance.euclidean(\n",
    "                    np.array([node_x, node_y, node_z]),\n",
    "                    np.array([nodes[parent_node_id-1][2], nodes[parent_node_id-1][3], nodes[parent_node_id-1][4]])\n",
    "                )))\n",
    "            parent_node_id = node_id\n",
    "\n",
    "    # Write SWC data to output file\n",
    "    with open(output_file, 'w') as f:\n",
    "        for node in nodes:\n",
    "            f.write('{} {} {} {} {} {} {}\\n'.format(*node))\n",
    "        for edge in edges:\n",
    "            f.write('{} {} {} {}\\n'.format(*edge))\n"
   ]
  },
  {
   "cell_type": "code",
   "execution_count": 33,
   "metadata": {},
   "outputs": [
    {
     "ename": "TypeError",
     "evalue": "string indices must be integers",
     "output_type": "error",
     "traceback": [
      "\u001b[0;31m---------------------------------------------------------------------------\u001b[0m",
      "\u001b[0;31mTypeError\u001b[0m                                 Traceback (most recent call last)",
      "\u001b[0;32m<ipython-input-33-72d2d7eeaea4>\u001b[0m in \u001b[0;36m<module>\u001b[0;34m\u001b[0m\n\u001b[0;32m----> 1\u001b[0;31m \u001b[0mconvert_json_to_swc\u001b[0m\u001b[0;34m(\u001b[0m\u001b[0mfilename_json\u001b[0m\u001b[0;34m,\u001b[0m \u001b[0mfilename\u001b[0m \u001b[0;34m+\u001b[0m \u001b[0;34m'.swc'\u001b[0m\u001b[0;34m)\u001b[0m\u001b[0;34m\u001b[0m\u001b[0;34m\u001b[0m\u001b[0m\n\u001b[0m",
      "\u001b[0;32m<ipython-input-32-3301c2047c34>\u001b[0m in \u001b[0;36mconvert_json_to_swc\u001b[0;34m(input_file, output_file)\u001b[0m\n\u001b[1;32m     16\u001b[0m         \u001b[0mparent_node_id\u001b[0m \u001b[0;34m=\u001b[0m \u001b[0msection_data\u001b[0m\u001b[0;34m[\u001b[0m\u001b[0;34m'parent'\u001b[0m\u001b[0;34m]\u001b[0m \u001b[0;32mif\u001b[0m \u001b[0;34m'parent'\u001b[0m \u001b[0;32min\u001b[0m \u001b[0msection_data\u001b[0m \u001b[0;32melse\u001b[0m \u001b[0;32mNone\u001b[0m\u001b[0;34m\u001b[0m\u001b[0;34m\u001b[0m\u001b[0m\n\u001b[1;32m     17\u001b[0m         \u001b[0;32mfor\u001b[0m \u001b[0mnode_data\u001b[0m \u001b[0;32min\u001b[0m \u001b[0msection_data\u001b[0m\u001b[0;34m:\u001b[0m\u001b[0;34m\u001b[0m\u001b[0;34m\u001b[0m\u001b[0m\n\u001b[0;32m---> 18\u001b[0;31m             \u001b[0mnode_id\u001b[0m \u001b[0;34m=\u001b[0m \u001b[0mnode_data\u001b[0m\u001b[0;34m[\u001b[0m\u001b[0;34m'id'\u001b[0m\u001b[0;34m]\u001b[0m\u001b[0;34m\u001b[0m\u001b[0;34m\u001b[0m\u001b[0m\n\u001b[0m\u001b[1;32m     19\u001b[0m             \u001b[0mnode_x\u001b[0m \u001b[0;34m=\u001b[0m \u001b[0mnode_data\u001b[0m\u001b[0;34m[\u001b[0m\u001b[0;34m'location'\u001b[0m\u001b[0;34m]\u001b[0m\u001b[0;34m[\u001b[0m\u001b[0;34m'x'\u001b[0m\u001b[0;34m]\u001b[0m\u001b[0;34m\u001b[0m\u001b[0;34m\u001b[0m\u001b[0m\n\u001b[1;32m     20\u001b[0m             \u001b[0mnode_y\u001b[0m \u001b[0;34m=\u001b[0m \u001b[0mnode_data\u001b[0m\u001b[0;34m[\u001b[0m\u001b[0;34m'location'\u001b[0m\u001b[0;34m]\u001b[0m\u001b[0;34m[\u001b[0m\u001b[0;34m'y'\u001b[0m\u001b[0;34m]\u001b[0m\u001b[0;34m\u001b[0m\u001b[0;34m\u001b[0m\u001b[0m\n",
      "\u001b[0;31mTypeError\u001b[0m: string indices must be integers"
     ]
    }
   ],
   "source": [
    "convert_json_to_swc(filename_json, filename + '.swc')"
   ]
  },
  {
   "cell_type": "code",
   "execution_count": 21,
   "metadata": {},
   "outputs": [
    {
     "data": {
      "text/plain": [
       "dict_keys(['idString', 'DOI', 'sample', 'label', 'annotationSpace', 'soma', 'axon', 'dendrite', 'allenInformation'])"
      ]
     },
     "execution_count": 21,
     "metadata": {},
     "output_type": "execute_result"
    }
   ],
   "source": [
    "data['neuron'].keys()"
   ]
  },
  {
   "cell_type": "code",
   "execution_count": 35,
   "metadata": {},
   "outputs": [
    {
     "data": {
      "text/plain": [
       "{'sampleNumber': 1,\n",
       " 'structureIdentifier': 1,\n",
       " 'x': 4625.3821881875,\n",
       " 'y': 2534.79472175,\n",
       " 'z': 2977.33168800001,\n",
       " 'radius': 1,\n",
       " 'parentNumber': -1,\n",
       " 'allenId': 974}"
      ]
     },
     "execution_count": 35,
     "metadata": {},
     "output_type": "execute_result"
    }
   ],
   "source": [
    "data['neuron']['axon'][0]"
   ]
  },
  {
   "cell_type": "code",
   "execution_count": null,
   "metadata": {},
   "outputs": [],
   "source": []
  },
  {
   "cell_type": "code",
   "execution_count": null,
   "metadata": {},
   "outputs": [],
   "source": []
  },
  {
   "cell_type": "code",
   "execution_count": null,
   "metadata": {},
   "outputs": [],
   "source": []
  },
  {
   "cell_type": "code",
   "execution_count": 39,
   "metadata": {},
   "outputs": [],
   "source": [
    "from vedo import Plotter\n",
    "from morphapi.api.mouselight import MouseLightAPI\n",
    "\n",
    "# ---------------------------- Downloading neurons --------------------------- #\n",
    "mlapi = MouseLightAPI()\n",
    "\n",
    "# Fetch metadata for neurons with soma in the secondary motor cortex\n",
    "neurons_metadata = mlapi.fetch_neurons_metadata()"
   ]
  },
  {
   "cell_type": "code",
   "execution_count": 44,
   "metadata": {},
   "outputs": [
    {
     "name": "stderr",
     "output_type": "stream",
     "text": [
      "/Users/leonardopollina/opt/anaconda3/lib/python3.8/site-packages/urllib3/connectionpool.py:979: InsecureRequestWarning: Unverified HTTPS request is being made to host 'neuromorpho.org'. Adding certificate verification is strongly advised. See: https://urllib3.readthedocs.io/en/latest/advanced-usage.html#ssl-warnings\n",
      "  warnings.warn(\n",
      "/Users/leonardopollina/opt/anaconda3/lib/python3.8/site-packages/urllib3/connectionpool.py:979: InsecureRequestWarning: Unverified HTTPS request is being made to host 'neuromorpho.org'. Adding certificate verification is strongly advised. See: https://urllib3.readthedocs.io/en/latest/advanced-usage.html#ssl-warnings\n",
      "  warnings.warn(\n",
      "/Users/leonardopollina/opt/anaconda3/lib/python3.8/site-packages/urllib3/connectionpool.py:979: InsecureRequestWarning: Unverified HTTPS request is being made to host 'neuromorpho.org'. Adding certificate verification is strongly advised. See: https://urllib3.readthedocs.io/en/latest/advanced-usage.html#ssl-warnings\n",
      "  warnings.warn(\n",
      "/Users/leonardopollina/opt/anaconda3/lib/python3.8/site-packages/urllib3/connectionpool.py:979: InsecureRequestWarning: Unverified HTTPS request is being made to host 'neuromorpho.org'. Adding certificate verification is strongly advised. See: https://urllib3.readthedocs.io/en/latest/advanced-usage.html#ssl-warnings\n",
      "  warnings.warn(\n"
     ]
    }
   ],
   "source": [
    "neurons = mlapi.download_neurons(neurons_metadata[1000])"
   ]
  },
  {
   "cell_type": "code",
   "execution_count": 46,
   "metadata": {},
   "outputs": [
    {
     "name": "stdout",
     "output_type": "stream",
     "text": [
      "creating meshes\n",
      "visualizing\n"
     ]
    },
    {
     "data": {
      "image/png": "[encoded data removed]",
      "text/plain": [
       "<PIL.Image.Image image mode=RGB size=800x600 at 0x7FE571B8A0A0>"
      ]
     },
     "metadata": {},
     "output_type": "display_data"
    }
   ],
   "source": [
    "print(\"creating meshes\")\n",
    "neurons = [neuron.create_mesh()[1] for neuron in neurons]\n",
    "\n",
    "print(\"visualizing\")\n",
    "vp = Plotter(shape=(1, len(neurons)), axes=1)\n",
    "\n",
    "vp.show(neurons)"
   ]
  },
  {
   "cell_type": "code",
   "execution_count": 41,
   "metadata": {},
   "outputs": [
    {
     "data": {
      "text/plain": [
       "{'brainArea_acronym': 'CA3sp',\n",
       " 'brainArea_id': '871b7b56-9529-4ab3-b584-6cc48d78f8ee',\n",
       " 'brainArea_name': 'Field CA3 pyramidal layer',\n",
       " 'brainArea_safename': 'Field CA3 pyramidal layer',\n",
       " 'brainArea_atlasId': 61,\n",
       " 'brainArea_structureIdPath': '/997/8/567/688/695/1089/1080/375/463/495/',\n",
       " 'id': 'ac152234-d5fe-490b-ab76-fb5f748d3381',\n",
       " 'idNumber': None,\n",
       " 'idString': 'AA1548',\n",
       " 'tag': 'G-001',\n",
       " 'soma': node(x=2828.22641849999, y=2338.7607886875, z=7397.326022625, r=1, area_acronym='Field CA3 pyramidal layer', sample_n=1, parent_n=-1),\n",
       " 'axon': tracing_structure(id='581ede1d-cba1-45a2-9a67-674e5254cfe0', name='dendrite', value=2, named_id='aef2ba31-8f9b-4a47-9de0-58dab1cc06a8'),\n",
       " 'dendrite': tracing_structure(id='b3bd5a75-867b-4e1f-91f3-84a88654f503', name='axon', value=1, named_id='68e76074-1777-42b6-bbf9-93a6a5f02fa4')}"
      ]
     },
     "execution_count": 41,
     "metadata": {},
     "output_type": "execute_result"
    }
   ],
   "source": [
    "neurons_metadata[0]"
   ]
  },
  {
   "cell_type": "code",
   "execution_count": null,
   "metadata": {},
   "outputs": [],
   "source": []
  }
 ],
 "metadata": {
  "kernelspec": {
   "display_name": "Python 3",
   "language": "python",
   "name": "python3"
  },
  "language_info": {
   "codemirror_mode": {
    "name": "ipython",
    "version": 3
   },
   "file_extension": ".py",
   "mimetype": "text/x-python",
   "name": "python",
   "nbconvert_exporter": "python",
   "pygments_lexer": "ipython3",
   "version": "3.8.3"
  }
 },
 "nbformat": 4,
 "nbformat_minor": 4
}
