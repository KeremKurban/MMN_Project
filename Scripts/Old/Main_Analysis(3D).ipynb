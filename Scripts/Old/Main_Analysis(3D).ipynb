{
 "cells": [
  {
   "cell_type": "markdown",
   "metadata": {},
   "source": [
    "###### Imports"
   ]
  },
  {
   "cell_type": "code",
   "execution_count": 117,
   "metadata": {},
   "outputs": [
    {
     "name": "stderr",
     "output_type": "stream",
     "text": [
      "<ipython-input-117-1a85f9ad580f>:23: MatplotlibDeprecationWarning:\n",
      "\n",
      "The seaborn styles shipped by Matplotlib are deprecated since 3.6, as they no longer correspond to the styles shipped by seaborn. However, they will remain available as 'seaborn-v0_8-<style>'. Alternatively, directly use the seaborn API instead.\n",
      "\n"
     ]
    }
   ],
   "source": [
    "import neurom as nm\n",
    "import plotly.express as px\n",
    "import morphio\n",
    "import numpy as np\n",
    "import matplotlib.pyplot as plt\n",
    "import networkx as nx\n",
    "from scipy.spatial import distance_matrix\n",
    "import gudhi as gd \n",
    "import pandas as pd\n",
    "import random\n",
    "import math\n",
    "import tmd\n",
    "import os\n",
    "import cv2\n",
    "from tmd.view import plot as tmdplt\n",
    "from tmd.Topology import analysis\n",
    "from sklearn.cluster import DBSCAN, KMeans\n",
    "from sklearn.metrics import silhouette_score\n",
    "import matplotlib.pyplot as plt\n",
    "import plotly.graph_objects as go\n",
    "from sklearn.manifold import TSNE\n",
    "from Utilities import *\n",
    "plt.style.use(['seaborn-white'])"
   ]
  },
  {
   "cell_type": "markdown",
   "metadata": {},
   "source": [
    "###### General variables"
   ]
  },
  {
   "cell_type": "code",
   "execution_count": 11,
   "metadata": {},
   "outputs": [],
   "source": [
    "morpho_data_path = '../data/morphologies/swc30/'\n",
    "metadata_data_path = '../data/metadata/'\n",
    "thresholds_occur_regs = 30"
   ]
  },
  {
   "cell_type": "markdown",
   "metadata": {},
   "source": [
    "###### Loading of metadata"
   ]
  },
  {
   "cell_type": "code",
   "execution_count": 3,
   "metadata": {},
   "outputs": [],
   "source": [
    "# We load the CSV file containing brain regions into a pandas dataframe\n",
    "df = pd.read_csv(metadata_data_path + 'morph_regions.csv')\n",
    "morpho_labels_reg = df.iloc[:,0].to_numpy()\n",
    "regions_labels = df.iloc[:,1].to_numpy()\n",
    "regions_dict = {}\n",
    "for m in range(len(morpho_labels_reg)):\n",
    "    regions_dict[morpho_labels_reg[m]] = regions_labels[m]"
   ]
  },
  {
   "cell_type": "code",
   "execution_count": 6,
   "metadata": {},
   "outputs": [],
   "source": [
    "# Load the CSV file containing m_types regions into a pandas dataframe\n",
    "df = pd.read_csv(metadata_data_path + 'morpho_metadata_raw.csv')\n",
    "df = df[['neuron_name', 'cell_type']]\n",
    "morpho_names_tmp = df.iloc[:,0].to_numpy()\n",
    "morpho_names_m_types = np.asarray([morpho_name + '.swc' for morpho_name in morpho_names_tmp])\n",
    "m_types = df.iloc[:,1].to_numpy()\n",
    "\n",
    "# We select only those m_types appearing more than 10 times in the dataset\n",
    "unique_m_types, counts_m_types = np.unique(m_types, return_counts = True)\n",
    "m_types_OI = unique_m_types[counts_m_types > 10]\n",
    "\n",
    "# We look for the indices of the morphologies we are interested in keeping and we store them\n",
    "idx_morphos_OI = []\n",
    "for m_type in m_types_OI:\n",
    "    idx_morphos_OI.append(np.where(m_types == m_type)[0])\n",
    "idx_morphos_OI = np.concatenate(idx_morphos_OI)\n",
    "\n",
    "# We built a final dictionary mapping the name of a morphology to its m_type\n",
    "morpho_names_m_types_OI = morpho_names_m_types[idx_morphos_OI]\n",
    "m_types_OI_final = m_types[idx_morphos_OI]\n",
    "m_types_dict = {}\n",
    "for m in range(len(morpho_names_m_types_OI)):\n",
    "    m_types_dict[morpho_names_m_types_OI[m]] = m_types_OI_final[m]"
   ]
  },
  {
   "cell_type": "markdown",
   "metadata": {},
   "source": [
    "###### Loading morphologies"
   ]
  },
  {
   "cell_type": "code",
   "execution_count": 8,
   "metadata": {
    "scrolled": true
   },
   "outputs": [
    {
     "name": "stdout",
     "output_type": "stream",
     "text": [
      "Could not load the file.\n",
      "Could not load the file.\n",
      "Could not load the file.\n",
      "Could not load the file.\n",
      "1103 morphologies were loaded.\n"
     ]
    }
   ],
   "source": [
    "# We now load all the actual morphologies from the .swc files.\n",
    "# Not all files can be loaded and the regions and m_types are not necessarily in the same order as we load them but we use \n",
    "# the dictionaries we built to map them and store these info in the good order\n",
    "list_morpho = os.listdir(morpho_data_path)\n",
    "all_morphos = []\n",
    "all_names = []\n",
    "all_regs = []\n",
    "all_m_types = []\n",
    "for i, tmp_morpho in enumerate(m_types_dict.keys()):\n",
    "    if tmp_morpho.endswith('.swc'):\n",
    "        tmp_filename = morpho_data_path + tmp_morpho\n",
    "        try: \n",
    "            all_morphos.append(tmd.io.load_neuron_from_morphio(tmp_filename))\n",
    "            all_names.append(tmp_morpho)\n",
    "            all_regs.append(regions_dict[tmp_morpho])\n",
    "            all_m_types.append(m_types_dict[tmp_morpho])\n",
    "        except: print('Could not load the file.')\n",
    "print('%d morphologies were loaded.'%len(all_morphos))\n",
    "all_morphos = np.asarray(all_morphos)\n",
    "all_names = np.asarray(all_names)\n",
    "all_regs = np.asarray(all_regs)\n",
    "all_m_types = np.asarray(all_m_types)"
   ]
  },
  {
   "cell_type": "code",
   "execution_count": 9,
   "metadata": {},
   "outputs": [],
   "source": [
    "# All the regions corresponding to the m_type 'granule' are changed to DG (after checking that it is indeed the case)\n",
    "# If we don't do this this m_type would be discarded since it does not appear in the same exact region more than the threshold \n",
    "# impose\n",
    "for m, m_type in enumerate(np.unique(all_m_types)):\n",
    "    if m_type.find('granule') != -1:\n",
    "        id_granule = m\n",
    "all_regs[all_m_types == np.unique(all_m_types)[id_granule]] = 'DG'"
   ]
  },
  {
   "cell_type": "code",
   "execution_count": 10,
   "metadata": {},
   "outputs": [],
   "source": [
    "# All the regions corresponding to the m_type 'Purkinje' are changed to Cerebellum (after checking that it is indeed the case)\n",
    "# If we don't do this this m_type would be discarded since it does not appear in the same exact region more than the threshold \n",
    "# impose\n",
    "for m, m_type in enumerate(np.unique(all_m_types)):\n",
    "    if m_type.find('Purkinje') != -1:\n",
    "        id_purkinje = m\n",
    "all_regs[all_m_types == np.unique(all_m_types)[id_purkinje]] = 'Cerebellum'"
   ]
  },
  {
   "cell_type": "markdown",
   "metadata": {},
   "source": [
    "###### Getting only the axon neurite"
   ]
  },
  {
   "cell_type": "code",
   "execution_count": 15,
   "metadata": {},
   "outputs": [],
   "source": [
    "# For each morphology loaded, we select only the axonal part since the focus of our analysis\n",
    "all_morpho_axons = [morpho.axon[0] for morpho in all_morphos]"
   ]
  },
  {
   "cell_type": "markdown",
   "metadata": {},
   "source": [
    "###### Selecting only the samples (morphologies) belonging to regions with a certain number of occurencies"
   ]
  },
  {
   "cell_type": "code",
   "execution_count": 12,
   "metadata": {},
   "outputs": [
    {
     "name": "stdout",
     "output_type": "stream",
     "text": [
      "There are 8 regions passing the threshold over the minimal number of occurencies.\n",
      "There regions are : ['Cerebellum' 'DG' 'MOs2/3' 'MOs5' 'MOs6a' 'PRE' 'SUB' 'VAL']\n"
     ]
    }
   ],
   "source": [
    "unique_regions, counts_regions = np.unique(all_regs, return_counts = True)\n",
    "regions_desired = unique_regions[counts_regions > thresholds_occur_regs]\n",
    "print('There are %d regions passing the threshold over the minimal number of occurencies.'%len(regions_desired))\n",
    "print('There regions are :', regions_desired)"
   ]
  },
  {
   "cell_type": "code",
   "execution_count": 13,
   "metadata": {},
   "outputs": [],
   "source": [
    "# We store the indices of the morphologies belonging to the regions of interest identified \n",
    "idx_regions_desired = {}\n",
    "for reg in regions_desired:\n",
    "    idx_regions_desired[reg] = np.where(np.asarray(all_regs) == reg)[0]"
   ]
  },
  {
   "cell_type": "code",
   "execution_count": 16,
   "metadata": {},
   "outputs": [
    {
     "name": "stdout",
     "output_type": "stream",
     "text": [
      "Number of morphos :  512\n",
      "Number of file names :  512\n",
      "Number of m_types :  512\n",
      "Number of regs :  512\n"
     ]
    }
   ],
   "source": [
    "# We rebuild the variables that we want by selecting now only the morphologies belong to the regions OI\n",
    "morphos_OI = []\n",
    "regs_OI = []\n",
    "names_OI = []\n",
    "m_types_OI = []\n",
    "for reg in idx_regions_desired.keys():\n",
    "    morphos_OI.append(np.asarray(all_morpho_axons)[idx_regions_desired[reg]])\n",
    "    regs_OI.append([reg] * len(idx_regions_desired[reg]))\n",
    "    names_OI.append(np.asarray(all_names)[idx_regions_desired[reg]])\n",
    "    m_types_OI.append(np.asarray(all_m_types)[idx_regions_desired[reg]])\n",
    "morphos_OI = np.asarray(np.concatenate(morphos_OI))\n",
    "regs_OI = np.asarray(np.concatenate(regs_OI))\n",
    "names_OI = np.asarray(np.concatenate(names_OI))\n",
    "m_types_OI = np.asarray(np.concatenate(m_types_OI))\n",
    "n_morphos = len(morphos_OI)\n",
    "print('Number of morphos : ', n_morphos)\n",
    "print('Number of file names : ', len(names_OI))\n",
    "print('Number of m_types : ', len(m_types_OI))\n",
    "print('Number of regs : ', len(regs_OI))"
   ]
  },
  {
   "cell_type": "markdown",
   "metadata": {},
   "source": [
    "###### Computing the persistent diagrams"
   ]
  },
  {
   "cell_type": "code",
   "execution_count": 18,
   "metadata": {},
   "outputs": [],
   "source": [
    "# We compute now the persistent diagrams of the axonal tress of the selected morphologies.\n",
    "# We do so by computing it both by using the 'radial distance' and the 'path distance' as filtration metrics\n",
    "all_pd = {'rad' : [], 'path' : []}\n",
    "for axon_tree in morphos_OI:\n",
    "    all_pd['rad'].append(tmd.methods.get_persistence_diagram(axon_tree, feature = \"radial_distances\"))\n",
    "    all_pd['path'].append(tmd.methods.get_persistence_diagram(axon_tree, feature = \"path_distances\"))"
   ]
  },
  {
   "cell_type": "markdown",
   "metadata": {},
   "source": [
    "###### Computing the persistent images"
   ]
  },
  {
   "cell_type": "code",
   "execution_count": 31,
   "metadata": {},
   "outputs": [
    {
     "name": "stdout",
     "output_type": "stream",
     "text": [
      "Now there are 510 neurons.\n",
      "510\n",
      "510\n",
      "510\n"
     ]
    }
   ],
   "source": [
    "# We compute the persistent images by using the persistent diagrams we already computed. \n",
    "# - We are scaling all the persistent images to the same scales (xlims, ylims)\n",
    "# - We are using as norm_factor 1 in order to NOT normalize for now the persistent images\n",
    "all_pi = {'rad': [], 'path' : []}\n",
    "not_computed_idx = []\n",
    "for metric in all_pd.keys():\n",
    "    # Computing the xlim and ylim in order to scale all the persistent images accordingly\n",
    "    xlims, ylims = analysis.get_limits(all_pd[metric])\n",
    "    for i, tmp_pd in enumerate(all_pd[metric]):\n",
    "        try: \n",
    "            # We set norm factor to 1 because we actually don't want to normalize the persistent images individually\n",
    "            all_pi[metric].append(analysis.get_persistence_image_data(tmp_pd, xlim = xlims, ylim = ylims, norm_factor = 1))\n",
    "        except: \n",
    "            print('Persistent image has not been computed.')\n",
    "            not_computed_idx.append(i)\n",
    "names_OI = np.delete(names_OI, np.unique(not_computed_idx))\n",
    "m_types_OI = np.delete(m_types_OI, np.unique(not_computed_idx))\n",
    "regs_OI = np.delete(regs_OI, np.unique(not_computed_idx))\n",
    "n_morphos = len(names_OI)\n",
    "print('Now there are %d neurons.'%np.shape(all_pi[metric])[0])\n",
    "print(len(names_OI))\n",
    "print(len(m_types_OI))\n",
    "print(len(regs_OI))"
   ]
  },
  {
   "cell_type": "markdown",
   "metadata": {},
   "source": [
    "###### Normalization"
   ]
  },
  {
   "cell_type": "code",
   "execution_count": 23,
   "metadata": {},
   "outputs": [],
   "source": [
    "# To normalize we divide each persistent images by the sum of its values in the picture (this makes each image a sort of \n",
    "# probabilistic map). Then we multiply them per the number of branches there were in the diagram (in order to take into account \n",
    "# the differences in the number of branches).\n",
    "all_pi_norm = {}\n",
    "for metric in all_pi.keys():\n",
    "    all_pi_norm[metric] = []\n",
    "    for im in range(len(all_pi[metric])):\n",
    "        n_branches = len(all_pd[metric][im])\n",
    "        all_pi_norm[metric].append(n_branches * all_pi[metric][im]/np.sum(all_pi[metric][im]))\n",
    "    all_pi_norm[metric] = np.asarray(all_pi_norm[metric])"
   ]
  },
  {
   "cell_type": "code",
   "execution_count": 24,
   "metadata": {},
   "outputs": [],
   "source": [
    "# save_variable(all_pi_norm, '../Results/Saved_variables/all_persistent_images_normalized')"
   ]
  },
  {
   "cell_type": "code",
   "execution_count": null,
   "metadata": {},
   "outputs": [],
   "source": [
    "# #### TO CHECK (NOT SURE)\n",
    "# # This is just to plot the persistent images all on the same scale and also normalized as explained above\n",
    "# for metric in all_pd.keys():\n",
    "#     # Computing the xlim and ylim in order to scale all the persistent images accordingly\n",
    "#     xlims, ylims = analysis.get_limits(all_pd[metric])\n",
    "#     for i, tmp_pd in enumerate(all_pd[metric]):\n",
    "#         n_branches = len(tmp_pd)\n",
    "#         norm_fact = np.sum(all_pi[metric][im])/n_branches\n",
    "#         vmax = np.max(all_pi[metric][im]/norm_fact)\n",
    "# #         tmp , _ = tmdplt.persistence_image(tmp_pd, xlim = xlims, ylim = ylims, vmin = 0, vmax = 1, norm_factor = norm_fact)\n",
    "#         try: \n",
    "#             tmp , _ = tmdplt.persistence_image(tmp_pd, xlim = xlims, ylim = ylims, vmin = 0, vmax = vmax, norm_factor = norm_fact)\n",
    "#             plt.savefig('../Results/Persistent_images/Scaled_images/%s/%s.png'%(metric, names_OI[i].split('.')[0]), bbox_inches = 'tight')\n",
    "#         except: \n",
    "#             print('Persistent image has not been computed.')"
   ]
  },
  {
   "cell_type": "markdown",
   "metadata": {},
   "source": [
    "###### Merging the subregions of MO and make them all 'MO'"
   ]
  },
  {
   "cell_type": "code",
   "execution_count": 27,
   "metadata": {},
   "outputs": [
    {
     "name": "stdout",
     "output_type": "stream",
     "text": [
      "The new (merged) regions are:\n",
      "- Cerebellum\n",
      "- DG\n",
      "- MO\n",
      "- PRE\n",
      "- SUB\n",
      "- VAL\n"
     ]
    }
   ],
   "source": [
    "merged_regs = []\n",
    "for reg in regs_OI:\n",
    "    if reg[:2] == 'MO': merged_regs.append('MO')\n",
    "    else: merged_regs.append(reg)\n",
    "merged_regs = np.asarray(merged_regs)\n",
    "print('The new (merged) regions are:')\n",
    "for i in np.unique(merged_regs):\n",
    "    print('- %s'%i)"
   ]
  },
  {
   "cell_type": "markdown",
   "metadata": {},
   "source": [
    "###### Restructuring data"
   ]
  },
  {
   "cell_type": "code",
   "execution_count": 35,
   "metadata": {},
   "outputs": [],
   "source": [
    "# We flatten the persistent images in order to have a final matrix having shape N x F, where N = number of samples (neurons) and\n",
    "# F = number of features\n",
    "flatten_pi = {}\n",
    "for metric in all_pi_norm.keys():\n",
    "    tmp_data = all_pi_norm[metric]\n",
    "    n_samples = np.shape(tmp_data)[0]\n",
    "    flatten_pi[metric] = np.reshape(tmp_data, (n_samples, -1))"
   ]
  },
  {
   "cell_type": "markdown",
   "metadata": {},
   "source": [
    "###### Applying dimensionality reduction (tSNE)"
   ]
  },
  {
   "cell_type": "code",
   "execution_count": 39,
   "metadata": {},
   "outputs": [],
   "source": [
    "data_embedded = {}\n",
    "for metric in flatten_pi.keys():\n",
    "    tmp_data = flatten_pi[metric]\n",
    "    data_embedded[metric] = TSNE(n_components = 3, perplexity = np.round(np.sqrt(n_morphos)), random_state = 1441).fit_transform(tmp_data)"
   ]
  },
  {
   "cell_type": "code",
   "execution_count": 41,
   "metadata": {},
   "outputs": [],
   "source": [
    "# save_variable(data_embedded, '../Results/Saved_variables/data_embedded_TSNE_n3_random_state1441')"
   ]
  },
  {
   "cell_type": "markdown",
   "metadata": {},
   "source": [
    "###### We build a labels vector for different types of labels\n"
   ]
  },
  {
   "cell_type": "code",
   "execution_count": 42,
   "metadata": {},
   "outputs": [],
   "source": [
    "# Original regions of interested (not merged MO layers)\n",
    "labels_regs = np.unique(regs_OI)\n",
    "idx_labels_regs = {}\n",
    "for label in labels_regs:\n",
    "    idx_labels_regs[label] = np.where(regs_OI == label)[0]\n",
    "\n",
    "# Merged regions labels\n",
    "labels_merged_regs = np.unique(merged_regs)\n",
    "idx_labels_merged_regs = {}\n",
    "for label in labels_merged_regs:\n",
    "    idx_labels_merged_regs[label] = np.where(merged_regs == label)[0]\n",
    "\n",
    "# M-types layers\n",
    "labels_m_types = np.unique(m_types_OI)\n",
    "idx_labels_m_types = {}\n",
    "for label in labels_m_types:\n",
    "    idx_labels_m_types[label] = np.where(m_types_OI == label)[0]"
   ]
  },
  {
   "cell_type": "markdown",
   "metadata": {},
   "source": [
    "###### Plotting t-SNE visualization following different labels or metrics"
   ]
  },
  {
   "cell_type": "code",
   "execution_count": 515,
   "metadata": {
    "scrolled": false
   },
   "outputs": [
    {
     "name": "stdout",
     "output_type": "stream",
     "text": [
      "Cerebellum\n",
      "DG\n",
      "MO\n",
      "PRE\n",
      "SUB\n",
      "VAL\n"
     ]
    },
    {
     "data": {
      "application/vnd.plotly.v1+json": {
       "config": {
        "plotlyServerURL": "https://plot.ly"
       },
       "data": [
        {
         "marker": {
          "opacity": 0.8,
          "size": 4
         },
         "mode": "markers",
         "name": "Cerebellum",
         "showlegend": true,
         "type": "scatter3d",
         "x": [
          1.4658043384552002,
          2.6640570163726807,
          3.07614803314209,
          1.6376593112945557,
          -3.15483021736145,
          1.4374831914901733,
          5.95316743850708,
          3.0738377571105957,
          6.68109130859375,
          1.9985603094100952,
          2.3640799522399902,
          2.300361394882202,
          2.518470048904419,
          2.9021337032318115,
          1.96112060546875,
          2.988016366958618,
          3.5168039798736572,
          3.16790771484375,
          1.864070177078247,
          2.112555742263794,
          2.2725038528442383,
          2.030318260192871,
          3.2312533855438232,
          5.197797775268555,
          3.197972059249878,
          2.101374387741089,
          2.4187543392181396,
          2.353956460952759,
          2.283193349838257,
          2.997666835784912,
          5.3614397048950195,
          -1.8949934244155884,
          2.591846466064453,
          -1.2354862689971924,
          2.1756792068481445,
          2.860849618911743,
          -2.8973100185394287,
          3.043931245803833,
          -2.1414735317230225,
          3.214717388153076,
          3.6329026222229004,
          2.8840885162353516,
          1.9842827320098877,
          1.795829176902771,
          2.7577366828918457
         ],
         "y": [
          -7.455378532409668,
          -6.960474967956543,
          -6.968958377838135,
          -7.768094062805176,
          -2.991083860397339,
          -5.001241683959961,
          -1.3384325504302979,
          -6.972455978393555,
          -1.016804575920105,
          -7.191394329071045,
          -6.271265506744385,
          -3.9117960929870605,
          -4.2226786613464355,
          -3.4918532371520996,
          -3.202078342437744,
          -3.8715691566467285,
          -4.875533103942871,
          -7.602778434753418,
          -4.929311275482178,
          -7.312046051025391,
          -5.123653888702393,
          -3.8867318630218506,
          -8.508757591247559,
          -3.015393018722534,
          -3.7789604663848877,
          -7.142410755157471,
          -4.402016639709473,
          -6.410192966461182,
          -3.935295343399048,
          -6.721934795379639,
          -2.2246437072753906,
          -8.011087417602539,
          -5.111142158508301,
          -7.761159420013428,
          -7.542362213134766,
          -7.064401149749756,
          -7.892959117889404,
          -3.4535889625549316,
          -8.586800575256348,
          -8.363544464111328,
          -6.686717987060547,
          -6.713369846343994,
          -4.4978346824646,
          -4.536949634552002,
          -6.421174049377441
         ],
         "z": [
          0.6266114711761475,
          -1.1756855249404907,
          -2.9901037216186523,
          0.8212083578109741,
          -1.1679390668869019,
          -5.408430576324463,
          -1.0003870725631714,
          -3.037747383117676,
          -0.37115249037742615,
          0.098567895591259,
          -0.4468710720539093,
          -3.4101462364196777,
          -4.90763521194458,
          -4.24270486831665,
          -5.84488582611084,
          -3.974120855331421,
          -2.4239273071289062,
          -2.741579055786133,
          -4.988548278808594,
          -0.01582147553563118,
          -4.913084983825684,
          -5.523595809936523,
          -2.242825984954834,
          -1.5415188074111938,
          -3.7400617599487305,
          -0.016187913715839386,
          -5.042107582092285,
          -0.44092264771461487,
          -4.069390296936035,
          -2.3832085132598877,
          -1.6950109004974365,
          0.011392478831112385,
          -4.58991003036499,
          0.9379045963287354,
          0.00819872971624136,
          -1.7194130420684814,
          0.35944458842277527,
          -3.736889123916626,
          0.07857149839401245,
          -2.276634931564331,
          -3.6123549938201904,
          -1.8587489128112793,
          -4.139296054840088,
          -5.399639129638672,
          -3.6820831298828125
         ]
        },
        {
         "marker": {
          "opacity": 0.8,
          "size": 4
         },
         "mode": "markers",
         "name": "DG",
         "showlegend": true,
         "type": "scatter3d",
         "x": [
          8.499300003051758,
          10.453323364257812,
          8.025885581970215,
          8.988421440124512,
          9.054595947265625,
          9.192158699035645,
          7.984423637390137,
          8.321229934692383,
          8.283906936645508,
          7.792728424072266,
          11.474870681762695,
          7.931387424468994,
          10.071450233459473,
          11.114620208740234,
          10.736215591430664,
          9.187910079956055,
          7.743969440460205,
          10.147110939025879,
          -4.893590450286865,
          8.287603378295898,
          7.864261150360107,
          8.181526184082031,
          10.923315048217773,
          9.831006050109863,
          8.84389877319336,
          7.399514198303223,
          10.947417259216309,
          8.543349266052246,
          7.49137544631958,
          -6.529592514038086,
          8.256888389587402,
          10.855110168457031,
          7.528393745422363,
          11.04968547821045,
          12.01523494720459,
          11.134846687316895,
          9.083544731140137,
          10.940202713012695,
          7.881189823150635,
          11.311758041381836
         ],
         "y": [
          -2.9457807540893555,
          -4.4112868309021,
          -3.1248912811279297,
          -1.969078540802002,
          -3.4290425777435303,
          -3.0381381511688232,
          -1.738724708557129,
          -3.5793070793151855,
          -4.478212356567383,
          -1.4505115747451782,
          -4.850260257720947,
          -2.872764825820923,
          -4.6718597412109375,
          -3.469740629196167,
          -4.984874725341797,
          -5.271797180175781,
          -4.505728244781494,
          -4.863365173339844,
          0.8953558802604675,
          -1.3442871570587158,
          -3.5117619037628174,
          -2.9767680168151855,
          -4.9423699378967285,
          -3.9846644401550293,
          -3.375300645828247,
          -2.09918212890625,
          -4.315687656402588,
          -2.440997838973999,
          -1.104181170463562,
          -7.7981109619140625,
          -2.1464152336120605,
          -3.7294747829437256,
          -2.9328622817993164,
          -5.282318592071533,
          -4.302224636077881,
          -3.7383816242218018,
          -3.5667285919189453,
          -3.991645097732544,
          -2.391735076904297,
          -4.971756458282471
         ],
         "z": [
          0.6481655240058899,
          1.126943826675415,
          0.4514704644680023,
          0.47573912143707275,
          0.6769574880599976,
          1.0961346626281738,
          0.30498164892196655,
          1.0716056823730469,
          1.1180272102355957,
          0.4052225947380066,
          -0.12466268986463547,
          0.6872515082359314,
          1.0664290189743042,
          0.9680097699165344,
          1.9622344970703125,
          1.090127944946289,
          1.138356328010559,
          1.014823079109192,
          -0.3644297122955322,
          0.5074398517608643,
          0.7771742343902588,
          0.2946726977825165,
          0.29441267251968384,
          2.077644109725952,
          2.1250112056732178,
          0.4752429723739624,
          0.8861760497093201,
          0.672828197479248,
          0.2497185468673706,
          -2.657996654510498,
          0.5134057998657227,
          0.9509972929954529,
          0.17083632946014404,
          -0.1038496345281601,
          -0.2420334815979004,
          0.8880152106285095,
          0.5899220705032349,
          0.8793860673904419,
          0.7828038930892944,
          -0.0033034486696124077
         ]
        },
        {
         "marker": {
          "opacity": 0.8,
          "size": 4
         },
         "mode": "markers",
         "name": "MO",
         "showlegend": true,
         "type": "scatter3d",
         "x": [
          7.624551773071289,
          -4.5760626792907715,
          -0.8932235836982727,
          -3.7120604515075684,
          -1.892551064491272,
          -2.7910804748535156,
          -4.496692180633545,
          -2.6186702251434326,
          1.919529914855957,
          -3.018754005432129,
          -4.847369194030762,
          -0.43242931365966797,
          -1.9427751302719116,
          -4.076068878173828,
          -3.323152780532837,
          2.0576229095458984,
          -0.48127180337905884,
          -5.587585926055908,
          5.7010579109191895,
          1.466315746307373,
          0.3887386918067932,
          -2.348139762878418,
          -4.604316711425781,
          1.8288061618804932,
          1.7514182329177856,
          2.610506296157837,
          -2.594250202178955,
          0.3414616882801056,
          -5.7107625007629395,
          3.6012933254241943,
          2.7519869804382324,
          6.657390117645264,
          -3.053980827331543,
          0.17351603507995605,
          1.4575178623199463,
          6.169722080230713,
          -0.11091794073581696,
          0.1339515894651413,
          -7.797801971435547,
          -5.694843769073486,
          -3.684454917907715,
          -3.3148622512817383,
          -4.366377830505371,
          1.6817407608032227,
          -5.332089900970459,
          3.759373188018799,
          0.023763755336403847,
          3.6599295139312744,
          4.6177144050598145,
          -5.800816059112549,
          -5.75858211517334,
          -4.131300449371338,
          -5.837059020996094,
          -5.810887813568115,
          -4.756532669067383,
          -1.6766968965530396,
          -1.6998482942581177,
          -4.604599475860596,
          -5.657450199127197,
          -5.87903356552124,
          -1.319612979888916,
          8.290471076965332,
          -2.606909990310669,
          -3.2260987758636475,
          -3.8650572299957275,
          3.059896469116211,
          -3.842942476272583,
          -2.9698410034179688,
          -2.0989491939544678,
          -3.1676509380340576,
          2.581031084060669,
          -7.267542362213135,
          1.5707459449768066,
          -5.313350200653076,
          -1.5823217630386353,
          3.461361885070801,
          0.6342701315879822,
          -3.05177903175354,
          1.861317753791809,
          -0.15078416466712952,
          -5.660096168518066,
          -6.30813455581665,
          5.033656120300293,
          2.5324745178222656,
          -0.5345323085784912,
          3.8577702045440674,
          -4.682002067565918,
          -2.091155529022217,
          0.8305271863937378,
          1.8861364126205444,
          4.221814155578613,
          2.339552164077759,
          2.7232131958007812,
          2.98586368560791,
          -2.7104156017303467,
          -6.154538631439209,
          0.8331226706504822,
          -2.6604459285736084,
          -3.3141167163848877,
          1.3214837312698364,
          2.639714479446411,
          -5.266632556915283,
          -1.795845866203308,
          -3.2682149410247803,
          -3.3060123920440674,
          -0.497747004032135,
          -1.1694960594177246,
          -7.892618179321289,
          -2.946432590484619,
          -1.5794298648834229,
          2.4117908477783203,
          -6.035188674926758,
          -7.06712532043457,
          2.9082045555114746,
          -6.747227668762207,
          -2.7162222862243652,
          -1.9118518829345703,
          -1.1757514476776123,
          -2.980620861053467,
          -6.249421119689941,
          -6.439361572265625,
          -5.415477275848389,
          -7.314622402191162,
          -1.117748737335205,
          -3.3133914470672607,
          -3.2457973957061768,
          -0.7219889760017395,
          -0.22527313232421875,
          -4.617466449737549,
          -1.5193358659744263,
          0.8249951004981995,
          -5.9909586906433105,
          -5.357977867126465,
          -4.841671466827393,
          -4.518615245819092,
          0.015684565529227257,
          -5.091067314147949,
          -3.68546462059021,
          -2.0327939987182617,
          -1.3944451808929443,
          2.0824201107025146,
          -5.51666784286499,
          -1.6608631610870361,
          5.751861095428467,
          1.1090582609176636,
          7.556559085845947,
          -4.788984298706055,
          -3.6785149574279785,
          3.028399705886841,
          -5.173915386199951,
          -4.008666515350342,
          -7.353692531585693,
          3.1938509941101074,
          1.6914087533950806,
          -7.126920700073242,
          -6.03397798538208,
          -6.833116054534912,
          -5.420348644256592,
          0.426017165184021,
          -3.6758973598480225,
          -5.1186957359313965,
          -5.2451019287109375,
          -3.898941993713379,
          4.081357479095459,
          -5.765612602233887,
          -4.990771770477295,
          -1.2936748266220093,
          -1.3806729316711426,
          -1.6271740198135376,
          -2.460407018661499,
          -7.186514854431152,
          -0.9419307112693787,
          -2.7921998500823975,
          0.4797650873661041,
          1.5026191473007202,
          -7.89868688583374,
          -4.2969069480896,
          -2.6399526596069336,
          -5.259832859039307,
          0.14237013459205627,
          -3.188519239425659,
          -1.7752604484558105,
          -0.5502457618713379,
          -4.683922290802002,
          -3.233719825744629,
          -5.049738883972168,
          -4.56035041809082,
          -1.8808728456497192,
          -3.933164358139038,
          4.923308372497559,
          -3.964040994644165,
          -4.198779582977295,
          -6.239009857177734,
          1.4927257299423218,
          -3.657235860824585,
          -1.9921985864639282,
          -3.9130728244781494,
          -4.326261520385742,
          -2.7583532333374023,
          -4.778030872344971,
          -1.7987298965454102,
          -4.3043694496154785,
          1.2970378398895264,
          -2.7893974781036377,
          2.8283979892730713,
          -4.954529762268066,
          1.0086548328399658,
          -2.736175060272217,
          -0.6516625285148621,
          3.3198931217193604,
          -2.4993791580200195,
          1.9530376195907593,
          -4.432431697845459,
          6.6585869789123535,
          -1.998498797416687,
          -4.720232963562012,
          6.391847133636475,
          3.3645291328430176,
          3.928865432739258,
          3.426265239715576,
          5.882422924041748,
          -4.434382438659668,
          3.3923089504241943,
          -6.019491195678711,
          2.703500509262085,
          -1.7893317937850952,
          3.8566484451293945,
          -3.091423511505127,
          1.6161482334136963,
          -1.038989543914795,
          -3.844348192214966,
          5.755807876586914,
          5.300054550170898,
          -5.0203423500061035,
          -3.2177414894104004,
          -4.391151428222656,
          4.526699066162109,
          2.11942720413208,
          -5.039697647094727,
          2.301281690597534,
          -3.8397531509399414,
          1.8698242902755737,
          -0.8041014075279236,
          -4.079687595367432,
          -3.099212408065796,
          5.239437103271484,
          3.2412378787994385,
          -2.5834007263183594,
          -5.179755687713623,
          2.5510740280151367,
          -1.9159127473831177,
          0.7357227802276611,
          -2.2633872032165527,
          3.4559919834136963,
          -5.319084167480469,
          3.1735711097717285,
          1.1716324090957642,
          -1.7797478437423706,
          -0.7402799129486084,
          -2.367678165435791
         ],
         "y": [
          -1.3810757398605347,
          2.7983760833740234,
          -3.2125065326690674,
          -4.727011203765869,
          8.307832717895508,
          -2.310737371444702,
          1.1097487211227417,
          -2.1274023056030273,
          1.0552573204040527,
          -2.712675094604492,
          -6.942422389984131,
          -2.6151082515716553,
          5.524333477020264,
          -5.831099033355713,
          -4.768650054931641,
          0.9040819406509399,
          7.049415111541748,
          -6.9900383949279785,
          0.054132893681526184,
          -3.0082132816314697,
          -4.818392753601074,
          4.949549674987793,
          7.246116638183594,
          -2.2807531356811523,
          0.2163766771554947,
          -0.6217816472053528,
          0.046590983867645264,
          4.430714130401611,
          0.7720111608505249,
          -1.6062310934066772,
          2.3195528984069824,
          -0.2058684080839157,
          -4.338991641998291,
          -2.64642071723938,
          -1.8355299234390259,
          -0.3810248076915741,
          -3.030644655227661,
          3.1259026527404785,
          3.945647716522217,
          5.140627861022949,
          0.646439790725708,
          -3.2214314937591553,
          0.6195846199989319,
          -0.3539832532405853,
          -2.6071650981903076,
          0.28162074089050293,
          3.421480655670166,
          -1.6211186647415161,
          2.722172498703003,
          -9.937302589416504,
          -9.297422409057617,
          -7.188723087310791,
          -10.039758682250977,
          -9.121256828308105,
          -7.865780830383301,
          0.4239661693572998,
          2.49112868309021,
          -7.887746810913086,
          -9.362255096435547,
          -9.085498809814453,
          -2.7946572303771973,
          -1.6149883270263672,
          -3.461883068084717,
          -6.641635417938232,
          2.4575421810150146,
          0.5474701523780823,
          -6.726868152618408,
          0.006011705379933119,
          -8.01533031463623,
          -8.92556381225586,
          3.147580623626709,
          8.157576560974121,
          0.2827884256839752,
          -6.744527339935303,
          -2.819291830062866,
          0.2088465541601181,
          3.4655911922454834,
          -8.1701021194458,
          1.5288987159729004,
          1.0246024131774902,
          4.06470251083374,
          5.32034969329834,
          1.6961417198181152,
          1.2950040102005005,
          7.085249423980713,
          1.0193923711776733,
          -7.9170684814453125,
          3.7373907566070557,
          1.06205415725708,
          3.606504440307617,
          2.1535191535949707,
          1.5034397840499878,
          -0.5990498065948486,
          0.07161285728216171,
          2.957620859146118,
          9.98609447479248,
          -2.461113214492798,
          5.025137424468994,
          4.69366455078125,
          3.1038269996643066,
          3.828646183013916,
          -2.4646737575531006,
          3.309936285018921,
          1.8492214679718018,
          3.4568471908569336,
          3.670757293701172,
          2.099855422973633,
          4.02790641784668,
          6.736730098724365,
          1.665891408920288,
          -0.5802159309387207,
          9.167984008789062,
          4.794859409332275,
          0.2692541778087616,
          5.859462261199951,
          5.030025005340576,
          2.0715787410736084,
          -1.5104721784591675,
          4.23839807510376,
          8.673450469970703,
          8.466340065002441,
          8.240376472473145,
          5.5289626121521,
          5.882368087768555,
          4.673437595367432,
          6.360124588012695,
          0.6207271218299866,
          3.1350314617156982,
          7.824944496154785,
          2.53566575050354,
          3.1397547721862793,
          -8.178528785705566,
          4.807224273681641,
          -5.969071388244629,
          2.167487382888794,
          2.4329066276550293,
          -10.019111633300781,
          2.6186635494232178,
          5.2613725662231445,
          7.368588447570801,
          -2.4509902000427246,
          -8.108749389648438,
          0.6653866171836853,
          0.13840065896511078,
          1.05832839012146,
          -0.05268144980072975,
          7.616789817810059,
          2.08539080619812,
          -0.11610416322946548,
          4.341660022735596,
          -0.5417555570602417,
          3.440696954727173,
          0.3120538294315338,
          2.4411909580230713,
          3.4252798557281494,
          4.447821140289307,
          6.006990432739258,
          3.539515972137451,
          2.080338954925537,
          -1.0542595386505127,
          -9.97767448425293,
          7.563353538513184,
          1.5678625106811523,
          2.9919354915618896,
          5.582502365112305,
          8.108576774597168,
          -0.7507373690605164,
          1.6983004808425903,
          2.648796796798706,
          2.436469793319702,
          3.4940030574798584,
          1.8631036281585693,
          1.9658098220825195,
          4.263463020324707,
          -0.27524688839912415,
          3.7801098823547363,
          1.3177990913391113,
          7.602721214294434,
          -0.7882525324821472,
          2.9438037872314453,
          6.4946184158325195,
          2.7551703453063965,
          -5.202579975128174,
          1.0605756044387817,
          4.560024261474609,
          -0.10173249244689941,
          0.7200982570648193,
          5.241751670837402,
          2.6266777515411377,
          2.0798683166503906,
          2.236203670501709,
          7.011643886566162,
          4.427599906921387,
          -2.869339942932129,
          7.019981384277344,
          5.862255096435547,
          -6.7590227127075195,
          -7.6249237060546875,
          -1.657368540763855,
          -6.971832275390625,
          -3.9844586849212646,
          2.1046411991119385,
          2.3795273303985596,
          -4.141693115234375,
          3.84413480758667,
          -5.650420188903809,
          -4.574735164642334,
          -4.6313276290893555,
          -3.4733989238739014,
          3.4487011432647705,
          0.3461824059486389,
          4.07448148727417,
          0.30499592423439026,
          -0.433999627828598,
          5.163734436035156,
          5.254613399505615,
          -0.4337064027786255,
          3.636760711669922,
          3.4360058307647705,
          1.1786623001098633,
          0.503979504108429,
          6.366988658905029,
          3.5748467445373535,
          3.77651047706604,
          2.9450645446777344,
          0.35255587100982666,
          -0.7035160064697266,
          -2.4445841312408447,
          2.75172758102417,
          1.243334412574768,
          -6.630657196044922,
          0.9530823230743408,
          1.5274378061294556,
          6.440154075622559,
          2.8350682258605957,
          3.4154460430145264,
          1.2032768726348877,
          3.206571102142334,
          -0.014813108369708061,
          -0.35715043544769287,
          -5.810752868652344,
          2.1939308643341064,
          2.9840288162231445,
          1.81113862991333,
          6.379447937011719,
          1.365177035331726,
          -0.9528958201408386,
          6.7977399826049805,
          2.2445755004882812,
          0.3438427746295929,
          1.4132486581802368,
          2.6899542808532715,
          8.793771743774414,
          2.3737802505493164,
          2.0203542709350586,
          -1.2000515460968018,
          -4.217940807342529,
          3.3636693954467773,
          1.0652929544448853,
          4.863011360168457
         ],
         "z": [
          0.5511420369148254,
          -2.9608583450317383,
          0.3799033463001251,
          1.1357371807098389,
          1.4576181173324585,
          2.768763542175293,
          -1.017215609550476,
          3.6375572681427,
          0.0450475811958313,
          -1.0532022714614868,
          0.9360457062721252,
          -5.26507043838501,
          -0.1485270857810974,
          0.6339069604873657,
          0.8366841077804565,
          1.7063732147216797,
          1.377297043800354,
          0.7034738659858704,
          2.6914920806884766,
          0.33345332741737366,
          -2.609706401824951,
          0.9875088930130005,
          -0.21451278030872345,
          1.5463720560073853,
          1.3732819557189941,
          0.4817085564136505,
          0.24675288796424866,
          3.4319159984588623,
          -5.5577826499938965,
          -0.46685805916786194,
          -0.4319423735141754,
          -0.17202919721603394,
          0.7259149551391602,
          1.7493829727172852,
          -3.9265360832214355,
          -0.6542503833770752,
          0.21425394713878632,
          1.3741313219070435,
          0.35977068543434143,
          0.8145296573638916,
          0.5176531076431274,
          -1.1064486503601074,
          -2.188938617706299,
          1.4033223390579224,
          3.50437068939209,
          -1.790297269821167,
          -0.6718348860740662,
          -0.28160741925239563,
          0.7907835841178894,
          -2.146627426147461,
          -0.7665806412696838,
          -1.9144350290298462,
          -2.3603155612945557,
          -0.7592239379882812,
          -2.713489294052124,
          2.7241222858428955,
          -0.7848405241966248,
          -2.1534128189086914,
          -1.1075408458709717,
          -0.6074270009994507,
          -0.4529094696044922,
          1.0585942268371582,
          2.6436214447021484,
          3.089299440383911,
          -1.2431474924087524,
          -0.9862253069877625,
          -1.1874127388000488,
          1.806971788406372,
          2.402351140975952,
          0.09943609684705734,
          -0.11647195369005203,
          -2.4813711643218994,
          -1.7355057001113892,
          0.346118688583374,
          0.8841925859451294,
          4.130671977996826,
          -0.37659329175949097,
          1.9922683238983154,
          4.122742176055908,
          5.740640163421631,
          -5.26139497756958,
          0.08602540194988251,
          1.1567440032958984,
          2.2737395763397217,
          0.7445430755615234,
          -0.4512006938457489,
          -2.31427001953125,
          2.3636248111724854,
          6.505356788635254,
          -2.7102458477020264,
          4.368854522705078,
          2.320845365524292,
          -1.9487719535827637,
          -1.0761518478393555,
          0.9127764105796814,
          1.4735649824142456,
          -4.849428176879883,
          3.5083084106445312,
          3.397951602935791,
          1.3670326471328735,
          -1.4061877727508545,
          3.410130023956299,
          1.1580402851104736,
          -2.586303234100342,
          0.37582796812057495,
          1.8753570318222046,
          6.021730899810791,
          0.8721516132354736,
          2.8359360694885254,
          -0.9696561098098755,
          0.6506263017654419,
          -1.3079687356948853,
          1.1427459716796875,
          -2.330066204071045,
          1.0207329988479614,
          3.676373243331909,
          0.1811356395483017,
          -1.0245506763458252,
          0.5398154258728027,
          0.9127053022384644,
          1.3158087730407715,
          2.1948235034942627,
          0.9584187865257263,
          0.628176212310791,
          3.377976655960083,
          -0.9438662528991699,
          -1.554161548614502,
          0.6628583073616028,
          0.41637203097343445,
          5.5568437576293945,
          1.8477786779403687,
          -2.477257490158081,
          0.0712902843952179,
          -0.22072723507881165,
          1.545749306678772,
          1.193082571029663,
          -0.41261595487594604,
          1.162551999092102,
          1.7576966285705566,
          2.1519596576690674,
          -0.32877418398857117,
          -2.7012758255004883,
          -0.5848796367645264,
          4.740434169769287,
          6.084258079528809,
          -0.13686297833919525,
          2.182901382446289,
          -2.322596788406372,
          -1.5545451641082764,
          1.0250786542892456,
          1.85305655002594,
          1.2441316843032837,
          -0.5649045705795288,
          4.817012786865234,
          1.6789393424987793,
          0.07161320000886917,
          -5.482336044311523,
          1.869604468345642,
          1.8770637512207031,
          2.241860866546631,
          -0.40967097878456116,
          -0.8162687420845032,
          -2.4134726524353027,
          0.691381573677063,
          -0.10414726287126541,
          2.059237003326416,
          -1.7563409805297852,
          -1.279706358909607,
          5.479431629180908,
          2.2454895973205566,
          1.6520788669586182,
          6.036726474761963,
          -2.6322364807128906,
          3.4744277000427246,
          0.7310585379600525,
          -0.24521851539611816,
          -1.9482017755508423,
          2.6559600830078125,
          2.2779974937438965,
          0.6613351106643677,
          2.841487407684326,
          6.063981056213379,
          0.01319018006324768,
          1.6611049175262451,
          1.8209378719329834,
          2.017805814743042,
          1.0837743282318115,
          1.5763496160507202,
          1.7455695867538452,
          1.193801760673523,
          2.1351728439331055,
          -0.3262953460216522,
          1.0881468057632446,
          0.30075639486312866,
          -0.3576522767543793,
          -0.1900995373725891,
          -1.292609453201294,
          -2.5534160137176514,
          2.973544120788574,
          0.824476957321167,
          3.329606533050537,
          -4.634267807006836,
          -3.1280648708343506,
          2.2666656970977783,
          0.7676052451133728,
          -0.7915017008781433,
          1.4680081605911255,
          0.7801655530929565,
          0.2134319692850113,
          -0.11962587386369705,
          -0.012767031788825989,
          -3.015824794769287,
          1.5353481769561768,
          -0.22344154119491577,
          1.7555046081542969,
          -2.039886951446533,
          1.8381978273391724,
          -0.790226936340332,
          -1.2134910821914673,
          -0.4668114483356476,
          3.5346648693084717,
          -0.7223321795463562,
          -1.7394375801086426,
          -2.855245590209961,
          -0.6204264760017395,
          2.754258155822754,
          -1.977777361869812,
          -1.142167091369629,
          -1.4984997510910034,
          -3.0178606510162354,
          -1.104950189590454,
          2.7799789905548096,
          1.8146764039993286,
          -0.19192180037498474,
          0.8379009962081909,
          -3.496438980102539,
          3.9898507595062256,
          -1.074532389640808,
          1.955979585647583,
          -1.9393645524978638,
          0.6878569722175598,
          -1.3247348070144653,
          1.097452163696289,
          -2.4192583560943604,
          2.9969985485076904,
          3.64505672454834,
          -0.9397755861282349,
          -0.041923150420188904,
          -3.157780885696411,
          -3.0273094177246094,
          -3.2140867710113525,
          -3.1643319129943848,
          1.5314377546310425,
          -0.21808308362960815,
          -3.0739896297454834,
          -0.5471287369728088,
          1.243723750114441,
          0.25904735922813416,
          -3.1347789764404297,
          2.1221089363098145
         ]
        },
        {
         "marker": {
          "opacity": 0.8,
          "size": 4
         },
         "mode": "markers",
         "name": "PRE",
         "showlegend": true,
         "type": "scatter3d",
         "x": [
          1.4406256675720215,
          3.465158700942993,
          2.1083309650421143,
          -1.6774051189422607,
          -0.6385163068771362,
          -3.0864760875701904,
          6.410425186157227,
          2.524569511413574,
          4.650489807128906,
          6.7426886558532715,
          -4.441471576690674,
          4.6329545974731445,
          1.9796733856201172,
          -0.39104920625686646,
          1.6098666191101074,
          1.651655912399292,
          3.334146022796631,
          -0.551362156867981,
          4.176345348358154,
          2.4816195964813232,
          6.7738165855407715,
          -3.7105813026428223,
          3.690166473388672,
          -0.9216957688331604,
          1.4367398023605347,
          1.3702279329299927,
          0.24631665647029877,
          -2.469860315322876,
          0.3445684313774109,
          3.0647695064544678,
          -0.04552285745739937,
          4.441391944885254,
          -0.16176395118236542,
          2.7671689987182617,
          2.4503471851348877,
          5.573736190795898,
          0.8039751052856445,
          0.5559785962104797,
          -0.027167582884430885,
          -0.5921715497970581,
          2.5843613147735596,
          3.568028211593628,
          3.3454959392547607,
          4.267733573913574,
          2.4736692905426025,
          1.223037838935852,
          -0.14808803796768188,
          3.26576566696167,
          3.9185121059417725,
          0.33337342739105225,
          2.769479274749756,
          0.5798346400260925,
          4.385947227478027,
          2.667525291442871,
          3.5640203952789307,
          2.262676239013672,
          2.155311107635498,
          -5.219326496124268,
          -5.604599475860596
         ],
         "y": [
          -2.168811559677124,
          -1.2589057683944702,
          -0.844568133354187,
          -7.847678184509277,
          -4.2111639976501465,
          -0.3421577215194702,
          -2.9964311122894287,
          1.8853487968444824,
          -0.984528124332428,
          -0.5277033448219299,
          4.164078712463379,
          3.285916566848755,
          -6.1109161376953125,
          -8.007019996643066,
          2.1942014694213867,
          -2.2893753051757812,
          -0.024251308292150497,
          7.184247970581055,
          -0.46185240149497986,
          -1.312617540359497,
          -0.9795504212379456,
          -6.865602493286133,
          -0.6799967288970947,
          -1.8038195371627808,
          -1.4990226030349731,
          2.9873785972595215,
          -0.9416585564613342,
          -1.8203758001327515,
          -0.5672813057899475,
          -0.33428457379341125,
          -2.1012818813323975,
          -0.7448104023933411,
          -7.624675273895264,
          3.169318914413452,
          -1.6422220468521118,
          -0.9365644454956055,
          -4.413426399230957,
          -1.4880890846252441,
          -2.4316656589508057,
          -3.1275317668914795,
          -0.06973282992839813,
          -0.09154433757066727,
          0.024735474959015846,
          -0.6676151156425476,
          1.6401214599609375,
          -2.246691942214966,
          -7.653791904449463,
          -1.077562928199768,
          -0.6800636053085327,
          -1.5711109638214111,
          -1.0162556171417236,
          -2.4580349922180176,
          -0.7624976634979248,
          -0.24511389434337616,
          -0.10628998279571533,
          0.008396007120609283,
          -2.4775824546813965,
          -5.3035502433776855,
          4.266507625579834
         ],
         "z": [
          1.8928860425949097,
          2.4514002799987793,
          4.138703346252441,
          1.7345056533813477,
          1.629650592803955,
          4.262699127197266,
          -0.3351615071296692,
          1.5371266603469849,
          2.381957530975342,
          -0.26984360814094543,
          -4.889847755432129,
          -0.47077029943466187,
          -5.535043716430664,
          2.2102673053741455,
          -3.284191131591797,
          -4.108374118804932,
          5.333555221557617,
          1.3722457885742188,
          6.232462406158447,
          3.1412906646728516,
          1.184374213218689,
          1.0036699771881104,
          3.694457530975342,
          3.2876217365264893,
          3.320586919784546,
          4.997281074523926,
          4.2822794914245605,
          3.477724313735962,
          4.686649322509766,
          6.448467254638672,
          2.835256576538086,
          3.167874336242676,
          2.216599225997925,
          1.6042429208755493,
          2.1939916610717773,
          1.907900333404541,
          -6.324235439300537,
          3.608478307723999,
          2.410006046295166,
          1.634817123413086,
          5.087527275085449,
          5.2274489402771,
          6.973680019378662,
          3.683525562286377,
          5.57997989654541,
          1.7564810514450073,
          2.2110652923583984,
          3.4844868183135986,
          3.4497673511505127,
          3.5021567344665527,
          6.537565231323242,
          1.9403849840164185,
          3.906921863555908,
          6.128783702850342,
          3.506437063217163,
          6.1952056884765625,
          1.4026641845703125,
          -0.9175658226013184,
          -1.9767224788665771
         ]
        },
        {
         "marker": {
          "opacity": 0.8,
          "size": 4
         },
         "mode": "markers",
         "name": "SUB",
         "showlegend": true,
         "type": "scatter3d",
         "x": [
          6.949484825134277,
          -2.6757330894470215,
          -5.6424336433410645,
          -5.177999019622803,
          -5.7709431648254395,
          2.5857555866241455,
          -5.662247180938721,
          0.5897578001022339,
          0.378684401512146,
          2.5874154567718506,
          -5.447255611419678,
          4.127579212188721,
          4.526998043060303,
          1.0945552587509155,
          -4.1101861000061035,
          -0.8892355561256409,
          -1.244789719581604,
          -5.119839668273926,
          -1.2759259939193726,
          1.7617987394332886,
          -2.6059484481811523,
          -7.236912250518799,
          -3.088529586791992,
          1.7024644613265991,
          -6.772773265838623,
          2.6304595470428467,
          0.3866303861141205,
          -7.266374111175537,
          0.40152451395988464,
          -1.510414958000183,
          -8.317815780639648,
          2.7028324604034424,
          -4.100143909454346,
          -6.519662857055664,
          0.3459213972091675,
          -2.479585647583008,
          0.4885750114917755,
          -1.2798138856887817,
          -2.1821675300598145,
          -0.504595935344696,
          -3.1518402099609375,
          2.3704564571380615,
          -2.6636741161346436,
          -0.9560494422912598,
          -0.6285063028335571,
          3.499289035797119,
          -4.338468074798584,
          -2.5798285007476807,
          2.809709310531616,
          3.8012988567352295,
          -3.0450220108032227,
          -3.120958089828491,
          1.8579137325286865,
          1.606722116470337,
          6.604646682739258,
          0.5565437078475952,
          -0.3985486924648285,
          6.159878730773926,
          -1.9964817762374878,
          -2.5007827281951904,
          -1.944192886352539,
          -4.803502082824707,
          3.250778913497925,
          -7.554473400115967,
          -5.010073661804199,
          2.086805820465088,
          -3.7751147747039795,
          -3.915403366088867,
          -2.215392827987671,
          4.570435047149658
         ],
         "y": [
          -2.535295009613037,
          -1.676231861114502,
          -8.193612098693848,
          5.296163082122803,
          3.8922922611236572,
          0.4810448884963989,
          3.9504647254943848,
          4.0534820556640625,
          -3.271219253540039,
          0.3921986520290375,
          6.137836456298828,
          3.6206274032592773,
          -1.1296772956848145,
          -3.2454075813293457,
          2.364536762237549,
          2.8184709548950195,
          -3.876624822616577,
          2.272584915161133,
          6.606875419616699,
          2.2771694660186768,
          -1.1915714740753174,
          8.06687068939209,
          -5.895118713378906,
          -2.4315929412841797,
          5.257503509521484,
          3.479138135910034,
          -3.254619836807251,
          3.8524820804595947,
          4.928544044494629,
          -3.3540256023406982,
          4.600205898284912,
          1.580779790878296,
          8.256217956542969,
          6.161184310913086,
          -4.273560047149658,
          1.7391273975372314,
          -4.806836128234863,
          3.4511826038360596,
          -0.8345745205879211,
          -3.1310513019561768,
          7.913167953491211,
          0.39179477095603943,
          -6.553591251373291,
          1.4958783388137817,
          -4.256222724914551,
          -3.4461326599121094,
          4.089431285858154,
          -3.629194974899292,
          0.09813740849494934,
          -4.54200553894043,
          -5.9081525802612305,
          -2.0999834537506104,
          -6.470381259918213,
          1.209090232849121,
          -0.10358870774507523,
          -2.873488664627075,
          -4.14118766784668,
          -1.5878933668136597,
          3.4751596450805664,
          1.9489951133728027,
          -6.261025905609131,
          5.183409214019775,
          -8.404300689697266,
          3.651618719100952,
          -7.2174506187438965,
          3.573150396347046,
          -6.664519786834717,
          -4.705194473266602,
          -6.374738693237305,
          3.4862864017486572
         ],
         "z": [
          0.232106015086174,
          -1.5078922510147095,
          -2.4091145992279053,
          -0.8223257064819336,
          -2.259470224380493,
          3.161947727203369,
          -2.0518906116485596,
          -0.4462548792362213,
          -7.0587944984436035,
          -3.214949607849121,
          -2.534311294555664,
          -1.1450674533843994,
          1.6671347618103027,
          0.7794183492660522,
          -4.521744728088379,
          -1.9409312009811401,
          1.0802398920059204,
          -4.924314022064209,
          3.1112143993377686,
          5.030172348022461,
          -1.8507736921310425,
          -2.4866321086883545,
          0.6451975107192993,
          -4.2391676902771,
          -3.0734498500823975,
          -2.38481068611145,
          -7.062312602996826,
          -3.1011037826538086,
          3.260728597640991,
          0.6925222277641296,
          1.2901819944381714,
          5.459105014801025,
          1.2410154342651367,
          -2.5919601917266846,
          -5.341098785400391,
          -2.790994167327881,
          -2.7875678539276123,
          -1.547457218170166,
          -2.0314276218414307,
          -5.326756954193115,
          2.260223627090454,
          -3.5581130981445312,
          1.9300588369369507,
          -1.348581075668335,
          -0.06657475233078003,
          -5.0485944747924805,
          -4.811142921447754,
          2.875342607498169,
          3.5062127113342285,
          1.2991746664047241,
          0.653351366519928,
          -1.3842822313308716,
          -5.729854106903076,
          4.235599994659424,
          0.434438556432724,
          -0.3421701192855835,
          -0.3552855849266052,
          -1.4154706001281738,
          -1.1740672588348389,
          2.5374867916107178,
          2.6512441635131836,
          -1.9662271738052368,
          -2.3803186416625977,
          -3.13329815864563,
          1.4637315273284912,
          1.3829973936080933,
          0.8679654598236084,
          1.0840814113616943,
          2.50677490234375,
          -0.08333759009838104
         ]
        },
        {
         "marker": {
          "opacity": 0.8,
          "size": 4
         },
         "mode": "markers",
         "name": "VAL",
         "showlegend": true,
         "type": "scatter3d",
         "x": [
          -5.546571254730225,
          -2.3820979595184326,
          -5.695276260375977,
          -7.176786422729492,
          -5.830595970153809,
          -1.6663044691085815,
          -3.382283926010132,
          -1.1326265335083008,
          -6.2350969314575195,
          -6.699410915374756,
          -6.839993476867676,
          -6.596458435058594,
          -7.139561176300049,
          -7.29398775100708,
          -6.5293288230896,
          -7.172225475311279,
          -6.4078593254089355,
          -6.845428466796875,
          -7.354949951171875,
          -6.866085529327393,
          -2.1462769508361816,
          -6.2680134773254395,
          -4.8883161544799805,
          -6.375711441040039,
          -6.512606620788574,
          -5.065238952636719,
          -7.0259552001953125,
          -6.864325523376465,
          -6.082874774932861,
          -7.938066482543945,
          -6.319859981536865,
          1.860905647277832,
          -7.3053741455078125,
          -6.557943344116211,
          -2.5721914768218994,
          -6.4007768630981445
         ],
         "y": [
          3.0338048934936523,
          -9.187817573547363,
          0.8083315491676331,
          5.857883930206299,
          4.016688823699951,
          4.704499244689941,
          7.448065280914307,
          -7.819567680358887,
          3.9325759410858154,
          5.623142242431641,
          9.6259126663208,
          9.902725219726562,
          7.296133518218994,
          8.572517395019531,
          5.251212120056152,
          7.466188430786133,
          8.851067543029785,
          5.673238277435303,
          8.136893272399902,
          5.668484687805176,
          7.5535454750061035,
          9.112672805786133,
          8.620179176330566,
          6.683819770812988,
          9.777179718017578,
          9.228553771972656,
          9.763678550720215,
          6.090559482574463,
          8.542693138122559,
          6.1845831871032715,
          9.522298812866211,
          2.380451202392578,
          8.500795364379883,
          10.303668975830078,
          8.985639572143555,
          9.30462646484375
         ],
         "z": [
          -5.260082721710205,
          0.5298601388931274,
          -5.545866012573242,
          -3.3430263996124268,
          -5.230831146240234,
          1.0354210138320923,
          -0.06952253729104996,
          0.969933271408081,
          -2.9929511547088623,
          -5.043866157531738,
          -0.34983956813812256,
          0.41265687346458435,
          -3.798919439315796,
          -0.7773793339729309,
          -5.065701007843018,
          -3.507211923599243,
          1.7803280353546143,
          -3.612837553024292,
          -2.585893392562866,
          -4.021117687225342,
          2.354177713394165,
          2.6372451782226562,
          0.9183356165885925,
          -1.991109848022461,
          -0.011538722552359104,
          0.0899694412946701,
          1.462382435798645,
          -5.2328290939331055,
          1.8480803966522217,
          -2.824310302734375,
          -0.005023492034524679,
          -3.1273975372314453,
          -0.7333309054374695,
          -0.3591371178627014,
          1.499895691871643,
          0.5909808278083801
         ]
        }
       ],
       "layout": {
        "height": 700,
        "legend": {
         "font": {
          "size": 18
         }
        },
        "scene": {
         "camera": {
          "center": {
           "x": 0,
           "y": 0,
           "z": 0
          },
          "eye": {
           "x": 1.5,
           "y": -1.5,
           "z": 1
          },
          "up": {
           "x": 0,
           "y": 0,
           "z": 1
          }
         },
         "xaxis": {
          "title": {
           "text": "1st Component"
          }
         },
         "yaxis": {
          "title": {
           "text": "2nd Component"
          }
         },
         "zaxis": {
          "title": {
           "text": "3rd Component"
          }
         }
        },
        "template": {
         "data": {
          "bar": [
           {
            "error_x": {
             "color": "#2a3f5f"
            },
            "error_y": {
             "color": "#2a3f5f"
            },
            "marker": {
             "line": {
              "color": "#E5ECF6",
              "width": 0.5
             },
             "pattern": {
              "fillmode": "overlay",
              "size": 10,
              "solidity": 0.2
             }
            },
            "type": "bar"
           }
          ],
          "barpolar": [
           {
            "marker": {
             "line": {
              "color": "#E5ECF6",
              "width": 0.5
             },
             "pattern": {
              "fillmode": "overlay",
              "size": 10,
              "solidity": 0.2
             }
            },
            "type": "barpolar"
           }
          ],
          "carpet": [
           {
            "aaxis": {
             "endlinecolor": "#2a3f5f",
             "gridcolor": "white",
             "linecolor": "white",
             "minorgridcolor": "white",
             "startlinecolor": "#2a3f5f"
            },
            "baxis": {
             "endlinecolor": "#2a3f5f",
             "gridcolor": "white",
             "linecolor": "white",
             "minorgridcolor": "white",
             "startlinecolor": "#2a3f5f"
            },
            "type": "carpet"
           }
          ],
          "choropleth": [
           {
            "colorbar": {
             "outlinewidth": 0,
             "ticks": ""
            },
            "type": "choropleth"
           }
          ],
          "contour": [
           {
            "colorbar": {
             "outlinewidth": 0,
             "ticks": ""
            },
            "colorscale": [
             [
              0,
              "#0d0887"
             ],
             [
              0.1111111111111111,
              "#46039f"
             ],
             [
              0.2222222222222222,
              "#7201a8"
             ],
             [
              0.3333333333333333,
              "#9c179e"
             ],
             [
              0.4444444444444444,
              "#bd3786"
             ],
             [
              0.5555555555555556,
              "#d8576b"
             ],
             [
              0.6666666666666666,
              "#ed7953"
             ],
             [
              0.7777777777777778,
              "#fb9f3a"
             ],
             [
              0.8888888888888888,
              "#fdca26"
             ],
             [
              1,
              "#f0f921"
             ]
            ],
            "type": "contour"
           }
          ],
          "contourcarpet": [
           {
            "colorbar": {
             "outlinewidth": 0,
             "ticks": ""
            },
            "type": "contourcarpet"
           }
          ],
          "heatmap": [
           {
            "colorbar": {
             "outlinewidth": 0,
             "ticks": ""
            },
            "colorscale": [
             [
              0,
              "#0d0887"
             ],
             [
              0.1111111111111111,
              "#46039f"
             ],
             [
              0.2222222222222222,
              "#7201a8"
             ],
             [
              0.3333333333333333,
              "#9c179e"
             ],
             [
              0.4444444444444444,
              "#bd3786"
             ],
             [
              0.5555555555555556,
              "#d8576b"
             ],
             [
              0.6666666666666666,
              "#ed7953"
             ],
             [
              0.7777777777777778,
              "#fb9f3a"
             ],
             [
              0.8888888888888888,
              "#fdca26"
             ],
             [
              1,
              "#f0f921"
             ]
            ],
            "type": "heatmap"
           }
          ],
          "heatmapgl": [
           {
            "colorbar": {
             "outlinewidth": 0,
             "ticks": ""
            },
            "colorscale": [
             [
              0,
              "#0d0887"
             ],
             [
              0.1111111111111111,
              "#46039f"
             ],
             [
              0.2222222222222222,
              "#7201a8"
             ],
             [
              0.3333333333333333,
              "#9c179e"
             ],
             [
              0.4444444444444444,
              "#bd3786"
             ],
             [
              0.5555555555555556,
              "#d8576b"
             ],
             [
              0.6666666666666666,
              "#ed7953"
             ],
             [
              0.7777777777777778,
              "#fb9f3a"
             ],
             [
              0.8888888888888888,
              "#fdca26"
             ],
             [
              1,
              "#f0f921"
             ]
            ],
            "type": "heatmapgl"
           }
          ],
          "histogram": [
           {
            "marker": {
             "pattern": {
              "fillmode": "overlay",
              "size": 10,
              "solidity": 0.2
             }
            },
            "type": "histogram"
           }
          ],
          "histogram2d": [
           {
            "colorbar": {
             "outlinewidth": 0,
             "ticks": ""
            },
            "colorscale": [
             [
              0,
              "#0d0887"
             ],
             [
              0.1111111111111111,
              "#46039f"
             ],
             [
              0.2222222222222222,
              "#7201a8"
             ],
             [
              0.3333333333333333,
              "#9c179e"
             ],
             [
              0.4444444444444444,
              "#bd3786"
             ],
             [
              0.5555555555555556,
              "#d8576b"
             ],
             [
              0.6666666666666666,
              "#ed7953"
             ],
             [
              0.7777777777777778,
              "#fb9f3a"
             ],
             [
              0.8888888888888888,
              "#fdca26"
             ],
             [
              1,
              "#f0f921"
             ]
            ],
            "type": "histogram2d"
           }
          ],
          "histogram2dcontour": [
           {
            "colorbar": {
             "outlinewidth": 0,
             "ticks": ""
            },
            "colorscale": [
             [
              0,
              "#0d0887"
             ],
             [
              0.1111111111111111,
              "#46039f"
             ],
             [
              0.2222222222222222,
              "#7201a8"
             ],
             [
              0.3333333333333333,
              "#9c179e"
             ],
             [
              0.4444444444444444,
              "#bd3786"
             ],
             [
              0.5555555555555556,
              "#d8576b"
             ],
             [
              0.6666666666666666,
              "#ed7953"
             ],
             [
              0.7777777777777778,
              "#fb9f3a"
             ],
             [
              0.8888888888888888,
              "#fdca26"
             ],
             [
              1,
              "#f0f921"
             ]
            ],
            "type": "histogram2dcontour"
           }
          ],
          "mesh3d": [
           {
            "colorbar": {
             "outlinewidth": 0,
             "ticks": ""
            },
            "type": "mesh3d"
           }
          ],
          "parcoords": [
           {
            "line": {
             "colorbar": {
              "outlinewidth": 0,
              "ticks": ""
             }
            },
            "type": "parcoords"
           }
          ],
          "pie": [
           {
            "automargin": true,
            "type": "pie"
           }
          ],
          "scatter": [
           {
            "fillpattern": {
             "fillmode": "overlay",
             "size": 10,
             "solidity": 0.2
            },
            "type": "scatter"
           }
          ],
          "scatter3d": [
           {
            "line": {
             "colorbar": {
              "outlinewidth": 0,
              "ticks": ""
             }
            },
            "marker": {
             "colorbar": {
              "outlinewidth": 0,
              "ticks": ""
             }
            },
            "type": "scatter3d"
           }
          ],
          "scattercarpet": [
           {
            "marker": {
             "colorbar": {
              "outlinewidth": 0,
              "ticks": ""
             }
            },
            "type": "scattercarpet"
           }
          ],
          "scattergeo": [
           {
            "marker": {
             "colorbar": {
              "outlinewidth": 0,
              "ticks": ""
             }
            },
            "type": "scattergeo"
           }
          ],
          "scattergl": [
           {
            "marker": {
             "colorbar": {
              "outlinewidth": 0,
              "ticks": ""
             }
            },
            "type": "scattergl"
           }
          ],
          "scattermapbox": [
           {
            "marker": {
             "colorbar": {
              "outlinewidth": 0,
              "ticks": ""
             }
            },
            "type": "scattermapbox"
           }
          ],
          "scatterpolar": [
           {
            "marker": {
             "colorbar": {
              "outlinewidth": 0,
              "ticks": ""
             }
            },
            "type": "scatterpolar"
           }
          ],
          "scatterpolargl": [
           {
            "marker": {
             "colorbar": {
              "outlinewidth": 0,
              "ticks": ""
             }
            },
            "type": "scatterpolargl"
           }
          ],
          "scatterternary": [
           {
            "marker": {
             "colorbar": {
              "outlinewidth": 0,
              "ticks": ""
             }
            },
            "type": "scatterternary"
           }
          ],
          "surface": [
           {
            "colorbar": {
             "outlinewidth": 0,
             "ticks": ""
            },
            "colorscale": [
             [
              0,
              "#0d0887"
             ],
             [
              0.1111111111111111,
              "#46039f"
             ],
             [
              0.2222222222222222,
              "#7201a8"
             ],
             [
              0.3333333333333333,
              "#9c179e"
             ],
             [
              0.4444444444444444,
              "#bd3786"
             ],
             [
              0.5555555555555556,
              "#d8576b"
             ],
             [
              0.6666666666666666,
              "#ed7953"
             ],
             [
              0.7777777777777778,
              "#fb9f3a"
             ],
             [
              0.8888888888888888,
              "#fdca26"
             ],
             [
              1,
              "#f0f921"
             ]
            ],
            "type": "surface"
           }
          ],
          "table": [
           {
            "cells": {
             "fill": {
              "color": "#EBF0F8"
             },
             "line": {
              "color": "white"
             }
            },
            "header": {
             "fill": {
              "color": "#C8D4E3"
             },
             "line": {
              "color": "white"
             }
            },
            "type": "table"
           }
          ]
         },
         "layout": {
          "annotationdefaults": {
           "arrowcolor": "#2a3f5f",
           "arrowhead": 0,
           "arrowwidth": 1
          },
          "autotypenumbers": "strict",
          "coloraxis": {
           "colorbar": {
            "outlinewidth": 0,
            "ticks": ""
           }
          },
          "colorscale": {
           "diverging": [
            [
             0,
             "#8e0152"
            ],
            [
             0.1,
             "#c51b7d"
            ],
            [
             0.2,
             "#de77ae"
            ],
            [
             0.3,
             "#f1b6da"
            ],
            [
             0.4,
             "#fde0ef"
            ],
            [
             0.5,
             "#f7f7f7"
            ],
            [
             0.6,
             "#e6f5d0"
            ],
            [
             0.7,
             "#b8e186"
            ],
            [
             0.8,
             "#7fbc41"
            ],
            [
             0.9,
             "#4d9221"
            ],
            [
             1,
             "#276419"
            ]
           ],
           "sequential": [
            [
             0,
             "#0d0887"
            ],
            [
             0.1111111111111111,
             "#46039f"
            ],
            [
             0.2222222222222222,
             "#7201a8"
            ],
            [
             0.3333333333333333,
             "#9c179e"
            ],
            [
             0.4444444444444444,
             "#bd3786"
            ],
            [
             0.5555555555555556,
             "#d8576b"
            ],
            [
             0.6666666666666666,
             "#ed7953"
            ],
            [
             0.7777777777777778,
             "#fb9f3a"
            ],
            [
             0.8888888888888888,
             "#fdca26"
            ],
            [
             1,
             "#f0f921"
            ]
           ],
           "sequentialminus": [
            [
             0,
             "#0d0887"
            ],
            [
             0.1111111111111111,
             "#46039f"
            ],
            [
             0.2222222222222222,
             "#7201a8"
            ],
            [
             0.3333333333333333,
             "#9c179e"
            ],
            [
             0.4444444444444444,
             "#bd3786"
            ],
            [
             0.5555555555555556,
             "#d8576b"
            ],
            [
             0.6666666666666666,
             "#ed7953"
            ],
            [
             0.7777777777777778,
             "#fb9f3a"
            ],
            [
             0.8888888888888888,
             "#fdca26"
            ],
            [
             1,
             "#f0f921"
            ]
           ]
          },
          "colorway": [
           "#636efa",
           "#EF553B",
           "#00cc96",
           "#ab63fa",
           "#FFA15A",
           "#19d3f3",
           "#FF6692",
           "#B6E880",
           "#FF97FF",
           "#FECB52"
          ],
          "font": {
           "color": "#2a3f5f"
          },
          "geo": {
           "bgcolor": "white",
           "lakecolor": "white",
           "landcolor": "#E5ECF6",
           "showlakes": true,
           "showland": true,
           "subunitcolor": "white"
          },
          "hoverlabel": {
           "align": "left"
          },
          "hovermode": "closest",
          "mapbox": {
           "style": "light"
          },
          "paper_bgcolor": "white",
          "plot_bgcolor": "#E5ECF6",
          "polar": {
           "angularaxis": {
            "gridcolor": "white",
            "linecolor": "white",
            "ticks": ""
           },
           "bgcolor": "#E5ECF6",
           "radialaxis": {
            "gridcolor": "white",
            "linecolor": "white",
            "ticks": ""
           }
          },
          "scene": {
           "xaxis": {
            "backgroundcolor": "#E5ECF6",
            "gridcolor": "white",
            "gridwidth": 2,
            "linecolor": "white",
            "showbackground": true,
            "ticks": "",
            "zerolinecolor": "white"
           },
           "yaxis": {
            "backgroundcolor": "#E5ECF6",
            "gridcolor": "white",
            "gridwidth": 2,
            "linecolor": "white",
            "showbackground": true,
            "ticks": "",
            "zerolinecolor": "white"
           },
           "zaxis": {
            "backgroundcolor": "#E5ECF6",
            "gridcolor": "white",
            "gridwidth": 2,
            "linecolor": "white",
            "showbackground": true,
            "ticks": "",
            "zerolinecolor": "white"
           }
          },
          "shapedefaults": {
           "line": {
            "color": "#2a3f5f"
           }
          },
          "ternary": {
           "aaxis": {
            "gridcolor": "white",
            "linecolor": "white",
            "ticks": ""
           },
           "baxis": {
            "gridcolor": "white",
            "linecolor": "white",
            "ticks": ""
           },
           "bgcolor": "#E5ECF6",
           "caxis": {
            "gridcolor": "white",
            "linecolor": "white",
            "ticks": ""
           }
          },
          "title": {
           "x": 0.05
          },
          "xaxis": {
           "automargin": true,
           "gridcolor": "white",
           "linecolor": "white",
           "ticks": "",
           "title": {
            "standoff": 15
           },
           "zerolinecolor": "white",
           "zerolinewidth": 2
          },
          "yaxis": {
           "automargin": true,
           "gridcolor": "white",
           "linecolor": "white",
           "ticks": "",
           "title": {
            "standoff": 15
           },
           "zerolinecolor": "white",
           "zerolinewidth": 2
          }
         }
        },
        "title": {
         "text": "<b>radial distance</b>",
         "x": 0.35,
         "xanchor": "center",
         "y": 0.95,
         "yanchor": "top"
        },
        "width": 1000
       }
      },
      "text/html": [
       "<div>                            <div id=\"6693be5b-83e0-407b-a556-dfd103425c8f\" class=\"plotly-graph-div\" style=\"height:700px; width:1000px;\"></div>            <script type=\"text/javascript\">                require([\"plotly\"], function(Plotly) {                    window.PLOTLYENV=window.PLOTLYENV || {};                                    if (document.getElementById(\"6693be5b-83e0-407b-a556-dfd103425c8f\")) {                    Plotly.newPlot(                        \"6693be5b-83e0-407b-a556-dfd103425c8f\",                        [{\"marker\":{\"opacity\":0.8,\"size\":4},\"mode\":\"markers\",\"name\":\"Cerebellum\",\"showlegend\":true,\"x\":[1.4658043384552002,2.6640570163726807,3.07614803314209,1.6376593112945557,-3.15483021736145,1.4374831914901733,5.95316743850708,3.0738377571105957,6.68109130859375,1.9985603094100952,2.3640799522399902,2.300361394882202,2.518470048904419,2.9021337032318115,1.96112060546875,2.988016366958618,3.5168039798736572,3.16790771484375,1.864070177078247,2.112555742263794,2.2725038528442383,2.030318260192871,3.2312533855438232,5.197797775268555,3.197972059249878,2.101374387741089,2.4187543392181396,2.353956460952759,2.283193349838257,2.997666835784912,5.3614397048950195,-1.8949934244155884,2.591846466064453,-1.2354862689971924,2.1756792068481445,2.860849618911743,-2.8973100185394287,3.043931245803833,-2.1414735317230225,3.214717388153076,3.6329026222229004,2.8840885162353516,1.9842827320098877,1.795829176902771,2.7577366828918457],\"y\":[-7.455378532409668,-6.960474967956543,-6.968958377838135,-7.768094062805176,-2.991083860397339,-5.001241683959961,-1.3384325504302979,-6.972455978393555,-1.016804575920105,-7.191394329071045,-6.271265506744385,-3.9117960929870605,-4.2226786613464355,-3.4918532371520996,-3.202078342437744,-3.8715691566467285,-4.875533103942871,-7.602778434753418,-4.929311275482178,-7.312046051025391,-5.123653888702393,-3.8867318630218506,-8.508757591247559,-3.015393018722534,-3.7789604663848877,-7.142410755157471,-4.402016639709473,-6.410192966461182,-3.935295343399048,-6.721934795379639,-2.2246437072753906,-8.011087417602539,-5.111142158508301,-7.761159420013428,-7.542362213134766,-7.064401149749756,-7.892959117889404,-3.4535889625549316,-8.586800575256348,-8.363544464111328,-6.686717987060547,-6.713369846343994,-4.4978346824646,-4.536949634552002,-6.421174049377441],\"z\":[0.6266114711761475,-1.1756855249404907,-2.9901037216186523,0.8212083578109741,-1.1679390668869019,-5.408430576324463,-1.0003870725631714,-3.037747383117676,-0.37115249037742615,0.098567895591259,-0.4468710720539093,-3.4101462364196777,-4.90763521194458,-4.24270486831665,-5.84488582611084,-3.974120855331421,-2.4239273071289062,-2.741579055786133,-4.988548278808594,-0.01582147553563118,-4.913084983825684,-5.523595809936523,-2.242825984954834,-1.5415188074111938,-3.7400617599487305,-0.016187913715839386,-5.042107582092285,-0.44092264771461487,-4.069390296936035,-2.3832085132598877,-1.6950109004974365,0.011392478831112385,-4.58991003036499,0.9379045963287354,0.00819872971624136,-1.7194130420684814,0.35944458842277527,-3.736889123916626,0.07857149839401245,-2.276634931564331,-3.6123549938201904,-1.8587489128112793,-4.139296054840088,-5.399639129638672,-3.6820831298828125],\"type\":\"scatter3d\"},{\"marker\":{\"opacity\":0.8,\"size\":4},\"mode\":\"markers\",\"name\":\"DG\",\"showlegend\":true,\"x\":[8.499300003051758,10.453323364257812,8.025885581970215,8.988421440124512,9.054595947265625,9.192158699035645,7.984423637390137,8.321229934692383,8.283906936645508,7.792728424072266,11.474870681762695,7.931387424468994,10.071450233459473,11.114620208740234,10.736215591430664,9.187910079956055,7.743969440460205,10.147110939025879,-4.893590450286865,8.287603378295898,7.864261150360107,8.181526184082031,10.923315048217773,9.831006050109863,8.84389877319336,7.399514198303223,10.947417259216309,8.543349266052246,7.49137544631958,-6.529592514038086,8.256888389587402,10.855110168457031,7.528393745422363,11.04968547821045,12.01523494720459,11.134846687316895,9.083544731140137,10.940202713012695,7.881189823150635,11.311758041381836],\"y\":[-2.9457807540893555,-4.4112868309021,-3.1248912811279297,-1.969078540802002,-3.4290425777435303,-3.0381381511688232,-1.738724708557129,-3.5793070793151855,-4.478212356567383,-1.4505115747451782,-4.850260257720947,-2.872764825820923,-4.6718597412109375,-3.469740629196167,-4.984874725341797,-5.271797180175781,-4.505728244781494,-4.863365173339844,0.8953558802604675,-1.3442871570587158,-3.5117619037628174,-2.9767680168151855,-4.9423699378967285,-3.9846644401550293,-3.375300645828247,-2.09918212890625,-4.315687656402588,-2.440997838973999,-1.104181170463562,-7.7981109619140625,-2.1464152336120605,-3.7294747829437256,-2.9328622817993164,-5.282318592071533,-4.302224636077881,-3.7383816242218018,-3.5667285919189453,-3.991645097732544,-2.391735076904297,-4.971756458282471],\"z\":[0.6481655240058899,1.126943826675415,0.4514704644680023,0.47573912143707275,0.6769574880599976,1.0961346626281738,0.30498164892196655,1.0716056823730469,1.1180272102355957,0.4052225947380066,-0.12466268986463547,0.6872515082359314,1.0664290189743042,0.9680097699165344,1.9622344970703125,1.090127944946289,1.138356328010559,1.014823079109192,-0.3644297122955322,0.5074398517608643,0.7771742343902588,0.2946726977825165,0.29441267251968384,2.077644109725952,2.1250112056732178,0.4752429723739624,0.8861760497093201,0.672828197479248,0.2497185468673706,-2.657996654510498,0.5134057998657227,0.9509972929954529,0.17083632946014404,-0.1038496345281601,-0.2420334815979004,0.8880152106285095,0.5899220705032349,0.8793860673904419,0.7828038930892944,-0.0033034486696124077],\"type\":\"scatter3d\"},{\"marker\":{\"opacity\":0.8,\"size\":4},\"mode\":\"markers\",\"name\":\"MO\",\"showlegend\":true,\"x\":[7.624551773071289,-4.5760626792907715,-0.8932235836982727,-3.7120604515075684,-1.892551064491272,-2.7910804748535156,-4.496692180633545,-2.6186702251434326,1.919529914855957,-3.018754005432129,-4.847369194030762,-0.43242931365966797,-1.9427751302719116,-4.076068878173828,-3.323152780532837,2.0576229095458984,-0.48127180337905884,-5.587585926055908,5.7010579109191895,1.466315746307373,0.3887386918067932,-2.348139762878418,-4.604316711425781,1.8288061618804932,1.7514182329177856,2.610506296157837,-2.594250202178955,0.3414616882801056,-5.7107625007629395,3.6012933254241943,2.7519869804382324,6.657390117645264,-3.053980827331543,0.17351603507995605,1.4575178623199463,6.169722080230713,-0.11091794073581696,0.1339515894651413,-7.797801971435547,-5.694843769073486,-3.684454917907715,-3.3148622512817383,-4.366377830505371,1.6817407608032227,-5.332089900970459,3.759373188018799,0.023763755336403847,3.6599295139312744,4.6177144050598145,-5.800816059112549,-5.75858211517334,-4.131300449371338,-5.837059020996094,-5.810887813568115,-4.756532669067383,-1.6766968965530396,-1.6998482942581177,-4.604599475860596,-5.657450199127197,-5.87903356552124,-1.319612979888916,8.290471076965332,-2.606909990310669,-3.2260987758636475,-3.8650572299957275,3.059896469116211,-3.842942476272583,-2.9698410034179688,-2.0989491939544678,-3.1676509380340576,2.581031084060669,-7.267542362213135,1.5707459449768066,-5.313350200653076,-1.5823217630386353,3.461361885070801,0.6342701315879822,-3.05177903175354,1.861317753791809,-0.15078416466712952,-5.660096168518066,-6.30813455581665,5.033656120300293,2.5324745178222656,-0.5345323085784912,3.8577702045440674,-4.682002067565918,-2.091155529022217,0.8305271863937378,1.8861364126205444,4.221814155578613,2.339552164077759,2.7232131958007812,2.98586368560791,-2.7104156017303467,-6.154538631439209,0.8331226706504822,-2.6604459285736084,-3.3141167163848877,1.3214837312698364,2.639714479446411,-5.266632556915283,-1.795845866203308,-3.2682149410247803,-3.3060123920440674,-0.497747004032135,-1.1694960594177246,-7.892618179321289,-2.946432590484619,-1.5794298648834229,2.4117908477783203,-6.035188674926758,-7.06712532043457,2.9082045555114746,-6.747227668762207,-2.7162222862243652,-1.9118518829345703,-1.1757514476776123,-2.980620861053467,-6.249421119689941,-6.439361572265625,-5.415477275848389,-7.314622402191162,-1.117748737335205,-3.3133914470672607,-3.2457973957061768,-0.7219889760017395,-0.22527313232421875,-4.617466449737549,-1.5193358659744263,0.8249951004981995,-5.9909586906433105,-5.357977867126465,-4.841671466827393,-4.518615245819092,0.015684565529227257,-5.091067314147949,-3.68546462059021,-2.0327939987182617,-1.3944451808929443,2.0824201107025146,-5.51666784286499,-1.6608631610870361,5.751861095428467,1.1090582609176636,7.556559085845947,-4.788984298706055,-3.6785149574279785,3.028399705886841,-5.173915386199951,-4.008666515350342,-7.353692531585693,3.1938509941101074,1.6914087533950806,-7.126920700073242,-6.03397798538208,-6.833116054534912,-5.420348644256592,0.426017165184021,-3.6758973598480225,-5.1186957359313965,-5.2451019287109375,-3.898941993713379,4.081357479095459,-5.765612602233887,-4.990771770477295,-1.2936748266220093,-1.3806729316711426,-1.6271740198135376,-2.460407018661499,-7.186514854431152,-0.9419307112693787,-2.7921998500823975,0.4797650873661041,1.5026191473007202,-7.89868688583374,-4.2969069480896,-2.6399526596069336,-5.259832859039307,0.14237013459205627,-3.188519239425659,-1.7752604484558105,-0.5502457618713379,-4.683922290802002,-3.233719825744629,-5.049738883972168,-4.56035041809082,-1.8808728456497192,-3.933164358139038,4.923308372497559,-3.964040994644165,-4.198779582977295,-6.239009857177734,1.4927257299423218,-3.657235860824585,-1.9921985864639282,-3.9130728244781494,-4.326261520385742,-2.7583532333374023,-4.778030872344971,-1.7987298965454102,-4.3043694496154785,1.2970378398895264,-2.7893974781036377,2.8283979892730713,-4.954529762268066,1.0086548328399658,-2.736175060272217,-0.6516625285148621,3.3198931217193604,-2.4993791580200195,1.9530376195907593,-4.432431697845459,6.6585869789123535,-1.998498797416687,-4.720232963562012,6.391847133636475,3.3645291328430176,3.928865432739258,3.426265239715576,5.882422924041748,-4.434382438659668,3.3923089504241943,-6.019491195678711,2.703500509262085,-1.7893317937850952,3.8566484451293945,-3.091423511505127,1.6161482334136963,-1.038989543914795,-3.844348192214966,5.755807876586914,5.300054550170898,-5.0203423500061035,-3.2177414894104004,-4.391151428222656,4.526699066162109,2.11942720413208,-5.039697647094727,2.301281690597534,-3.8397531509399414,1.8698242902755737,-0.8041014075279236,-4.079687595367432,-3.099212408065796,5.239437103271484,3.2412378787994385,-2.5834007263183594,-5.179755687713623,2.5510740280151367,-1.9159127473831177,0.7357227802276611,-2.2633872032165527,3.4559919834136963,-5.319084167480469,3.1735711097717285,1.1716324090957642,-1.7797478437423706,-0.7402799129486084,-2.367678165435791],\"y\":[-1.3810757398605347,2.7983760833740234,-3.2125065326690674,-4.727011203765869,8.307832717895508,-2.310737371444702,1.1097487211227417,-2.1274023056030273,1.0552573204040527,-2.712675094604492,-6.942422389984131,-2.6151082515716553,5.524333477020264,-5.831099033355713,-4.768650054931641,0.9040819406509399,7.049415111541748,-6.9900383949279785,0.054132893681526184,-3.0082132816314697,-4.818392753601074,4.949549674987793,7.246116638183594,-2.2807531356811523,0.2163766771554947,-0.6217816472053528,0.046590983867645264,4.430714130401611,0.7720111608505249,-1.6062310934066772,2.3195528984069824,-0.2058684080839157,-4.338991641998291,-2.64642071723938,-1.8355299234390259,-0.3810248076915741,-3.030644655227661,3.1259026527404785,3.945647716522217,5.140627861022949,0.646439790725708,-3.2214314937591553,0.6195846199989319,-0.3539832532405853,-2.6071650981903076,0.28162074089050293,3.421480655670166,-1.6211186647415161,2.722172498703003,-9.937302589416504,-9.297422409057617,-7.188723087310791,-10.039758682250977,-9.121256828308105,-7.865780830383301,0.4239661693572998,2.49112868309021,-7.887746810913086,-9.362255096435547,-9.085498809814453,-2.7946572303771973,-1.6149883270263672,-3.461883068084717,-6.641635417938232,2.4575421810150146,0.5474701523780823,-6.726868152618408,0.006011705379933119,-8.01533031463623,-8.92556381225586,3.147580623626709,8.157576560974121,0.2827884256839752,-6.744527339935303,-2.819291830062866,0.2088465541601181,3.4655911922454834,-8.1701021194458,1.5288987159729004,1.0246024131774902,4.06470251083374,5.32034969329834,1.6961417198181152,1.2950040102005005,7.085249423980713,1.0193923711776733,-7.9170684814453125,3.7373907566070557,1.06205415725708,3.606504440307617,2.1535191535949707,1.5034397840499878,-0.5990498065948486,0.07161285728216171,2.957620859146118,9.98609447479248,-2.461113214492798,5.025137424468994,4.69366455078125,3.1038269996643066,3.828646183013916,-2.4646737575531006,3.309936285018921,1.8492214679718018,3.4568471908569336,3.670757293701172,2.099855422973633,4.02790641784668,6.736730098724365,1.665891408920288,-0.5802159309387207,9.167984008789062,4.794859409332275,0.2692541778087616,5.859462261199951,5.030025005340576,2.0715787410736084,-1.5104721784591675,4.23839807510376,8.673450469970703,8.466340065002441,8.240376472473145,5.5289626121521,5.882368087768555,4.673437595367432,6.360124588012695,0.6207271218299866,3.1350314617156982,7.824944496154785,2.53566575050354,3.1397547721862793,-8.178528785705566,4.807224273681641,-5.969071388244629,2.167487382888794,2.4329066276550293,-10.019111633300781,2.6186635494232178,5.2613725662231445,7.368588447570801,-2.4509902000427246,-8.108749389648438,0.6653866171836853,0.13840065896511078,1.05832839012146,-0.05268144980072975,7.616789817810059,2.08539080619812,-0.11610416322946548,4.341660022735596,-0.5417555570602417,3.440696954727173,0.3120538294315338,2.4411909580230713,3.4252798557281494,4.447821140289307,6.006990432739258,3.539515972137451,2.080338954925537,-1.0542595386505127,-9.97767448425293,7.563353538513184,1.5678625106811523,2.9919354915618896,5.582502365112305,8.108576774597168,-0.7507373690605164,1.6983004808425903,2.648796796798706,2.436469793319702,3.4940030574798584,1.8631036281585693,1.9658098220825195,4.263463020324707,-0.27524688839912415,3.7801098823547363,1.3177990913391113,7.602721214294434,-0.7882525324821472,2.9438037872314453,6.4946184158325195,2.7551703453063965,-5.202579975128174,1.0605756044387817,4.560024261474609,-0.10173249244689941,0.7200982570648193,5.241751670837402,2.6266777515411377,2.0798683166503906,2.236203670501709,7.011643886566162,4.427599906921387,-2.869339942932129,7.019981384277344,5.862255096435547,-6.7590227127075195,-7.6249237060546875,-1.657368540763855,-6.971832275390625,-3.9844586849212646,2.1046411991119385,2.3795273303985596,-4.141693115234375,3.84413480758667,-5.650420188903809,-4.574735164642334,-4.6313276290893555,-3.4733989238739014,3.4487011432647705,0.3461824059486389,4.07448148727417,0.30499592423439026,-0.433999627828598,5.163734436035156,5.254613399505615,-0.4337064027786255,3.636760711669922,3.4360058307647705,1.1786623001098633,0.503979504108429,6.366988658905029,3.5748467445373535,3.77651047706604,2.9450645446777344,0.35255587100982666,-0.7035160064697266,-2.4445841312408447,2.75172758102417,1.243334412574768,-6.630657196044922,0.9530823230743408,1.5274378061294556,6.440154075622559,2.8350682258605957,3.4154460430145264,1.2032768726348877,3.206571102142334,-0.014813108369708061,-0.35715043544769287,-5.810752868652344,2.1939308643341064,2.9840288162231445,1.81113862991333,6.379447937011719,1.365177035331726,-0.9528958201408386,6.7977399826049805,2.2445755004882812,0.3438427746295929,1.4132486581802368,2.6899542808532715,8.793771743774414,2.3737802505493164,2.0203542709350586,-1.2000515460968018,-4.217940807342529,3.3636693954467773,1.0652929544448853,4.863011360168457],\"z\":[0.5511420369148254,-2.9608583450317383,0.3799033463001251,1.1357371807098389,1.4576181173324585,2.768763542175293,-1.017215609550476,3.6375572681427,0.0450475811958313,-1.0532022714614868,0.9360457062721252,-5.26507043838501,-0.1485270857810974,0.6339069604873657,0.8366841077804565,1.7063732147216797,1.377297043800354,0.7034738659858704,2.6914920806884766,0.33345332741737366,-2.609706401824951,0.9875088930130005,-0.21451278030872345,1.5463720560073853,1.3732819557189941,0.4817085564136505,0.24675288796424866,3.4319159984588623,-5.5577826499938965,-0.46685805916786194,-0.4319423735141754,-0.17202919721603394,0.7259149551391602,1.7493829727172852,-3.9265360832214355,-0.6542503833770752,0.21425394713878632,1.3741313219070435,0.35977068543434143,0.8145296573638916,0.5176531076431274,-1.1064486503601074,-2.188938617706299,1.4033223390579224,3.50437068939209,-1.790297269821167,-0.6718348860740662,-0.28160741925239563,0.7907835841178894,-2.146627426147461,-0.7665806412696838,-1.9144350290298462,-2.3603155612945557,-0.7592239379882812,-2.713489294052124,2.7241222858428955,-0.7848405241966248,-2.1534128189086914,-1.1075408458709717,-0.6074270009994507,-0.4529094696044922,1.0585942268371582,2.6436214447021484,3.089299440383911,-1.2431474924087524,-0.9862253069877625,-1.1874127388000488,1.806971788406372,2.402351140975952,0.09943609684705734,-0.11647195369005203,-2.4813711643218994,-1.7355057001113892,0.346118688583374,0.8841925859451294,4.130671977996826,-0.37659329175949097,1.9922683238983154,4.122742176055908,5.740640163421631,-5.26139497756958,0.08602540194988251,1.1567440032958984,2.2737395763397217,0.7445430755615234,-0.4512006938457489,-2.31427001953125,2.3636248111724854,6.505356788635254,-2.7102458477020264,4.368854522705078,2.320845365524292,-1.9487719535827637,-1.0761518478393555,0.9127764105796814,1.4735649824142456,-4.849428176879883,3.5083084106445312,3.397951602935791,1.3670326471328735,-1.4061877727508545,3.410130023956299,1.1580402851104736,-2.586303234100342,0.37582796812057495,1.8753570318222046,6.021730899810791,0.8721516132354736,2.8359360694885254,-0.9696561098098755,0.6506263017654419,-1.3079687356948853,1.1427459716796875,-2.330066204071045,1.0207329988479614,3.676373243331909,0.1811356395483017,-1.0245506763458252,0.5398154258728027,0.9127053022384644,1.3158087730407715,2.1948235034942627,0.9584187865257263,0.628176212310791,3.377976655960083,-0.9438662528991699,-1.554161548614502,0.6628583073616028,0.41637203097343445,5.5568437576293945,1.8477786779403687,-2.477257490158081,0.0712902843952179,-0.22072723507881165,1.545749306678772,1.193082571029663,-0.41261595487594604,1.162551999092102,1.7576966285705566,2.1519596576690674,-0.32877418398857117,-2.7012758255004883,-0.5848796367645264,4.740434169769287,6.084258079528809,-0.13686297833919525,2.182901382446289,-2.322596788406372,-1.5545451641082764,1.0250786542892456,1.85305655002594,1.2441316843032837,-0.5649045705795288,4.817012786865234,1.6789393424987793,0.07161320000886917,-5.482336044311523,1.869604468345642,1.8770637512207031,2.241860866546631,-0.40967097878456116,-0.8162687420845032,-2.4134726524353027,0.691381573677063,-0.10414726287126541,2.059237003326416,-1.7563409805297852,-1.279706358909607,5.479431629180908,2.2454895973205566,1.6520788669586182,6.036726474761963,-2.6322364807128906,3.4744277000427246,0.7310585379600525,-0.24521851539611816,-1.9482017755508423,2.6559600830078125,2.2779974937438965,0.6613351106643677,2.841487407684326,6.063981056213379,0.01319018006324768,1.6611049175262451,1.8209378719329834,2.017805814743042,1.0837743282318115,1.5763496160507202,1.7455695867538452,1.193801760673523,2.1351728439331055,-0.3262953460216522,1.0881468057632446,0.30075639486312866,-0.3576522767543793,-0.1900995373725891,-1.292609453201294,-2.5534160137176514,2.973544120788574,0.824476957321167,3.329606533050537,-4.634267807006836,-3.1280648708343506,2.2666656970977783,0.7676052451133728,-0.7915017008781433,1.4680081605911255,0.7801655530929565,0.2134319692850113,-0.11962587386369705,-0.012767031788825989,-3.015824794769287,1.5353481769561768,-0.22344154119491577,1.7555046081542969,-2.039886951446533,1.8381978273391724,-0.790226936340332,-1.2134910821914673,-0.4668114483356476,3.5346648693084717,-0.7223321795463562,-1.7394375801086426,-2.855245590209961,-0.6204264760017395,2.754258155822754,-1.977777361869812,-1.142167091369629,-1.4984997510910034,-3.0178606510162354,-1.104950189590454,2.7799789905548096,1.8146764039993286,-0.19192180037498474,0.8379009962081909,-3.496438980102539,3.9898507595062256,-1.074532389640808,1.955979585647583,-1.9393645524978638,0.6878569722175598,-1.3247348070144653,1.097452163696289,-2.4192583560943604,2.9969985485076904,3.64505672454834,-0.9397755861282349,-0.041923150420188904,-3.157780885696411,-3.0273094177246094,-3.2140867710113525,-3.1643319129943848,1.5314377546310425,-0.21808308362960815,-3.0739896297454834,-0.5471287369728088,1.243723750114441,0.25904735922813416,-3.1347789764404297,2.1221089363098145],\"type\":\"scatter3d\"},{\"marker\":{\"opacity\":0.8,\"size\":4},\"mode\":\"markers\",\"name\":\"PRE\",\"showlegend\":true,\"x\":[1.4406256675720215,3.465158700942993,2.1083309650421143,-1.6774051189422607,-0.6385163068771362,-3.0864760875701904,6.410425186157227,2.524569511413574,4.650489807128906,6.7426886558532715,-4.441471576690674,4.6329545974731445,1.9796733856201172,-0.39104920625686646,1.6098666191101074,1.651655912399292,3.334146022796631,-0.551362156867981,4.176345348358154,2.4816195964813232,6.7738165855407715,-3.7105813026428223,3.690166473388672,-0.9216957688331604,1.4367398023605347,1.3702279329299927,0.24631665647029877,-2.469860315322876,0.3445684313774109,3.0647695064544678,-0.04552285745739937,4.441391944885254,-0.16176395118236542,2.7671689987182617,2.4503471851348877,5.573736190795898,0.8039751052856445,0.5559785962104797,-0.027167582884430885,-0.5921715497970581,2.5843613147735596,3.568028211593628,3.3454959392547607,4.267733573913574,2.4736692905426025,1.223037838935852,-0.14808803796768188,3.26576566696167,3.9185121059417725,0.33337342739105225,2.769479274749756,0.5798346400260925,4.385947227478027,2.667525291442871,3.5640203952789307,2.262676239013672,2.155311107635498,-5.219326496124268,-5.604599475860596],\"y\":[-2.168811559677124,-1.2589057683944702,-0.844568133354187,-7.847678184509277,-4.2111639976501465,-0.3421577215194702,-2.9964311122894287,1.8853487968444824,-0.984528124332428,-0.5277033448219299,4.164078712463379,3.285916566848755,-6.1109161376953125,-8.007019996643066,2.1942014694213867,-2.2893753051757812,-0.024251308292150497,7.184247970581055,-0.46185240149497986,-1.312617540359497,-0.9795504212379456,-6.865602493286133,-0.6799967288970947,-1.8038195371627808,-1.4990226030349731,2.9873785972595215,-0.9416585564613342,-1.8203758001327515,-0.5672813057899475,-0.33428457379341125,-2.1012818813323975,-0.7448104023933411,-7.624675273895264,3.169318914413452,-1.6422220468521118,-0.9365644454956055,-4.413426399230957,-1.4880890846252441,-2.4316656589508057,-3.1275317668914795,-0.06973282992839813,-0.09154433757066727,0.024735474959015846,-0.6676151156425476,1.6401214599609375,-2.246691942214966,-7.653791904449463,-1.077562928199768,-0.6800636053085327,-1.5711109638214111,-1.0162556171417236,-2.4580349922180176,-0.7624976634979248,-0.24511389434337616,-0.10628998279571533,0.008396007120609283,-2.4775824546813965,-5.3035502433776855,4.266507625579834],\"z\":[1.8928860425949097,2.4514002799987793,4.138703346252441,1.7345056533813477,1.629650592803955,4.262699127197266,-0.3351615071296692,1.5371266603469849,2.381957530975342,-0.26984360814094543,-4.889847755432129,-0.47077029943466187,-5.535043716430664,2.2102673053741455,-3.284191131591797,-4.108374118804932,5.333555221557617,1.3722457885742188,6.232462406158447,3.1412906646728516,1.184374213218689,1.0036699771881104,3.694457530975342,3.2876217365264893,3.320586919784546,4.997281074523926,4.2822794914245605,3.477724313735962,4.686649322509766,6.448467254638672,2.835256576538086,3.167874336242676,2.216599225997925,1.6042429208755493,2.1939916610717773,1.907900333404541,-6.324235439300537,3.608478307723999,2.410006046295166,1.634817123413086,5.087527275085449,5.2274489402771,6.973680019378662,3.683525562286377,5.57997989654541,1.7564810514450073,2.2110652923583984,3.4844868183135986,3.4497673511505127,3.5021567344665527,6.537565231323242,1.9403849840164185,3.906921863555908,6.128783702850342,3.506437063217163,6.1952056884765625,1.4026641845703125,-0.9175658226013184,-1.9767224788665771],\"type\":\"scatter3d\"},{\"marker\":{\"opacity\":0.8,\"size\":4},\"mode\":\"markers\",\"name\":\"SUB\",\"showlegend\":true,\"x\":[6.949484825134277,-2.6757330894470215,-5.6424336433410645,-5.177999019622803,-5.7709431648254395,2.5857555866241455,-5.662247180938721,0.5897578001022339,0.378684401512146,2.5874154567718506,-5.447255611419678,4.127579212188721,4.526998043060303,1.0945552587509155,-4.1101861000061035,-0.8892355561256409,-1.244789719581604,-5.119839668273926,-1.2759259939193726,1.7617987394332886,-2.6059484481811523,-7.236912250518799,-3.088529586791992,1.7024644613265991,-6.772773265838623,2.6304595470428467,0.3866303861141205,-7.266374111175537,0.40152451395988464,-1.510414958000183,-8.317815780639648,2.7028324604034424,-4.100143909454346,-6.519662857055664,0.3459213972091675,-2.479585647583008,0.4885750114917755,-1.2798138856887817,-2.1821675300598145,-0.504595935344696,-3.1518402099609375,2.3704564571380615,-2.6636741161346436,-0.9560494422912598,-0.6285063028335571,3.499289035797119,-4.338468074798584,-2.5798285007476807,2.809709310531616,3.8012988567352295,-3.0450220108032227,-3.120958089828491,1.8579137325286865,1.606722116470337,6.604646682739258,0.5565437078475952,-0.3985486924648285,6.159878730773926,-1.9964817762374878,-2.5007827281951904,-1.944192886352539,-4.803502082824707,3.250778913497925,-7.554473400115967,-5.010073661804199,2.086805820465088,-3.7751147747039795,-3.915403366088867,-2.215392827987671,4.570435047149658],\"y\":[-2.535295009613037,-1.676231861114502,-8.193612098693848,5.296163082122803,3.8922922611236572,0.4810448884963989,3.9504647254943848,4.0534820556640625,-3.271219253540039,0.3921986520290375,6.137836456298828,3.6206274032592773,-1.1296772956848145,-3.2454075813293457,2.364536762237549,2.8184709548950195,-3.876624822616577,2.272584915161133,6.606875419616699,2.2771694660186768,-1.1915714740753174,8.06687068939209,-5.895118713378906,-2.4315929412841797,5.257503509521484,3.479138135910034,-3.254619836807251,3.8524820804595947,4.928544044494629,-3.3540256023406982,4.600205898284912,1.580779790878296,8.256217956542969,6.161184310913086,-4.273560047149658,1.7391273975372314,-4.806836128234863,3.4511826038360596,-0.8345745205879211,-3.1310513019561768,7.913167953491211,0.39179477095603943,-6.553591251373291,1.4958783388137817,-4.256222724914551,-3.4461326599121094,4.089431285858154,-3.629194974899292,0.09813740849494934,-4.54200553894043,-5.9081525802612305,-2.0999834537506104,-6.470381259918213,1.209090232849121,-0.10358870774507523,-2.873488664627075,-4.14118766784668,-1.5878933668136597,3.4751596450805664,1.9489951133728027,-6.261025905609131,5.183409214019775,-8.404300689697266,3.651618719100952,-7.2174506187438965,3.573150396347046,-6.664519786834717,-4.705194473266602,-6.374738693237305,3.4862864017486572],\"z\":[0.232106015086174,-1.5078922510147095,-2.4091145992279053,-0.8223257064819336,-2.259470224380493,3.161947727203369,-2.0518906116485596,-0.4462548792362213,-7.0587944984436035,-3.214949607849121,-2.534311294555664,-1.1450674533843994,1.6671347618103027,0.7794183492660522,-4.521744728088379,-1.9409312009811401,1.0802398920059204,-4.924314022064209,3.1112143993377686,5.030172348022461,-1.8507736921310425,-2.4866321086883545,0.6451975107192993,-4.2391676902771,-3.0734498500823975,-2.38481068611145,-7.062312602996826,-3.1011037826538086,3.260728597640991,0.6925222277641296,1.2901819944381714,5.459105014801025,1.2410154342651367,-2.5919601917266846,-5.341098785400391,-2.790994167327881,-2.7875678539276123,-1.547457218170166,-2.0314276218414307,-5.326756954193115,2.260223627090454,-3.5581130981445312,1.9300588369369507,-1.348581075668335,-0.06657475233078003,-5.0485944747924805,-4.811142921447754,2.875342607498169,3.5062127113342285,1.2991746664047241,0.653351366519928,-1.3842822313308716,-5.729854106903076,4.235599994659424,0.434438556432724,-0.3421701192855835,-0.3552855849266052,-1.4154706001281738,-1.1740672588348389,2.5374867916107178,2.6512441635131836,-1.9662271738052368,-2.3803186416625977,-3.13329815864563,1.4637315273284912,1.3829973936080933,0.8679654598236084,1.0840814113616943,2.50677490234375,-0.08333759009838104],\"type\":\"scatter3d\"},{\"marker\":{\"opacity\":0.8,\"size\":4},\"mode\":\"markers\",\"name\":\"VAL\",\"showlegend\":true,\"x\":[-5.546571254730225,-2.3820979595184326,-5.695276260375977,-7.176786422729492,-5.830595970153809,-1.6663044691085815,-3.382283926010132,-1.1326265335083008,-6.2350969314575195,-6.699410915374756,-6.839993476867676,-6.596458435058594,-7.139561176300049,-7.29398775100708,-6.5293288230896,-7.172225475311279,-6.4078593254089355,-6.845428466796875,-7.354949951171875,-6.866085529327393,-2.1462769508361816,-6.2680134773254395,-4.8883161544799805,-6.375711441040039,-6.512606620788574,-5.065238952636719,-7.0259552001953125,-6.864325523376465,-6.082874774932861,-7.938066482543945,-6.319859981536865,1.860905647277832,-7.3053741455078125,-6.557943344116211,-2.5721914768218994,-6.4007768630981445],\"y\":[3.0338048934936523,-9.187817573547363,0.8083315491676331,5.857883930206299,4.016688823699951,4.704499244689941,7.448065280914307,-7.819567680358887,3.9325759410858154,5.623142242431641,9.6259126663208,9.902725219726562,7.296133518218994,8.572517395019531,5.251212120056152,7.466188430786133,8.851067543029785,5.673238277435303,8.136893272399902,5.668484687805176,7.5535454750061035,9.112672805786133,8.620179176330566,6.683819770812988,9.777179718017578,9.228553771972656,9.763678550720215,6.090559482574463,8.542693138122559,6.1845831871032715,9.522298812866211,2.380451202392578,8.500795364379883,10.303668975830078,8.985639572143555,9.30462646484375],\"z\":[-5.260082721710205,0.5298601388931274,-5.545866012573242,-3.3430263996124268,-5.230831146240234,1.0354210138320923,-0.06952253729104996,0.969933271408081,-2.9929511547088623,-5.043866157531738,-0.34983956813812256,0.41265687346458435,-3.798919439315796,-0.7773793339729309,-5.065701007843018,-3.507211923599243,1.7803280353546143,-3.612837553024292,-2.585893392562866,-4.021117687225342,2.354177713394165,2.6372451782226562,0.9183356165885925,-1.991109848022461,-0.011538722552359104,0.0899694412946701,1.462382435798645,-5.2328290939331055,1.8480803966522217,-2.824310302734375,-0.005023492034524679,-3.1273975372314453,-0.7333309054374695,-0.3591371178627014,1.499895691871643,0.5909808278083801],\"type\":\"scatter3d\"}],                        {\"template\":{\"data\":{\"histogram2dcontour\":[{\"type\":\"histogram2dcontour\",\"colorbar\":{\"outlinewidth\":0,\"ticks\":\"\"},\"colorscale\":[[0.0,\"#0d0887\"],[0.1111111111111111,\"#46039f\"],[0.2222222222222222,\"#7201a8\"],[0.3333333333333333,\"#9c179e\"],[0.4444444444444444,\"#bd3786\"],[0.5555555555555556,\"#d8576b\"],[0.6666666666666666,\"#ed7953\"],[0.7777777777777778,\"#fb9f3a\"],[0.8888888888888888,\"#fdca26\"],[1.0,\"#f0f921\"]]}],\"choropleth\":[{\"type\":\"choropleth\",\"colorbar\":{\"outlinewidth\":0,\"ticks\":\"\"}}],\"histogram2d\":[{\"type\":\"histogram2d\",\"colorbar\":{\"outlinewidth\":0,\"ticks\":\"\"},\"colorscale\":[[0.0,\"#0d0887\"],[0.1111111111111111,\"#46039f\"],[0.2222222222222222,\"#7201a8\"],[0.3333333333333333,\"#9c179e\"],[0.4444444444444444,\"#bd3786\"],[0.5555555555555556,\"#d8576b\"],[0.6666666666666666,\"#ed7953\"],[0.7777777777777778,\"#fb9f3a\"],[0.8888888888888888,\"#fdca26\"],[1.0,\"#f0f921\"]]}],\"heatmap\":[{\"type\":\"heatmap\",\"colorbar\":{\"outlinewidth\":0,\"ticks\":\"\"},\"colorscale\":[[0.0,\"#0d0887\"],[0.1111111111111111,\"#46039f\"],[0.2222222222222222,\"#7201a8\"],[0.3333333333333333,\"#9c179e\"],[0.4444444444444444,\"#bd3786\"],[0.5555555555555556,\"#d8576b\"],[0.6666666666666666,\"#ed7953\"],[0.7777777777777778,\"#fb9f3a\"],[0.8888888888888888,\"#fdca26\"],[1.0,\"#f0f921\"]]}],\"heatmapgl\":[{\"type\":\"heatmapgl\",\"colorbar\":{\"outlinewidth\":0,\"ticks\":\"\"},\"colorscale\":[[0.0,\"#0d0887\"],[0.1111111111111111,\"#46039f\"],[0.2222222222222222,\"#7201a8\"],[0.3333333333333333,\"#9c179e\"],[0.4444444444444444,\"#bd3786\"],[0.5555555555555556,\"#d8576b\"],[0.6666666666666666,\"#ed7953\"],[0.7777777777777778,\"#fb9f3a\"],[0.8888888888888888,\"#fdca26\"],[1.0,\"#f0f921\"]]}],\"contourcarpet\":[{\"type\":\"contourcarpet\",\"colorbar\":{\"outlinewidth\":0,\"ticks\":\"\"}}],\"contour\":[{\"type\":\"contour\",\"colorbar\":{\"outlinewidth\":0,\"ticks\":\"\"},\"colorscale\":[[0.0,\"#0d0887\"],[0.1111111111111111,\"#46039f\"],[0.2222222222222222,\"#7201a8\"],[0.3333333333333333,\"#9c179e\"],[0.4444444444444444,\"#bd3786\"],[0.5555555555555556,\"#d8576b\"],[0.6666666666666666,\"#ed7953\"],[0.7777777777777778,\"#fb9f3a\"],[0.8888888888888888,\"#fdca26\"],[1.0,\"#f0f921\"]]}],\"surface\":[{\"type\":\"surface\",\"colorbar\":{\"outlinewidth\":0,\"ticks\":\"\"},\"colorscale\":[[0.0,\"#0d0887\"],[0.1111111111111111,\"#46039f\"],[0.2222222222222222,\"#7201a8\"],[0.3333333333333333,\"#9c179e\"],[0.4444444444444444,\"#bd3786\"],[0.5555555555555556,\"#d8576b\"],[0.6666666666666666,\"#ed7953\"],[0.7777777777777778,\"#fb9f3a\"],[0.8888888888888888,\"#fdca26\"],[1.0,\"#f0f921\"]]}],\"mesh3d\":[{\"type\":\"mesh3d\",\"colorbar\":{\"outlinewidth\":0,\"ticks\":\"\"}}],\"scatter\":[{\"fillpattern\":{\"fillmode\":\"overlay\",\"size\":10,\"solidity\":0.2},\"type\":\"scatter\"}],\"parcoords\":[{\"type\":\"parcoords\",\"line\":{\"colorbar\":{\"outlinewidth\":0,\"ticks\":\"\"}}}],\"scatterpolargl\":[{\"type\":\"scatterpolargl\",\"marker\":{\"colorbar\":{\"outlinewidth\":0,\"ticks\":\"\"}}}],\"bar\":[{\"error_x\":{\"color\":\"#2a3f5f\"},\"error_y\":{\"color\":\"#2a3f5f\"},\"marker\":{\"line\":{\"color\":\"#E5ECF6\",\"width\":0.5},\"pattern\":{\"fillmode\":\"overlay\",\"size\":10,\"solidity\":0.2}},\"type\":\"bar\"}],\"scattergeo\":[{\"type\":\"scattergeo\",\"marker\":{\"colorbar\":{\"outlinewidth\":0,\"ticks\":\"\"}}}],\"scatterpolar\":[{\"type\":\"scatterpolar\",\"marker\":{\"colorbar\":{\"outlinewidth\":0,\"ticks\":\"\"}}}],\"histogram\":[{\"marker\":{\"pattern\":{\"fillmode\":\"overlay\",\"size\":10,\"solidity\":0.2}},\"type\":\"histogram\"}],\"scattergl\":[{\"type\":\"scattergl\",\"marker\":{\"colorbar\":{\"outlinewidth\":0,\"ticks\":\"\"}}}],\"scatter3d\":[{\"type\":\"scatter3d\",\"line\":{\"colorbar\":{\"outlinewidth\":0,\"ticks\":\"\"}},\"marker\":{\"colorbar\":{\"outlinewidth\":0,\"ticks\":\"\"}}}],\"scattermapbox\":[{\"type\":\"scattermapbox\",\"marker\":{\"colorbar\":{\"outlinewidth\":0,\"ticks\":\"\"}}}],\"scatterternary\":[{\"type\":\"scatterternary\",\"marker\":{\"colorbar\":{\"outlinewidth\":0,\"ticks\":\"\"}}}],\"scattercarpet\":[{\"type\":\"scattercarpet\",\"marker\":{\"colorbar\":{\"outlinewidth\":0,\"ticks\":\"\"}}}],\"carpet\":[{\"aaxis\":{\"endlinecolor\":\"#2a3f5f\",\"gridcolor\":\"white\",\"linecolor\":\"white\",\"minorgridcolor\":\"white\",\"startlinecolor\":\"#2a3f5f\"},\"baxis\":{\"endlinecolor\":\"#2a3f5f\",\"gridcolor\":\"white\",\"linecolor\":\"white\",\"minorgridcolor\":\"white\",\"startlinecolor\":\"#2a3f5f\"},\"type\":\"carpet\"}],\"table\":[{\"cells\":{\"fill\":{\"color\":\"#EBF0F8\"},\"line\":{\"color\":\"white\"}},\"header\":{\"fill\":{\"color\":\"#C8D4E3\"},\"line\":{\"color\":\"white\"}},\"type\":\"table\"}],\"barpolar\":[{\"marker\":{\"line\":{\"color\":\"#E5ECF6\",\"width\":0.5},\"pattern\":{\"fillmode\":\"overlay\",\"size\":10,\"solidity\":0.2}},\"type\":\"barpolar\"}],\"pie\":[{\"automargin\":true,\"type\":\"pie\"}]},\"layout\":{\"autotypenumbers\":\"strict\",\"colorway\":[\"#636efa\",\"#EF553B\",\"#00cc96\",\"#ab63fa\",\"#FFA15A\",\"#19d3f3\",\"#FF6692\",\"#B6E880\",\"#FF97FF\",\"#FECB52\"],\"font\":{\"color\":\"#2a3f5f\"},\"hovermode\":\"closest\",\"hoverlabel\":{\"align\":\"left\"},\"paper_bgcolor\":\"white\",\"plot_bgcolor\":\"#E5ECF6\",\"polar\":{\"bgcolor\":\"#E5ECF6\",\"angularaxis\":{\"gridcolor\":\"white\",\"linecolor\":\"white\",\"ticks\":\"\"},\"radialaxis\":{\"gridcolor\":\"white\",\"linecolor\":\"white\",\"ticks\":\"\"}},\"ternary\":{\"bgcolor\":\"#E5ECF6\",\"aaxis\":{\"gridcolor\":\"white\",\"linecolor\":\"white\",\"ticks\":\"\"},\"baxis\":{\"gridcolor\":\"white\",\"linecolor\":\"white\",\"ticks\":\"\"},\"caxis\":{\"gridcolor\":\"white\",\"linecolor\":\"white\",\"ticks\":\"\"}},\"coloraxis\":{\"colorbar\":{\"outlinewidth\":0,\"ticks\":\"\"}},\"colorscale\":{\"sequential\":[[0.0,\"#0d0887\"],[0.1111111111111111,\"#46039f\"],[0.2222222222222222,\"#7201a8\"],[0.3333333333333333,\"#9c179e\"],[0.4444444444444444,\"#bd3786\"],[0.5555555555555556,\"#d8576b\"],[0.6666666666666666,\"#ed7953\"],[0.7777777777777778,\"#fb9f3a\"],[0.8888888888888888,\"#fdca26\"],[1.0,\"#f0f921\"]],\"sequentialminus\":[[0.0,\"#0d0887\"],[0.1111111111111111,\"#46039f\"],[0.2222222222222222,\"#7201a8\"],[0.3333333333333333,\"#9c179e\"],[0.4444444444444444,\"#bd3786\"],[0.5555555555555556,\"#d8576b\"],[0.6666666666666666,\"#ed7953\"],[0.7777777777777778,\"#fb9f3a\"],[0.8888888888888888,\"#fdca26\"],[1.0,\"#f0f921\"]],\"diverging\":[[0,\"#8e0152\"],[0.1,\"#c51b7d\"],[0.2,\"#de77ae\"],[0.3,\"#f1b6da\"],[0.4,\"#fde0ef\"],[0.5,\"#f7f7f7\"],[0.6,\"#e6f5d0\"],[0.7,\"#b8e186\"],[0.8,\"#7fbc41\"],[0.9,\"#4d9221\"],[1,\"#276419\"]]},\"xaxis\":{\"gridcolor\":\"white\",\"linecolor\":\"white\",\"ticks\":\"\",\"title\":{\"standoff\":15},\"zerolinecolor\":\"white\",\"automargin\":true,\"zerolinewidth\":2},\"yaxis\":{\"gridcolor\":\"white\",\"linecolor\":\"white\",\"ticks\":\"\",\"title\":{\"standoff\":15},\"zerolinecolor\":\"white\",\"automargin\":true,\"zerolinewidth\":2},\"scene\":{\"xaxis\":{\"backgroundcolor\":\"#E5ECF6\",\"gridcolor\":\"white\",\"linecolor\":\"white\",\"showbackground\":true,\"ticks\":\"\",\"zerolinecolor\":\"white\",\"gridwidth\":2},\"yaxis\":{\"backgroundcolor\":\"#E5ECF6\",\"gridcolor\":\"white\",\"linecolor\":\"white\",\"showbackground\":true,\"ticks\":\"\",\"zerolinecolor\":\"white\",\"gridwidth\":2},\"zaxis\":{\"backgroundcolor\":\"#E5ECF6\",\"gridcolor\":\"white\",\"linecolor\":\"white\",\"showbackground\":true,\"ticks\":\"\",\"zerolinecolor\":\"white\",\"gridwidth\":2}},\"shapedefaults\":{\"line\":{\"color\":\"#2a3f5f\"}},\"annotationdefaults\":{\"arrowcolor\":\"#2a3f5f\",\"arrowhead\":0,\"arrowwidth\":1},\"geo\":{\"bgcolor\":\"white\",\"landcolor\":\"#E5ECF6\",\"subunitcolor\":\"white\",\"showland\":true,\"showlakes\":true,\"lakecolor\":\"white\"},\"title\":{\"x\":0.05},\"mapbox\":{\"style\":\"light\"}}},\"legend\":{\"font\":{\"size\":18}},\"scene\":{\"camera\":{\"eye\":{\"x\":1.5,\"y\":-1.5,\"z\":1},\"center\":{\"x\":0,\"y\":0,\"z\":0},\"up\":{\"x\":0,\"y\":0,\"z\":1}},\"xaxis\":{\"title\":{\"text\":\"1st Component\"}},\"yaxis\":{\"title\":{\"text\":\"2nd Component\"}},\"zaxis\":{\"title\":{\"text\":\"3rd Component\"}}},\"title\":{\"text\":\"<b>radial distance</b>\",\"x\":0.35,\"y\":0.95,\"xanchor\":\"center\",\"yanchor\":\"top\"},\"width\":1000,\"height\":700},                        {\"responsive\": true}                    ).then(function(){\n",
       "                            \n",
       "var gd = document.getElementById('6693be5b-83e0-407b-a556-dfd103425c8f');\n",
       "var x = new MutationObserver(function (mutations, observer) {{\n",
       "        var display = window.getComputedStyle(gd).display;\n",
       "        if (!display || display === 'none') {{\n",
       "            console.log([gd, 'removed!']);\n",
       "            Plotly.purge(gd);\n",
       "            observer.disconnect();\n",
       "        }}\n",
       "}});\n",
       "\n",
       "// Listen for the removal of the full notebook cells\n",
       "var notebookContainer = gd.closest('#notebook-container');\n",
       "if (notebookContainer) {{\n",
       "    x.observe(notebookContainer, {childList: true});\n",
       "}}\n",
       "\n",
       "// Listen for the clearing of the current output cell\n",
       "var outputEl = gd.closest('.output');\n",
       "if (outputEl) {{\n",
       "    x.observe(outputEl, {childList: true});\n",
       "}}\n",
       "\n",
       "                        })                };                });            </script>        </div>"
      ]
     },
     "metadata": {},
     "output_type": "display_data"
    },
    {
     "name": "stdout",
     "output_type": "stream",
     "text": [
      "Cerebellum\n",
      "DG\n",
      "MO\n",
      "PRE\n",
      "SUB\n",
      "VAL\n"
     ]
    },
    {
     "data": {
      "application/vnd.plotly.v1+json": {
       "config": {
        "plotlyServerURL": "https://plot.ly"
       },
       "data": [
        {
         "marker": {
          "opacity": 0.8,
          "size": 4
         },
         "mode": "markers",
         "name": "Cerebellum",
         "showlegend": true,
         "type": "scatter3d",
         "x": [
          -1.093875765800476,
          0.7446757555007935,
          0.6650790572166443,
          0.23816406726837158,
          -5.069314956665039,
          -0.48968154191970825,
          3.956026315689087,
          0.39053475856781006,
          6.037374019622803,
          0.7457481622695923,
          1.550581932067871,
          0.26327216625213623,
          0.5578773617744446,
          1.0964810848236084,
          -0.6111138463020325,
          1.1186165809631348,
          1.2581498622894287,
          0.564917266368866,
          0.10809531807899475,
          -0.34790778160095215,
          0.3124100863933563,
          -0.40978074073791504,
          0.3097934424877167,
          1.8780827522277832,
          1.3435395956039429,
          0.8192493915557861,
          1.4948810338974,
          1.1940042972564697,
          -0.0037433637771755457,
          0.7230529189109802,
          3.5160372257232666,
          -2.82006573677063,
          0.6374952793121338,
          -2.8266730308532715,
          -0.4534759223461151,
          -0.2930363714694977,
          -4.9626312255859375,
          1.2466051578521729,
          -3.300894021987915,
          0.850176215171814,
          1.103827953338623,
          0.6121920347213745,
          -0.03713240101933479,
          -1.790672779083252,
          -0.40779203176498413
         ],
         "y": [
          -3.283802032470703,
          -6.990723609924316,
          -5.955205917358398,
          -5.140975475311279,
          -4.259713172912598,
          -7.042801380157471,
          -3.385528326034546,
          -5.467867374420166,
          -2.9979398250579834,
          -6.018942356109619,
          -4.783529281616211,
          -5.578428745269775,
          -7.014156818389893,
          -6.725528717041016,
          -8.005940437316895,
          -6.646522521972656,
          -6.018304347991943,
          -5.695659160614014,
          -7.572315216064453,
          -4.339146614074707,
          -7.287133693695068,
          -7.832698822021484,
          -5.189357757568359,
          -4.65928840637207,
          -6.471471786499023,
          -6.331482887268066,
          -5.41202974319458,
          -6.516714096069336,
          -6.749838829040527,
          -6.474546909332275,
          -3.4197187423706055,
          -1.177203893661499,
          -7.150084972381592,
          -1.177320957183838,
          -4.218219757080078,
          -4.4330010414123535,
          -4.22003698348999,
          -6.240957736968994,
          -1.0660516023635864,
          -6.235525608062744,
          -6.58699369430542,
          -5.890807151794434,
          -5.996204853057861,
          4.989223957061768,
          -7.881401538848877
         ],
         "z": [
          -9.160867691040039,
          -3.610271453857422,
          -9.420356750488281,
          -10.239192008972168,
          -6.393083572387695,
          -2.62101411819458,
          -1.8195661306381226,
          -9.655230522155762,
          -0.14981569349765778,
          -7.538497447967529,
          -6.506534576416016,
          -4.530388832092285,
          -3.6892294883728027,
          -5.903730869293213,
          -4.5389485359191895,
          -4.95629358291626,
          -6.475679874420166,
          -9.916107177734375,
          -7.004601001739502,
          -9.062182426452637,
          -7.165295600891113,
          -4.5215044021606445,
          -10.560770988464355,
          -6.551758766174316,
          -4.751200199127197,
          -7.2039361000061035,
          -3.3786561489105225,
          -5.209538459777832,
          -4.66544246673584,
          -7.302353858947754,
          -1.6422683000564575,
          -8.673609733581543,
          -3.4605660438537598,
          -8.866632461547852,
          -9.135505676269531,
          -8.960647583007812,
          -6.393329620361328,
          -3.9075915813446045,
          -9.61561107635498,
          -9.504437446594238,
          -9.341208457946777,
          -7.841357231140137,
          -4.1180901527404785,
          2.4197988510131836,
          -4.916957855224609
         ]
        },
        {
         "marker": {
          "opacity": 0.8,
          "size": 4
         },
         "mode": "markers",
         "name": "DG",
         "showlegend": true,
         "type": "scatter3d",
         "x": [
          7.942327976226807,
          10.504026412963867,
          7.165890693664551,
          8.346920013427734,
          8.328851699829102,
          8.843816757202148,
          7.086042404174805,
          7.351190567016602,
          6.926627159118652,
          6.730759620666504,
          9.532992362976074,
          7.159449100494385,
          9.516266822814941,
          10.652914047241211,
          11.199745178222656,
          8.878478050231934,
          5.826053619384766,
          9.495074272155762,
          -4.450556755065918,
          7.5125908851623535,
          7.685430526733398,
          7.174282073974609,
          9.50182819366455,
          10.052459716796875,
          9.306041717529297,
          7.114021301269531,
          9.554312705993652,
          8.121400833129883,
          6.516219615936279,
          11.126680374145508,
          7.440099716186523,
          10.606459617614746,
          6.4015326499938965,
          10.24670124053955,
          10.98856258392334,
          10.680541038513184,
          8.374933242797852,
          9.442523002624512,
          7.797865867614746,
          9.692157745361328
         ],
         "y": [
          -5.350492000579834,
          -7.804102897644043,
          -5.334918975830078,
          -4.970385551452637,
          -5.5502214431762695,
          -5.6688337326049805,
          -4.1659836769104,
          -4.687530994415283,
          -5.227806091308594,
          -3.6382648944854736,
          -7.692391872406006,
          -4.866392135620117,
          -7.676857948303223,
          -7.110845565795898,
          -7.890624523162842,
          -7.3083930015563965,
          -5.888111591339111,
          -7.66405725479126,
          -2.8656585216522217,
          -3.8306448459625244,
          -5.46666955947876,
          -5.43717098236084,
          -7.808920860290527,
          -8.41663646697998,
          -4.334554672241211,
          -3.876823663711548,
          -8.226028442382812,
          -5.042255401611328,
          -3.335536479949951,
          -8.462697982788086,
          -4.463634490966797,
          -7.241990566253662,
          -4.826221466064453,
          -7.7889580726623535,
          -8.01926326751709,
          -7.110152244567871,
          -6.055822849273682,
          -7.414417743682861,
          -4.483375072479248,
          -8.390604972839355
         ],
         "z": [
          -2.3051881790161133,
          -2.668457269668579,
          -2.3388946056365967,
          -0.7269999980926514,
          -2.184030294418335,
          -1.4336531162261963,
          -1.1016963720321655,
          -2.5193560123443604,
          -3.012932777404785,
          -0.8626229166984558,
          -1.904820442199707,
          -1.9751428365707397,
          -2.9132943153381348,
          -1.5309500694274902,
          -3.008762836456299,
          -3.6777336597442627,
          -2.2405128479003906,
          -2.980260133743286,
          -1.2591078281402588,
          -0.4244709312915802,
          -3.0700225830078125,
          -1.9514127969741821,
          -2.085800886154175,
          -2.470179557800293,
          -2.2319798469543457,
          -1.8871275186538696,
          -1.500352144241333,
          -1.610978126525879,
          -0.18275746703147888,
          -0.18326088786125183,
          -1.1625758409500122,
          -1.988290786743164,
          -1.9718513488769531,
          -2.158238649368286,
          -0.9510970711708069,
          -1.627954363822937,
          -2.2083256244659424,
          -1.558966875076294,
          -2.10054874420166,
          -0.8934516310691833
         ]
        },
        {
         "marker": {
          "opacity": 0.8,
          "size": 4
         },
         "mode": "markers",
         "name": "MO",
         "showlegend": true,
         "type": "scatter3d",
         "x": [
          6.872520446777344,
          -3.4035143852233887,
          -1.3140970468521118,
          -5.192994117736816,
          -2.168929100036621,
          -5.875274658203125,
          -4.635366916656494,
          -5.616009712219238,
          1.1494238376617432,
          -3.9658286571502686,
          -5.5050458908081055,
          -2.5527493953704834,
          -2.3772215843200684,
          -4.4201860427856445,
          -3.4079010486602783,
          -0.44466081261634827,
          1.0217236280441284,
          -5.082018852233887,
          6.668885231018066,
          -1.1760305166244507,
          -1.57939612865448,
          -2.4849424362182617,
          -4.269370079040527,
          1.9331821203231812,
          -0.5116313099861145,
          2.212848663330078,
          -4.568112850189209,
          6.5367302894592285,
          -5.259039402008057,
          2.830500602722168,
          1.4310438632965088,
          5.209395408630371,
          -3.8592100143432617,
          -2.7020413875579834,
          -3.165506601333618,
          5.261693954467773,
          -3.692446708679199,
          -0.46587416529655457,
          -7.485414028167725,
          -6.575243949890137,
          -4.375245094299316,
          -4.947669982910156,
          -5.204449653625488,
          -0.5545312762260437,
          -4.077784538269043,
          1.2918834686279297,
          -1.1511987447738647,
          2.329240560531616,
          6.16817045211792,
          -8.452077865600586,
          -8.278932571411133,
          -7.744929313659668,
          -10.349045753479004,
          -8.435844421386719,
          -9.514150619506836,
          -3.6440227031707764,
          -1.9719079732894897,
          -8.472356796264648,
          -9.150489807128906,
          -8.069801330566406,
          -2.660339117050171,
          7.743635654449463,
          -3.2473878860473633,
          -7.703686714172363,
          -3.723506212234497,
          1.1890933513641357,
          -6.392557621002197,
          -4.5370564460754395,
          -2.5204226970672607,
          -5.352269172668457,
          -0.8162011504173279,
          -6.8975830078125,
          1.0035003423690796,
          -6.005311012268066,
          -0.195978045463562,
          5.906755447387695,
          -0.615206241607666,
          -5.3292107582092285,
          6.834685325622559,
          11.080806732177734,
          -6.36883544921875,
          -6.5604352951049805,
          4.502415180206299,
          0.5299907922744751,
          -1.2776631116867065,
          3.001887559890747,
          -8.67332935333252,
          -5.081652641296387,
          10.306230545043945,
          -2.6465814113616943,
          8.486431121826172,
          -0.23359231650829315,
          2.033716917037964,
          2.596865653991699,
          -3.273951768875122,
          -6.773125171661377,
          -2.988661766052246,
          -2.791447401046753,
          -5.242936611175537,
          0.36340126395225525,
          1.2621208429336548,
          -7.439728736877441,
          -2.6823623180389404,
          -2.7586452960968018,
          -4.37045431137085,
          -2.892071485519409,
          9.733198165893555,
          -8.323062896728516,
          -2.3557796478271484,
          -3.046572685241699,
          3.060887336730957,
          -5.427224636077881,
          -8.2752685546875,
          1.1346129179000854,
          -7.451338291168213,
          8.447443962097168,
          -1.412186861038208,
          -2.7618207931518555,
          -1.1187596321105957,
          8.83989429473877,
          9.246710777282715,
          -5.631227970123291,
          -7.3515143394470215,
          -1.0082390308380127,
          -5.197135925292969,
          -2.0707812309265137,
          3.948537826538086,
          -1.3794010877609253,
          -5.546376705169678,
          9.879843711853027,
          5.538943290710449,
          -9.860440254211426,
          -6.165701389312744,
          -5.986876487731934,
          -6.630317211151123,
          -0.9300287365913391,
          -9.07004451751709,
          -4.620925426483154,
          -1.7671782970428467,
          -0.6600268483161926,
          -0.32097551226615906,
          -9.779194831848145,
          -4.3929948806762695,
          5.489055633544922,
          10.704489707946777,
          6.2600250244140625,
          -4.993440628051758,
          -2.880269765853882,
          1.9951286315917969,
          -6.316837787628174,
          -5.810343265533447,
          -8.18006706237793,
          0.19498440623283386,
          6.7227325439453125,
          -6.9175848960876465,
          -7.270933151245117,
          -7.908114433288574,
          -6.014995098114014,
          4.845610618591309,
          -5.99162483215332,
          -8.496749877929688,
          -7.325170040130615,
          -4.069806098937988,
          2.991541624069214,
          -5.596215724945068,
          -5.511988639831543,
          -0.7722588181495667,
          -1.0373908281326294,
          9.256863594055176,
          -3.8670639991760254,
          -6.954530239105225,
          10.22391414642334,
          -4.50695276260376,
          6.373942852020264,
          -0.8740713596343994,
          -8.289871215820312,
          -4.15101432800293,
          -2.4389638900756836,
          -7.502575874328613,
          -0.8093082308769226,
          -4.00827169418335,
          -6.56076717376709,
          1.0792361497879028,
          -6.448914527893066,
          -4.93688440322876,
          -5.353741645812988,
          -6.774296283721924,
          -2.4410805702209473,
          -4.592984676361084,
          4.1573920249938965,
          -4.859807968139648,
          -5.728851795196533,
          -7.2657694816589355,
          -0.7806150913238525,
          -5.10951566696167,
          -0.8687341213226318,
          -7.618398666381836,
          -8.531676292419434,
          -5.430791854858398,
          -5.486293792724609,
          -3.342844247817993,
          -4.170915603637695,
          4.176023006439209,
          -3.2038846015930176,
          3.263761520385742,
          -6.623797416687012,
          -1.0783621072769165,
          -4.87645959854126,
          -1.652884602546692,
          3.2324602603912354,
          -4.427411079406738,
          0.5723807215690613,
          -6.870899200439453,
          5.3457136154174805,
          -2.9102249145507812,
          -4.787342548370361,
          5.209231853485107,
          2.0514848232269287,
          5.087323188781738,
          2.1821062564849854,
          5.181140422821045,
          -5.389703273773193,
          1.8598339557647705,
          -3.9628028869628906,
          1.4795981645584106,
          -4.15463399887085,
          2.336237668991089,
          -4.554271221160889,
          -0.27594462037086487,
          -0.8738327622413635,
          -3.001971483230591,
          7.461748123168945,
          6.698739528656006,
          -5.198167324066162,
          -1.808327078819275,
          -5.247620105743408,
          9.265110969543457,
          -0.17167557775974274,
          -7.0331830978393555,
          2.0338499546051025,
          -5.277902603149414,
          0.5180630087852478,
          -3.0588269233703613,
          -2.928022861480713,
          -2.0905683040618896,
          9.531522750854492,
          2.446209192276001,
          -2.2218925952911377,
          -3.739457368850708,
          1.1475173234939575,
          -2.3107118606567383,
          -1.4226442575454712,
          -0.962225079536438,
          1.691394329071045,
          -5.602634429931641,
          2.054694652557373,
          -0.5675272941589355,
          -2.997206449508667,
          -1.750691533088684,
          -3.205193281173706
         ],
         "y": [
          -3.4449448585510254,
          2.0159802436828613,
          -0.022441228851675987,
          -0.7492949962615967,
          5.720204830169678,
          0.5312249660491943,
          1.1970030069351196,
          -2.6855380535125732,
          0.6108261942863464,
          1.3040121793746948,
          -0.9600521326065063,
          3.9705448150634766,
          3.1288464069366455,
          -0.47590920329093933,
          -0.6679052114486694,
          0.979609489440918,
          4.569110870361328,
          -0.1441887766122818,
          0.8800124526023865,
          -0.0608622282743454,
          0.17262527346611023,
          -0.16537895798683167,
          4.420754432678223,
          -0.8942169547080994,
          0.7585479021072388,
          0.859688401222229,
          -0.6487736105918884,
          0.2268190085887909,
          4.381856918334961,
          -0.016711028292775154,
          2.4593515396118164,
          -3.0901036262512207,
          -0.2688595950603485,
          -0.5939467549324036,
          -5.451606273651123,
          -2.356257915496826,
          -0.21153296530246735,
          0.4541134536266327,
          2.9611213207244873,
          2.9557790756225586,
          -0.5778040885925293,
          2.361522912979126,
          2.079538583755493,
          0.8153230547904968,
          4.3274617195129395,
          2.5219225883483887,
          3.49066424369812,
          0.28348520398139954,
          0.7336822748184204,
          -1.144415020942688,
          -0.8504047989845276,
          -2.6918463706970215,
          -3.0449867248535156,
          -1.0274991989135742,
          -3.1169512271881104,
          -0.6153542995452881,
          2.7964701652526855,
          -2.3031516075134277,
          -1.8034265041351318,
          -0.6184768676757812,
          1.0852762460708618,
          -3.671393871307373,
          -4.001647472381592,
          -1.2912026643753052,
          2.671926498413086,
          0.01948692463338375,
          -2.5643181800842285,
          -1.6697850227355957,
          -7.642768859863281,
          -2.615542411804199,
          3.3506298065185547,
          7.116888523101807,
          1.0958718061447144,
          -0.4395871162414551,
          -2.910830020904541,
          1.6469022035598755,
          3.4292287826538086,
          -2.6293959617614746,
          0.6214581727981567,
          2.228640079498291,
          5.744742393493652,
          4.496860980987549,
          0.207485631108284,
          1.719334363937378,
          5.480149745941162,
          -0.15850140154361725,
          -2.5887563228607178,
          2.2478525638580322,
          3.497161626815796,
          4.366451263427734,
          3.5654399394989014,
          0.06730207800865173,
          -1.1075115203857422,
          1.185262680053711,
          -0.20852325856685638,
          3.586229085922241,
          3.194474697113037,
          1.0666372776031494,
          2.880403995513916,
          0.4319923520088196,
          2.902303695678711,
          4.511256694793701,
          0.5316151976585388,
          0.2265579253435135,
          1.8894602060317993,
          1.5220648050308228,
          3.318002223968506,
          3.5300819873809814,
          2.586205005645752,
          1.7389366626739502,
          0.787417471408844,
          2.4500858783721924,
          2.96366810798645,
          -1.0578663349151611,
          5.234051704406738,
          2.9456350803375244,
          0.45331424474716187,
          1.1375685930252075,
          -0.03782719001173973,
          2.93733811378479,
          3.0524280071258545,
          2.457183361053467,
          4.761960983276367,
          3.905829906463623,
          2.095308303833008,
          5.2471842765808105,
          1.157730221748352,
          0.6413925886154175,
          5.940047740936279,
          2.284799337387085,
          1.1864473819732666,
          -2.8985376358032227,
          3.064136028289795,
          -0.8733094930648804,
          0.9155642986297607,
          0.6817901134490967,
          -1.559443712234497,
          0.11887015402317047,
          2.6132044792175293,
          3.4205708503723145,
          -0.4528624415397644,
          -3.114506483078003,
          4.468225479125977,
          3.0236523151397705,
          2.67584228515625,
          -3.399604558944702,
          7.002345561981201,
          1.220302700996399,
          1.8657983541488647,
          0.968596339225769,
          -0.9012497067451477,
          3.8411781787872314,
          3.6634442806243896,
          0.6223906874656677,
          1.628490924835205,
          1.993632197380066,
          6.1097283363342285,
          2.3020875453948975,
          2.839139699935913,
          2.4413862228393555,
          -1.1003310680389404,
          5.515000343322754,
          -0.7751303911209106,
          0.8526330590248108,
          4.029646396636963,
          5.483905792236328,
          0.6338734030723572,
          0.7939381003379822,
          2.6143851280212402,
          0.1539973020553589,
          2.5657382011413574,
          2.2411136627197266,
          5.815642356872559,
          0.14198651909828186,
          -0.03696423023939133,
          3.7361583709716797,
          -0.7409871816635132,
          5.17707633972168,
          -0.7517865300178528,
          0.6132628321647644,
          4.452735424041748,
          1.4609088897705078,
          -4.625756740570068,
          1.0269010066986084,
          2.103271722793579,
          1.502428412437439,
          0.835267186164856,
          3.607529401779175,
          -0.7518053650856018,
          0.2899310290813446,
          0.8217975497245789,
          5.295722007751465,
          2.8858015537261963,
          -0.30265602469444275,
          5.667088985443115,
          3.4978220462799072,
          -2.6722278594970703,
          -2.7652196884155273,
          -0.8442766666412354,
          -1.1184616088867188,
          -4.830596446990967,
          5.0360822677612305,
          -0.23494012653827667,
          -3.5785841941833496,
          0.035038962960243225,
          -0.6418586373329163,
          -1.9710174798965454,
          -2.0995984077453613,
          -0.4571595788002014,
          0.24316230416297913,
          -0.7013228535652161,
          3.836571216583252,
          0.29307809472084045,
          -2.9866445064544678,
          3.629537343978882,
          5.8232035636901855,
          -1.348601222038269,
          3.262781858444214,
          -0.509056568145752,
          0.8227701783180237,
          1.7176705598831177,
          4.570744514465332,
          3.4470977783203125,
          4.962278366088867,
          2.517319679260254,
          -2.456890344619751,
          -1.3487640619277954,
          0.048694100230932236,
          2.86122465133667,
          2.931945562362671,
          -1.1100050210952759,
          0.9102634787559509,
          0.7939017415046692,
          4.1263227462768555,
          1.4738119840621948,
          4.699230670928955,
          0.9953926205635071,
          3.8917031288146973,
          -0.15142053365707397,
          1.1068390607833862,
          -1.692103385925293,
          1.044051170349121,
          -0.6272965669631958,
          0.9583171606063843,
          1.4229153394699097,
          2.6226165294647217,
          -0.5110507011413574,
          4.374130725860596,
          3.1879873275756836,
          3.3306784629821777,
          3.805708408355713,
          4.071113109588623,
          4.936025619506836,
          1.8341220617294312,
          1.4086189270019531,
          0.8156840801239014,
          -1.9663108587265015,
          1.4503525495529175,
          2.9363763332366943,
          3.4112038612365723
         ],
         "z": [
          -0.6977161765098572,
          7.623159885406494,
          -3.1711182594299316,
          -6.228228569030762,
          2.851788282394409,
          0.7425222396850586,
          1.5788713693618774,
          -2.5899477005004883,
          2.4973812103271484,
          -2.9737749099731445,
          -7.587395191192627,
          6.939828395843506,
          3.967068672180176,
          -4.386728286743164,
          -4.335968494415283,
          -1.6100878715515137,
          3.364363193511963,
          -7.122983455657959,
          -1.2916431427001953,
          -4.879520416259766,
          -3.4141359329223633,
          4.168792724609375,
          6.9397172927856445,
          -3.1609506607055664,
          -1.9715259075164795,
          -1.001215934753418,
          1.1399180889129639,
          5.279053688049316,
          9.736114501953125,
          -1.4979346990585327,
          -0.3530782163143158,
          0.05057418346405029,
          -4.26772403717041,
          -3.795565605163574,
          -3.6889150142669678,
          0.3290838599205017,
          -4.545243263244629,
          3.1423449516296387,
          5.018208980560303,
          6.218576431274414,
          2.1745493412017822,
          0.7615384459495544,
          0.7736905813217163,
          -0.933957040309906,
          7.662580490112305,
          2.264191150665283,
          4.538351535797119,
          -1.5629156827926636,
          0.9777856469154358,
          -10.106582641601562,
          -8.852407455444336,
          -6.63935661315918,
          -8.861006736755371,
          -8.989758491516113,
          -7.523897647857666,
          4.009586811065674,
          4.793294906616211,
          -7.130064010620117,
          -9.027953147888184,
          -8.57180118560791,
          -3.3346540927886963,
          -1.060072422027588,
          -3.6066880226135254,
          -0.6867947578430176,
          6.509133338928223,
          0.6346958875656128,
          -6.674685955047607,
          0.9567064046859741,
          -4.309228420257568,
          -8.628657341003418,
          1.6499216556549072,
          9.073390007019043,
          0.2269241064786911,
          -7.465390682220459,
          -1.5064657926559448,
          2.2495155334472656,
          4.239336967468262,
          -8.649303436279297,
          4.218444347381592,
          2.8724522590637207,
          3.865293502807617,
          6.063266277313232,
          1.623785376548767,
          -2.40095591545105,
          2.0885555744171143,
          0.22691956162452698,
          -7.124495506286621,
          0.8156806826591492,
          4.237679958343506,
          0.8004122376441956,
          3.2191972732543945,
          2.723067283630371,
          -0.31624889373779297,
          1.186830759048462,
          5.0119218826293945,
          10.053820610046387,
          1.7143813371658325,
          7.140608310699463,
          6.223445415496826,
          3.120508909225464,
          1.7015421390533447,
          3.7766261100769043,
          4.3455328941345215,
          5.24534273147583,
          4.22351598739624,
          3.5420897006988525,
          6.457335948944092,
          6.735923767089844,
          7.414395332336426,
          3.4313559532165527,
          1.9130226373672485,
          9.276664733886719,
          5.624707221984863,
          0.3183928430080414,
          4.3625922203063965,
          3.9619622230529785,
          4.860270977020264,
          -3.2641804218292236,
          5.041434288024902,
          5.844122409820557,
          6.2690887451171875,
          8.441557884216309,
          6.192399024963379,
          3.1389224529266357,
          6.606871128082275,
          2.870302438735962,
          1.1511374711990356,
          4.699422359466553,
          4.936148166656494,
          6.156252861022949,
          4.054433345794678,
          -8.298540115356445,
          3.568246841430664,
          -6.247982025146484,
          3.013782501220703,
          1.1250594854354858,
          -9.840056419372559,
          5.5647053718566895,
          5.299048900604248,
          3.9417691230773926,
          -4.254090785980225,
          -7.87760591506958,
          1.535192608833313,
          5.826565265655518,
          1.5791648626327515,
          0.7475085258483887,
          7.885587215423584,
          3.9380741119384766,
          0.5422621965408325,
          6.613858222961426,
          0.47486186027526855,
          5.012712478637695,
          1.2248133420944214,
          4.266929626464844,
          6.971776008605957,
          7.943188190460205,
          4.232558250427246,
          7.372373104095459,
          1.9980509281158447,
          3.4076156616210938,
          -9.457592964172363,
          3.9585657119750977,
          2.9176793098449707,
          1.937340259552002,
          6.369638442993164,
          7.179845809936523,
          0.6553699374198914,
          2.7144765853881836,
          6.23399543762207,
          4.334995269775391,
          6.856229305267334,
          6.162900447845459,
          3.9950203895568848,
          5.404175758361816,
          -3.1271133422851562,
          6.9333953857421875,
          2.557645320892334,
          7.109854698181152,
          -0.14755979180335999,
          3.459254503250122,
          6.493696689605713,
          10.498397827148438,
          -6.151548862457275,
          3.319810628890991,
          4.292918682098389,
          7.012166976928711,
          1.1369032859802246,
          4.850434303283691,
          3.7800657749176025,
          1.9317545890808105,
          6.898207187652588,
          2.8932063579559326,
          5.393133640289307,
          -4.00900936126709,
          3.1539437770843506,
          4.258577823638916,
          -6.637980937957764,
          -6.933581829071045,
          0.7965318560600281,
          -7.861163139343262,
          -3.8875300884246826,
          0.4044502079486847,
          3.214462995529175,
          -3.931328296661377,
          3.170518636703491,
          -5.913788795471191,
          -4.649079322814941,
          -6.148451805114746,
          -4.094651222229004,
          2.9286742210388184,
          1.5520926713943481,
          4.551918983459473,
          0.941245973110199,
          0.05061604455113411,
          4.917852401733398,
          4.7378950119018555,
          0.9075136780738831,
          1.2889949083328247,
          1.5177719593048096,
          0.43546542525291443,
          -0.37179484963417053,
          2.319801092147827,
          1.1879820823669434,
          0.5525668263435364,
          0.46874091029167175,
          0.38627564907073975,
          -0.45064777135849,
          -3.568744421005249,
          0.9565773010253906,
          2.6370649337768555,
          -8.46264934539795,
          -2.3415393829345703,
          -1.0850046873092651,
          6.122309684753418,
          7.368656158447266,
          1.6458865404129028,
          1.8875616788864136,
          1.3883094787597656,
          0.6682506799697876,
          -0.10025589168071747,
          -6.292238235473633,
          0.8268822431564331,
          3.5333549976348877,
          7.180068492889404,
          7.261989116668701,
          0.7335241436958313,
          -0.9008669853210449,
          5.043373107910156,
          6.378309726715088,
          1.1868586540222168,
          1.3208094835281372,
          1.073317527770996,
          6.82497501373291,
          0.6416359543800354,
          3.784712791442871,
          -0.12167560309171677,
          -4.274718761444092,
          3.1757562160491943,
          1.5166337490081787,
          5.251198768615723
         ]
        },
        {
         "marker": {
          "opacity": 0.8,
          "size": 4
         },
         "mode": "markers",
         "name": "PRE",
         "showlegend": true,
         "type": "scatter3d",
         "x": [
          4.194210529327393,
          2.7115705013275146,
          5.835559368133545,
          -4.992633819580078,
          -0.034877628087997437,
          -5.659765243530273,
          5.37740421295166,
          6.435220241546631,
          6.612796783447266,
          7.074500560760498,
          -3.1280884742736816,
          6.8930864334106445,
          0.15726572275161743,
          -3.341796398162842,
          3.663069486618042,
          0.2231774479150772,
          8.583586692810059,
          7.674166679382324,
          8.968437194824219,
          5.254978656768799,
          6.844831466674805,
          -4.535407543182373,
          5.761537551879883,
          -4.183764457702637,
          2.8540234565734863,
          4.485663414001465,
          -3.261350154876709,
          -5.091994285583496,
          4.248190879821777,
          7.677306175231934,
          -2.501803159713745,
          6.962502956390381,
          -2.101444959640503,
          6.269691467285156,
          4.4693379402160645,
          6.755460262298584,
          -1.8384743928909302,
          3.3253331184387207,
          1.9087674617767334,
          0.861283540725708,
          10.071921348571777,
          8.727029800415039,
          10.99771499633789,
          7.337432861328125,
          10.06946849822998,
          2.856250524520874,
          -1.696932315826416,
          5.308321952819824,
          5.6100029945373535,
          3.513993263244629,
          8.239880561828613,
          1.5812718868255615,
          7.026284694671631,
          10.02695083618164,
          6.30190896987915,
          10.730537414550781,
          3.7357349395751953,
          -6.781206130981445,
          10.717607498168945
         ],
         "y": [
          -0.3467871844768524,
          -1.4320350885391235,
          1.5174895524978638,
          -4.593847274780273,
          -2.183454751968384,
          -3.4973232746124268,
          -3.967827320098877,
          1.124138593673706,
          -0.15419688820838928,
          -2.6169562339782715,
          1.4953745603561401,
          -0.02643320895731449,
          -8.747382164001465,
          -4.122286319732666,
          0.480638712644577,
          -1.9380167722702026,
          1.2376561164855957,
          2.5526576042175293,
          0.5260580778121948,
          -0.05515717715024948,
          -2.5699453353881836,
          -2.3395228385925293,
          -0.07962017506361008,
          -2.753978729248047,
          -1.115317702293396,
          0.30757665634155273,
          -2.302619695663452,
          -3.1695685386657715,
          0.855660080909729,
          1.4857453107833862,
          -1.3054113388061523,
          0.684651792049408,
          -3.880751609802246,
          3.106551170349121,
          -0.36108165979385376,
          -1.453067660331726,
          -7.783791542053223,
          0.2876111567020416,
          -0.32150185108184814,
          -0.525929868221283,
          1.7062973976135254,
          2.0841333866119385,
          3.061826229095459,
          0.6088948249816895,
          2.633669853210449,
          -0.5416591167449951,
          -3.3675553798675537,
          -0.09169722348451614,
          -0.13929465413093567,
          0.35910463333129883,
          1.4453809261322021,
          -1.121042013168335,
          -0.010445849038660526,
          2.939704418182373,
          0.904356837272644,
          2.9896185398101807,
          -0.5948976278305054,
          -0.37216895818710327,
          2.934356212615967
         ],
         "z": [
          -3.228881359100342,
          -2.931755304336548,
          -4.656738758087158,
          -6.393630504608154,
          -2.6844820976257324,
          -1.7645868062973022,
          -1.2628743648529053,
          -2.8925113677978516,
          -1.383010745048523,
          -0.5413525104522705,
          8.403694152832031,
          -0.4435500502586365,
          -4.669826030731201,
          -7.941313743591309,
          3.3687214851379395,
          -4.307760238647461,
          -1.858280062675476,
          0.39591678977012634,
          -2.231985330581665,
          -3.7341980934143066,
          -0.960486650466919,
          -5.928334712982178,
          -3.45729660987854,
          -1.9409921169281006,
          -4.644235610961914,
          -5.451150417327881,
          -1.0771433115005493,
          -1.9522137641906738,
          -5.524017333984375,
          -4.153600215911865,
          -2.107377290725708,
          -0.6163411140441895,
          -8.49993896484375,
          3.9787049293518066,
          -3.1798746585845947,
          -1.4239764213562012,
          -4.109410285949707,
          -5.164571285247803,
          -4.8286871910095215,
          -4.568172931671143,
          0.7427828907966614,
          0.016056125983595848,
          -0.4004867374897003,
          -1.814168095588684,
          0.5481467247009277,
          -3.87078595161438,
          -9.102524757385254,
          -3.7178404331207275,
          -3.500413179397583,
          -5.201125144958496,
          -4.065938472747803,
          -4.369997501373291,
          -2.5794999599456787,
          0.2922061085700989,
          -3.0963306427001953,
          0.661136269569397,
          -2.7547287940979004,
          -5.558726787567139,
          0.7703746557235718
         ]
        },
        {
         "marker": {
          "opacity": 0.8,
          "size": 4
         },
         "mode": "markers",
         "name": "SUB",
         "showlegend": true,
         "type": "scatter3d",
         "x": [
          5.958436012268066,
          -2.6220476627349854,
          -9.900274276733398,
          7.432026386260986,
          -4.636834144592285,
          4.999574184417725,
          8.92302131652832,
          7.643822193145752,
          -1.8932170867919922,
          2.5809004306793213,
          9.636579513549805,
          6.85064172744751,
          3.4887826442718506,
          0.29004722833633423,
          6.264122486114502,
          2.511676549911499,
          -3.6239161491394043,
          -1.600144863128662,
          9.26122760772705,
          9.588532447814941,
          9.742111206054688,
          10.60102653503418,
          -4.1007490158081055,
          -0.07553279399871826,
          8.343402862548828,
          6.179929256439209,
          -1.4544055461883545,
          6.121607780456543,
          6.306406021118164,
          -2.3713948726654053,
          -7.699106693267822,
          5.56619930267334,
          6.389599323272705,
          10.182302474975586,
          -2.876345634460449,
          -1.6933914422988892,
          -0.6304529905319214,
          6.170604228973389,
          9.525437355041504,
          -4.000630855560303,
          9.061528205871582,
          2.5887365341186523,
          -2.890191078186035,
          0.7455844879150391,
          1.6996698379516602,
          1.561282992362976,
          6.046496868133545,
          -2.512744426727295,
          5.658321857452393,
          5.121732711791992,
          -4.058434963226318,
          -2.9781813621520996,
          -2.919689893722534,
          7.56252908706665,
          6.86366081237793,
          -1.4868066310882568,
          2.2249417304992676,
          5.46673583984375,
          -3.168297529220581,
          11.009221076965332,
          -2.5812509059906006,
          9.729433059692383,
          -0.0035895654000341892,
          5.836034297943115,
          -2.889801025390625,
          8.852417945861816,
          -4.139959335327148,
          -5.379470348358154,
          -2.920175313949585,
          7.866154193878174
         ],
         "y": [
          -3.705409049987793,
          -1.6095978021621704,
          -2.972484827041626,
          1.7350000143051147,
          5.245613098144531,
          2.6875953674316406,
          1.8974542617797852,
          3.0192158222198486,
          -4.656686782836914,
          -3.448024034500122,
          4.463639736175537,
          0.319782018661499,
          -1.4865591526031494,
          -0.8199862241744995,
          2.7980971336364746,
          -2.2541964054107666,
          -2.2700250148773193,
          -7.309178829193115,
          3.187256336212158,
          0.9447076320648193,
          0.640241801738739,
          3.71535325050354,
          -2.7625675201416016,
          -2.8711650371551514,
          2.8845953941345215,
          0.38578298687934875,
          -7.236713886260986,
          2.6602160930633545,
          0.07700631767511368,
          -1.1666169166564941,
          -1.5256497859954834,
          1.715156078338623,
          2.6535332202911377,
          3.4176645278930664,
          -6.254394054412842,
          -4.44911003112793,
          -5.580085277557373,
          1.844815969467163,
          0.858288586139679,
          -3.346726417541504,
          2.778589963912964,
          -3.140580177307129,
          -4.153719425201416,
          1.793125867843628,
          -1.2970885038375854,
          -7.009164333343506,
          2.6025235652923584,
          -4.533968925476074,
          2.0128226280212402,
          -4.202962398529053,
          -2.7332193851470947,
          -2.0227432250976562,
          -6.214315891265869,
          0.7807350158691406,
          -2.207951545715332,
          0.37896451354026794,
          -1.4191852807998657,
          -3.172687292098999,
          -2.5186920166015625,
          0.9808710217475891,
          -4.402198791503906,
          3.5801355838775635,
          -7.788963317871094,
          2.612067461013794,
          -3.8976199626922607,
          2.4036107063293457,
          -2.9838292598724365,
          -0.9533785581588745,
          -4.149484634399414,
          0.5588770508766174
         ],
         "z": [
          -2.0442371368408203,
          -1.5336382389068604,
          -8.258432388305664,
          -4.4728922843933105,
          0.01465789694339037,
          1.9879224300384521,
          2.842442274093628,
          0.5498759150505066,
          -1.3359965085983276,
          -1.257745623588562,
          2.1849024295806885,
          0.1805647909641266,
          -2.0759150981903076,
          -3.7178847789764404,
          4.342982769012451,
          -3.780641555786133,
          -4.994991779327393,
          -1.85235595703125,
          1.9640506505966187,
          1.2898818254470825,
          0.9186318516731262,
          4.375790119171143,
          -3.662686824798584,
          -1.4864805936813354,
          5.120135307312012,
          1.2755630016326904,
          -2.1392743587493896,
          6.641825199127197,
          5.569417953491211,
          -2.945258140563965,
          -0.8944036364555359,
          4.085122585296631,
          6.62615966796875,
          3.761018991470337,
          -3.579042434692383,
          -1.3780819177627563,
          -3.9845283031463623,
          -1.7998775243759155,
          0.9364607334136963,
          -0.17295020818710327,
          3.7738187313079834,
          -1.5100706815719604,
          -7.052197456359863,
          -2.5849926471710205,
          -4.316529750823975,
          -3.3607280254364014,
          6.86064338684082,
          -2.5728061199188232,
          2.1335346698760986,
          -4.223867416381836,
          -3.8180904388427734,
          -1.236124873161316,
          -3.4917967319488525,
          3.6857383251190186,
          -1.0731581449508667,
          -5.552797794342041,
          -4.186811447143555,
          -1.3414976596832275,
          -0.6328293085098267,
          1.573254108428955,
          -2.7643232345581055,
          1.5955524444580078,
          -6.656223773956299,
          4.580501079559326,
          -7.610867500305176,
          0.6242921352386475,
          -3.690236806869507,
          -5.959648609161377,
          -7.006537437438965,
          -1.9619141817092896
         ]
        },
        {
         "marker": {
          "opacity": 0.8,
          "size": 4
         },
         "mode": "markers",
         "name": "VAL",
         "showlegend": true,
         "type": "scatter3d",
         "x": [
          -6.413303852081299,
          -3.5600290298461914,
          -7.86342191696167,
          -5.74316930770874,
          -6.592665195465088,
          -4.635241985321045,
          -2.044851303100586,
          -1.7191869020462036,
          -5.277612209320068,
          -6.960842609405518,
          -7.646256446838379,
          -7.5157599449157715,
          -5.941165924072266,
          -7.639776229858398,
          -8.060653686523438,
          -6.3867950439453125,
          -6.8067474365234375,
          -7.535359859466553,
          -8.471683502197266,
          -6.7313432693481445,
          -2.2778425216674805,
          -5.970193386077881,
          -5.836040496826172,
          -5.6153998374938965,
          -8.112473487854004,
          -6.473084449768066,
          -7.344359874725342,
          -7.591369152069092,
          -6.459980010986328,
          -8.588122367858887,
          -7.718404769897461,
          1.0972355604171753,
          -6.735990047454834,
          -8.134339332580566,
          -0.6399176120758057,
          -6.878783702850342
         ],
         "y": [
          7.282111167907715,
          -1.133579969406128,
          4.585607051849365,
          5.5697760581970215,
          6.434725284576416,
          3.0588371753692627,
          3.1370041370391846,
          -2.4810845851898193,
          6.593080520629883,
          6.633962631225586,
          6.118053913116455,
          6.420071601867676,
          1.204107642173767,
          6.240131855010986,
          4.799606800079346,
          1.6708999872207642,
          3.3290998935699463,
          1.9999828338623047,
          7.434828758239746,
          4.770888328552246,
          4.745202541351318,
          5.9538254737854,
          6.078316688537598,
          1.2046209573745728,
          7.558012962341309,
          7.121150016784668,
          6.740934371948242,
          6.211475372314453,
          5.5143656730651855,
          7.3225417137146,
          1.9319349527359009,
          4.519619464874268,
          1.2681622505187988,
          7.5008134841918945,
          2.9722869396209717,
          6.314393520355225
         ],
         "z": [
          6.225855350494385,
          -10.015944480895996,
          2.888740062713623,
          9.374507904052734,
          7.25209903717041,
          1.1311076879501343,
          7.4194231033325195,
          -9.14339542388916,
          3.0126521587371826,
          10.522046089172363,
          9.402436256408691,
          9.5576810836792,
          10.812007904052734,
          8.880653381347656,
          2.7142069339752197,
          10.415063858032227,
          10.005376815795898,
          8.366971969604492,
          5.86861515045166,
          9.073844909667969,
          7.072452068328857,
          8.289559364318848,
          8.206500053405762,
          10.83082389831543,
          6.7000250816345215,
          6.6193671226501465,
          9.764411926269531,
          10.21850299835205,
          8.225412368774414,
          5.412947177886963,
          8.684651374816895,
          3.260054349899292,
          10.53336238861084,
          6.7345356941223145,
          8.274625778198242,
          7.8626484870910645
         ]
        }
       ],
       "layout": {
        "height": 700,
        "legend": {
         "font": {
          "size": 18
         }
        },
        "scene": {
         "camera": {
          "center": {
           "x": 0,
           "y": 0,
           "z": 0
          },
          "eye": {
           "x": 1.5,
           "y": -1.5,
           "z": 1
          },
          "up": {
           "x": 0,
           "y": 0,
           "z": 1
          }
         },
         "xaxis": {
          "title": {
           "text": "1st Component"
          }
         },
         "yaxis": {
          "title": {
           "text": "2nd Component"
          }
         },
         "zaxis": {
          "title": {
           "text": "3rd Component"
          }
         }
        },
        "template": {
         "data": {
          "bar": [
           {
            "error_x": {
             "color": "#2a3f5f"
            },
            "error_y": {
             "color": "#2a3f5f"
            },
            "marker": {
             "line": {
              "color": "#E5ECF6",
              "width": 0.5
             },
             "pattern": {
              "fillmode": "overlay",
              "size": 10,
              "solidity": 0.2
             }
            },
            "type": "bar"
           }
          ],
          "barpolar": [
           {
            "marker": {
             "line": {
              "color": "#E5ECF6",
              "width": 0.5
             },
             "pattern": {
              "fillmode": "overlay",
              "size": 10,
              "solidity": 0.2
             }
            },
            "type": "barpolar"
           }
          ],
          "carpet": [
           {
            "aaxis": {
             "endlinecolor": "#2a3f5f",
             "gridcolor": "white",
             "linecolor": "white",
             "minorgridcolor": "white",
             "startlinecolor": "#2a3f5f"
            },
            "baxis": {
             "endlinecolor": "#2a3f5f",
             "gridcolor": "white",
             "linecolor": "white",
             "minorgridcolor": "white",
             "startlinecolor": "#2a3f5f"
            },
            "type": "carpet"
           }
          ],
          "choropleth": [
           {
            "colorbar": {
             "outlinewidth": 0,
             "ticks": ""
            },
            "type": "choropleth"
           }
          ],
          "contour": [
           {
            "colorbar": {
             "outlinewidth": 0,
             "ticks": ""
            },
            "colorscale": [
             [
              0,
              "#0d0887"
             ],
             [
              0.1111111111111111,
              "#46039f"
             ],
             [
              0.2222222222222222,
              "#7201a8"
             ],
             [
              0.3333333333333333,
              "#9c179e"
             ],
             [
              0.4444444444444444,
              "#bd3786"
             ],
             [
              0.5555555555555556,
              "#d8576b"
             ],
             [
              0.6666666666666666,
              "#ed7953"
             ],
             [
              0.7777777777777778,
              "#fb9f3a"
             ],
             [
              0.8888888888888888,
              "#fdca26"
             ],
             [
              1,
              "#f0f921"
             ]
            ],
            "type": "contour"
           }
          ],
          "contourcarpet": [
           {
            "colorbar": {
             "outlinewidth": 0,
             "ticks": ""
            },
            "type": "contourcarpet"
           }
          ],
          "heatmap": [
           {
            "colorbar": {
             "outlinewidth": 0,
             "ticks": ""
            },
            "colorscale": [
             [
              0,
              "#0d0887"
             ],
             [
              0.1111111111111111,
              "#46039f"
             ],
             [
              0.2222222222222222,
              "#7201a8"
             ],
             [
              0.3333333333333333,
              "#9c179e"
             ],
             [
              0.4444444444444444,
              "#bd3786"
             ],
             [
              0.5555555555555556,
              "#d8576b"
             ],
             [
              0.6666666666666666,
              "#ed7953"
             ],
             [
              0.7777777777777778,
              "#fb9f3a"
             ],
             [
              0.8888888888888888,
              "#fdca26"
             ],
             [
              1,
              "#f0f921"
             ]
            ],
            "type": "heatmap"
           }
          ],
          "heatmapgl": [
           {
            "colorbar": {
             "outlinewidth": 0,
             "ticks": ""
            },
            "colorscale": [
             [
              0,
              "#0d0887"
             ],
             [
              0.1111111111111111,
              "#46039f"
             ],
             [
              0.2222222222222222,
              "#7201a8"
             ],
             [
              0.3333333333333333,
              "#9c179e"
             ],
             [
              0.4444444444444444,
              "#bd3786"
             ],
             [
              0.5555555555555556,
              "#d8576b"
             ],
             [
              0.6666666666666666,
              "#ed7953"
             ],
             [
              0.7777777777777778,
              "#fb9f3a"
             ],
             [
              0.8888888888888888,
              "#fdca26"
             ],
             [
              1,
              "#f0f921"
             ]
            ],
            "type": "heatmapgl"
           }
          ],
          "histogram": [
           {
            "marker": {
             "pattern": {
              "fillmode": "overlay",
              "size": 10,
              "solidity": 0.2
             }
            },
            "type": "histogram"
           }
          ],
          "histogram2d": [
           {
            "colorbar": {
             "outlinewidth": 0,
             "ticks": ""
            },
            "colorscale": [
             [
              0,
              "#0d0887"
             ],
             [
              0.1111111111111111,
              "#46039f"
             ],
             [
              0.2222222222222222,
              "#7201a8"
             ],
             [
              0.3333333333333333,
              "#9c179e"
             ],
             [
              0.4444444444444444,
              "#bd3786"
             ],
             [
              0.5555555555555556,
              "#d8576b"
             ],
             [
              0.6666666666666666,
              "#ed7953"
             ],
             [
              0.7777777777777778,
              "#fb9f3a"
             ],
             [
              0.8888888888888888,
              "#fdca26"
             ],
             [
              1,
              "#f0f921"
             ]
            ],
            "type": "histogram2d"
           }
          ],
          "histogram2dcontour": [
           {
            "colorbar": {
             "outlinewidth": 0,
             "ticks": ""
            },
            "colorscale": [
             [
              0,
              "#0d0887"
             ],
             [
              0.1111111111111111,
              "#46039f"
             ],
             [
              0.2222222222222222,
              "#7201a8"
             ],
             [
              0.3333333333333333,
              "#9c179e"
             ],
             [
              0.4444444444444444,
              "#bd3786"
             ],
             [
              0.5555555555555556,
              "#d8576b"
             ],
             [
              0.6666666666666666,
              "#ed7953"
             ],
             [
              0.7777777777777778,
              "#fb9f3a"
             ],
             [
              0.8888888888888888,
              "#fdca26"
             ],
             [
              1,
              "#f0f921"
             ]
            ],
            "type": "histogram2dcontour"
           }
          ],
          "mesh3d": [
           {
            "colorbar": {
             "outlinewidth": 0,
             "ticks": ""
            },
            "type": "mesh3d"
           }
          ],
          "parcoords": [
           {
            "line": {
             "colorbar": {
              "outlinewidth": 0,
              "ticks": ""
             }
            },
            "type": "parcoords"
           }
          ],
          "pie": [
           {
            "automargin": true,
            "type": "pie"
           }
          ],
          "scatter": [
           {
            "fillpattern": {
             "fillmode": "overlay",
             "size": 10,
             "solidity": 0.2
            },
            "type": "scatter"
           }
          ],
          "scatter3d": [
           {
            "line": {
             "colorbar": {
              "outlinewidth": 0,
              "ticks": ""
             }
            },
            "marker": {
             "colorbar": {
              "outlinewidth": 0,
              "ticks": ""
             }
            },
            "type": "scatter3d"
           }
          ],
          "scattercarpet": [
           {
            "marker": {
             "colorbar": {
              "outlinewidth": 0,
              "ticks": ""
             }
            },
            "type": "scattercarpet"
           }
          ],
          "scattergeo": [
           {
            "marker": {
             "colorbar": {
              "outlinewidth": 0,
              "ticks": ""
             }
            },
            "type": "scattergeo"
           }
          ],
          "scattergl": [
           {
            "marker": {
             "colorbar": {
              "outlinewidth": 0,
              "ticks": ""
             }
            },
            "type": "scattergl"
           }
          ],
          "scattermapbox": [
           {
            "marker": {
             "colorbar": {
              "outlinewidth": 0,
              "ticks": ""
             }
            },
            "type": "scattermapbox"
           }
          ],
          "scatterpolar": [
           {
            "marker": {
             "colorbar": {
              "outlinewidth": 0,
              "ticks": ""
             }
            },
            "type": "scatterpolar"
           }
          ],
          "scatterpolargl": [
           {
            "marker": {
             "colorbar": {
              "outlinewidth": 0,
              "ticks": ""
             }
            },
            "type": "scatterpolargl"
           }
          ],
          "scatterternary": [
           {
            "marker": {
             "colorbar": {
              "outlinewidth": 0,
              "ticks": ""
             }
            },
            "type": "scatterternary"
           }
          ],
          "surface": [
           {
            "colorbar": {
             "outlinewidth": 0,
             "ticks": ""
            },
            "colorscale": [
             [
              0,
              "#0d0887"
             ],
             [
              0.1111111111111111,
              "#46039f"
             ],
             [
              0.2222222222222222,
              "#7201a8"
             ],
             [
              0.3333333333333333,
              "#9c179e"
             ],
             [
              0.4444444444444444,
              "#bd3786"
             ],
             [
              0.5555555555555556,
              "#d8576b"
             ],
             [
              0.6666666666666666,
              "#ed7953"
             ],
             [
              0.7777777777777778,
              "#fb9f3a"
             ],
             [
              0.8888888888888888,
              "#fdca26"
             ],
             [
              1,
              "#f0f921"
             ]
            ],
            "type": "surface"
           }
          ],
          "table": [
           {
            "cells": {
             "fill": {
              "color": "#EBF0F8"
             },
             "line": {
              "color": "white"
             }
            },
            "header": {
             "fill": {
              "color": "#C8D4E3"
             },
             "line": {
              "color": "white"
             }
            },
            "type": "table"
           }
          ]
         },
         "layout": {
          "annotationdefaults": {
           "arrowcolor": "#2a3f5f",
           "arrowhead": 0,
           "arrowwidth": 1
          },
          "autotypenumbers": "strict",
          "coloraxis": {
           "colorbar": {
            "outlinewidth": 0,
            "ticks": ""
           }
          },
          "colorscale": {
           "diverging": [
            [
             0,
             "#8e0152"
            ],
            [
             0.1,
             "#c51b7d"
            ],
            [
             0.2,
             "#de77ae"
            ],
            [
             0.3,
             "#f1b6da"
            ],
            [
             0.4,
             "#fde0ef"
            ],
            [
             0.5,
             "#f7f7f7"
            ],
            [
             0.6,
             "#e6f5d0"
            ],
            [
             0.7,
             "#b8e186"
            ],
            [
             0.8,
             "#7fbc41"
            ],
            [
             0.9,
             "#4d9221"
            ],
            [
             1,
             "#276419"
            ]
           ],
           "sequential": [
            [
             0,
             "#0d0887"
            ],
            [
             0.1111111111111111,
             "#46039f"
            ],
            [
             0.2222222222222222,
             "#7201a8"
            ],
            [
             0.3333333333333333,
             "#9c179e"
            ],
            [
             0.4444444444444444,
             "#bd3786"
            ],
            [
             0.5555555555555556,
             "#d8576b"
            ],
            [
             0.6666666666666666,
             "#ed7953"
            ],
            [
             0.7777777777777778,
             "#fb9f3a"
            ],
            [
             0.8888888888888888,
             "#fdca26"
            ],
            [
             1,
             "#f0f921"
            ]
           ],
           "sequentialminus": [
            [
             0,
             "#0d0887"
            ],
            [
             0.1111111111111111,
             "#46039f"
            ],
            [
             0.2222222222222222,
             "#7201a8"
            ],
            [
             0.3333333333333333,
             "#9c179e"
            ],
            [
             0.4444444444444444,
             "#bd3786"
            ],
            [
             0.5555555555555556,
             "#d8576b"
            ],
            [
             0.6666666666666666,
             "#ed7953"
            ],
            [
             0.7777777777777778,
             "#fb9f3a"
            ],
            [
             0.8888888888888888,
             "#fdca26"
            ],
            [
             1,
             "#f0f921"
            ]
           ]
          },
          "colorway": [
           "#636efa",
           "#EF553B",
           "#00cc96",
           "#ab63fa",
           "#FFA15A",
           "#19d3f3",
           "#FF6692",
           "#B6E880",
           "#FF97FF",
           "#FECB52"
          ],
          "font": {
           "color": "#2a3f5f"
          },
          "geo": {
           "bgcolor": "white",
           "lakecolor": "white",
           "landcolor": "#E5ECF6",
           "showlakes": true,
           "showland": true,
           "subunitcolor": "white"
          },
          "hoverlabel": {
           "align": "left"
          },
          "hovermode": "closest",
          "mapbox": {
           "style": "light"
          },
          "paper_bgcolor": "white",
          "plot_bgcolor": "#E5ECF6",
          "polar": {
           "angularaxis": {
            "gridcolor": "white",
            "linecolor": "white",
            "ticks": ""
           },
           "bgcolor": "#E5ECF6",
           "radialaxis": {
            "gridcolor": "white",
            "linecolor": "white",
            "ticks": ""
           }
          },
          "scene": {
           "xaxis": {
            "backgroundcolor": "#E5ECF6",
            "gridcolor": "white",
            "gridwidth": 2,
            "linecolor": "white",
            "showbackground": true,
            "ticks": "",
            "zerolinecolor": "white"
           },
           "yaxis": {
            "backgroundcolor": "#E5ECF6",
            "gridcolor": "white",
            "gridwidth": 2,
            "linecolor": "white",
            "showbackground": true,
            "ticks": "",
            "zerolinecolor": "white"
           },
           "zaxis": {
            "backgroundcolor": "#E5ECF6",
            "gridcolor": "white",
            "gridwidth": 2,
            "linecolor": "white",
            "showbackground": true,
            "ticks": "",
            "zerolinecolor": "white"
           }
          },
          "shapedefaults": {
           "line": {
            "color": "#2a3f5f"
           }
          },
          "ternary": {
           "aaxis": {
            "gridcolor": "white",
            "linecolor": "white",
            "ticks": ""
           },
           "baxis": {
            "gridcolor": "white",
            "linecolor": "white",
            "ticks": ""
           },
           "bgcolor": "#E5ECF6",
           "caxis": {
            "gridcolor": "white",
            "linecolor": "white",
            "ticks": ""
           }
          },
          "title": {
           "x": 0.05
          },
          "xaxis": {
           "automargin": true,
           "gridcolor": "white",
           "linecolor": "white",
           "ticks": "",
           "title": {
            "standoff": 15
           },
           "zerolinecolor": "white",
           "zerolinewidth": 2
          },
          "yaxis": {
           "automargin": true,
           "gridcolor": "white",
           "linecolor": "white",
           "ticks": "",
           "title": {
            "standoff": 15
           },
           "zerolinecolor": "white",
           "zerolinewidth": 2
          }
         }
        },
        "title": {
         "text": "<b>path distance</b>",
         "x": 0.35,
         "xanchor": "center",
         "y": 0.95,
         "yanchor": "top"
        },
        "width": 1000
       }
      },
      "text/html": [
       "<div>                            <div id=\"3350c931-7267-4ece-8830-cc2e7843a0c3\" class=\"plotly-graph-div\" style=\"height:700px; width:1000px;\"></div>            <script type=\"text/javascript\">                require([\"plotly\"], function(Plotly) {                    window.PLOTLYENV=window.PLOTLYENV || {};                                    if (document.getElementById(\"3350c931-7267-4ece-8830-cc2e7843a0c3\")) {                    Plotly.newPlot(                        \"3350c931-7267-4ece-8830-cc2e7843a0c3\",                        [{\"marker\":{\"opacity\":0.8,\"size\":4},\"mode\":\"markers\",\"name\":\"Cerebellum\",\"showlegend\":true,\"x\":[-1.093875765800476,0.7446757555007935,0.6650790572166443,0.23816406726837158,-5.069314956665039,-0.48968154191970825,3.956026315689087,0.39053475856781006,6.037374019622803,0.7457481622695923,1.550581932067871,0.26327216625213623,0.5578773617744446,1.0964810848236084,-0.6111138463020325,1.1186165809631348,1.2581498622894287,0.564917266368866,0.10809531807899475,-0.34790778160095215,0.3124100863933563,-0.40978074073791504,0.3097934424877167,1.8780827522277832,1.3435395956039429,0.8192493915557861,1.4948810338974,1.1940042972564697,-0.0037433637771755457,0.7230529189109802,3.5160372257232666,-2.82006573677063,0.6374952793121338,-2.8266730308532715,-0.4534759223461151,-0.2930363714694977,-4.9626312255859375,1.2466051578521729,-3.300894021987915,0.850176215171814,1.103827953338623,0.6121920347213745,-0.03713240101933479,-1.790672779083252,-0.40779203176498413],\"y\":[-3.283802032470703,-6.990723609924316,-5.955205917358398,-5.140975475311279,-4.259713172912598,-7.042801380157471,-3.385528326034546,-5.467867374420166,-2.9979398250579834,-6.018942356109619,-4.783529281616211,-5.578428745269775,-7.014156818389893,-6.725528717041016,-8.005940437316895,-6.646522521972656,-6.018304347991943,-5.695659160614014,-7.572315216064453,-4.339146614074707,-7.287133693695068,-7.832698822021484,-5.189357757568359,-4.65928840637207,-6.471471786499023,-6.331482887268066,-5.41202974319458,-6.516714096069336,-6.749838829040527,-6.474546909332275,-3.4197187423706055,-1.177203893661499,-7.150084972381592,-1.177320957183838,-4.218219757080078,-4.4330010414123535,-4.22003698348999,-6.240957736968994,-1.0660516023635864,-6.235525608062744,-6.58699369430542,-5.890807151794434,-5.996204853057861,4.989223957061768,-7.881401538848877],\"z\":[-9.160867691040039,-3.610271453857422,-9.420356750488281,-10.239192008972168,-6.393083572387695,-2.62101411819458,-1.8195661306381226,-9.655230522155762,-0.14981569349765778,-7.538497447967529,-6.506534576416016,-4.530388832092285,-3.6892294883728027,-5.903730869293213,-4.5389485359191895,-4.95629358291626,-6.475679874420166,-9.916107177734375,-7.004601001739502,-9.062182426452637,-7.165295600891113,-4.5215044021606445,-10.560770988464355,-6.551758766174316,-4.751200199127197,-7.2039361000061035,-3.3786561489105225,-5.209538459777832,-4.66544246673584,-7.302353858947754,-1.6422683000564575,-8.673609733581543,-3.4605660438537598,-8.866632461547852,-9.135505676269531,-8.960647583007812,-6.393329620361328,-3.9075915813446045,-9.61561107635498,-9.504437446594238,-9.341208457946777,-7.841357231140137,-4.1180901527404785,2.4197988510131836,-4.916957855224609],\"type\":\"scatter3d\"},{\"marker\":{\"opacity\":0.8,\"size\":4},\"mode\":\"markers\",\"name\":\"DG\",\"showlegend\":true,\"x\":[7.942327976226807,10.504026412963867,7.165890693664551,8.346920013427734,8.328851699829102,8.843816757202148,7.086042404174805,7.351190567016602,6.926627159118652,6.730759620666504,9.532992362976074,7.159449100494385,9.516266822814941,10.652914047241211,11.199745178222656,8.878478050231934,5.826053619384766,9.495074272155762,-4.450556755065918,7.5125908851623535,7.685430526733398,7.174282073974609,9.50182819366455,10.052459716796875,9.306041717529297,7.114021301269531,9.554312705993652,8.121400833129883,6.516219615936279,11.126680374145508,7.440099716186523,10.606459617614746,6.4015326499938965,10.24670124053955,10.98856258392334,10.680541038513184,8.374933242797852,9.442523002624512,7.797865867614746,9.692157745361328],\"y\":[-5.350492000579834,-7.804102897644043,-5.334918975830078,-4.970385551452637,-5.5502214431762695,-5.6688337326049805,-4.1659836769104,-4.687530994415283,-5.227806091308594,-3.6382648944854736,-7.692391872406006,-4.866392135620117,-7.676857948303223,-7.110845565795898,-7.890624523162842,-7.3083930015563965,-5.888111591339111,-7.66405725479126,-2.8656585216522217,-3.8306448459625244,-5.46666955947876,-5.43717098236084,-7.808920860290527,-8.41663646697998,-4.334554672241211,-3.876823663711548,-8.226028442382812,-5.042255401611328,-3.335536479949951,-8.462697982788086,-4.463634490966797,-7.241990566253662,-4.826221466064453,-7.7889580726623535,-8.01926326751709,-7.110152244567871,-6.055822849273682,-7.414417743682861,-4.483375072479248,-8.390604972839355],\"z\":[-2.3051881790161133,-2.668457269668579,-2.3388946056365967,-0.7269999980926514,-2.184030294418335,-1.4336531162261963,-1.1016963720321655,-2.5193560123443604,-3.012932777404785,-0.8626229166984558,-1.904820442199707,-1.9751428365707397,-2.9132943153381348,-1.5309500694274902,-3.008762836456299,-3.6777336597442627,-2.2405128479003906,-2.980260133743286,-1.2591078281402588,-0.4244709312915802,-3.0700225830078125,-1.9514127969741821,-2.085800886154175,-2.470179557800293,-2.2319798469543457,-1.8871275186538696,-1.500352144241333,-1.610978126525879,-0.18275746703147888,-0.18326088786125183,-1.1625758409500122,-1.988290786743164,-1.9718513488769531,-2.158238649368286,-0.9510970711708069,-1.627954363822937,-2.2083256244659424,-1.558966875076294,-2.10054874420166,-0.8934516310691833],\"type\":\"scatter3d\"},{\"marker\":{\"opacity\":0.8,\"size\":4},\"mode\":\"markers\",\"name\":\"MO\",\"showlegend\":true,\"x\":[6.872520446777344,-3.4035143852233887,-1.3140970468521118,-5.192994117736816,-2.168929100036621,-5.875274658203125,-4.635366916656494,-5.616009712219238,1.1494238376617432,-3.9658286571502686,-5.5050458908081055,-2.5527493953704834,-2.3772215843200684,-4.4201860427856445,-3.4079010486602783,-0.44466081261634827,1.0217236280441284,-5.082018852233887,6.668885231018066,-1.1760305166244507,-1.57939612865448,-2.4849424362182617,-4.269370079040527,1.9331821203231812,-0.5116313099861145,2.212848663330078,-4.568112850189209,6.5367302894592285,-5.259039402008057,2.830500602722168,1.4310438632965088,5.209395408630371,-3.8592100143432617,-2.7020413875579834,-3.165506601333618,5.261693954467773,-3.692446708679199,-0.46587416529655457,-7.485414028167725,-6.575243949890137,-4.375245094299316,-4.947669982910156,-5.204449653625488,-0.5545312762260437,-4.077784538269043,1.2918834686279297,-1.1511987447738647,2.329240560531616,6.16817045211792,-8.452077865600586,-8.278932571411133,-7.744929313659668,-10.349045753479004,-8.435844421386719,-9.514150619506836,-3.6440227031707764,-1.9719079732894897,-8.472356796264648,-9.150489807128906,-8.069801330566406,-2.660339117050171,7.743635654449463,-3.2473878860473633,-7.703686714172363,-3.723506212234497,1.1890933513641357,-6.392557621002197,-4.5370564460754395,-2.5204226970672607,-5.352269172668457,-0.8162011504173279,-6.8975830078125,1.0035003423690796,-6.005311012268066,-0.195978045463562,5.906755447387695,-0.615206241607666,-5.3292107582092285,6.834685325622559,11.080806732177734,-6.36883544921875,-6.5604352951049805,4.502415180206299,0.5299907922744751,-1.2776631116867065,3.001887559890747,-8.67332935333252,-5.081652641296387,10.306230545043945,-2.6465814113616943,8.486431121826172,-0.23359231650829315,2.033716917037964,2.596865653991699,-3.273951768875122,-6.773125171661377,-2.988661766052246,-2.791447401046753,-5.242936611175537,0.36340126395225525,1.2621208429336548,-7.439728736877441,-2.6823623180389404,-2.7586452960968018,-4.37045431137085,-2.892071485519409,9.733198165893555,-8.323062896728516,-2.3557796478271484,-3.046572685241699,3.060887336730957,-5.427224636077881,-8.2752685546875,1.1346129179000854,-7.451338291168213,8.447443962097168,-1.412186861038208,-2.7618207931518555,-1.1187596321105957,8.83989429473877,9.246710777282715,-5.631227970123291,-7.3515143394470215,-1.0082390308380127,-5.197135925292969,-2.0707812309265137,3.948537826538086,-1.3794010877609253,-5.546376705169678,9.879843711853027,5.538943290710449,-9.860440254211426,-6.165701389312744,-5.986876487731934,-6.630317211151123,-0.9300287365913391,-9.07004451751709,-4.620925426483154,-1.7671782970428467,-0.6600268483161926,-0.32097551226615906,-9.779194831848145,-4.3929948806762695,5.489055633544922,10.704489707946777,6.2600250244140625,-4.993440628051758,-2.880269765853882,1.9951286315917969,-6.316837787628174,-5.810343265533447,-8.18006706237793,0.19498440623283386,6.7227325439453125,-6.9175848960876465,-7.270933151245117,-7.908114433288574,-6.014995098114014,4.845610618591309,-5.99162483215332,-8.496749877929688,-7.325170040130615,-4.069806098937988,2.991541624069214,-5.596215724945068,-5.511988639831543,-0.7722588181495667,-1.0373908281326294,9.256863594055176,-3.8670639991760254,-6.954530239105225,10.22391414642334,-4.50695276260376,6.373942852020264,-0.8740713596343994,-8.289871215820312,-4.15101432800293,-2.4389638900756836,-7.502575874328613,-0.8093082308769226,-4.00827169418335,-6.56076717376709,1.0792361497879028,-6.448914527893066,-4.93688440322876,-5.353741645812988,-6.774296283721924,-2.4410805702209473,-4.592984676361084,4.1573920249938965,-4.859807968139648,-5.728851795196533,-7.2657694816589355,-0.7806150913238525,-5.10951566696167,-0.8687341213226318,-7.618398666381836,-8.531676292419434,-5.430791854858398,-5.486293792724609,-3.342844247817993,-4.170915603637695,4.176023006439209,-3.2038846015930176,3.263761520385742,-6.623797416687012,-1.0783621072769165,-4.87645959854126,-1.652884602546692,3.2324602603912354,-4.427411079406738,0.5723807215690613,-6.870899200439453,5.3457136154174805,-2.9102249145507812,-4.787342548370361,5.209231853485107,2.0514848232269287,5.087323188781738,2.1821062564849854,5.181140422821045,-5.389703273773193,1.8598339557647705,-3.9628028869628906,1.4795981645584106,-4.15463399887085,2.336237668991089,-4.554271221160889,-0.27594462037086487,-0.8738327622413635,-3.001971483230591,7.461748123168945,6.698739528656006,-5.198167324066162,-1.808327078819275,-5.247620105743408,9.265110969543457,-0.17167557775974274,-7.0331830978393555,2.0338499546051025,-5.277902603149414,0.5180630087852478,-3.0588269233703613,-2.928022861480713,-2.0905683040618896,9.531522750854492,2.446209192276001,-2.2218925952911377,-3.739457368850708,1.1475173234939575,-2.3107118606567383,-1.4226442575454712,-0.962225079536438,1.691394329071045,-5.602634429931641,2.054694652557373,-0.5675272941589355,-2.997206449508667,-1.750691533088684,-3.205193281173706],\"y\":[-3.4449448585510254,2.0159802436828613,-0.022441228851675987,-0.7492949962615967,5.720204830169678,0.5312249660491943,1.1970030069351196,-2.6855380535125732,0.6108261942863464,1.3040121793746948,-0.9600521326065063,3.9705448150634766,3.1288464069366455,-0.47590920329093933,-0.6679052114486694,0.979609489440918,4.569110870361328,-0.1441887766122818,0.8800124526023865,-0.0608622282743454,0.17262527346611023,-0.16537895798683167,4.420754432678223,-0.8942169547080994,0.7585479021072388,0.859688401222229,-0.6487736105918884,0.2268190085887909,4.381856918334961,-0.016711028292775154,2.4593515396118164,-3.0901036262512207,-0.2688595950603485,-0.5939467549324036,-5.451606273651123,-2.356257915496826,-0.21153296530246735,0.4541134536266327,2.9611213207244873,2.9557790756225586,-0.5778040885925293,2.361522912979126,2.079538583755493,0.8153230547904968,4.3274617195129395,2.5219225883483887,3.49066424369812,0.28348520398139954,0.7336822748184204,-1.144415020942688,-0.8504047989845276,-2.6918463706970215,-3.0449867248535156,-1.0274991989135742,-3.1169512271881104,-0.6153542995452881,2.7964701652526855,-2.3031516075134277,-1.8034265041351318,-0.6184768676757812,1.0852762460708618,-3.671393871307373,-4.001647472381592,-1.2912026643753052,2.671926498413086,0.01948692463338375,-2.5643181800842285,-1.6697850227355957,-7.642768859863281,-2.615542411804199,3.3506298065185547,7.116888523101807,1.0958718061447144,-0.4395871162414551,-2.910830020904541,1.6469022035598755,3.4292287826538086,-2.6293959617614746,0.6214581727981567,2.228640079498291,5.744742393493652,4.496860980987549,0.207485631108284,1.719334363937378,5.480149745941162,-0.15850140154361725,-2.5887563228607178,2.2478525638580322,3.497161626815796,4.366451263427734,3.5654399394989014,0.06730207800865173,-1.1075115203857422,1.185262680053711,-0.20852325856685638,3.586229085922241,3.194474697113037,1.0666372776031494,2.880403995513916,0.4319923520088196,2.902303695678711,4.511256694793701,0.5316151976585388,0.2265579253435135,1.8894602060317993,1.5220648050308228,3.318002223968506,3.5300819873809814,2.586205005645752,1.7389366626739502,0.787417471408844,2.4500858783721924,2.96366810798645,-1.0578663349151611,5.234051704406738,2.9456350803375244,0.45331424474716187,1.1375685930252075,-0.03782719001173973,2.93733811378479,3.0524280071258545,2.457183361053467,4.761960983276367,3.905829906463623,2.095308303833008,5.2471842765808105,1.157730221748352,0.6413925886154175,5.940047740936279,2.284799337387085,1.1864473819732666,-2.8985376358032227,3.064136028289795,-0.8733094930648804,0.9155642986297607,0.6817901134490967,-1.559443712234497,0.11887015402317047,2.6132044792175293,3.4205708503723145,-0.4528624415397644,-3.114506483078003,4.468225479125977,3.0236523151397705,2.67584228515625,-3.399604558944702,7.002345561981201,1.220302700996399,1.8657983541488647,0.968596339225769,-0.9012497067451477,3.8411781787872314,3.6634442806243896,0.6223906874656677,1.628490924835205,1.993632197380066,6.1097283363342285,2.3020875453948975,2.839139699935913,2.4413862228393555,-1.1003310680389404,5.515000343322754,-0.7751303911209106,0.8526330590248108,4.029646396636963,5.483905792236328,0.6338734030723572,0.7939381003379822,2.6143851280212402,0.1539973020553589,2.5657382011413574,2.2411136627197266,5.815642356872559,0.14198651909828186,-0.03696423023939133,3.7361583709716797,-0.7409871816635132,5.17707633972168,-0.7517865300178528,0.6132628321647644,4.452735424041748,1.4609088897705078,-4.625756740570068,1.0269010066986084,2.103271722793579,1.502428412437439,0.835267186164856,3.607529401779175,-0.7518053650856018,0.2899310290813446,0.8217975497245789,5.295722007751465,2.8858015537261963,-0.30265602469444275,5.667088985443115,3.4978220462799072,-2.6722278594970703,-2.7652196884155273,-0.8442766666412354,-1.1184616088867188,-4.830596446990967,5.0360822677612305,-0.23494012653827667,-3.5785841941833496,0.035038962960243225,-0.6418586373329163,-1.9710174798965454,-2.0995984077453613,-0.4571595788002014,0.24316230416297913,-0.7013228535652161,3.836571216583252,0.29307809472084045,-2.9866445064544678,3.629537343978882,5.8232035636901855,-1.348601222038269,3.262781858444214,-0.509056568145752,0.8227701783180237,1.7176705598831177,4.570744514465332,3.4470977783203125,4.962278366088867,2.517319679260254,-2.456890344619751,-1.3487640619277954,0.048694100230932236,2.86122465133667,2.931945562362671,-1.1100050210952759,0.9102634787559509,0.7939017415046692,4.1263227462768555,1.4738119840621948,4.699230670928955,0.9953926205635071,3.8917031288146973,-0.15142053365707397,1.1068390607833862,-1.692103385925293,1.044051170349121,-0.6272965669631958,0.9583171606063843,1.4229153394699097,2.6226165294647217,-0.5110507011413574,4.374130725860596,3.1879873275756836,3.3306784629821777,3.805708408355713,4.071113109588623,4.936025619506836,1.8341220617294312,1.4086189270019531,0.8156840801239014,-1.9663108587265015,1.4503525495529175,2.9363763332366943,3.4112038612365723],\"z\":[-0.6977161765098572,7.623159885406494,-3.1711182594299316,-6.228228569030762,2.851788282394409,0.7425222396850586,1.5788713693618774,-2.5899477005004883,2.4973812103271484,-2.9737749099731445,-7.587395191192627,6.939828395843506,3.967068672180176,-4.386728286743164,-4.335968494415283,-1.6100878715515137,3.364363193511963,-7.122983455657959,-1.2916431427001953,-4.879520416259766,-3.4141359329223633,4.168792724609375,6.9397172927856445,-3.1609506607055664,-1.9715259075164795,-1.001215934753418,1.1399180889129639,5.279053688049316,9.736114501953125,-1.4979346990585327,-0.3530782163143158,0.05057418346405029,-4.26772403717041,-3.795565605163574,-3.6889150142669678,0.3290838599205017,-4.545243263244629,3.1423449516296387,5.018208980560303,6.218576431274414,2.1745493412017822,0.7615384459495544,0.7736905813217163,-0.933957040309906,7.662580490112305,2.264191150665283,4.538351535797119,-1.5629156827926636,0.9777856469154358,-10.106582641601562,-8.852407455444336,-6.63935661315918,-8.861006736755371,-8.989758491516113,-7.523897647857666,4.009586811065674,4.793294906616211,-7.130064010620117,-9.027953147888184,-8.57180118560791,-3.3346540927886963,-1.060072422027588,-3.6066880226135254,-0.6867947578430176,6.509133338928223,0.6346958875656128,-6.674685955047607,0.9567064046859741,-4.309228420257568,-8.628657341003418,1.6499216556549072,9.073390007019043,0.2269241064786911,-7.465390682220459,-1.5064657926559448,2.2495155334472656,4.239336967468262,-8.649303436279297,4.218444347381592,2.8724522590637207,3.865293502807617,6.063266277313232,1.623785376548767,-2.40095591545105,2.0885555744171143,0.22691956162452698,-7.124495506286621,0.8156806826591492,4.237679958343506,0.8004122376441956,3.2191972732543945,2.723067283630371,-0.31624889373779297,1.186830759048462,5.0119218826293945,10.053820610046387,1.7143813371658325,7.140608310699463,6.223445415496826,3.120508909225464,1.7015421390533447,3.7766261100769043,4.3455328941345215,5.24534273147583,4.22351598739624,3.5420897006988525,6.457335948944092,6.735923767089844,7.414395332336426,3.4313559532165527,1.9130226373672485,9.276664733886719,5.624707221984863,0.3183928430080414,4.3625922203063965,3.9619622230529785,4.860270977020264,-3.2641804218292236,5.041434288024902,5.844122409820557,6.2690887451171875,8.441557884216309,6.192399024963379,3.1389224529266357,6.606871128082275,2.870302438735962,1.1511374711990356,4.699422359466553,4.936148166656494,6.156252861022949,4.054433345794678,-8.298540115356445,3.568246841430664,-6.247982025146484,3.013782501220703,1.1250594854354858,-9.840056419372559,5.5647053718566895,5.299048900604248,3.9417691230773926,-4.254090785980225,-7.87760591506958,1.535192608833313,5.826565265655518,1.5791648626327515,0.7475085258483887,7.885587215423584,3.9380741119384766,0.5422621965408325,6.613858222961426,0.47486186027526855,5.012712478637695,1.2248133420944214,4.266929626464844,6.971776008605957,7.943188190460205,4.232558250427246,7.372373104095459,1.9980509281158447,3.4076156616210938,-9.457592964172363,3.9585657119750977,2.9176793098449707,1.937340259552002,6.369638442993164,7.179845809936523,0.6553699374198914,2.7144765853881836,6.23399543762207,4.334995269775391,6.856229305267334,6.162900447845459,3.9950203895568848,5.404175758361816,-3.1271133422851562,6.9333953857421875,2.557645320892334,7.109854698181152,-0.14755979180335999,3.459254503250122,6.493696689605713,10.498397827148438,-6.151548862457275,3.319810628890991,4.292918682098389,7.012166976928711,1.1369032859802246,4.850434303283691,3.7800657749176025,1.9317545890808105,6.898207187652588,2.8932063579559326,5.393133640289307,-4.00900936126709,3.1539437770843506,4.258577823638916,-6.637980937957764,-6.933581829071045,0.7965318560600281,-7.861163139343262,-3.8875300884246826,0.4044502079486847,3.214462995529175,-3.931328296661377,3.170518636703491,-5.913788795471191,-4.649079322814941,-6.148451805114746,-4.094651222229004,2.9286742210388184,1.5520926713943481,4.551918983459473,0.941245973110199,0.05061604455113411,4.917852401733398,4.7378950119018555,0.9075136780738831,1.2889949083328247,1.5177719593048096,0.43546542525291443,-0.37179484963417053,2.319801092147827,1.1879820823669434,0.5525668263435364,0.46874091029167175,0.38627564907073975,-0.45064777135849,-3.568744421005249,0.9565773010253906,2.6370649337768555,-8.46264934539795,-2.3415393829345703,-1.0850046873092651,6.122309684753418,7.368656158447266,1.6458865404129028,1.8875616788864136,1.3883094787597656,0.6682506799697876,-0.10025589168071747,-6.292238235473633,0.8268822431564331,3.5333549976348877,7.180068492889404,7.261989116668701,0.7335241436958313,-0.9008669853210449,5.043373107910156,6.378309726715088,1.1868586540222168,1.3208094835281372,1.073317527770996,6.82497501373291,0.6416359543800354,3.784712791442871,-0.12167560309171677,-4.274718761444092,3.1757562160491943,1.5166337490081787,5.251198768615723],\"type\":\"scatter3d\"},{\"marker\":{\"opacity\":0.8,\"size\":4},\"mode\":\"markers\",\"name\":\"PRE\",\"showlegend\":true,\"x\":[4.194210529327393,2.7115705013275146,5.835559368133545,-4.992633819580078,-0.034877628087997437,-5.659765243530273,5.37740421295166,6.435220241546631,6.612796783447266,7.074500560760498,-3.1280884742736816,6.8930864334106445,0.15726572275161743,-3.341796398162842,3.663069486618042,0.2231774479150772,8.583586692810059,7.674166679382324,8.968437194824219,5.254978656768799,6.844831466674805,-4.535407543182373,5.761537551879883,-4.183764457702637,2.8540234565734863,4.485663414001465,-3.261350154876709,-5.091994285583496,4.248190879821777,7.677306175231934,-2.501803159713745,6.962502956390381,-2.101444959640503,6.269691467285156,4.4693379402160645,6.755460262298584,-1.8384743928909302,3.3253331184387207,1.9087674617767334,0.861283540725708,10.071921348571777,8.727029800415039,10.99771499633789,7.337432861328125,10.06946849822998,2.856250524520874,-1.696932315826416,5.308321952819824,5.6100029945373535,3.513993263244629,8.239880561828613,1.5812718868255615,7.026284694671631,10.02695083618164,6.30190896987915,10.730537414550781,3.7357349395751953,-6.781206130981445,10.717607498168945],\"y\":[-0.3467871844768524,-1.4320350885391235,1.5174895524978638,-4.593847274780273,-2.183454751968384,-3.4973232746124268,-3.967827320098877,1.124138593673706,-0.15419688820838928,-2.6169562339782715,1.4953745603561401,-0.02643320895731449,-8.747382164001465,-4.122286319732666,0.480638712644577,-1.9380167722702026,1.2376561164855957,2.5526576042175293,0.5260580778121948,-0.05515717715024948,-2.5699453353881836,-2.3395228385925293,-0.07962017506361008,-2.753978729248047,-1.115317702293396,0.30757665634155273,-2.302619695663452,-3.1695685386657715,0.855660080909729,1.4857453107833862,-1.3054113388061523,0.684651792049408,-3.880751609802246,3.106551170349121,-0.36108165979385376,-1.453067660331726,-7.783791542053223,0.2876111567020416,-0.32150185108184814,-0.525929868221283,1.7062973976135254,2.0841333866119385,3.061826229095459,0.6088948249816895,2.633669853210449,-0.5416591167449951,-3.3675553798675537,-0.09169722348451614,-0.13929465413093567,0.35910463333129883,1.4453809261322021,-1.121042013168335,-0.010445849038660526,2.939704418182373,0.904356837272644,2.9896185398101807,-0.5948976278305054,-0.37216895818710327,2.934356212615967],\"z\":[-3.228881359100342,-2.931755304336548,-4.656738758087158,-6.393630504608154,-2.6844820976257324,-1.7645868062973022,-1.2628743648529053,-2.8925113677978516,-1.383010745048523,-0.5413525104522705,8.403694152832031,-0.4435500502586365,-4.669826030731201,-7.941313743591309,3.3687214851379395,-4.307760238647461,-1.858280062675476,0.39591678977012634,-2.231985330581665,-3.7341980934143066,-0.960486650466919,-5.928334712982178,-3.45729660987854,-1.9409921169281006,-4.644235610961914,-5.451150417327881,-1.0771433115005493,-1.9522137641906738,-5.524017333984375,-4.153600215911865,-2.107377290725708,-0.6163411140441895,-8.49993896484375,3.9787049293518066,-3.1798746585845947,-1.4239764213562012,-4.109410285949707,-5.164571285247803,-4.8286871910095215,-4.568172931671143,0.7427828907966614,0.016056125983595848,-0.4004867374897003,-1.814168095588684,0.5481467247009277,-3.87078595161438,-9.102524757385254,-3.7178404331207275,-3.500413179397583,-5.201125144958496,-4.065938472747803,-4.369997501373291,-2.5794999599456787,0.2922061085700989,-3.0963306427001953,0.661136269569397,-2.7547287940979004,-5.558726787567139,0.7703746557235718],\"type\":\"scatter3d\"},{\"marker\":{\"opacity\":0.8,\"size\":4},\"mode\":\"markers\",\"name\":\"SUB\",\"showlegend\":true,\"x\":[5.958436012268066,-2.6220476627349854,-9.900274276733398,7.432026386260986,-4.636834144592285,4.999574184417725,8.92302131652832,7.643822193145752,-1.8932170867919922,2.5809004306793213,9.636579513549805,6.85064172744751,3.4887826442718506,0.29004722833633423,6.264122486114502,2.511676549911499,-3.6239161491394043,-1.600144863128662,9.26122760772705,9.588532447814941,9.742111206054688,10.60102653503418,-4.1007490158081055,-0.07553279399871826,8.343402862548828,6.179929256439209,-1.4544055461883545,6.121607780456543,6.306406021118164,-2.3713948726654053,-7.699106693267822,5.56619930267334,6.389599323272705,10.182302474975586,-2.876345634460449,-1.6933914422988892,-0.6304529905319214,6.170604228973389,9.525437355041504,-4.000630855560303,9.061528205871582,2.5887365341186523,-2.890191078186035,0.7455844879150391,1.6996698379516602,1.561282992362976,6.046496868133545,-2.512744426727295,5.658321857452393,5.121732711791992,-4.058434963226318,-2.9781813621520996,-2.919689893722534,7.56252908706665,6.86366081237793,-1.4868066310882568,2.2249417304992676,5.46673583984375,-3.168297529220581,11.009221076965332,-2.5812509059906006,9.729433059692383,-0.0035895654000341892,5.836034297943115,-2.889801025390625,8.852417945861816,-4.139959335327148,-5.379470348358154,-2.920175313949585,7.866154193878174],\"y\":[-3.705409049987793,-1.6095978021621704,-2.972484827041626,1.7350000143051147,5.245613098144531,2.6875953674316406,1.8974542617797852,3.0192158222198486,-4.656686782836914,-3.448024034500122,4.463639736175537,0.319782018661499,-1.4865591526031494,-0.8199862241744995,2.7980971336364746,-2.2541964054107666,-2.2700250148773193,-7.309178829193115,3.187256336212158,0.9447076320648193,0.640241801738739,3.71535325050354,-2.7625675201416016,-2.8711650371551514,2.8845953941345215,0.38578298687934875,-7.236713886260986,2.6602160930633545,0.07700631767511368,-1.1666169166564941,-1.5256497859954834,1.715156078338623,2.6535332202911377,3.4176645278930664,-6.254394054412842,-4.44911003112793,-5.580085277557373,1.844815969467163,0.858288586139679,-3.346726417541504,2.778589963912964,-3.140580177307129,-4.153719425201416,1.793125867843628,-1.2970885038375854,-7.009164333343506,2.6025235652923584,-4.533968925476074,2.0128226280212402,-4.202962398529053,-2.7332193851470947,-2.0227432250976562,-6.214315891265869,0.7807350158691406,-2.207951545715332,0.37896451354026794,-1.4191852807998657,-3.172687292098999,-2.5186920166015625,0.9808710217475891,-4.402198791503906,3.5801355838775635,-7.788963317871094,2.612067461013794,-3.8976199626922607,2.4036107063293457,-2.9838292598724365,-0.9533785581588745,-4.149484634399414,0.5588770508766174],\"z\":[-2.0442371368408203,-1.5336382389068604,-8.258432388305664,-4.4728922843933105,0.01465789694339037,1.9879224300384521,2.842442274093628,0.5498759150505066,-1.3359965085983276,-1.257745623588562,2.1849024295806885,0.1805647909641266,-2.0759150981903076,-3.7178847789764404,4.342982769012451,-3.780641555786133,-4.994991779327393,-1.85235595703125,1.9640506505966187,1.2898818254470825,0.9186318516731262,4.375790119171143,-3.662686824798584,-1.4864805936813354,5.120135307312012,1.2755630016326904,-2.1392743587493896,6.641825199127197,5.569417953491211,-2.945258140563965,-0.8944036364555359,4.085122585296631,6.62615966796875,3.761018991470337,-3.579042434692383,-1.3780819177627563,-3.9845283031463623,-1.7998775243759155,0.9364607334136963,-0.17295020818710327,3.7738187313079834,-1.5100706815719604,-7.052197456359863,-2.5849926471710205,-4.316529750823975,-3.3607280254364014,6.86064338684082,-2.5728061199188232,2.1335346698760986,-4.223867416381836,-3.8180904388427734,-1.236124873161316,-3.4917967319488525,3.6857383251190186,-1.0731581449508667,-5.552797794342041,-4.186811447143555,-1.3414976596832275,-0.6328293085098267,1.573254108428955,-2.7643232345581055,1.5955524444580078,-6.656223773956299,4.580501079559326,-7.610867500305176,0.6242921352386475,-3.690236806869507,-5.959648609161377,-7.006537437438965,-1.9619141817092896],\"type\":\"scatter3d\"},{\"marker\":{\"opacity\":0.8,\"size\":4},\"mode\":\"markers\",\"name\":\"VAL\",\"showlegend\":true,\"x\":[-6.413303852081299,-3.5600290298461914,-7.86342191696167,-5.74316930770874,-6.592665195465088,-4.635241985321045,-2.044851303100586,-1.7191869020462036,-5.277612209320068,-6.960842609405518,-7.646256446838379,-7.5157599449157715,-5.941165924072266,-7.639776229858398,-8.060653686523438,-6.3867950439453125,-6.8067474365234375,-7.535359859466553,-8.471683502197266,-6.7313432693481445,-2.2778425216674805,-5.970193386077881,-5.836040496826172,-5.6153998374938965,-8.112473487854004,-6.473084449768066,-7.344359874725342,-7.591369152069092,-6.459980010986328,-8.588122367858887,-7.718404769897461,1.0972355604171753,-6.735990047454834,-8.134339332580566,-0.6399176120758057,-6.878783702850342],\"y\":[7.282111167907715,-1.133579969406128,4.585607051849365,5.5697760581970215,6.434725284576416,3.0588371753692627,3.1370041370391846,-2.4810845851898193,6.593080520629883,6.633962631225586,6.118053913116455,6.420071601867676,1.204107642173767,6.240131855010986,4.799606800079346,1.6708999872207642,3.3290998935699463,1.9999828338623047,7.434828758239746,4.770888328552246,4.745202541351318,5.9538254737854,6.078316688537598,1.2046209573745728,7.558012962341309,7.121150016784668,6.740934371948242,6.211475372314453,5.5143656730651855,7.3225417137146,1.9319349527359009,4.519619464874268,1.2681622505187988,7.5008134841918945,2.9722869396209717,6.314393520355225],\"z\":[6.225855350494385,-10.015944480895996,2.888740062713623,9.374507904052734,7.25209903717041,1.1311076879501343,7.4194231033325195,-9.14339542388916,3.0126521587371826,10.522046089172363,9.402436256408691,9.5576810836792,10.812007904052734,8.880653381347656,2.7142069339752197,10.415063858032227,10.005376815795898,8.366971969604492,5.86861515045166,9.073844909667969,7.072452068328857,8.289559364318848,8.206500053405762,10.83082389831543,6.7000250816345215,6.6193671226501465,9.764411926269531,10.21850299835205,8.225412368774414,5.412947177886963,8.684651374816895,3.260054349899292,10.53336238861084,6.7345356941223145,8.274625778198242,7.8626484870910645],\"type\":\"scatter3d\"}],                        {\"template\":{\"data\":{\"histogram2dcontour\":[{\"type\":\"histogram2dcontour\",\"colorbar\":{\"outlinewidth\":0,\"ticks\":\"\"},\"colorscale\":[[0.0,\"#0d0887\"],[0.1111111111111111,\"#46039f\"],[0.2222222222222222,\"#7201a8\"],[0.3333333333333333,\"#9c179e\"],[0.4444444444444444,\"#bd3786\"],[0.5555555555555556,\"#d8576b\"],[0.6666666666666666,\"#ed7953\"],[0.7777777777777778,\"#fb9f3a\"],[0.8888888888888888,\"#fdca26\"],[1.0,\"#f0f921\"]]}],\"choropleth\":[{\"type\":\"choropleth\",\"colorbar\":{\"outlinewidth\":0,\"ticks\":\"\"}}],\"histogram2d\":[{\"type\":\"histogram2d\",\"colorbar\":{\"outlinewidth\":0,\"ticks\":\"\"},\"colorscale\":[[0.0,\"#0d0887\"],[0.1111111111111111,\"#46039f\"],[0.2222222222222222,\"#7201a8\"],[0.3333333333333333,\"#9c179e\"],[0.4444444444444444,\"#bd3786\"],[0.5555555555555556,\"#d8576b\"],[0.6666666666666666,\"#ed7953\"],[0.7777777777777778,\"#fb9f3a\"],[0.8888888888888888,\"#fdca26\"],[1.0,\"#f0f921\"]]}],\"heatmap\":[{\"type\":\"heatmap\",\"colorbar\":{\"outlinewidth\":0,\"ticks\":\"\"},\"colorscale\":[[0.0,\"#0d0887\"],[0.1111111111111111,\"#46039f\"],[0.2222222222222222,\"#7201a8\"],[0.3333333333333333,\"#9c179e\"],[0.4444444444444444,\"#bd3786\"],[0.5555555555555556,\"#d8576b\"],[0.6666666666666666,\"#ed7953\"],[0.7777777777777778,\"#fb9f3a\"],[0.8888888888888888,\"#fdca26\"],[1.0,\"#f0f921\"]]}],\"heatmapgl\":[{\"type\":\"heatmapgl\",\"colorbar\":{\"outlinewidth\":0,\"ticks\":\"\"},\"colorscale\":[[0.0,\"#0d0887\"],[0.1111111111111111,\"#46039f\"],[0.2222222222222222,\"#7201a8\"],[0.3333333333333333,\"#9c179e\"],[0.4444444444444444,\"#bd3786\"],[0.5555555555555556,\"#d8576b\"],[0.6666666666666666,\"#ed7953\"],[0.7777777777777778,\"#fb9f3a\"],[0.8888888888888888,\"#fdca26\"],[1.0,\"#f0f921\"]]}],\"contourcarpet\":[{\"type\":\"contourcarpet\",\"colorbar\":{\"outlinewidth\":0,\"ticks\":\"\"}}],\"contour\":[{\"type\":\"contour\",\"colorbar\":{\"outlinewidth\":0,\"ticks\":\"\"},\"colorscale\":[[0.0,\"#0d0887\"],[0.1111111111111111,\"#46039f\"],[0.2222222222222222,\"#7201a8\"],[0.3333333333333333,\"#9c179e\"],[0.4444444444444444,\"#bd3786\"],[0.5555555555555556,\"#d8576b\"],[0.6666666666666666,\"#ed7953\"],[0.7777777777777778,\"#fb9f3a\"],[0.8888888888888888,\"#fdca26\"],[1.0,\"#f0f921\"]]}],\"surface\":[{\"type\":\"surface\",\"colorbar\":{\"outlinewidth\":0,\"ticks\":\"\"},\"colorscale\":[[0.0,\"#0d0887\"],[0.1111111111111111,\"#46039f\"],[0.2222222222222222,\"#7201a8\"],[0.3333333333333333,\"#9c179e\"],[0.4444444444444444,\"#bd3786\"],[0.5555555555555556,\"#d8576b\"],[0.6666666666666666,\"#ed7953\"],[0.7777777777777778,\"#fb9f3a\"],[0.8888888888888888,\"#fdca26\"],[1.0,\"#f0f921\"]]}],\"mesh3d\":[{\"type\":\"mesh3d\",\"colorbar\":{\"outlinewidth\":0,\"ticks\":\"\"}}],\"scatter\":[{\"fillpattern\":{\"fillmode\":\"overlay\",\"size\":10,\"solidity\":0.2},\"type\":\"scatter\"}],\"parcoords\":[{\"type\":\"parcoords\",\"line\":{\"colorbar\":{\"outlinewidth\":0,\"ticks\":\"\"}}}],\"scatterpolargl\":[{\"type\":\"scatterpolargl\",\"marker\":{\"colorbar\":{\"outlinewidth\":0,\"ticks\":\"\"}}}],\"bar\":[{\"error_x\":{\"color\":\"#2a3f5f\"},\"error_y\":{\"color\":\"#2a3f5f\"},\"marker\":{\"line\":{\"color\":\"#E5ECF6\",\"width\":0.5},\"pattern\":{\"fillmode\":\"overlay\",\"size\":10,\"solidity\":0.2}},\"type\":\"bar\"}],\"scattergeo\":[{\"type\":\"scattergeo\",\"marker\":{\"colorbar\":{\"outlinewidth\":0,\"ticks\":\"\"}}}],\"scatterpolar\":[{\"type\":\"scatterpolar\",\"marker\":{\"colorbar\":{\"outlinewidth\":0,\"ticks\":\"\"}}}],\"histogram\":[{\"marker\":{\"pattern\":{\"fillmode\":\"overlay\",\"size\":10,\"solidity\":0.2}},\"type\":\"histogram\"}],\"scattergl\":[{\"type\":\"scattergl\",\"marker\":{\"colorbar\":{\"outlinewidth\":0,\"ticks\":\"\"}}}],\"scatter3d\":[{\"type\":\"scatter3d\",\"line\":{\"colorbar\":{\"outlinewidth\":0,\"ticks\":\"\"}},\"marker\":{\"colorbar\":{\"outlinewidth\":0,\"ticks\":\"\"}}}],\"scattermapbox\":[{\"type\":\"scattermapbox\",\"marker\":{\"colorbar\":{\"outlinewidth\":0,\"ticks\":\"\"}}}],\"scatterternary\":[{\"type\":\"scatterternary\",\"marker\":{\"colorbar\":{\"outlinewidth\":0,\"ticks\":\"\"}}}],\"scattercarpet\":[{\"type\":\"scattercarpet\",\"marker\":{\"colorbar\":{\"outlinewidth\":0,\"ticks\":\"\"}}}],\"carpet\":[{\"aaxis\":{\"endlinecolor\":\"#2a3f5f\",\"gridcolor\":\"white\",\"linecolor\":\"white\",\"minorgridcolor\":\"white\",\"startlinecolor\":\"#2a3f5f\"},\"baxis\":{\"endlinecolor\":\"#2a3f5f\",\"gridcolor\":\"white\",\"linecolor\":\"white\",\"minorgridcolor\":\"white\",\"startlinecolor\":\"#2a3f5f\"},\"type\":\"carpet\"}],\"table\":[{\"cells\":{\"fill\":{\"color\":\"#EBF0F8\"},\"line\":{\"color\":\"white\"}},\"header\":{\"fill\":{\"color\":\"#C8D4E3\"},\"line\":{\"color\":\"white\"}},\"type\":\"table\"}],\"barpolar\":[{\"marker\":{\"line\":{\"color\":\"#E5ECF6\",\"width\":0.5},\"pattern\":{\"fillmode\":\"overlay\",\"size\":10,\"solidity\":0.2}},\"type\":\"barpolar\"}],\"pie\":[{\"automargin\":true,\"type\":\"pie\"}]},\"layout\":{\"autotypenumbers\":\"strict\",\"colorway\":[\"#636efa\",\"#EF553B\",\"#00cc96\",\"#ab63fa\",\"#FFA15A\",\"#19d3f3\",\"#FF6692\",\"#B6E880\",\"#FF97FF\",\"#FECB52\"],\"font\":{\"color\":\"#2a3f5f\"},\"hovermode\":\"closest\",\"hoverlabel\":{\"align\":\"left\"},\"paper_bgcolor\":\"white\",\"plot_bgcolor\":\"#E5ECF6\",\"polar\":{\"bgcolor\":\"#E5ECF6\",\"angularaxis\":{\"gridcolor\":\"white\",\"linecolor\":\"white\",\"ticks\":\"\"},\"radialaxis\":{\"gridcolor\":\"white\",\"linecolor\":\"white\",\"ticks\":\"\"}},\"ternary\":{\"bgcolor\":\"#E5ECF6\",\"aaxis\":{\"gridcolor\":\"white\",\"linecolor\":\"white\",\"ticks\":\"\"},\"baxis\":{\"gridcolor\":\"white\",\"linecolor\":\"white\",\"ticks\":\"\"},\"caxis\":{\"gridcolor\":\"white\",\"linecolor\":\"white\",\"ticks\":\"\"}},\"coloraxis\":{\"colorbar\":{\"outlinewidth\":0,\"ticks\":\"\"}},\"colorscale\":{\"sequential\":[[0.0,\"#0d0887\"],[0.1111111111111111,\"#46039f\"],[0.2222222222222222,\"#7201a8\"],[0.3333333333333333,\"#9c179e\"],[0.4444444444444444,\"#bd3786\"],[0.5555555555555556,\"#d8576b\"],[0.6666666666666666,\"#ed7953\"],[0.7777777777777778,\"#fb9f3a\"],[0.8888888888888888,\"#fdca26\"],[1.0,\"#f0f921\"]],\"sequentialminus\":[[0.0,\"#0d0887\"],[0.1111111111111111,\"#46039f\"],[0.2222222222222222,\"#7201a8\"],[0.3333333333333333,\"#9c179e\"],[0.4444444444444444,\"#bd3786\"],[0.5555555555555556,\"#d8576b\"],[0.6666666666666666,\"#ed7953\"],[0.7777777777777778,\"#fb9f3a\"],[0.8888888888888888,\"#fdca26\"],[1.0,\"#f0f921\"]],\"diverging\":[[0,\"#8e0152\"],[0.1,\"#c51b7d\"],[0.2,\"#de77ae\"],[0.3,\"#f1b6da\"],[0.4,\"#fde0ef\"],[0.5,\"#f7f7f7\"],[0.6,\"#e6f5d0\"],[0.7,\"#b8e186\"],[0.8,\"#7fbc41\"],[0.9,\"#4d9221\"],[1,\"#276419\"]]},\"xaxis\":{\"gridcolor\":\"white\",\"linecolor\":\"white\",\"ticks\":\"\",\"title\":{\"standoff\":15},\"zerolinecolor\":\"white\",\"automargin\":true,\"zerolinewidth\":2},\"yaxis\":{\"gridcolor\":\"white\",\"linecolor\":\"white\",\"ticks\":\"\",\"title\":{\"standoff\":15},\"zerolinecolor\":\"white\",\"automargin\":true,\"zerolinewidth\":2},\"scene\":{\"xaxis\":{\"backgroundcolor\":\"#E5ECF6\",\"gridcolor\":\"white\",\"linecolor\":\"white\",\"showbackground\":true,\"ticks\":\"\",\"zerolinecolor\":\"white\",\"gridwidth\":2},\"yaxis\":{\"backgroundcolor\":\"#E5ECF6\",\"gridcolor\":\"white\",\"linecolor\":\"white\",\"showbackground\":true,\"ticks\":\"\",\"zerolinecolor\":\"white\",\"gridwidth\":2},\"zaxis\":{\"backgroundcolor\":\"#E5ECF6\",\"gridcolor\":\"white\",\"linecolor\":\"white\",\"showbackground\":true,\"ticks\":\"\",\"zerolinecolor\":\"white\",\"gridwidth\":2}},\"shapedefaults\":{\"line\":{\"color\":\"#2a3f5f\"}},\"annotationdefaults\":{\"arrowcolor\":\"#2a3f5f\",\"arrowhead\":0,\"arrowwidth\":1},\"geo\":{\"bgcolor\":\"white\",\"landcolor\":\"#E5ECF6\",\"subunitcolor\":\"white\",\"showland\":true,\"showlakes\":true,\"lakecolor\":\"white\"},\"title\":{\"x\":0.05},\"mapbox\":{\"style\":\"light\"}}},\"legend\":{\"font\":{\"size\":18}},\"scene\":{\"camera\":{\"eye\":{\"x\":1.5,\"y\":-1.5,\"z\":1},\"center\":{\"x\":0,\"y\":0,\"z\":0},\"up\":{\"x\":0,\"y\":0,\"z\":1}},\"xaxis\":{\"title\":{\"text\":\"1st Component\"}},\"yaxis\":{\"title\":{\"text\":\"2nd Component\"}},\"zaxis\":{\"title\":{\"text\":\"3rd Component\"}}},\"title\":{\"text\":\"<b>path distance</b>\",\"x\":0.35,\"y\":0.95,\"xanchor\":\"center\",\"yanchor\":\"top\"},\"width\":1000,\"height\":700},                        {\"responsive\": true}                    ).then(function(){\n",
       "                            \n",
       "var gd = document.getElementById('3350c931-7267-4ece-8830-cc2e7843a0c3');\n",
       "var x = new MutationObserver(function (mutations, observer) {{\n",
       "        var display = window.getComputedStyle(gd).display;\n",
       "        if (!display || display === 'none') {{\n",
       "            console.log([gd, 'removed!']);\n",
       "            Plotly.purge(gd);\n",
       "            observer.disconnect();\n",
       "        }}\n",
       "}});\n",
       "\n",
       "// Listen for the removal of the full notebook cells\n",
       "var notebookContainer = gd.closest('#notebook-container');\n",
       "if (notebookContainer) {{\n",
       "    x.observe(notebookContainer, {childList: true});\n",
       "}}\n",
       "\n",
       "// Listen for the clearing of the current output cell\n",
       "var outputEl = gd.closest('.output');\n",
       "if (outputEl) {{\n",
       "    x.observe(outputEl, {childList: true});\n",
       "}}\n",
       "\n",
       "                        })                };                });            </script>        </div>"
      ]
     },
     "metadata": {},
     "output_type": "display_data"
    }
   ],
   "source": [
    "curr_labels = idx_labels_merged_regs #idx_labels_m_types #idx_labels_merged_regs #idx_labels_regs\n",
    "for metric in data_embedded.keys():\n",
    "    tmp_embedded_data = data_embedded[metric]\n",
    "    all_data = []\n",
    "    for lab in curr_labels.keys():\n",
    "        print(lab)\n",
    "        # Create the 3D scatter plot\n",
    "        all_data.append(go.Scatter3d(\n",
    "                        x = tmp_embedded_data[curr_labels[lab],0],\n",
    "                        y = tmp_embedded_data[curr_labels[lab],1],\n",
    "                        z = tmp_embedded_data[curr_labels[lab],2],\n",
    "                        mode = 'markers',\n",
    "                        marker = dict(size = 4, opacity = 0.8),\n",
    "                        name = lab,\n",
    "                        showlegend = True))\n",
    "    fig = go.Figure(data = all_data)\n",
    "    fig.update_layout(width = 1000,\n",
    "                      height = 700,\n",
    "                      legend = dict(font = dict(size = 18)),\n",
    "                      scene=dict(\n",
    "                            xaxis_title = '1st Component',\n",
    "                            yaxis_title = '2nd Component',\n",
    "                            zaxis_title = '3rd Component',\n",
    "                            camera = dict(\n",
    "                                    eye=dict(x=1.5, y=-1.5, z=1),\n",
    "                                    center=dict(x=0, y=0, z=0),\n",
    "                                    up=dict(x=0, y=0, z=1)\n",
    "                            )\n",
    "                      ),\n",
    "                      title={'text': '%s'%('<b>radial distance</b>' if metric == 'rad' else '<b>path distance</b>'),\n",
    "                            'x': 0.35,\n",
    "                            'y': 0.95,\n",
    "                            'xanchor': 'center',\n",
    "                            'yanchor': 'top'\n",
    "                       }\n",
    "                     )\n",
    "#     fig.write_image(\"../Results/Figures/tSNE_all_regs_%s.png\"%metric)\n",
    "    fig.show()"
   ]
  },
  {
   "cell_type": "markdown",
   "metadata": {},
   "source": [
    "###### Now selecting only the neurons belonging to the m_type pyramidal or projection"
   ]
  },
  {
   "cell_type": "code",
   "execution_count": 100,
   "metadata": {},
   "outputs": [
    {
     "name": "stdout",
     "output_type": "stream",
     "text": [
      "There are 416 selected morphos.\n"
     ]
    }
   ],
   "source": [
    "# We select the two classes of m_types that we see overlap a lot in the projection using t-SNE \n",
    "mt1 = \"['principal cell', 'projection']\"\n",
    "mt2 = \"['principal cell', 'pyramidal', 'projection']\"\n",
    "\n",
    "idx1 = np.where(m_types_OI == mt1)[0]\n",
    "idx2 = np.where(m_types_OI == mt2)[0]\n",
    "all_idx_OI = np.concatenate([idx1, idx2])\n",
    "n_sel_morphos = len(all_idx_OI)\n",
    "print('There are %s selected morphos.'%n_sel_morphos)"
   ]
  },
  {
   "cell_type": "code",
   "execution_count": 533,
   "metadata": {},
   "outputs": [],
   "source": [
    "data_embedded_sel = {}\n",
    "for metric in new_flatten_sel_pi.keys():\n",
    "    data_embedded_sel[metric] = data_embedded[metric][all_idx_OI, :]"
   ]
  },
  {
   "cell_type": "code",
   "execution_count": 534,
   "metadata": {},
   "outputs": [],
   "source": [
    "# save_variable(data_embedded_sel, '../Results/Saved_variables/data_embedded_selected_morphos_TSNE_n3_random_state1441')"
   ]
  },
  {
   "cell_type": "code",
   "execution_count": 556,
   "metadata": {},
   "outputs": [
    {
     "data": {
      "application/vnd.plotly.v1+json": {
       "config": {
        "plotlyServerURL": "https://plot.ly"
       },
       "data": [
        {
         "marker": {
          "color": "black",
          "opacity": 0.8,
          "size": 5
         },
         "mode": "markers",
         "type": "scatter3d",
         "x": [
          -4.5760626792907715,
          -0.8932235836982727,
          -3.7120604515075684,
          -1.892551064491272,
          -2.7910804748535156,
          -4.496692180633545,
          -2.6186702251434326,
          1.919529914855957,
          -3.018754005432129,
          -4.847369194030762,
          -0.43242931365966797,
          -1.9427751302719116,
          -4.076068878173828,
          -3.323152780532837,
          2.0576229095458984,
          -0.48127180337905884,
          -5.587585926055908,
          5.7010579109191895,
          1.466315746307373,
          0.3887386918067932,
          -2.348139762878418,
          -4.604316711425781,
          -1.6766968965530396,
          -1.6998482942581177,
          -4.604599475860596,
          -5.657450199127197,
          -5.87903356552124,
          -1.319612979888916,
          8.290471076965332,
          -2.606909990310669,
          -3.2260987758636475,
          -3.8650572299957275,
          3.059896469116211,
          -3.842942476272583,
          -2.9698410034179688,
          -2.0989491939544678,
          -3.1676509380340576,
          2.581031084060669,
          -7.267542362213135,
          1.5707459449768066,
          -5.313350200653076,
          -1.5823217630386353,
          3.461361885070801,
          0.6342701315879822,
          -3.05177903175354,
          1.861317753791809,
          -0.15078416466712952,
          -2.7583532333374023,
          -4.778030872344971,
          -1.7987298965454102,
          -4.3043694496154785,
          1.2970378398895264,
          -2.7893974781036377,
          2.8283979892730713,
          -4.954529762268066,
          1.0086548328399658,
          -2.736175060272217,
          -0.6516625285148621,
          3.3198931217193604,
          -2.4993791580200195,
          1.9530376195907593,
          1.4406256675720215,
          3.465158700942993,
          2.1083309650421143,
          -1.6774051189422607,
          -0.6385163068771362,
          -3.0864760875701904,
          6.410425186157227,
          2.524569511413574,
          4.650489807128906,
          6.7426886558532715,
          -4.441471576690674,
          4.6329545974731445,
          1.9796733856201172,
          -0.39104920625686646,
          1.6098666191101074,
          6.949484825134277,
          -2.6757330894470215,
          -5.6424336433410645,
          -5.177999019622803,
          -5.7709431648254395,
          2.5857555866241455,
          -5.662247180938721,
          0.5897578001022339,
          0.378684401512146,
          2.5874154567718506,
          -5.447255611419678,
          4.127579212188721,
          4.526998043060303,
          1.0945552587509155,
          -4.1101861000061035,
          -5.546571254730225,
          -2.3820979595184326,
          -5.695276260375977,
          -7.176786422729492,
          -5.830595970153809,
          -1.6663044691085815,
          -3.382283926010132,
          -1.1326265335083008,
          -6.2350969314575195,
          -6.699410915374756,
          1.8288061618804932,
          1.7514182329177856,
          2.610506296157837,
          -2.594250202178955,
          0.3414616882801056,
          -5.7107625007629395,
          3.6012933254241943,
          2.7519869804382324,
          6.657390117645264,
          -3.053980827331543,
          0.17351603507995605,
          1.4575178623199463,
          6.169722080230713,
          -0.11091794073581696,
          0.1339515894651413,
          -7.797801971435547,
          -5.694843769073486,
          -3.684454917907715,
          -3.3148622512817383,
          -4.366377830505371,
          1.6817407608032227,
          -5.332089900970459,
          3.759373188018799,
          0.023763755336403847,
          3.6599295139312744,
          4.6177144050598145,
          -5.660096168518066,
          -6.30813455581665,
          5.033656120300293,
          2.5324745178222656,
          -0.5345323085784912,
          3.8577702045440674,
          -4.682002067565918,
          -2.091155529022217,
          0.8305271863937378,
          1.8861364126205444,
          4.221814155578613,
          2.339552164077759,
          2.7232131958007812,
          2.98586368560791,
          -2.7104156017303467,
          -6.154538631439209,
          0.8331226706504822,
          -2.6604459285736084,
          -3.3141167163848877,
          1.3214837312698364,
          2.639714479446411,
          -5.266632556915283,
          -1.795845866203308,
          -3.2682149410247803,
          -3.3060123920440674,
          -0.497747004032135,
          -1.1694960594177246,
          -7.892618179321289,
          -2.946432590484619,
          -1.5794298648834229,
          2.4117908477783203,
          -6.035188674926758,
          -7.06712532043457,
          2.9082045555114746,
          -6.747227668762207,
          -2.7162222862243652,
          -1.9118518829345703,
          -1.1757514476776123,
          -2.980620861053467,
          -6.249421119689941,
          -6.439361572265625,
          -5.415477275848389,
          -7.314622402191162,
          -1.117748737335205,
          -3.3133914470672607,
          -3.2457973957061768,
          -0.7219889760017395,
          -0.22527313232421875,
          -4.617466449737549,
          -1.5193358659744263,
          0.8249951004981995,
          -5.9909586906433105,
          -5.357977867126465,
          -4.841671466827393,
          -4.518615245819092,
          0.015684565529227257,
          -5.091067314147949,
          -3.68546462059021,
          -2.0327939987182617,
          -1.3944451808929443,
          2.0824201107025146,
          -5.51666784286499,
          -1.6608631610870361,
          5.751861095428467,
          1.1090582609176636,
          7.556559085845947,
          -4.788984298706055,
          -3.6785149574279785,
          3.028399705886841,
          -5.173915386199951,
          -4.008666515350342,
          -7.353692531585693,
          3.1938509941101074,
          1.6914087533950806,
          -7.126920700073242,
          -6.03397798538208,
          -6.833116054534912,
          -5.420348644256592,
          0.426017165184021,
          -3.6758973598480225,
          -5.1186957359313965,
          -5.2451019287109375,
          -3.898941993713379,
          4.081357479095459,
          -5.765612602233887,
          -4.990771770477295,
          -1.2936748266220093,
          -1.3806729316711426,
          -1.6271740198135376,
          -2.460407018661499,
          -7.186514854431152,
          -0.9419307112693787,
          -2.7921998500823975,
          0.4797650873661041,
          1.5026191473007202,
          -7.89868688583374,
          -4.2969069480896,
          -2.6399526596069336,
          -5.259832859039307,
          0.14237013459205627,
          -3.188519239425659,
          -1.7752604484558105,
          -0.5502457618713379,
          -4.683922290802002,
          -3.233719825744629,
          -5.049738883972168,
          -4.56035041809082,
          -1.8808728456497192,
          -3.933164358139038,
          4.923308372497559,
          -3.964040994644165,
          -4.198779582977295,
          -6.239009857177734,
          1.4927257299423218,
          -3.657235860824585,
          -1.9921985864639282,
          -4.432431697845459,
          6.6585869789123535,
          -1.998498797416687,
          -4.720232963562012,
          6.391847133636475,
          3.3645291328430176,
          3.928865432739258,
          3.426265239715576,
          5.882422924041748,
          -4.434382438659668,
          3.3923089504241943,
          -6.019491195678711,
          2.703500509262085,
          -1.7893317937850952,
          3.8566484451293945,
          -3.091423511505127,
          1.6161482334136963,
          -1.038989543914795,
          -3.844348192214966,
          5.755807876586914,
          5.300054550170898,
          -5.0203423500061035,
          -3.2177414894104004,
          -4.391151428222656,
          4.526699066162109,
          2.11942720413208,
          -5.039697647094727,
          2.301281690597534,
          -3.8397531509399414,
          1.8698242902755737,
          -0.8041014075279236,
          -4.079687595367432,
          -3.099212408065796,
          5.239437103271484,
          3.2412378787994385,
          -2.5834007263183594,
          -5.179755687713623,
          2.5510740280151367,
          -1.9159127473831177,
          0.7357227802276611,
          -2.2633872032165527,
          3.4559919834136963,
          -5.319084167480469,
          3.1735711097717285,
          1.1716324090957642,
          -1.7797478437423706,
          -0.7402799129486084,
          -2.367678165435791,
          1.651655912399292,
          3.334146022796631,
          -0.551362156867981,
          4.176345348358154,
          2.4816195964813232,
          6.7738165855407715,
          -3.7105813026428223,
          3.690166473388672,
          -0.9216957688331604,
          1.4367398023605347,
          1.3702279329299927,
          0.24631665647029877,
          -2.469860315322876,
          0.3445684313774109,
          3.0647695064544678,
          -0.04552285745739937,
          4.441391944885254,
          -0.16176395118236542,
          2.7671689987182617,
          2.4503471851348877,
          5.573736190795898,
          0.8039751052856445,
          0.5559785962104797,
          -0.027167582884430885,
          -0.5921715497970581,
          2.5843613147735596,
          3.568028211593628,
          3.3454959392547607,
          4.267733573913574,
          2.4736692905426025,
          1.223037838935852,
          -0.14808803796768188,
          3.26576566696167,
          3.9185121059417725,
          0.33337342739105225,
          2.769479274749756,
          0.5798346400260925,
          4.385947227478027,
          2.667525291442871,
          3.5640203952789307,
          2.262676239013672,
          2.155311107635498,
          -5.219326496124268,
          -5.604599475860596,
          -0.8892355561256409,
          -1.244789719581604,
          -5.119839668273926,
          -1.2759259939193726,
          1.7617987394332886,
          -2.6059484481811523,
          -7.236912250518799,
          -3.088529586791992,
          1.7024644613265991,
          -6.772773265838623,
          2.6304595470428467,
          0.3866303861141205,
          -7.266374111175537,
          0.40152451395988464,
          -1.510414958000183,
          -8.317815780639648,
          2.7028324604034424,
          -4.100143909454346,
          -6.519662857055664,
          0.3459213972091675,
          -2.479585647583008,
          0.4885750114917755,
          -1.2798138856887817,
          -2.1821675300598145,
          -0.504595935344696,
          -3.1518402099609375,
          2.3704564571380615,
          -2.6636741161346436,
          -0.9560494422912598,
          -0.6285063028335571,
          3.499289035797119,
          -4.338468074798584,
          -2.5798285007476807,
          2.809709310531616,
          3.8012988567352295,
          -3.0450220108032227,
          -3.120958089828491,
          1.8579137325286865,
          1.606722116470337,
          6.604646682739258,
          0.5565437078475952,
          -0.3985486924648285,
          6.159878730773926,
          -1.9964817762374878,
          -2.5007827281951904,
          -1.944192886352539,
          -4.803502082824707,
          3.250778913497925,
          -7.554473400115967,
          -5.010073661804199,
          2.086805820465088,
          -3.7751147747039795,
          -3.915403366088867,
          -2.215392827987671,
          4.570435047149658,
          -6.839993476867676,
          -6.596458435058594,
          -7.139561176300049,
          -7.29398775100708,
          -6.5293288230896,
          -7.172225475311279,
          -6.4078593254089355,
          -6.845428466796875,
          -7.354949951171875,
          -6.866085529327393,
          -2.1462769508361816,
          -6.2680134773254395,
          -4.8883161544799805,
          -6.375711441040039,
          -6.512606620788574,
          -5.065238952636719,
          -7.0259552001953125,
          -6.864325523376465,
          -6.082874774932861,
          -7.938066482543945,
          -6.319859981536865,
          1.860905647277832,
          -7.3053741455078125,
          -6.557943344116211,
          -2.5721914768218994,
          -6.4007768630981445
         ],
         "y": [
          2.7983760833740234,
          -3.2125065326690674,
          -4.727011203765869,
          8.307832717895508,
          -2.310737371444702,
          1.1097487211227417,
          -2.1274023056030273,
          1.0552573204040527,
          -2.712675094604492,
          -6.942422389984131,
          -2.6151082515716553,
          5.524333477020264,
          -5.831099033355713,
          -4.768650054931641,
          0.9040819406509399,
          7.049415111541748,
          -6.9900383949279785,
          0.054132893681526184,
          -3.0082132816314697,
          -4.818392753601074,
          4.949549674987793,
          7.246116638183594,
          0.4239661693572998,
          2.49112868309021,
          -7.887746810913086,
          -9.362255096435547,
          -9.085498809814453,
          -2.7946572303771973,
          -1.6149883270263672,
          -3.461883068084717,
          -6.641635417938232,
          2.4575421810150146,
          0.5474701523780823,
          -6.726868152618408,
          0.006011705379933119,
          -8.01533031463623,
          -8.92556381225586,
          3.147580623626709,
          8.157576560974121,
          0.2827884256839752,
          -6.744527339935303,
          -2.819291830062866,
          0.2088465541601181,
          3.4655911922454834,
          -8.1701021194458,
          1.5288987159729004,
          1.0246024131774902,
          -1.657368540763855,
          -6.971832275390625,
          -3.9844586849212646,
          2.1046411991119385,
          2.3795273303985596,
          -4.141693115234375,
          3.84413480758667,
          -5.650420188903809,
          -4.574735164642334,
          -4.6313276290893555,
          -3.4733989238739014,
          3.4487011432647705,
          0.3461824059486389,
          4.07448148727417,
          -2.168811559677124,
          -1.2589057683944702,
          -0.844568133354187,
          -7.847678184509277,
          -4.2111639976501465,
          -0.3421577215194702,
          -2.9964311122894287,
          1.8853487968444824,
          -0.984528124332428,
          -0.5277033448219299,
          4.164078712463379,
          3.285916566848755,
          -6.1109161376953125,
          -8.007019996643066,
          2.1942014694213867,
          -2.535295009613037,
          -1.676231861114502,
          -8.193612098693848,
          5.296163082122803,
          3.8922922611236572,
          0.4810448884963989,
          3.9504647254943848,
          4.0534820556640625,
          -3.271219253540039,
          0.3921986520290375,
          6.137836456298828,
          3.6206274032592773,
          -1.1296772956848145,
          -3.2454075813293457,
          2.364536762237549,
          3.0338048934936523,
          -9.187817573547363,
          0.8083315491676331,
          5.857883930206299,
          4.016688823699951,
          4.704499244689941,
          7.448065280914307,
          -7.819567680358887,
          3.9325759410858154,
          5.623142242431641,
          -2.2807531356811523,
          0.2163766771554947,
          -0.6217816472053528,
          0.046590983867645264,
          4.430714130401611,
          0.7720111608505249,
          -1.6062310934066772,
          2.3195528984069824,
          -0.2058684080839157,
          -4.338991641998291,
          -2.64642071723938,
          -1.8355299234390259,
          -0.3810248076915741,
          -3.030644655227661,
          3.1259026527404785,
          3.945647716522217,
          5.140627861022949,
          0.646439790725708,
          -3.2214314937591553,
          0.6195846199989319,
          -0.3539832532405853,
          -2.6071650981903076,
          0.28162074089050293,
          3.421480655670166,
          -1.6211186647415161,
          2.722172498703003,
          4.06470251083374,
          5.32034969329834,
          1.6961417198181152,
          1.2950040102005005,
          7.085249423980713,
          1.0193923711776733,
          -7.9170684814453125,
          3.7373907566070557,
          1.06205415725708,
          3.606504440307617,
          2.1535191535949707,
          1.5034397840499878,
          -0.5990498065948486,
          0.07161285728216171,
          2.957620859146118,
          9.98609447479248,
          -2.461113214492798,
          5.025137424468994,
          4.69366455078125,
          3.1038269996643066,
          3.828646183013916,
          -2.4646737575531006,
          3.309936285018921,
          1.8492214679718018,
          3.4568471908569336,
          3.670757293701172,
          2.099855422973633,
          4.02790641784668,
          6.736730098724365,
          1.665891408920288,
          -0.5802159309387207,
          9.167984008789062,
          4.794859409332275,
          0.2692541778087616,
          5.859462261199951,
          5.030025005340576,
          2.0715787410736084,
          -1.5104721784591675,
          4.23839807510376,
          8.673450469970703,
          8.466340065002441,
          8.240376472473145,
          5.5289626121521,
          5.882368087768555,
          4.673437595367432,
          6.360124588012695,
          0.6207271218299866,
          3.1350314617156982,
          7.824944496154785,
          2.53566575050354,
          3.1397547721862793,
          -8.178528785705566,
          4.807224273681641,
          -5.969071388244629,
          2.167487382888794,
          2.4329066276550293,
          -10.019111633300781,
          2.6186635494232178,
          5.2613725662231445,
          7.368588447570801,
          -2.4509902000427246,
          -8.108749389648438,
          0.6653866171836853,
          0.13840065896511078,
          1.05832839012146,
          -0.05268144980072975,
          7.616789817810059,
          2.08539080619812,
          -0.11610416322946548,
          4.341660022735596,
          -0.5417555570602417,
          3.440696954727173,
          0.3120538294315338,
          2.4411909580230713,
          3.4252798557281494,
          4.447821140289307,
          6.006990432739258,
          3.539515972137451,
          2.080338954925537,
          -1.0542595386505127,
          -9.97767448425293,
          7.563353538513184,
          1.5678625106811523,
          2.9919354915618896,
          5.582502365112305,
          8.108576774597168,
          -0.7507373690605164,
          1.6983004808425903,
          2.648796796798706,
          2.436469793319702,
          3.4940030574798584,
          1.8631036281585693,
          1.9658098220825195,
          4.263463020324707,
          -0.27524688839912415,
          3.7801098823547363,
          1.3177990913391113,
          7.602721214294434,
          -0.7882525324821472,
          2.9438037872314453,
          6.4946184158325195,
          2.7551703453063965,
          -5.202579975128174,
          1.0605756044387817,
          4.560024261474609,
          -0.10173249244689941,
          0.7200982570648193,
          5.241751670837402,
          2.6266777515411377,
          2.0798683166503906,
          2.236203670501709,
          7.011643886566162,
          4.427599906921387,
          -2.869339942932129,
          7.019981384277344,
          5.862255096435547,
          0.30499592423439026,
          -0.433999627828598,
          5.163734436035156,
          5.254613399505615,
          -0.4337064027786255,
          3.636760711669922,
          3.4360058307647705,
          1.1786623001098633,
          0.503979504108429,
          6.366988658905029,
          3.5748467445373535,
          3.77651047706604,
          2.9450645446777344,
          0.35255587100982666,
          -0.7035160064697266,
          -2.4445841312408447,
          2.75172758102417,
          1.243334412574768,
          -6.630657196044922,
          0.9530823230743408,
          1.5274378061294556,
          6.440154075622559,
          2.8350682258605957,
          3.4154460430145264,
          1.2032768726348877,
          3.206571102142334,
          -0.014813108369708061,
          -0.35715043544769287,
          -5.810752868652344,
          2.1939308643341064,
          2.9840288162231445,
          1.81113862991333,
          6.379447937011719,
          1.365177035331726,
          -0.9528958201408386,
          6.7977399826049805,
          2.2445755004882812,
          0.3438427746295929,
          1.4132486581802368,
          2.6899542808532715,
          8.793771743774414,
          2.3737802505493164,
          2.0203542709350586,
          -1.2000515460968018,
          -4.217940807342529,
          3.3636693954467773,
          1.0652929544448853,
          4.863011360168457,
          -2.2893753051757812,
          -0.024251308292150497,
          7.184247970581055,
          -0.46185240149497986,
          -1.312617540359497,
          -0.9795504212379456,
          -6.865602493286133,
          -0.6799967288970947,
          -1.8038195371627808,
          -1.4990226030349731,
          2.9873785972595215,
          -0.9416585564613342,
          -1.8203758001327515,
          -0.5672813057899475,
          -0.33428457379341125,
          -2.1012818813323975,
          -0.7448104023933411,
          -7.624675273895264,
          3.169318914413452,
          -1.6422220468521118,
          -0.9365644454956055,
          -4.413426399230957,
          -1.4880890846252441,
          -2.4316656589508057,
          -3.1275317668914795,
          -0.06973282992839813,
          -0.09154433757066727,
          0.024735474959015846,
          -0.6676151156425476,
          1.6401214599609375,
          -2.246691942214966,
          -7.653791904449463,
          -1.077562928199768,
          -0.6800636053085327,
          -1.5711109638214111,
          -1.0162556171417236,
          -2.4580349922180176,
          -0.7624976634979248,
          -0.24511389434337616,
          -0.10628998279571533,
          0.008396007120609283,
          -2.4775824546813965,
          -5.3035502433776855,
          4.266507625579834,
          2.8184709548950195,
          -3.876624822616577,
          2.272584915161133,
          6.606875419616699,
          2.2771694660186768,
          -1.1915714740753174,
          8.06687068939209,
          -5.895118713378906,
          -2.4315929412841797,
          5.257503509521484,
          3.479138135910034,
          -3.254619836807251,
          3.8524820804595947,
          4.928544044494629,
          -3.3540256023406982,
          4.600205898284912,
          1.580779790878296,
          8.256217956542969,
          6.161184310913086,
          -4.273560047149658,
          1.7391273975372314,
          -4.806836128234863,
          3.4511826038360596,
          -0.8345745205879211,
          -3.1310513019561768,
          7.913167953491211,
          0.39179477095603943,
          -6.553591251373291,
          1.4958783388137817,
          -4.256222724914551,
          -3.4461326599121094,
          4.089431285858154,
          -3.629194974899292,
          0.09813740849494934,
          -4.54200553894043,
          -5.9081525802612305,
          -2.0999834537506104,
          -6.470381259918213,
          1.209090232849121,
          -0.10358870774507523,
          -2.873488664627075,
          -4.14118766784668,
          -1.5878933668136597,
          3.4751596450805664,
          1.9489951133728027,
          -6.261025905609131,
          5.183409214019775,
          -8.404300689697266,
          3.651618719100952,
          -7.2174506187438965,
          3.573150396347046,
          -6.664519786834717,
          -4.705194473266602,
          -6.374738693237305,
          3.4862864017486572,
          9.6259126663208,
          9.902725219726562,
          7.296133518218994,
          8.572517395019531,
          5.251212120056152,
          7.466188430786133,
          8.851067543029785,
          5.673238277435303,
          8.136893272399902,
          5.668484687805176,
          7.5535454750061035,
          9.112672805786133,
          8.620179176330566,
          6.683819770812988,
          9.777179718017578,
          9.228553771972656,
          9.763678550720215,
          6.090559482574463,
          8.542693138122559,
          6.1845831871032715,
          9.522298812866211,
          2.380451202392578,
          8.500795364379883,
          10.303668975830078,
          8.985639572143555,
          9.30462646484375
         ],
         "z": [
          -2.9608583450317383,
          0.3799033463001251,
          1.1357371807098389,
          1.4576181173324585,
          2.768763542175293,
          -1.017215609550476,
          3.6375572681427,
          0.0450475811958313,
          -1.0532022714614868,
          0.9360457062721252,
          -5.26507043838501,
          -0.1485270857810974,
          0.6339069604873657,
          0.8366841077804565,
          1.7063732147216797,
          1.377297043800354,
          0.7034738659858704,
          2.6914920806884766,
          0.33345332741737366,
          -2.609706401824951,
          0.9875088930130005,
          -0.21451278030872345,
          2.7241222858428955,
          -0.7848405241966248,
          -2.1534128189086914,
          -1.1075408458709717,
          -0.6074270009994507,
          -0.4529094696044922,
          1.0585942268371582,
          2.6436214447021484,
          3.089299440383911,
          -1.2431474924087524,
          -0.9862253069877625,
          -1.1874127388000488,
          1.806971788406372,
          2.402351140975952,
          0.09943609684705734,
          -0.11647195369005203,
          -2.4813711643218994,
          -1.7355057001113892,
          0.346118688583374,
          0.8841925859451294,
          4.130671977996826,
          -0.37659329175949097,
          1.9922683238983154,
          4.122742176055908,
          5.740640163421631,
          2.973544120788574,
          0.824476957321167,
          3.329606533050537,
          -4.634267807006836,
          -3.1280648708343506,
          2.2666656970977783,
          0.7676052451133728,
          -0.7915017008781433,
          1.4680081605911255,
          0.7801655530929565,
          0.2134319692850113,
          -0.11962587386369705,
          -0.012767031788825989,
          -3.015824794769287,
          1.8928860425949097,
          2.4514002799987793,
          4.138703346252441,
          1.7345056533813477,
          1.629650592803955,
          4.262699127197266,
          -0.3351615071296692,
          1.5371266603469849,
          2.381957530975342,
          -0.26984360814094543,
          -4.889847755432129,
          -0.47077029943466187,
          -5.535043716430664,
          2.2102673053741455,
          -3.284191131591797,
          0.232106015086174,
          -1.5078922510147095,
          -2.4091145992279053,
          -0.8223257064819336,
          -2.259470224380493,
          3.161947727203369,
          -2.0518906116485596,
          -0.4462548792362213,
          -7.0587944984436035,
          -3.214949607849121,
          -2.534311294555664,
          -1.1450674533843994,
          1.6671347618103027,
          0.7794183492660522,
          -4.521744728088379,
          -5.260082721710205,
          0.5298601388931274,
          -5.545866012573242,
          -3.3430263996124268,
          -5.230831146240234,
          1.0354210138320923,
          -0.06952253729104996,
          0.969933271408081,
          -2.9929511547088623,
          -5.043866157531738,
          1.5463720560073853,
          1.3732819557189941,
          0.4817085564136505,
          0.24675288796424866,
          3.4319159984588623,
          -5.5577826499938965,
          -0.46685805916786194,
          -0.4319423735141754,
          -0.17202919721603394,
          0.7259149551391602,
          1.7493829727172852,
          -3.9265360832214355,
          -0.6542503833770752,
          0.21425394713878632,
          1.3741313219070435,
          0.35977068543434143,
          0.8145296573638916,
          0.5176531076431274,
          -1.1064486503601074,
          -2.188938617706299,
          1.4033223390579224,
          3.50437068939209,
          -1.790297269821167,
          -0.6718348860740662,
          -0.28160741925239563,
          0.7907835841178894,
          -5.26139497756958,
          0.08602540194988251,
          1.1567440032958984,
          2.2737395763397217,
          0.7445430755615234,
          -0.4512006938457489,
          -2.31427001953125,
          2.3636248111724854,
          6.505356788635254,
          -2.7102458477020264,
          4.368854522705078,
          2.320845365524292,
          -1.9487719535827637,
          -1.0761518478393555,
          0.9127764105796814,
          1.4735649824142456,
          -4.849428176879883,
          3.5083084106445312,
          3.397951602935791,
          1.3670326471328735,
          -1.4061877727508545,
          3.410130023956299,
          1.1580402851104736,
          -2.586303234100342,
          0.37582796812057495,
          1.8753570318222046,
          6.021730899810791,
          0.8721516132354736,
          2.8359360694885254,
          -0.9696561098098755,
          0.6506263017654419,
          -1.3079687356948853,
          1.1427459716796875,
          -2.330066204071045,
          1.0207329988479614,
          3.676373243331909,
          0.1811356395483017,
          -1.0245506763458252,
          0.5398154258728027,
          0.9127053022384644,
          1.3158087730407715,
          2.1948235034942627,
          0.9584187865257263,
          0.628176212310791,
          3.377976655960083,
          -0.9438662528991699,
          -1.554161548614502,
          0.6628583073616028,
          0.41637203097343445,
          5.5568437576293945,
          1.8477786779403687,
          -2.477257490158081,
          0.0712902843952179,
          -0.22072723507881165,
          1.545749306678772,
          1.193082571029663,
          -0.41261595487594604,
          1.162551999092102,
          1.7576966285705566,
          2.1519596576690674,
          -0.32877418398857117,
          -2.7012758255004883,
          -0.5848796367645264,
          4.740434169769287,
          6.084258079528809,
          -0.13686297833919525,
          2.182901382446289,
          -2.322596788406372,
          -1.5545451641082764,
          1.0250786542892456,
          1.85305655002594,
          1.2441316843032837,
          -0.5649045705795288,
          4.817012786865234,
          1.6789393424987793,
          0.07161320000886917,
          -5.482336044311523,
          1.869604468345642,
          1.8770637512207031,
          2.241860866546631,
          -0.40967097878456116,
          -0.8162687420845032,
          -2.4134726524353027,
          0.691381573677063,
          -0.10414726287126541,
          2.059237003326416,
          -1.7563409805297852,
          -1.279706358909607,
          5.479431629180908,
          2.2454895973205566,
          1.6520788669586182,
          6.036726474761963,
          -2.6322364807128906,
          3.4744277000427246,
          0.7310585379600525,
          -0.24521851539611816,
          -1.9482017755508423,
          2.6559600830078125,
          2.2779974937438965,
          0.6613351106643677,
          2.841487407684326,
          6.063981056213379,
          0.01319018006324768,
          1.6611049175262451,
          1.8209378719329834,
          2.017805814743042,
          1.0837743282318115,
          1.5763496160507202,
          1.7455695867538452,
          1.193801760673523,
          2.1351728439331055,
          -0.3262953460216522,
          1.0881468057632446,
          0.30075639486312866,
          -0.3576522767543793,
          -0.1900995373725891,
          1.5353481769561768,
          -0.22344154119491577,
          1.7555046081542969,
          -2.039886951446533,
          1.8381978273391724,
          -0.790226936340332,
          -1.2134910821914673,
          -0.4668114483356476,
          3.5346648693084717,
          -0.7223321795463562,
          -1.7394375801086426,
          -2.855245590209961,
          -0.6204264760017395,
          2.754258155822754,
          -1.977777361869812,
          -1.142167091369629,
          -1.4984997510910034,
          -3.0178606510162354,
          -1.104950189590454,
          2.7799789905548096,
          1.8146764039993286,
          -0.19192180037498474,
          0.8379009962081909,
          -3.496438980102539,
          3.9898507595062256,
          -1.074532389640808,
          1.955979585647583,
          -1.9393645524978638,
          0.6878569722175598,
          -1.3247348070144653,
          1.097452163696289,
          -2.4192583560943604,
          2.9969985485076904,
          3.64505672454834,
          -0.9397755861282349,
          -0.041923150420188904,
          -3.157780885696411,
          -3.0273094177246094,
          -3.2140867710113525,
          -3.1643319129943848,
          1.5314377546310425,
          -0.21808308362960815,
          -3.0739896297454834,
          -0.5471287369728088,
          1.243723750114441,
          0.25904735922813416,
          -3.1347789764404297,
          2.1221089363098145,
          -4.108374118804932,
          5.333555221557617,
          1.3722457885742188,
          6.232462406158447,
          3.1412906646728516,
          1.184374213218689,
          1.0036699771881104,
          3.694457530975342,
          3.2876217365264893,
          3.320586919784546,
          4.997281074523926,
          4.2822794914245605,
          3.477724313735962,
          4.686649322509766,
          6.448467254638672,
          2.835256576538086,
          3.167874336242676,
          2.216599225997925,
          1.6042429208755493,
          2.1939916610717773,
          1.907900333404541,
          -6.324235439300537,
          3.608478307723999,
          2.410006046295166,
          1.634817123413086,
          5.087527275085449,
          5.2274489402771,
          6.973680019378662,
          3.683525562286377,
          5.57997989654541,
          1.7564810514450073,
          2.2110652923583984,
          3.4844868183135986,
          3.4497673511505127,
          3.5021567344665527,
          6.537565231323242,
          1.9403849840164185,
          3.906921863555908,
          6.128783702850342,
          3.506437063217163,
          6.1952056884765625,
          1.4026641845703125,
          -0.9175658226013184,
          -1.9767224788665771,
          -1.9409312009811401,
          1.0802398920059204,
          -4.924314022064209,
          3.1112143993377686,
          5.030172348022461,
          -1.8507736921310425,
          -2.4866321086883545,
          0.6451975107192993,
          -4.2391676902771,
          -3.0734498500823975,
          -2.38481068611145,
          -7.062312602996826,
          -3.1011037826538086,
          3.260728597640991,
          0.6925222277641296,
          1.2901819944381714,
          5.459105014801025,
          1.2410154342651367,
          -2.5919601917266846,
          -5.341098785400391,
          -2.790994167327881,
          -2.7875678539276123,
          -1.547457218170166,
          -2.0314276218414307,
          -5.326756954193115,
          2.260223627090454,
          -3.5581130981445312,
          1.9300588369369507,
          -1.348581075668335,
          -0.06657475233078003,
          -5.0485944747924805,
          -4.811142921447754,
          2.875342607498169,
          3.5062127113342285,
          1.2991746664047241,
          0.653351366519928,
          -1.3842822313308716,
          -5.729854106903076,
          4.235599994659424,
          0.434438556432724,
          -0.3421701192855835,
          -0.3552855849266052,
          -1.4154706001281738,
          -1.1740672588348389,
          2.5374867916107178,
          2.6512441635131836,
          -1.9662271738052368,
          -2.3803186416625977,
          -3.13329815864563,
          1.4637315273284912,
          1.3829973936080933,
          0.8679654598236084,
          1.0840814113616943,
          2.50677490234375,
          -0.08333759009838104,
          -0.34983956813812256,
          0.41265687346458435,
          -3.798919439315796,
          -0.7773793339729309,
          -5.065701007843018,
          -3.507211923599243,
          1.7803280353546143,
          -3.612837553024292,
          -2.585893392562866,
          -4.021117687225342,
          2.354177713394165,
          2.6372451782226562,
          0.9183356165885925,
          -1.991109848022461,
          -0.011538722552359104,
          0.0899694412946701,
          1.462382435798645,
          -5.2328290939331055,
          1.8480803966522217,
          -2.824310302734375,
          -0.005023492034524679,
          -3.1273975372314453,
          -0.7333309054374695,
          -0.3591371178627014,
          1.499895691871643,
          0.5909808278083801
         ]
        }
       ],
       "layout": {
        "height": 800,
        "scene": {
         "xaxis": {
          "title": {
           "text": "1st Component"
          }
         },
         "yaxis": {
          "title": {
           "text": "2nd Component"
          }
         },
         "zaxis": {
          "title": {
           "text": "3rd Component"
          }
         }
        },
        "template": {
         "data": {
          "bar": [
           {
            "error_x": {
             "color": "#2a3f5f"
            },
            "error_y": {
             "color": "#2a3f5f"
            },
            "marker": {
             "line": {
              "color": "#E5ECF6",
              "width": 0.5
             },
             "pattern": {
              "fillmode": "overlay",
              "size": 10,
              "solidity": 0.2
             }
            },
            "type": "bar"
           }
          ],
          "barpolar": [
           {
            "marker": {
             "line": {
              "color": "#E5ECF6",
              "width": 0.5
             },
             "pattern": {
              "fillmode": "overlay",
              "size": 10,
              "solidity": 0.2
             }
            },
            "type": "barpolar"
           }
          ],
          "carpet": [
           {
            "aaxis": {
             "endlinecolor": "#2a3f5f",
             "gridcolor": "white",
             "linecolor": "white",
             "minorgridcolor": "white",
             "startlinecolor": "#2a3f5f"
            },
            "baxis": {
             "endlinecolor": "#2a3f5f",
             "gridcolor": "white",
             "linecolor": "white",
             "minorgridcolor": "white",
             "startlinecolor": "#2a3f5f"
            },
            "type": "carpet"
           }
          ],
          "choropleth": [
           {
            "colorbar": {
             "outlinewidth": 0,
             "ticks": ""
            },
            "type": "choropleth"
           }
          ],
          "contour": [
           {
            "colorbar": {
             "outlinewidth": 0,
             "ticks": ""
            },
            "colorscale": [
             [
              0,
              "#0d0887"
             ],
             [
              0.1111111111111111,
              "#46039f"
             ],
             [
              0.2222222222222222,
              "#7201a8"
             ],
             [
              0.3333333333333333,
              "#9c179e"
             ],
             [
              0.4444444444444444,
              "#bd3786"
             ],
             [
              0.5555555555555556,
              "#d8576b"
             ],
             [
              0.6666666666666666,
              "#ed7953"
             ],
             [
              0.7777777777777778,
              "#fb9f3a"
             ],
             [
              0.8888888888888888,
              "#fdca26"
             ],
             [
              1,
              "#f0f921"
             ]
            ],
            "type": "contour"
           }
          ],
          "contourcarpet": [
           {
            "colorbar": {
             "outlinewidth": 0,
             "ticks": ""
            },
            "type": "contourcarpet"
           }
          ],
          "heatmap": [
           {
            "colorbar": {
             "outlinewidth": 0,
             "ticks": ""
            },
            "colorscale": [
             [
              0,
              "#0d0887"
             ],
             [
              0.1111111111111111,
              "#46039f"
             ],
             [
              0.2222222222222222,
              "#7201a8"
             ],
             [
              0.3333333333333333,
              "#9c179e"
             ],
             [
              0.4444444444444444,
              "#bd3786"
             ],
             [
              0.5555555555555556,
              "#d8576b"
             ],
             [
              0.6666666666666666,
              "#ed7953"
             ],
             [
              0.7777777777777778,
              "#fb9f3a"
             ],
             [
              0.8888888888888888,
              "#fdca26"
             ],
             [
              1,
              "#f0f921"
             ]
            ],
            "type": "heatmap"
           }
          ],
          "heatmapgl": [
           {
            "colorbar": {
             "outlinewidth": 0,
             "ticks": ""
            },
            "colorscale": [
             [
              0,
              "#0d0887"
             ],
             [
              0.1111111111111111,
              "#46039f"
             ],
             [
              0.2222222222222222,
              "#7201a8"
             ],
             [
              0.3333333333333333,
              "#9c179e"
             ],
             [
              0.4444444444444444,
              "#bd3786"
             ],
             [
              0.5555555555555556,
              "#d8576b"
             ],
             [
              0.6666666666666666,
              "#ed7953"
             ],
             [
              0.7777777777777778,
              "#fb9f3a"
             ],
             [
              0.8888888888888888,
              "#fdca26"
             ],
             [
              1,
              "#f0f921"
             ]
            ],
            "type": "heatmapgl"
           }
          ],
          "histogram": [
           {
            "marker": {
             "pattern": {
              "fillmode": "overlay",
              "size": 10,
              "solidity": 0.2
             }
            },
            "type": "histogram"
           }
          ],
          "histogram2d": [
           {
            "colorbar": {
             "outlinewidth": 0,
             "ticks": ""
            },
            "colorscale": [
             [
              0,
              "#0d0887"
             ],
             [
              0.1111111111111111,
              "#46039f"
             ],
             [
              0.2222222222222222,
              "#7201a8"
             ],
             [
              0.3333333333333333,
              "#9c179e"
             ],
             [
              0.4444444444444444,
              "#bd3786"
             ],
             [
              0.5555555555555556,
              "#d8576b"
             ],
             [
              0.6666666666666666,
              "#ed7953"
             ],
             [
              0.7777777777777778,
              "#fb9f3a"
             ],
             [
              0.8888888888888888,
              "#fdca26"
             ],
             [
              1,
              "#f0f921"
             ]
            ],
            "type": "histogram2d"
           }
          ],
          "histogram2dcontour": [
           {
            "colorbar": {
             "outlinewidth": 0,
             "ticks": ""
            },
            "colorscale": [
             [
              0,
              "#0d0887"
             ],
             [
              0.1111111111111111,
              "#46039f"
             ],
             [
              0.2222222222222222,
              "#7201a8"
             ],
             [
              0.3333333333333333,
              "#9c179e"
             ],
             [
              0.4444444444444444,
              "#bd3786"
             ],
             [
              0.5555555555555556,
              "#d8576b"
             ],
             [
              0.6666666666666666,
              "#ed7953"
             ],
             [
              0.7777777777777778,
              "#fb9f3a"
             ],
             [
              0.8888888888888888,
              "#fdca26"
             ],
             [
              1,
              "#f0f921"
             ]
            ],
            "type": "histogram2dcontour"
           }
          ],
          "mesh3d": [
           {
            "colorbar": {
             "outlinewidth": 0,
             "ticks": ""
            },
            "type": "mesh3d"
           }
          ],
          "parcoords": [
           {
            "line": {
             "colorbar": {
              "outlinewidth": 0,
              "ticks": ""
             }
            },
            "type": "parcoords"
           }
          ],
          "pie": [
           {
            "automargin": true,
            "type": "pie"
           }
          ],
          "scatter": [
           {
            "fillpattern": {
             "fillmode": "overlay",
             "size": 10,
             "solidity": 0.2
            },
            "type": "scatter"
           }
          ],
          "scatter3d": [
           {
            "line": {
             "colorbar": {
              "outlinewidth": 0,
              "ticks": ""
             }
            },
            "marker": {
             "colorbar": {
              "outlinewidth": 0,
              "ticks": ""
             }
            },
            "type": "scatter3d"
           }
          ],
          "scattercarpet": [
           {
            "marker": {
             "colorbar": {
              "outlinewidth": 0,
              "ticks": ""
             }
            },
            "type": "scattercarpet"
           }
          ],
          "scattergeo": [
           {
            "marker": {
             "colorbar": {
              "outlinewidth": 0,
              "ticks": ""
             }
            },
            "type": "scattergeo"
           }
          ],
          "scattergl": [
           {
            "marker": {
             "colorbar": {
              "outlinewidth": 0,
              "ticks": ""
             }
            },
            "type": "scattergl"
           }
          ],
          "scattermapbox": [
           {
            "marker": {
             "colorbar": {
              "outlinewidth": 0,
              "ticks": ""
             }
            },
            "type": "scattermapbox"
           }
          ],
          "scatterpolar": [
           {
            "marker": {
             "colorbar": {
              "outlinewidth": 0,
              "ticks": ""
             }
            },
            "type": "scatterpolar"
           }
          ],
          "scatterpolargl": [
           {
            "marker": {
             "colorbar": {
              "outlinewidth": 0,
              "ticks": ""
             }
            },
            "type": "scatterpolargl"
           }
          ],
          "scatterternary": [
           {
            "marker": {
             "colorbar": {
              "outlinewidth": 0,
              "ticks": ""
             }
            },
            "type": "scatterternary"
           }
          ],
          "surface": [
           {
            "colorbar": {
             "outlinewidth": 0,
             "ticks": ""
            },
            "colorscale": [
             [
              0,
              "#0d0887"
             ],
             [
              0.1111111111111111,
              "#46039f"
             ],
             [
              0.2222222222222222,
              "#7201a8"
             ],
             [
              0.3333333333333333,
              "#9c179e"
             ],
             [
              0.4444444444444444,
              "#bd3786"
             ],
             [
              0.5555555555555556,
              "#d8576b"
             ],
             [
              0.6666666666666666,
              "#ed7953"
             ],
             [
              0.7777777777777778,
              "#fb9f3a"
             ],
             [
              0.8888888888888888,
              "#fdca26"
             ],
             [
              1,
              "#f0f921"
             ]
            ],
            "type": "surface"
           }
          ],
          "table": [
           {
            "cells": {
             "fill": {
              "color": "#EBF0F8"
             },
             "line": {
              "color": "white"
             }
            },
            "header": {
             "fill": {
              "color": "#C8D4E3"
             },
             "line": {
              "color": "white"
             }
            },
            "type": "table"
           }
          ]
         },
         "layout": {
          "annotationdefaults": {
           "arrowcolor": "#2a3f5f",
           "arrowhead": 0,
           "arrowwidth": 1
          },
          "autotypenumbers": "strict",
          "coloraxis": {
           "colorbar": {
            "outlinewidth": 0,
            "ticks": ""
           }
          },
          "colorscale": {
           "diverging": [
            [
             0,
             "#8e0152"
            ],
            [
             0.1,
             "#c51b7d"
            ],
            [
             0.2,
             "#de77ae"
            ],
            [
             0.3,
             "#f1b6da"
            ],
            [
             0.4,
             "#fde0ef"
            ],
            [
             0.5,
             "#f7f7f7"
            ],
            [
             0.6,
             "#e6f5d0"
            ],
            [
             0.7,
             "#b8e186"
            ],
            [
             0.8,
             "#7fbc41"
            ],
            [
             0.9,
             "#4d9221"
            ],
            [
             1,
             "#276419"
            ]
           ],
           "sequential": [
            [
             0,
             "#0d0887"
            ],
            [
             0.1111111111111111,
             "#46039f"
            ],
            [
             0.2222222222222222,
             "#7201a8"
            ],
            [
             0.3333333333333333,
             "#9c179e"
            ],
            [
             0.4444444444444444,
             "#bd3786"
            ],
            [
             0.5555555555555556,
             "#d8576b"
            ],
            [
             0.6666666666666666,
             "#ed7953"
            ],
            [
             0.7777777777777778,
             "#fb9f3a"
            ],
            [
             0.8888888888888888,
             "#fdca26"
            ],
            [
             1,
             "#f0f921"
            ]
           ],
           "sequentialminus": [
            [
             0,
             "#0d0887"
            ],
            [
             0.1111111111111111,
             "#46039f"
            ],
            [
             0.2222222222222222,
             "#7201a8"
            ],
            [
             0.3333333333333333,
             "#9c179e"
            ],
            [
             0.4444444444444444,
             "#bd3786"
            ],
            [
             0.5555555555555556,
             "#d8576b"
            ],
            [
             0.6666666666666666,
             "#ed7953"
            ],
            [
             0.7777777777777778,
             "#fb9f3a"
            ],
            [
             0.8888888888888888,
             "#fdca26"
            ],
            [
             1,
             "#f0f921"
            ]
           ]
          },
          "colorway": [
           "#636efa",
           "#EF553B",
           "#00cc96",
           "#ab63fa",
           "#FFA15A",
           "#19d3f3",
           "#FF6692",
           "#B6E880",
           "#FF97FF",
           "#FECB52"
          ],
          "font": {
           "color": "#2a3f5f"
          },
          "geo": {
           "bgcolor": "white",
           "lakecolor": "white",
           "landcolor": "#E5ECF6",
           "showlakes": true,
           "showland": true,
           "subunitcolor": "white"
          },
          "hoverlabel": {
           "align": "left"
          },
          "hovermode": "closest",
          "mapbox": {
           "style": "light"
          },
          "paper_bgcolor": "white",
          "plot_bgcolor": "#E5ECF6",
          "polar": {
           "angularaxis": {
            "gridcolor": "white",
            "linecolor": "white",
            "ticks": ""
           },
           "bgcolor": "#E5ECF6",
           "radialaxis": {
            "gridcolor": "white",
            "linecolor": "white",
            "ticks": ""
           }
          },
          "scene": {
           "xaxis": {
            "backgroundcolor": "#E5ECF6",
            "gridcolor": "white",
            "gridwidth": 2,
            "linecolor": "white",
            "showbackground": true,
            "ticks": "",
            "zerolinecolor": "white"
           },
           "yaxis": {
            "backgroundcolor": "#E5ECF6",
            "gridcolor": "white",
            "gridwidth": 2,
            "linecolor": "white",
            "showbackground": true,
            "ticks": "",
            "zerolinecolor": "white"
           },
           "zaxis": {
            "backgroundcolor": "#E5ECF6",
            "gridcolor": "white",
            "gridwidth": 2,
            "linecolor": "white",
            "showbackground": true,
            "ticks": "",
            "zerolinecolor": "white"
           }
          },
          "shapedefaults": {
           "line": {
            "color": "#2a3f5f"
           }
          },
          "ternary": {
           "aaxis": {
            "gridcolor": "white",
            "linecolor": "white",
            "ticks": ""
           },
           "baxis": {
            "gridcolor": "white",
            "linecolor": "white",
            "ticks": ""
           },
           "bgcolor": "#E5ECF6",
           "caxis": {
            "gridcolor": "white",
            "linecolor": "white",
            "ticks": ""
           }
          },
          "title": {
           "x": 0.05
          },
          "xaxis": {
           "automargin": true,
           "gridcolor": "white",
           "linecolor": "white",
           "ticks": "",
           "title": {
            "standoff": 15
           },
           "zerolinecolor": "white",
           "zerolinewidth": 2
          },
          "yaxis": {
           "automargin": true,
           "gridcolor": "white",
           "linecolor": "white",
           "ticks": "",
           "title": {
            "standoff": 15
           },
           "zerolinecolor": "white",
           "zerolinewidth": 2
          }
         }
        },
        "title": {
         "text": "<b>radial distance</b>",
         "x": 0.5,
         "xanchor": "center",
         "y": 0.85,
         "yanchor": "top"
        },
        "width": 1000
       }
      },
      "text/html": [
       "<div>                            <div id=\"cde1bd24-9af0-4fbf-bd0a-1dd5311ead55\" class=\"plotly-graph-div\" style=\"height:800px; width:1000px;\"></div>            <script type=\"text/javascript\">                require([\"plotly\"], function(Plotly) {                    window.PLOTLYENV=window.PLOTLYENV || {};                                    if (document.getElementById(\"cde1bd24-9af0-4fbf-bd0a-1dd5311ead55\")) {                    Plotly.newPlot(                        \"cde1bd24-9af0-4fbf-bd0a-1dd5311ead55\",                        [{\"marker\":{\"color\":\"black\",\"opacity\":0.8,\"size\":5},\"mode\":\"markers\",\"x\":[-4.5760626792907715,-0.8932235836982727,-3.7120604515075684,-1.892551064491272,-2.7910804748535156,-4.496692180633545,-2.6186702251434326,1.919529914855957,-3.018754005432129,-4.847369194030762,-0.43242931365966797,-1.9427751302719116,-4.076068878173828,-3.323152780532837,2.0576229095458984,-0.48127180337905884,-5.587585926055908,5.7010579109191895,1.466315746307373,0.3887386918067932,-2.348139762878418,-4.604316711425781,-1.6766968965530396,-1.6998482942581177,-4.604599475860596,-5.657450199127197,-5.87903356552124,-1.319612979888916,8.290471076965332,-2.606909990310669,-3.2260987758636475,-3.8650572299957275,3.059896469116211,-3.842942476272583,-2.9698410034179688,-2.0989491939544678,-3.1676509380340576,2.581031084060669,-7.267542362213135,1.5707459449768066,-5.313350200653076,-1.5823217630386353,3.461361885070801,0.6342701315879822,-3.05177903175354,1.861317753791809,-0.15078416466712952,-2.7583532333374023,-4.778030872344971,-1.7987298965454102,-4.3043694496154785,1.2970378398895264,-2.7893974781036377,2.8283979892730713,-4.954529762268066,1.0086548328399658,-2.736175060272217,-0.6516625285148621,3.3198931217193604,-2.4993791580200195,1.9530376195907593,1.4406256675720215,3.465158700942993,2.1083309650421143,-1.6774051189422607,-0.6385163068771362,-3.0864760875701904,6.410425186157227,2.524569511413574,4.650489807128906,6.7426886558532715,-4.441471576690674,4.6329545974731445,1.9796733856201172,-0.39104920625686646,1.6098666191101074,6.949484825134277,-2.6757330894470215,-5.6424336433410645,-5.177999019622803,-5.7709431648254395,2.5857555866241455,-5.662247180938721,0.5897578001022339,0.378684401512146,2.5874154567718506,-5.447255611419678,4.127579212188721,4.526998043060303,1.0945552587509155,-4.1101861000061035,-5.546571254730225,-2.3820979595184326,-5.695276260375977,-7.176786422729492,-5.830595970153809,-1.6663044691085815,-3.382283926010132,-1.1326265335083008,-6.2350969314575195,-6.699410915374756,1.8288061618804932,1.7514182329177856,2.610506296157837,-2.594250202178955,0.3414616882801056,-5.7107625007629395,3.6012933254241943,2.7519869804382324,6.657390117645264,-3.053980827331543,0.17351603507995605,1.4575178623199463,6.169722080230713,-0.11091794073581696,0.1339515894651413,-7.797801971435547,-5.694843769073486,-3.684454917907715,-3.3148622512817383,-4.366377830505371,1.6817407608032227,-5.332089900970459,3.759373188018799,0.023763755336403847,3.6599295139312744,4.6177144050598145,-5.660096168518066,-6.30813455581665,5.033656120300293,2.5324745178222656,-0.5345323085784912,3.8577702045440674,-4.682002067565918,-2.091155529022217,0.8305271863937378,1.8861364126205444,4.221814155578613,2.339552164077759,2.7232131958007812,2.98586368560791,-2.7104156017303467,-6.154538631439209,0.8331226706504822,-2.6604459285736084,-3.3141167163848877,1.3214837312698364,2.639714479446411,-5.266632556915283,-1.795845866203308,-3.2682149410247803,-3.3060123920440674,-0.497747004032135,-1.1694960594177246,-7.892618179321289,-2.946432590484619,-1.5794298648834229,2.4117908477783203,-6.035188674926758,-7.06712532043457,2.9082045555114746,-6.747227668762207,-2.7162222862243652,-1.9118518829345703,-1.1757514476776123,-2.980620861053467,-6.249421119689941,-6.439361572265625,-5.415477275848389,-7.314622402191162,-1.117748737335205,-3.3133914470672607,-3.2457973957061768,-0.7219889760017395,-0.22527313232421875,-4.617466449737549,-1.5193358659744263,0.8249951004981995,-5.9909586906433105,-5.357977867126465,-4.841671466827393,-4.518615245819092,0.015684565529227257,-5.091067314147949,-3.68546462059021,-2.0327939987182617,-1.3944451808929443,2.0824201107025146,-5.51666784286499,-1.6608631610870361,5.751861095428467,1.1090582609176636,7.556559085845947,-4.788984298706055,-3.6785149574279785,3.028399705886841,-5.173915386199951,-4.008666515350342,-7.353692531585693,3.1938509941101074,1.6914087533950806,-7.126920700073242,-6.03397798538208,-6.833116054534912,-5.420348644256592,0.426017165184021,-3.6758973598480225,-5.1186957359313965,-5.2451019287109375,-3.898941993713379,4.081357479095459,-5.765612602233887,-4.990771770477295,-1.2936748266220093,-1.3806729316711426,-1.6271740198135376,-2.460407018661499,-7.186514854431152,-0.9419307112693787,-2.7921998500823975,0.4797650873661041,1.5026191473007202,-7.89868688583374,-4.2969069480896,-2.6399526596069336,-5.259832859039307,0.14237013459205627,-3.188519239425659,-1.7752604484558105,-0.5502457618713379,-4.683922290802002,-3.233719825744629,-5.049738883972168,-4.56035041809082,-1.8808728456497192,-3.933164358139038,4.923308372497559,-3.964040994644165,-4.198779582977295,-6.239009857177734,1.4927257299423218,-3.657235860824585,-1.9921985864639282,-4.432431697845459,6.6585869789123535,-1.998498797416687,-4.720232963562012,6.391847133636475,3.3645291328430176,3.928865432739258,3.426265239715576,5.882422924041748,-4.434382438659668,3.3923089504241943,-6.019491195678711,2.703500509262085,-1.7893317937850952,3.8566484451293945,-3.091423511505127,1.6161482334136963,-1.038989543914795,-3.844348192214966,5.755807876586914,5.300054550170898,-5.0203423500061035,-3.2177414894104004,-4.391151428222656,4.526699066162109,2.11942720413208,-5.039697647094727,2.301281690597534,-3.8397531509399414,1.8698242902755737,-0.8041014075279236,-4.079687595367432,-3.099212408065796,5.239437103271484,3.2412378787994385,-2.5834007263183594,-5.179755687713623,2.5510740280151367,-1.9159127473831177,0.7357227802276611,-2.2633872032165527,3.4559919834136963,-5.319084167480469,3.1735711097717285,1.1716324090957642,-1.7797478437423706,-0.7402799129486084,-2.367678165435791,1.651655912399292,3.334146022796631,-0.551362156867981,4.176345348358154,2.4816195964813232,6.7738165855407715,-3.7105813026428223,3.690166473388672,-0.9216957688331604,1.4367398023605347,1.3702279329299927,0.24631665647029877,-2.469860315322876,0.3445684313774109,3.0647695064544678,-0.04552285745739937,4.441391944885254,-0.16176395118236542,2.7671689987182617,2.4503471851348877,5.573736190795898,0.8039751052856445,0.5559785962104797,-0.027167582884430885,-0.5921715497970581,2.5843613147735596,3.568028211593628,3.3454959392547607,4.267733573913574,2.4736692905426025,1.223037838935852,-0.14808803796768188,3.26576566696167,3.9185121059417725,0.33337342739105225,2.769479274749756,0.5798346400260925,4.385947227478027,2.667525291442871,3.5640203952789307,2.262676239013672,2.155311107635498,-5.219326496124268,-5.604599475860596,-0.8892355561256409,-1.244789719581604,-5.119839668273926,-1.2759259939193726,1.7617987394332886,-2.6059484481811523,-7.236912250518799,-3.088529586791992,1.7024644613265991,-6.772773265838623,2.6304595470428467,0.3866303861141205,-7.266374111175537,0.40152451395988464,-1.510414958000183,-8.317815780639648,2.7028324604034424,-4.100143909454346,-6.519662857055664,0.3459213972091675,-2.479585647583008,0.4885750114917755,-1.2798138856887817,-2.1821675300598145,-0.504595935344696,-3.1518402099609375,2.3704564571380615,-2.6636741161346436,-0.9560494422912598,-0.6285063028335571,3.499289035797119,-4.338468074798584,-2.5798285007476807,2.809709310531616,3.8012988567352295,-3.0450220108032227,-3.120958089828491,1.8579137325286865,1.606722116470337,6.604646682739258,0.5565437078475952,-0.3985486924648285,6.159878730773926,-1.9964817762374878,-2.5007827281951904,-1.944192886352539,-4.803502082824707,3.250778913497925,-7.554473400115967,-5.010073661804199,2.086805820465088,-3.7751147747039795,-3.915403366088867,-2.215392827987671,4.570435047149658,-6.839993476867676,-6.596458435058594,-7.139561176300049,-7.29398775100708,-6.5293288230896,-7.172225475311279,-6.4078593254089355,-6.845428466796875,-7.354949951171875,-6.866085529327393,-2.1462769508361816,-6.2680134773254395,-4.8883161544799805,-6.375711441040039,-6.512606620788574,-5.065238952636719,-7.0259552001953125,-6.864325523376465,-6.082874774932861,-7.938066482543945,-6.319859981536865,1.860905647277832,-7.3053741455078125,-6.557943344116211,-2.5721914768218994,-6.4007768630981445],\"y\":[2.7983760833740234,-3.2125065326690674,-4.727011203765869,8.307832717895508,-2.310737371444702,1.1097487211227417,-2.1274023056030273,1.0552573204040527,-2.712675094604492,-6.942422389984131,-2.6151082515716553,5.524333477020264,-5.831099033355713,-4.768650054931641,0.9040819406509399,7.049415111541748,-6.9900383949279785,0.054132893681526184,-3.0082132816314697,-4.818392753601074,4.949549674987793,7.246116638183594,0.4239661693572998,2.49112868309021,-7.887746810913086,-9.362255096435547,-9.085498809814453,-2.7946572303771973,-1.6149883270263672,-3.461883068084717,-6.641635417938232,2.4575421810150146,0.5474701523780823,-6.726868152618408,0.006011705379933119,-8.01533031463623,-8.92556381225586,3.147580623626709,8.157576560974121,0.2827884256839752,-6.744527339935303,-2.819291830062866,0.2088465541601181,3.4655911922454834,-8.1701021194458,1.5288987159729004,1.0246024131774902,-1.657368540763855,-6.971832275390625,-3.9844586849212646,2.1046411991119385,2.3795273303985596,-4.141693115234375,3.84413480758667,-5.650420188903809,-4.574735164642334,-4.6313276290893555,-3.4733989238739014,3.4487011432647705,0.3461824059486389,4.07448148727417,-2.168811559677124,-1.2589057683944702,-0.844568133354187,-7.847678184509277,-4.2111639976501465,-0.3421577215194702,-2.9964311122894287,1.8853487968444824,-0.984528124332428,-0.5277033448219299,4.164078712463379,3.285916566848755,-6.1109161376953125,-8.007019996643066,2.1942014694213867,-2.535295009613037,-1.676231861114502,-8.193612098693848,5.296163082122803,3.8922922611236572,0.4810448884963989,3.9504647254943848,4.0534820556640625,-3.271219253540039,0.3921986520290375,6.137836456298828,3.6206274032592773,-1.1296772956848145,-3.2454075813293457,2.364536762237549,3.0338048934936523,-9.187817573547363,0.8083315491676331,5.857883930206299,4.016688823699951,4.704499244689941,7.448065280914307,-7.819567680358887,3.9325759410858154,5.623142242431641,-2.2807531356811523,0.2163766771554947,-0.6217816472053528,0.046590983867645264,4.430714130401611,0.7720111608505249,-1.6062310934066772,2.3195528984069824,-0.2058684080839157,-4.338991641998291,-2.64642071723938,-1.8355299234390259,-0.3810248076915741,-3.030644655227661,3.1259026527404785,3.945647716522217,5.140627861022949,0.646439790725708,-3.2214314937591553,0.6195846199989319,-0.3539832532405853,-2.6071650981903076,0.28162074089050293,3.421480655670166,-1.6211186647415161,2.722172498703003,4.06470251083374,5.32034969329834,1.6961417198181152,1.2950040102005005,7.085249423980713,1.0193923711776733,-7.9170684814453125,3.7373907566070557,1.06205415725708,3.606504440307617,2.1535191535949707,1.5034397840499878,-0.5990498065948486,0.07161285728216171,2.957620859146118,9.98609447479248,-2.461113214492798,5.025137424468994,4.69366455078125,3.1038269996643066,3.828646183013916,-2.4646737575531006,3.309936285018921,1.8492214679718018,3.4568471908569336,3.670757293701172,2.099855422973633,4.02790641784668,6.736730098724365,1.665891408920288,-0.5802159309387207,9.167984008789062,4.794859409332275,0.2692541778087616,5.859462261199951,5.030025005340576,2.0715787410736084,-1.5104721784591675,4.23839807510376,8.673450469970703,8.466340065002441,8.240376472473145,5.5289626121521,5.882368087768555,4.673437595367432,6.360124588012695,0.6207271218299866,3.1350314617156982,7.824944496154785,2.53566575050354,3.1397547721862793,-8.178528785705566,4.807224273681641,-5.969071388244629,2.167487382888794,2.4329066276550293,-10.019111633300781,2.6186635494232178,5.2613725662231445,7.368588447570801,-2.4509902000427246,-8.108749389648438,0.6653866171836853,0.13840065896511078,1.05832839012146,-0.05268144980072975,7.616789817810059,2.08539080619812,-0.11610416322946548,4.341660022735596,-0.5417555570602417,3.440696954727173,0.3120538294315338,2.4411909580230713,3.4252798557281494,4.447821140289307,6.006990432739258,3.539515972137451,2.080338954925537,-1.0542595386505127,-9.97767448425293,7.563353538513184,1.5678625106811523,2.9919354915618896,5.582502365112305,8.108576774597168,-0.7507373690605164,1.6983004808425903,2.648796796798706,2.436469793319702,3.4940030574798584,1.8631036281585693,1.9658098220825195,4.263463020324707,-0.27524688839912415,3.7801098823547363,1.3177990913391113,7.602721214294434,-0.7882525324821472,2.9438037872314453,6.4946184158325195,2.7551703453063965,-5.202579975128174,1.0605756044387817,4.560024261474609,-0.10173249244689941,0.7200982570648193,5.241751670837402,2.6266777515411377,2.0798683166503906,2.236203670501709,7.011643886566162,4.427599906921387,-2.869339942932129,7.019981384277344,5.862255096435547,0.30499592423439026,-0.433999627828598,5.163734436035156,5.254613399505615,-0.4337064027786255,3.636760711669922,3.4360058307647705,1.1786623001098633,0.503979504108429,6.366988658905029,3.5748467445373535,3.77651047706604,2.9450645446777344,0.35255587100982666,-0.7035160064697266,-2.4445841312408447,2.75172758102417,1.243334412574768,-6.630657196044922,0.9530823230743408,1.5274378061294556,6.440154075622559,2.8350682258605957,3.4154460430145264,1.2032768726348877,3.206571102142334,-0.014813108369708061,-0.35715043544769287,-5.810752868652344,2.1939308643341064,2.9840288162231445,1.81113862991333,6.379447937011719,1.365177035331726,-0.9528958201408386,6.7977399826049805,2.2445755004882812,0.3438427746295929,1.4132486581802368,2.6899542808532715,8.793771743774414,2.3737802505493164,2.0203542709350586,-1.2000515460968018,-4.217940807342529,3.3636693954467773,1.0652929544448853,4.863011360168457,-2.2893753051757812,-0.024251308292150497,7.184247970581055,-0.46185240149497986,-1.312617540359497,-0.9795504212379456,-6.865602493286133,-0.6799967288970947,-1.8038195371627808,-1.4990226030349731,2.9873785972595215,-0.9416585564613342,-1.8203758001327515,-0.5672813057899475,-0.33428457379341125,-2.1012818813323975,-0.7448104023933411,-7.624675273895264,3.169318914413452,-1.6422220468521118,-0.9365644454956055,-4.413426399230957,-1.4880890846252441,-2.4316656589508057,-3.1275317668914795,-0.06973282992839813,-0.09154433757066727,0.024735474959015846,-0.6676151156425476,1.6401214599609375,-2.246691942214966,-7.653791904449463,-1.077562928199768,-0.6800636053085327,-1.5711109638214111,-1.0162556171417236,-2.4580349922180176,-0.7624976634979248,-0.24511389434337616,-0.10628998279571533,0.008396007120609283,-2.4775824546813965,-5.3035502433776855,4.266507625579834,2.8184709548950195,-3.876624822616577,2.272584915161133,6.606875419616699,2.2771694660186768,-1.1915714740753174,8.06687068939209,-5.895118713378906,-2.4315929412841797,5.257503509521484,3.479138135910034,-3.254619836807251,3.8524820804595947,4.928544044494629,-3.3540256023406982,4.600205898284912,1.580779790878296,8.256217956542969,6.161184310913086,-4.273560047149658,1.7391273975372314,-4.806836128234863,3.4511826038360596,-0.8345745205879211,-3.1310513019561768,7.913167953491211,0.39179477095603943,-6.553591251373291,1.4958783388137817,-4.256222724914551,-3.4461326599121094,4.089431285858154,-3.629194974899292,0.09813740849494934,-4.54200553894043,-5.9081525802612305,-2.0999834537506104,-6.470381259918213,1.209090232849121,-0.10358870774507523,-2.873488664627075,-4.14118766784668,-1.5878933668136597,3.4751596450805664,1.9489951133728027,-6.261025905609131,5.183409214019775,-8.404300689697266,3.651618719100952,-7.2174506187438965,3.573150396347046,-6.664519786834717,-4.705194473266602,-6.374738693237305,3.4862864017486572,9.6259126663208,9.902725219726562,7.296133518218994,8.572517395019531,5.251212120056152,7.466188430786133,8.851067543029785,5.673238277435303,8.136893272399902,5.668484687805176,7.5535454750061035,9.112672805786133,8.620179176330566,6.683819770812988,9.777179718017578,9.228553771972656,9.763678550720215,6.090559482574463,8.542693138122559,6.1845831871032715,9.522298812866211,2.380451202392578,8.500795364379883,10.303668975830078,8.985639572143555,9.30462646484375],\"z\":[-2.9608583450317383,0.3799033463001251,1.1357371807098389,1.4576181173324585,2.768763542175293,-1.017215609550476,3.6375572681427,0.0450475811958313,-1.0532022714614868,0.9360457062721252,-5.26507043838501,-0.1485270857810974,0.6339069604873657,0.8366841077804565,1.7063732147216797,1.377297043800354,0.7034738659858704,2.6914920806884766,0.33345332741737366,-2.609706401824951,0.9875088930130005,-0.21451278030872345,2.7241222858428955,-0.7848405241966248,-2.1534128189086914,-1.1075408458709717,-0.6074270009994507,-0.4529094696044922,1.0585942268371582,2.6436214447021484,3.089299440383911,-1.2431474924087524,-0.9862253069877625,-1.1874127388000488,1.806971788406372,2.402351140975952,0.09943609684705734,-0.11647195369005203,-2.4813711643218994,-1.7355057001113892,0.346118688583374,0.8841925859451294,4.130671977996826,-0.37659329175949097,1.9922683238983154,4.122742176055908,5.740640163421631,2.973544120788574,0.824476957321167,3.329606533050537,-4.634267807006836,-3.1280648708343506,2.2666656970977783,0.7676052451133728,-0.7915017008781433,1.4680081605911255,0.7801655530929565,0.2134319692850113,-0.11962587386369705,-0.012767031788825989,-3.015824794769287,1.8928860425949097,2.4514002799987793,4.138703346252441,1.7345056533813477,1.629650592803955,4.262699127197266,-0.3351615071296692,1.5371266603469849,2.381957530975342,-0.26984360814094543,-4.889847755432129,-0.47077029943466187,-5.535043716430664,2.2102673053741455,-3.284191131591797,0.232106015086174,-1.5078922510147095,-2.4091145992279053,-0.8223257064819336,-2.259470224380493,3.161947727203369,-2.0518906116485596,-0.4462548792362213,-7.0587944984436035,-3.214949607849121,-2.534311294555664,-1.1450674533843994,1.6671347618103027,0.7794183492660522,-4.521744728088379,-5.260082721710205,0.5298601388931274,-5.545866012573242,-3.3430263996124268,-5.230831146240234,1.0354210138320923,-0.06952253729104996,0.969933271408081,-2.9929511547088623,-5.043866157531738,1.5463720560073853,1.3732819557189941,0.4817085564136505,0.24675288796424866,3.4319159984588623,-5.5577826499938965,-0.46685805916786194,-0.4319423735141754,-0.17202919721603394,0.7259149551391602,1.7493829727172852,-3.9265360832214355,-0.6542503833770752,0.21425394713878632,1.3741313219070435,0.35977068543434143,0.8145296573638916,0.5176531076431274,-1.1064486503601074,-2.188938617706299,1.4033223390579224,3.50437068939209,-1.790297269821167,-0.6718348860740662,-0.28160741925239563,0.7907835841178894,-5.26139497756958,0.08602540194988251,1.1567440032958984,2.2737395763397217,0.7445430755615234,-0.4512006938457489,-2.31427001953125,2.3636248111724854,6.505356788635254,-2.7102458477020264,4.368854522705078,2.320845365524292,-1.9487719535827637,-1.0761518478393555,0.9127764105796814,1.4735649824142456,-4.849428176879883,3.5083084106445312,3.397951602935791,1.3670326471328735,-1.4061877727508545,3.410130023956299,1.1580402851104736,-2.586303234100342,0.37582796812057495,1.8753570318222046,6.021730899810791,0.8721516132354736,2.8359360694885254,-0.9696561098098755,0.6506263017654419,-1.3079687356948853,1.1427459716796875,-2.330066204071045,1.0207329988479614,3.676373243331909,0.1811356395483017,-1.0245506763458252,0.5398154258728027,0.9127053022384644,1.3158087730407715,2.1948235034942627,0.9584187865257263,0.628176212310791,3.377976655960083,-0.9438662528991699,-1.554161548614502,0.6628583073616028,0.41637203097343445,5.5568437576293945,1.8477786779403687,-2.477257490158081,0.0712902843952179,-0.22072723507881165,1.545749306678772,1.193082571029663,-0.41261595487594604,1.162551999092102,1.7576966285705566,2.1519596576690674,-0.32877418398857117,-2.7012758255004883,-0.5848796367645264,4.740434169769287,6.084258079528809,-0.13686297833919525,2.182901382446289,-2.322596788406372,-1.5545451641082764,1.0250786542892456,1.85305655002594,1.2441316843032837,-0.5649045705795288,4.817012786865234,1.6789393424987793,0.07161320000886917,-5.482336044311523,1.869604468345642,1.8770637512207031,2.241860866546631,-0.40967097878456116,-0.8162687420845032,-2.4134726524353027,0.691381573677063,-0.10414726287126541,2.059237003326416,-1.7563409805297852,-1.279706358909607,5.479431629180908,2.2454895973205566,1.6520788669586182,6.036726474761963,-2.6322364807128906,3.4744277000427246,0.7310585379600525,-0.24521851539611816,-1.9482017755508423,2.6559600830078125,2.2779974937438965,0.6613351106643677,2.841487407684326,6.063981056213379,0.01319018006324768,1.6611049175262451,1.8209378719329834,2.017805814743042,1.0837743282318115,1.5763496160507202,1.7455695867538452,1.193801760673523,2.1351728439331055,-0.3262953460216522,1.0881468057632446,0.30075639486312866,-0.3576522767543793,-0.1900995373725891,1.5353481769561768,-0.22344154119491577,1.7555046081542969,-2.039886951446533,1.8381978273391724,-0.790226936340332,-1.2134910821914673,-0.4668114483356476,3.5346648693084717,-0.7223321795463562,-1.7394375801086426,-2.855245590209961,-0.6204264760017395,2.754258155822754,-1.977777361869812,-1.142167091369629,-1.4984997510910034,-3.0178606510162354,-1.104950189590454,2.7799789905548096,1.8146764039993286,-0.19192180037498474,0.8379009962081909,-3.496438980102539,3.9898507595062256,-1.074532389640808,1.955979585647583,-1.9393645524978638,0.6878569722175598,-1.3247348070144653,1.097452163696289,-2.4192583560943604,2.9969985485076904,3.64505672454834,-0.9397755861282349,-0.041923150420188904,-3.157780885696411,-3.0273094177246094,-3.2140867710113525,-3.1643319129943848,1.5314377546310425,-0.21808308362960815,-3.0739896297454834,-0.5471287369728088,1.243723750114441,0.25904735922813416,-3.1347789764404297,2.1221089363098145,-4.108374118804932,5.333555221557617,1.3722457885742188,6.232462406158447,3.1412906646728516,1.184374213218689,1.0036699771881104,3.694457530975342,3.2876217365264893,3.320586919784546,4.997281074523926,4.2822794914245605,3.477724313735962,4.686649322509766,6.448467254638672,2.835256576538086,3.167874336242676,2.216599225997925,1.6042429208755493,2.1939916610717773,1.907900333404541,-6.324235439300537,3.608478307723999,2.410006046295166,1.634817123413086,5.087527275085449,5.2274489402771,6.973680019378662,3.683525562286377,5.57997989654541,1.7564810514450073,2.2110652923583984,3.4844868183135986,3.4497673511505127,3.5021567344665527,6.537565231323242,1.9403849840164185,3.906921863555908,6.128783702850342,3.506437063217163,6.1952056884765625,1.4026641845703125,-0.9175658226013184,-1.9767224788665771,-1.9409312009811401,1.0802398920059204,-4.924314022064209,3.1112143993377686,5.030172348022461,-1.8507736921310425,-2.4866321086883545,0.6451975107192993,-4.2391676902771,-3.0734498500823975,-2.38481068611145,-7.062312602996826,-3.1011037826538086,3.260728597640991,0.6925222277641296,1.2901819944381714,5.459105014801025,1.2410154342651367,-2.5919601917266846,-5.341098785400391,-2.790994167327881,-2.7875678539276123,-1.547457218170166,-2.0314276218414307,-5.326756954193115,2.260223627090454,-3.5581130981445312,1.9300588369369507,-1.348581075668335,-0.06657475233078003,-5.0485944747924805,-4.811142921447754,2.875342607498169,3.5062127113342285,1.2991746664047241,0.653351366519928,-1.3842822313308716,-5.729854106903076,4.235599994659424,0.434438556432724,-0.3421701192855835,-0.3552855849266052,-1.4154706001281738,-1.1740672588348389,2.5374867916107178,2.6512441635131836,-1.9662271738052368,-2.3803186416625977,-3.13329815864563,1.4637315273284912,1.3829973936080933,0.8679654598236084,1.0840814113616943,2.50677490234375,-0.08333759009838104,-0.34983956813812256,0.41265687346458435,-3.798919439315796,-0.7773793339729309,-5.065701007843018,-3.507211923599243,1.7803280353546143,-3.612837553024292,-2.585893392562866,-4.021117687225342,2.354177713394165,2.6372451782226562,0.9183356165885925,-1.991109848022461,-0.011538722552359104,0.0899694412946701,1.462382435798645,-5.2328290939331055,1.8480803966522217,-2.824310302734375,-0.005023492034524679,-3.1273975372314453,-0.7333309054374695,-0.3591371178627014,1.499895691871643,0.5909808278083801],\"type\":\"scatter3d\"}],                        {\"height\":800,\"scene\":{\"xaxis\":{\"title\":{\"text\":\"1st Component\"}},\"yaxis\":{\"title\":{\"text\":\"2nd Component\"}},\"zaxis\":{\"title\":{\"text\":\"3rd Component\"}}},\"title\":{\"text\":\"<b>radial distance</b>\",\"x\":0.5,\"xanchor\":\"center\",\"y\":0.85,\"yanchor\":\"top\"},\"width\":1000,\"template\":{\"data\":{\"histogram2dcontour\":[{\"type\":\"histogram2dcontour\",\"colorbar\":{\"outlinewidth\":0,\"ticks\":\"\"},\"colorscale\":[[0.0,\"#0d0887\"],[0.1111111111111111,\"#46039f\"],[0.2222222222222222,\"#7201a8\"],[0.3333333333333333,\"#9c179e\"],[0.4444444444444444,\"#bd3786\"],[0.5555555555555556,\"#d8576b\"],[0.6666666666666666,\"#ed7953\"],[0.7777777777777778,\"#fb9f3a\"],[0.8888888888888888,\"#fdca26\"],[1.0,\"#f0f921\"]]}],\"choropleth\":[{\"type\":\"choropleth\",\"colorbar\":{\"outlinewidth\":0,\"ticks\":\"\"}}],\"histogram2d\":[{\"type\":\"histogram2d\",\"colorbar\":{\"outlinewidth\":0,\"ticks\":\"\"},\"colorscale\":[[0.0,\"#0d0887\"],[0.1111111111111111,\"#46039f\"],[0.2222222222222222,\"#7201a8\"],[0.3333333333333333,\"#9c179e\"],[0.4444444444444444,\"#bd3786\"],[0.5555555555555556,\"#d8576b\"],[0.6666666666666666,\"#ed7953\"],[0.7777777777777778,\"#fb9f3a\"],[0.8888888888888888,\"#fdca26\"],[1.0,\"#f0f921\"]]}],\"heatmap\":[{\"type\":\"heatmap\",\"colorbar\":{\"outlinewidth\":0,\"ticks\":\"\"},\"colorscale\":[[0.0,\"#0d0887\"],[0.1111111111111111,\"#46039f\"],[0.2222222222222222,\"#7201a8\"],[0.3333333333333333,\"#9c179e\"],[0.4444444444444444,\"#bd3786\"],[0.5555555555555556,\"#d8576b\"],[0.6666666666666666,\"#ed7953\"],[0.7777777777777778,\"#fb9f3a\"],[0.8888888888888888,\"#fdca26\"],[1.0,\"#f0f921\"]]}],\"heatmapgl\":[{\"type\":\"heatmapgl\",\"colorbar\":{\"outlinewidth\":0,\"ticks\":\"\"},\"colorscale\":[[0.0,\"#0d0887\"],[0.1111111111111111,\"#46039f\"],[0.2222222222222222,\"#7201a8\"],[0.3333333333333333,\"#9c179e\"],[0.4444444444444444,\"#bd3786\"],[0.5555555555555556,\"#d8576b\"],[0.6666666666666666,\"#ed7953\"],[0.7777777777777778,\"#fb9f3a\"],[0.8888888888888888,\"#fdca26\"],[1.0,\"#f0f921\"]]}],\"contourcarpet\":[{\"type\":\"contourcarpet\",\"colorbar\":{\"outlinewidth\":0,\"ticks\":\"\"}}],\"contour\":[{\"type\":\"contour\",\"colorbar\":{\"outlinewidth\":0,\"ticks\":\"\"},\"colorscale\":[[0.0,\"#0d0887\"],[0.1111111111111111,\"#46039f\"],[0.2222222222222222,\"#7201a8\"],[0.3333333333333333,\"#9c179e\"],[0.4444444444444444,\"#bd3786\"],[0.5555555555555556,\"#d8576b\"],[0.6666666666666666,\"#ed7953\"],[0.7777777777777778,\"#fb9f3a\"],[0.8888888888888888,\"#fdca26\"],[1.0,\"#f0f921\"]]}],\"surface\":[{\"type\":\"surface\",\"colorbar\":{\"outlinewidth\":0,\"ticks\":\"\"},\"colorscale\":[[0.0,\"#0d0887\"],[0.1111111111111111,\"#46039f\"],[0.2222222222222222,\"#7201a8\"],[0.3333333333333333,\"#9c179e\"],[0.4444444444444444,\"#bd3786\"],[0.5555555555555556,\"#d8576b\"],[0.6666666666666666,\"#ed7953\"],[0.7777777777777778,\"#fb9f3a\"],[0.8888888888888888,\"#fdca26\"],[1.0,\"#f0f921\"]]}],\"mesh3d\":[{\"type\":\"mesh3d\",\"colorbar\":{\"outlinewidth\":0,\"ticks\":\"\"}}],\"scatter\":[{\"fillpattern\":{\"fillmode\":\"overlay\",\"size\":10,\"solidity\":0.2},\"type\":\"scatter\"}],\"parcoords\":[{\"type\":\"parcoords\",\"line\":{\"colorbar\":{\"outlinewidth\":0,\"ticks\":\"\"}}}],\"scatterpolargl\":[{\"type\":\"scatterpolargl\",\"marker\":{\"colorbar\":{\"outlinewidth\":0,\"ticks\":\"\"}}}],\"bar\":[{\"error_x\":{\"color\":\"#2a3f5f\"},\"error_y\":{\"color\":\"#2a3f5f\"},\"marker\":{\"line\":{\"color\":\"#E5ECF6\",\"width\":0.5},\"pattern\":{\"fillmode\":\"overlay\",\"size\":10,\"solidity\":0.2}},\"type\":\"bar\"}],\"scattergeo\":[{\"type\":\"scattergeo\",\"marker\":{\"colorbar\":{\"outlinewidth\":0,\"ticks\":\"\"}}}],\"scatterpolar\":[{\"type\":\"scatterpolar\",\"marker\":{\"colorbar\":{\"outlinewidth\":0,\"ticks\":\"\"}}}],\"histogram\":[{\"marker\":{\"pattern\":{\"fillmode\":\"overlay\",\"size\":10,\"solidity\":0.2}},\"type\":\"histogram\"}],\"scattergl\":[{\"type\":\"scattergl\",\"marker\":{\"colorbar\":{\"outlinewidth\":0,\"ticks\":\"\"}}}],\"scatter3d\":[{\"type\":\"scatter3d\",\"line\":{\"colorbar\":{\"outlinewidth\":0,\"ticks\":\"\"}},\"marker\":{\"colorbar\":{\"outlinewidth\":0,\"ticks\":\"\"}}}],\"scattermapbox\":[{\"type\":\"scattermapbox\",\"marker\":{\"colorbar\":{\"outlinewidth\":0,\"ticks\":\"\"}}}],\"scatterternary\":[{\"type\":\"scatterternary\",\"marker\":{\"colorbar\":{\"outlinewidth\":0,\"ticks\":\"\"}}}],\"scattercarpet\":[{\"type\":\"scattercarpet\",\"marker\":{\"colorbar\":{\"outlinewidth\":0,\"ticks\":\"\"}}}],\"carpet\":[{\"aaxis\":{\"endlinecolor\":\"#2a3f5f\",\"gridcolor\":\"white\",\"linecolor\":\"white\",\"minorgridcolor\":\"white\",\"startlinecolor\":\"#2a3f5f\"},\"baxis\":{\"endlinecolor\":\"#2a3f5f\",\"gridcolor\":\"white\",\"linecolor\":\"white\",\"minorgridcolor\":\"white\",\"startlinecolor\":\"#2a3f5f\"},\"type\":\"carpet\"}],\"table\":[{\"cells\":{\"fill\":{\"color\":\"#EBF0F8\"},\"line\":{\"color\":\"white\"}},\"header\":{\"fill\":{\"color\":\"#C8D4E3\"},\"line\":{\"color\":\"white\"}},\"type\":\"table\"}],\"barpolar\":[{\"marker\":{\"line\":{\"color\":\"#E5ECF6\",\"width\":0.5},\"pattern\":{\"fillmode\":\"overlay\",\"size\":10,\"solidity\":0.2}},\"type\":\"barpolar\"}],\"pie\":[{\"automargin\":true,\"type\":\"pie\"}]},\"layout\":{\"autotypenumbers\":\"strict\",\"colorway\":[\"#636efa\",\"#EF553B\",\"#00cc96\",\"#ab63fa\",\"#FFA15A\",\"#19d3f3\",\"#FF6692\",\"#B6E880\",\"#FF97FF\",\"#FECB52\"],\"font\":{\"color\":\"#2a3f5f\"},\"hovermode\":\"closest\",\"hoverlabel\":{\"align\":\"left\"},\"paper_bgcolor\":\"white\",\"plot_bgcolor\":\"#E5ECF6\",\"polar\":{\"bgcolor\":\"#E5ECF6\",\"angularaxis\":{\"gridcolor\":\"white\",\"linecolor\":\"white\",\"ticks\":\"\"},\"radialaxis\":{\"gridcolor\":\"white\",\"linecolor\":\"white\",\"ticks\":\"\"}},\"ternary\":{\"bgcolor\":\"#E5ECF6\",\"aaxis\":{\"gridcolor\":\"white\",\"linecolor\":\"white\",\"ticks\":\"\"},\"baxis\":{\"gridcolor\":\"white\",\"linecolor\":\"white\",\"ticks\":\"\"},\"caxis\":{\"gridcolor\":\"white\",\"linecolor\":\"white\",\"ticks\":\"\"}},\"coloraxis\":{\"colorbar\":{\"outlinewidth\":0,\"ticks\":\"\"}},\"colorscale\":{\"sequential\":[[0.0,\"#0d0887\"],[0.1111111111111111,\"#46039f\"],[0.2222222222222222,\"#7201a8\"],[0.3333333333333333,\"#9c179e\"],[0.4444444444444444,\"#bd3786\"],[0.5555555555555556,\"#d8576b\"],[0.6666666666666666,\"#ed7953\"],[0.7777777777777778,\"#fb9f3a\"],[0.8888888888888888,\"#fdca26\"],[1.0,\"#f0f921\"]],\"sequentialminus\":[[0.0,\"#0d0887\"],[0.1111111111111111,\"#46039f\"],[0.2222222222222222,\"#7201a8\"],[0.3333333333333333,\"#9c179e\"],[0.4444444444444444,\"#bd3786\"],[0.5555555555555556,\"#d8576b\"],[0.6666666666666666,\"#ed7953\"],[0.7777777777777778,\"#fb9f3a\"],[0.8888888888888888,\"#fdca26\"],[1.0,\"#f0f921\"]],\"diverging\":[[0,\"#8e0152\"],[0.1,\"#c51b7d\"],[0.2,\"#de77ae\"],[0.3,\"#f1b6da\"],[0.4,\"#fde0ef\"],[0.5,\"#f7f7f7\"],[0.6,\"#e6f5d0\"],[0.7,\"#b8e186\"],[0.8,\"#7fbc41\"],[0.9,\"#4d9221\"],[1,\"#276419\"]]},\"xaxis\":{\"gridcolor\":\"white\",\"linecolor\":\"white\",\"ticks\":\"\",\"title\":{\"standoff\":15},\"zerolinecolor\":\"white\",\"automargin\":true,\"zerolinewidth\":2},\"yaxis\":{\"gridcolor\":\"white\",\"linecolor\":\"white\",\"ticks\":\"\",\"title\":{\"standoff\":15},\"zerolinecolor\":\"white\",\"automargin\":true,\"zerolinewidth\":2},\"scene\":{\"xaxis\":{\"backgroundcolor\":\"#E5ECF6\",\"gridcolor\":\"white\",\"linecolor\":\"white\",\"showbackground\":true,\"ticks\":\"\",\"zerolinecolor\":\"white\",\"gridwidth\":2},\"yaxis\":{\"backgroundcolor\":\"#E5ECF6\",\"gridcolor\":\"white\",\"linecolor\":\"white\",\"showbackground\":true,\"ticks\":\"\",\"zerolinecolor\":\"white\",\"gridwidth\":2},\"zaxis\":{\"backgroundcolor\":\"#E5ECF6\",\"gridcolor\":\"white\",\"linecolor\":\"white\",\"showbackground\":true,\"ticks\":\"\",\"zerolinecolor\":\"white\",\"gridwidth\":2}},\"shapedefaults\":{\"line\":{\"color\":\"#2a3f5f\"}},\"annotationdefaults\":{\"arrowcolor\":\"#2a3f5f\",\"arrowhead\":0,\"arrowwidth\":1},\"geo\":{\"bgcolor\":\"white\",\"landcolor\":\"#E5ECF6\",\"subunitcolor\":\"white\",\"showland\":true,\"showlakes\":true,\"lakecolor\":\"white\"},\"title\":{\"x\":0.05},\"mapbox\":{\"style\":\"light\"}}}},                        {\"responsive\": true}                    ).then(function(){\n",
       "                            \n",
       "var gd = document.getElementById('cde1bd24-9af0-4fbf-bd0a-1dd5311ead55');\n",
       "var x = new MutationObserver(function (mutations, observer) {{\n",
       "        var display = window.getComputedStyle(gd).display;\n",
       "        if (!display || display === 'none') {{\n",
       "            console.log([gd, 'removed!']);\n",
       "            Plotly.purge(gd);\n",
       "            observer.disconnect();\n",
       "        }}\n",
       "}});\n",
       "\n",
       "// Listen for the removal of the full notebook cells\n",
       "var notebookContainer = gd.closest('#notebook-container');\n",
       "if (notebookContainer) {{\n",
       "    x.observe(notebookContainer, {childList: true});\n",
       "}}\n",
       "\n",
       "// Listen for the clearing of the current output cell\n",
       "var outputEl = gd.closest('.output');\n",
       "if (outputEl) {{\n",
       "    x.observe(outputEl, {childList: true});\n",
       "}}\n",
       "\n",
       "                        })                };                });            </script>        </div>"
      ]
     },
     "metadata": {},
     "output_type": "display_data"
    },
    {
     "data": {
      "application/vnd.plotly.v1+json": {
       "config": {
        "plotlyServerURL": "https://plot.ly"
       },
       "data": [
        {
         "marker": {
          "color": "black",
          "opacity": 0.8,
          "size": 5
         },
         "mode": "markers",
         "type": "scatter3d",
         "x": [
          -3.4035143852233887,
          -1.3140970468521118,
          -5.192994117736816,
          -2.168929100036621,
          -5.875274658203125,
          -4.635366916656494,
          -5.616009712219238,
          1.1494238376617432,
          -3.9658286571502686,
          -5.5050458908081055,
          -2.5527493953704834,
          -2.3772215843200684,
          -4.4201860427856445,
          -3.4079010486602783,
          -0.44466081261634827,
          1.0217236280441284,
          -5.082018852233887,
          6.668885231018066,
          -1.1760305166244507,
          -1.57939612865448,
          -2.4849424362182617,
          -4.269370079040527,
          -3.6440227031707764,
          -1.9719079732894897,
          -8.472356796264648,
          -9.150489807128906,
          -8.069801330566406,
          -2.660339117050171,
          7.743635654449463,
          -3.2473878860473633,
          -7.703686714172363,
          -3.723506212234497,
          1.1890933513641357,
          -6.392557621002197,
          -4.5370564460754395,
          -2.5204226970672607,
          -5.352269172668457,
          -0.8162011504173279,
          -6.8975830078125,
          1.0035003423690796,
          -6.005311012268066,
          -0.195978045463562,
          5.906755447387695,
          -0.615206241607666,
          -5.3292107582092285,
          6.834685325622559,
          11.080806732177734,
          -5.430791854858398,
          -5.486293792724609,
          -3.342844247817993,
          -4.170915603637695,
          4.176023006439209,
          -3.2038846015930176,
          3.263761520385742,
          -6.623797416687012,
          -1.0783621072769165,
          -4.87645959854126,
          -1.652884602546692,
          3.2324602603912354,
          -4.427411079406738,
          0.5723807215690613,
          4.194210529327393,
          2.7115705013275146,
          5.835559368133545,
          -4.992633819580078,
          -0.034877628087997437,
          -5.659765243530273,
          5.37740421295166,
          6.435220241546631,
          6.612796783447266,
          7.074500560760498,
          -3.1280884742736816,
          6.8930864334106445,
          0.15726572275161743,
          -3.341796398162842,
          3.663069486618042,
          5.958436012268066,
          -2.6220476627349854,
          -9.900274276733398,
          7.432026386260986,
          -4.636834144592285,
          4.999574184417725,
          8.92302131652832,
          7.643822193145752,
          -1.8932170867919922,
          2.5809004306793213,
          9.636579513549805,
          6.85064172744751,
          3.4887826442718506,
          0.29004722833633423,
          6.264122486114502,
          -6.413303852081299,
          -3.5600290298461914,
          -7.86342191696167,
          -5.74316930770874,
          -6.592665195465088,
          -4.635241985321045,
          -2.044851303100586,
          -1.7191869020462036,
          -5.277612209320068,
          -6.960842609405518,
          1.9331821203231812,
          -0.5116313099861145,
          2.212848663330078,
          -4.568112850189209,
          6.5367302894592285,
          -5.259039402008057,
          2.830500602722168,
          1.4310438632965088,
          5.209395408630371,
          -3.8592100143432617,
          -2.7020413875579834,
          -3.165506601333618,
          5.261693954467773,
          -3.692446708679199,
          -0.46587416529655457,
          -7.485414028167725,
          -6.575243949890137,
          -4.375245094299316,
          -4.947669982910156,
          -5.204449653625488,
          -0.5545312762260437,
          -4.077784538269043,
          1.2918834686279297,
          -1.1511987447738647,
          2.329240560531616,
          6.16817045211792,
          -6.36883544921875,
          -6.5604352951049805,
          4.502415180206299,
          0.5299907922744751,
          -1.2776631116867065,
          3.001887559890747,
          -8.67332935333252,
          -5.081652641296387,
          10.306230545043945,
          -2.6465814113616943,
          8.486431121826172,
          -0.23359231650829315,
          2.033716917037964,
          2.596865653991699,
          -3.273951768875122,
          -6.773125171661377,
          -2.988661766052246,
          -2.791447401046753,
          -5.242936611175537,
          0.36340126395225525,
          1.2621208429336548,
          -7.439728736877441,
          -2.6823623180389404,
          -2.7586452960968018,
          -4.37045431137085,
          -2.892071485519409,
          9.733198165893555,
          -8.323062896728516,
          -2.3557796478271484,
          -3.046572685241699,
          3.060887336730957,
          -5.427224636077881,
          -8.2752685546875,
          1.1346129179000854,
          -7.451338291168213,
          8.447443962097168,
          -1.412186861038208,
          -2.7618207931518555,
          -1.1187596321105957,
          8.83989429473877,
          9.246710777282715,
          -5.631227970123291,
          -7.3515143394470215,
          -1.0082390308380127,
          -5.197135925292969,
          -2.0707812309265137,
          3.948537826538086,
          -1.3794010877609253,
          -5.546376705169678,
          9.879843711853027,
          5.538943290710449,
          -9.860440254211426,
          -6.165701389312744,
          -5.986876487731934,
          -6.630317211151123,
          -0.9300287365913391,
          -9.07004451751709,
          -4.620925426483154,
          -1.7671782970428467,
          -0.6600268483161926,
          -0.32097551226615906,
          -9.779194831848145,
          -4.3929948806762695,
          5.489055633544922,
          10.704489707946777,
          6.2600250244140625,
          -4.993440628051758,
          -2.880269765853882,
          1.9951286315917969,
          -6.316837787628174,
          -5.810343265533447,
          -8.18006706237793,
          0.19498440623283386,
          6.7227325439453125,
          -6.9175848960876465,
          -7.270933151245117,
          -7.908114433288574,
          -6.014995098114014,
          4.845610618591309,
          -5.99162483215332,
          -8.496749877929688,
          -7.325170040130615,
          -4.069806098937988,
          2.991541624069214,
          -5.596215724945068,
          -5.511988639831543,
          -0.7722588181495667,
          -1.0373908281326294,
          9.256863594055176,
          -3.8670639991760254,
          -6.954530239105225,
          10.22391414642334,
          -4.50695276260376,
          6.373942852020264,
          -0.8740713596343994,
          -8.289871215820312,
          -4.15101432800293,
          -2.4389638900756836,
          -7.502575874328613,
          -0.8093082308769226,
          -4.00827169418335,
          -6.56076717376709,
          1.0792361497879028,
          -6.448914527893066,
          -4.93688440322876,
          -5.353741645812988,
          -6.774296283721924,
          -2.4410805702209473,
          -4.592984676361084,
          4.1573920249938965,
          -4.859807968139648,
          -5.728851795196533,
          -7.2657694816589355,
          -0.7806150913238525,
          -5.10951566696167,
          -0.8687341213226318,
          -6.870899200439453,
          5.3457136154174805,
          -2.9102249145507812,
          -4.787342548370361,
          5.209231853485107,
          2.0514848232269287,
          5.087323188781738,
          2.1821062564849854,
          5.181140422821045,
          -5.389703273773193,
          1.8598339557647705,
          -3.9628028869628906,
          1.4795981645584106,
          -4.15463399887085,
          2.336237668991089,
          -4.554271221160889,
          -0.27594462037086487,
          -0.8738327622413635,
          -3.001971483230591,
          7.461748123168945,
          6.698739528656006,
          -5.198167324066162,
          -1.808327078819275,
          -5.247620105743408,
          9.265110969543457,
          -0.17167557775974274,
          -7.0331830978393555,
          2.0338499546051025,
          -5.277902603149414,
          0.5180630087852478,
          -3.0588269233703613,
          -2.928022861480713,
          -2.0905683040618896,
          9.531522750854492,
          2.446209192276001,
          -2.2218925952911377,
          -3.739457368850708,
          1.1475173234939575,
          -2.3107118606567383,
          -1.4226442575454712,
          -0.962225079536438,
          1.691394329071045,
          -5.602634429931641,
          2.054694652557373,
          -0.5675272941589355,
          -2.997206449508667,
          -1.750691533088684,
          -3.205193281173706,
          0.2231774479150772,
          8.583586692810059,
          7.674166679382324,
          8.968437194824219,
          5.254978656768799,
          6.844831466674805,
          -4.535407543182373,
          5.761537551879883,
          -4.183764457702637,
          2.8540234565734863,
          4.485663414001465,
          -3.261350154876709,
          -5.091994285583496,
          4.248190879821777,
          7.677306175231934,
          -2.501803159713745,
          6.962502956390381,
          -2.101444959640503,
          6.269691467285156,
          4.4693379402160645,
          6.755460262298584,
          -1.8384743928909302,
          3.3253331184387207,
          1.9087674617767334,
          0.861283540725708,
          10.071921348571777,
          8.727029800415039,
          10.99771499633789,
          7.337432861328125,
          10.06946849822998,
          2.856250524520874,
          -1.696932315826416,
          5.308321952819824,
          5.6100029945373535,
          3.513993263244629,
          8.239880561828613,
          1.5812718868255615,
          7.026284694671631,
          10.02695083618164,
          6.30190896987915,
          10.730537414550781,
          3.7357349395751953,
          -6.781206130981445,
          10.717607498168945,
          2.511676549911499,
          -3.6239161491394043,
          -1.600144863128662,
          9.26122760772705,
          9.588532447814941,
          9.742111206054688,
          10.60102653503418,
          -4.1007490158081055,
          -0.07553279399871826,
          8.343402862548828,
          6.179929256439209,
          -1.4544055461883545,
          6.121607780456543,
          6.306406021118164,
          -2.3713948726654053,
          -7.699106693267822,
          5.56619930267334,
          6.389599323272705,
          10.182302474975586,
          -2.876345634460449,
          -1.6933914422988892,
          -0.6304529905319214,
          6.170604228973389,
          9.525437355041504,
          -4.000630855560303,
          9.061528205871582,
          2.5887365341186523,
          -2.890191078186035,
          0.7455844879150391,
          1.6996698379516602,
          1.561282992362976,
          6.046496868133545,
          -2.512744426727295,
          5.658321857452393,
          5.121732711791992,
          -4.058434963226318,
          -2.9781813621520996,
          -2.919689893722534,
          7.56252908706665,
          6.86366081237793,
          -1.4868066310882568,
          2.2249417304992676,
          5.46673583984375,
          -3.168297529220581,
          11.009221076965332,
          -2.5812509059906006,
          9.729433059692383,
          -0.0035895654000341892,
          5.836034297943115,
          -2.889801025390625,
          8.852417945861816,
          -4.139959335327148,
          -5.379470348358154,
          -2.920175313949585,
          7.866154193878174,
          -7.646256446838379,
          -7.5157599449157715,
          -5.941165924072266,
          -7.639776229858398,
          -8.060653686523438,
          -6.3867950439453125,
          -6.8067474365234375,
          -7.535359859466553,
          -8.471683502197266,
          -6.7313432693481445,
          -2.2778425216674805,
          -5.970193386077881,
          -5.836040496826172,
          -5.6153998374938965,
          -8.112473487854004,
          -6.473084449768066,
          -7.344359874725342,
          -7.591369152069092,
          -6.459980010986328,
          -8.588122367858887,
          -7.718404769897461,
          1.0972355604171753,
          -6.735990047454834,
          -8.134339332580566,
          -0.6399176120758057,
          -6.878783702850342
         ],
         "y": [
          2.0159802436828613,
          -0.022441228851675987,
          -0.7492949962615967,
          5.720204830169678,
          0.5312249660491943,
          1.1970030069351196,
          -2.6855380535125732,
          0.6108261942863464,
          1.3040121793746948,
          -0.9600521326065063,
          3.9705448150634766,
          3.1288464069366455,
          -0.47590920329093933,
          -0.6679052114486694,
          0.979609489440918,
          4.569110870361328,
          -0.1441887766122818,
          0.8800124526023865,
          -0.0608622282743454,
          0.17262527346611023,
          -0.16537895798683167,
          4.420754432678223,
          -0.6153542995452881,
          2.7964701652526855,
          -2.3031516075134277,
          -1.8034265041351318,
          -0.6184768676757812,
          1.0852762460708618,
          -3.671393871307373,
          -4.001647472381592,
          -1.2912026643753052,
          2.671926498413086,
          0.01948692463338375,
          -2.5643181800842285,
          -1.6697850227355957,
          -7.642768859863281,
          -2.615542411804199,
          3.3506298065185547,
          7.116888523101807,
          1.0958718061447144,
          -0.4395871162414551,
          -2.910830020904541,
          1.6469022035598755,
          3.4292287826538086,
          -2.6293959617614746,
          0.6214581727981567,
          2.228640079498291,
          -0.8442766666412354,
          -1.1184616088867188,
          -4.830596446990967,
          5.0360822677612305,
          -0.23494012653827667,
          -3.5785841941833496,
          0.035038962960243225,
          -0.6418586373329163,
          -1.9710174798965454,
          -2.0995984077453613,
          -0.4571595788002014,
          0.24316230416297913,
          -0.7013228535652161,
          3.836571216583252,
          -0.3467871844768524,
          -1.4320350885391235,
          1.5174895524978638,
          -4.593847274780273,
          -2.183454751968384,
          -3.4973232746124268,
          -3.967827320098877,
          1.124138593673706,
          -0.15419688820838928,
          -2.6169562339782715,
          1.4953745603561401,
          -0.02643320895731449,
          -8.747382164001465,
          -4.122286319732666,
          0.480638712644577,
          -3.705409049987793,
          -1.6095978021621704,
          -2.972484827041626,
          1.7350000143051147,
          5.245613098144531,
          2.6875953674316406,
          1.8974542617797852,
          3.0192158222198486,
          -4.656686782836914,
          -3.448024034500122,
          4.463639736175537,
          0.319782018661499,
          -1.4865591526031494,
          -0.8199862241744995,
          2.7980971336364746,
          7.282111167907715,
          -1.133579969406128,
          4.585607051849365,
          5.5697760581970215,
          6.434725284576416,
          3.0588371753692627,
          3.1370041370391846,
          -2.4810845851898193,
          6.593080520629883,
          6.633962631225586,
          -0.8942169547080994,
          0.7585479021072388,
          0.859688401222229,
          -0.6487736105918884,
          0.2268190085887909,
          4.381856918334961,
          -0.016711028292775154,
          2.4593515396118164,
          -3.0901036262512207,
          -0.2688595950603485,
          -0.5939467549324036,
          -5.451606273651123,
          -2.356257915496826,
          -0.21153296530246735,
          0.4541134536266327,
          2.9611213207244873,
          2.9557790756225586,
          -0.5778040885925293,
          2.361522912979126,
          2.079538583755493,
          0.8153230547904968,
          4.3274617195129395,
          2.5219225883483887,
          3.49066424369812,
          0.28348520398139954,
          0.7336822748184204,
          5.744742393493652,
          4.496860980987549,
          0.207485631108284,
          1.719334363937378,
          5.480149745941162,
          -0.15850140154361725,
          -2.5887563228607178,
          2.2478525638580322,
          3.497161626815796,
          4.366451263427734,
          3.5654399394989014,
          0.06730207800865173,
          -1.1075115203857422,
          1.185262680053711,
          -0.20852325856685638,
          3.586229085922241,
          3.194474697113037,
          1.0666372776031494,
          2.880403995513916,
          0.4319923520088196,
          2.902303695678711,
          4.511256694793701,
          0.5316151976585388,
          0.2265579253435135,
          1.8894602060317993,
          1.5220648050308228,
          3.318002223968506,
          3.5300819873809814,
          2.586205005645752,
          1.7389366626739502,
          0.787417471408844,
          2.4500858783721924,
          2.96366810798645,
          -1.0578663349151611,
          5.234051704406738,
          2.9456350803375244,
          0.45331424474716187,
          1.1375685930252075,
          -0.03782719001173973,
          2.93733811378479,
          3.0524280071258545,
          2.457183361053467,
          4.761960983276367,
          3.905829906463623,
          2.095308303833008,
          5.2471842765808105,
          1.157730221748352,
          0.6413925886154175,
          5.940047740936279,
          2.284799337387085,
          1.1864473819732666,
          -2.8985376358032227,
          3.064136028289795,
          -0.8733094930648804,
          0.9155642986297607,
          0.6817901134490967,
          -1.559443712234497,
          0.11887015402317047,
          2.6132044792175293,
          3.4205708503723145,
          -0.4528624415397644,
          -3.114506483078003,
          4.468225479125977,
          3.0236523151397705,
          2.67584228515625,
          -3.399604558944702,
          7.002345561981201,
          1.220302700996399,
          1.8657983541488647,
          0.968596339225769,
          -0.9012497067451477,
          3.8411781787872314,
          3.6634442806243896,
          0.6223906874656677,
          1.628490924835205,
          1.993632197380066,
          6.1097283363342285,
          2.3020875453948975,
          2.839139699935913,
          2.4413862228393555,
          -1.1003310680389404,
          5.515000343322754,
          -0.7751303911209106,
          0.8526330590248108,
          4.029646396636963,
          5.483905792236328,
          0.6338734030723572,
          0.7939381003379822,
          2.6143851280212402,
          0.1539973020553589,
          2.5657382011413574,
          2.2411136627197266,
          5.815642356872559,
          0.14198651909828186,
          -0.03696423023939133,
          3.7361583709716797,
          -0.7409871816635132,
          5.17707633972168,
          -0.7517865300178528,
          0.6132628321647644,
          4.452735424041748,
          1.4609088897705078,
          -4.625756740570068,
          1.0269010066986084,
          2.103271722793579,
          1.502428412437439,
          0.835267186164856,
          3.607529401779175,
          -0.7518053650856018,
          0.2899310290813446,
          0.8217975497245789,
          5.295722007751465,
          2.8858015537261963,
          -0.30265602469444275,
          5.667088985443115,
          3.4978220462799072,
          0.29307809472084045,
          -2.9866445064544678,
          3.629537343978882,
          5.8232035636901855,
          -1.348601222038269,
          3.262781858444214,
          -0.509056568145752,
          0.8227701783180237,
          1.7176705598831177,
          4.570744514465332,
          3.4470977783203125,
          4.962278366088867,
          2.517319679260254,
          -2.456890344619751,
          -1.3487640619277954,
          0.048694100230932236,
          2.86122465133667,
          2.931945562362671,
          -1.1100050210952759,
          0.9102634787559509,
          0.7939017415046692,
          4.1263227462768555,
          1.4738119840621948,
          4.699230670928955,
          0.9953926205635071,
          3.8917031288146973,
          -0.15142053365707397,
          1.1068390607833862,
          -1.692103385925293,
          1.044051170349121,
          -0.6272965669631958,
          0.9583171606063843,
          1.4229153394699097,
          2.6226165294647217,
          -0.5110507011413574,
          4.374130725860596,
          3.1879873275756836,
          3.3306784629821777,
          3.805708408355713,
          4.071113109588623,
          4.936025619506836,
          1.8341220617294312,
          1.4086189270019531,
          0.8156840801239014,
          -1.9663108587265015,
          1.4503525495529175,
          2.9363763332366943,
          3.4112038612365723,
          -1.9380167722702026,
          1.2376561164855957,
          2.5526576042175293,
          0.5260580778121948,
          -0.05515717715024948,
          -2.5699453353881836,
          -2.3395228385925293,
          -0.07962017506361008,
          -2.753978729248047,
          -1.115317702293396,
          0.30757665634155273,
          -2.302619695663452,
          -3.1695685386657715,
          0.855660080909729,
          1.4857453107833862,
          -1.3054113388061523,
          0.684651792049408,
          -3.880751609802246,
          3.106551170349121,
          -0.36108165979385376,
          -1.453067660331726,
          -7.783791542053223,
          0.2876111567020416,
          -0.32150185108184814,
          -0.525929868221283,
          1.7062973976135254,
          2.0841333866119385,
          3.061826229095459,
          0.6088948249816895,
          2.633669853210449,
          -0.5416591167449951,
          -3.3675553798675537,
          -0.09169722348451614,
          -0.13929465413093567,
          0.35910463333129883,
          1.4453809261322021,
          -1.121042013168335,
          -0.010445849038660526,
          2.939704418182373,
          0.904356837272644,
          2.9896185398101807,
          -0.5948976278305054,
          -0.37216895818710327,
          2.934356212615967,
          -2.2541964054107666,
          -2.2700250148773193,
          -7.309178829193115,
          3.187256336212158,
          0.9447076320648193,
          0.640241801738739,
          3.71535325050354,
          -2.7625675201416016,
          -2.8711650371551514,
          2.8845953941345215,
          0.38578298687934875,
          -7.236713886260986,
          2.6602160930633545,
          0.07700631767511368,
          -1.1666169166564941,
          -1.5256497859954834,
          1.715156078338623,
          2.6535332202911377,
          3.4176645278930664,
          -6.254394054412842,
          -4.44911003112793,
          -5.580085277557373,
          1.844815969467163,
          0.858288586139679,
          -3.346726417541504,
          2.778589963912964,
          -3.140580177307129,
          -4.153719425201416,
          1.793125867843628,
          -1.2970885038375854,
          -7.009164333343506,
          2.6025235652923584,
          -4.533968925476074,
          2.0128226280212402,
          -4.202962398529053,
          -2.7332193851470947,
          -2.0227432250976562,
          -6.214315891265869,
          0.7807350158691406,
          -2.207951545715332,
          0.37896451354026794,
          -1.4191852807998657,
          -3.172687292098999,
          -2.5186920166015625,
          0.9808710217475891,
          -4.402198791503906,
          3.5801355838775635,
          -7.788963317871094,
          2.612067461013794,
          -3.8976199626922607,
          2.4036107063293457,
          -2.9838292598724365,
          -0.9533785581588745,
          -4.149484634399414,
          0.5588770508766174,
          6.118053913116455,
          6.420071601867676,
          1.204107642173767,
          6.240131855010986,
          4.799606800079346,
          1.6708999872207642,
          3.3290998935699463,
          1.9999828338623047,
          7.434828758239746,
          4.770888328552246,
          4.745202541351318,
          5.9538254737854,
          6.078316688537598,
          1.2046209573745728,
          7.558012962341309,
          7.121150016784668,
          6.740934371948242,
          6.211475372314453,
          5.5143656730651855,
          7.3225417137146,
          1.9319349527359009,
          4.519619464874268,
          1.2681622505187988,
          7.5008134841918945,
          2.9722869396209717,
          6.314393520355225
         ],
         "z": [
          7.623159885406494,
          -3.1711182594299316,
          -6.228228569030762,
          2.851788282394409,
          0.7425222396850586,
          1.5788713693618774,
          -2.5899477005004883,
          2.4973812103271484,
          -2.9737749099731445,
          -7.587395191192627,
          6.939828395843506,
          3.967068672180176,
          -4.386728286743164,
          -4.335968494415283,
          -1.6100878715515137,
          3.364363193511963,
          -7.122983455657959,
          -1.2916431427001953,
          -4.879520416259766,
          -3.4141359329223633,
          4.168792724609375,
          6.9397172927856445,
          4.009586811065674,
          4.793294906616211,
          -7.130064010620117,
          -9.027953147888184,
          -8.57180118560791,
          -3.3346540927886963,
          -1.060072422027588,
          -3.6066880226135254,
          -0.6867947578430176,
          6.509133338928223,
          0.6346958875656128,
          -6.674685955047607,
          0.9567064046859741,
          -4.309228420257568,
          -8.628657341003418,
          1.6499216556549072,
          9.073390007019043,
          0.2269241064786911,
          -7.465390682220459,
          -1.5064657926559448,
          2.2495155334472656,
          4.239336967468262,
          -8.649303436279297,
          4.218444347381592,
          2.8724522590637207,
          0.7965318560600281,
          -7.861163139343262,
          -3.8875300884246826,
          0.4044502079486847,
          3.214462995529175,
          -3.931328296661377,
          3.170518636703491,
          -5.913788795471191,
          -4.649079322814941,
          -6.148451805114746,
          -4.094651222229004,
          2.9286742210388184,
          1.5520926713943481,
          4.551918983459473,
          -3.228881359100342,
          -2.931755304336548,
          -4.656738758087158,
          -6.393630504608154,
          -2.6844820976257324,
          -1.7645868062973022,
          -1.2628743648529053,
          -2.8925113677978516,
          -1.383010745048523,
          -0.5413525104522705,
          8.403694152832031,
          -0.4435500502586365,
          -4.669826030731201,
          -7.941313743591309,
          3.3687214851379395,
          -2.0442371368408203,
          -1.5336382389068604,
          -8.258432388305664,
          -4.4728922843933105,
          0.01465789694339037,
          1.9879224300384521,
          2.842442274093628,
          0.5498759150505066,
          -1.3359965085983276,
          -1.257745623588562,
          2.1849024295806885,
          0.1805647909641266,
          -2.0759150981903076,
          -3.7178847789764404,
          4.342982769012451,
          6.225855350494385,
          -10.015944480895996,
          2.888740062713623,
          9.374507904052734,
          7.25209903717041,
          1.1311076879501343,
          7.4194231033325195,
          -9.14339542388916,
          3.0126521587371826,
          10.522046089172363,
          -3.1609506607055664,
          -1.9715259075164795,
          -1.001215934753418,
          1.1399180889129639,
          5.279053688049316,
          9.736114501953125,
          -1.4979346990585327,
          -0.3530782163143158,
          0.05057418346405029,
          -4.26772403717041,
          -3.795565605163574,
          -3.6889150142669678,
          0.3290838599205017,
          -4.545243263244629,
          3.1423449516296387,
          5.018208980560303,
          6.218576431274414,
          2.1745493412017822,
          0.7615384459495544,
          0.7736905813217163,
          -0.933957040309906,
          7.662580490112305,
          2.264191150665283,
          4.538351535797119,
          -1.5629156827926636,
          0.9777856469154358,
          3.865293502807617,
          6.063266277313232,
          1.623785376548767,
          -2.40095591545105,
          2.0885555744171143,
          0.22691956162452698,
          -7.124495506286621,
          0.8156806826591492,
          4.237679958343506,
          0.8004122376441956,
          3.2191972732543945,
          2.723067283630371,
          -0.31624889373779297,
          1.186830759048462,
          5.0119218826293945,
          10.053820610046387,
          1.7143813371658325,
          7.140608310699463,
          6.223445415496826,
          3.120508909225464,
          1.7015421390533447,
          3.7766261100769043,
          4.3455328941345215,
          5.24534273147583,
          4.22351598739624,
          3.5420897006988525,
          6.457335948944092,
          6.735923767089844,
          7.414395332336426,
          3.4313559532165527,
          1.9130226373672485,
          9.276664733886719,
          5.624707221984863,
          0.3183928430080414,
          4.3625922203063965,
          3.9619622230529785,
          4.860270977020264,
          -3.2641804218292236,
          5.041434288024902,
          5.844122409820557,
          6.2690887451171875,
          8.441557884216309,
          6.192399024963379,
          3.1389224529266357,
          6.606871128082275,
          2.870302438735962,
          1.1511374711990356,
          4.699422359466553,
          4.936148166656494,
          6.156252861022949,
          4.054433345794678,
          -8.298540115356445,
          3.568246841430664,
          -6.247982025146484,
          3.013782501220703,
          1.1250594854354858,
          -9.840056419372559,
          5.5647053718566895,
          5.299048900604248,
          3.9417691230773926,
          -4.254090785980225,
          -7.87760591506958,
          1.535192608833313,
          5.826565265655518,
          1.5791648626327515,
          0.7475085258483887,
          7.885587215423584,
          3.9380741119384766,
          0.5422621965408325,
          6.613858222961426,
          0.47486186027526855,
          5.012712478637695,
          1.2248133420944214,
          4.266929626464844,
          6.971776008605957,
          7.943188190460205,
          4.232558250427246,
          7.372373104095459,
          1.9980509281158447,
          3.4076156616210938,
          -9.457592964172363,
          3.9585657119750977,
          2.9176793098449707,
          1.937340259552002,
          6.369638442993164,
          7.179845809936523,
          0.6553699374198914,
          2.7144765853881836,
          6.23399543762207,
          4.334995269775391,
          6.856229305267334,
          6.162900447845459,
          3.9950203895568848,
          5.404175758361816,
          -3.1271133422851562,
          6.9333953857421875,
          2.557645320892334,
          7.109854698181152,
          -0.14755979180335999,
          3.459254503250122,
          6.493696689605713,
          10.498397827148438,
          -6.151548862457275,
          3.319810628890991,
          4.292918682098389,
          7.012166976928711,
          1.1369032859802246,
          4.850434303283691,
          3.7800657749176025,
          1.9317545890808105,
          6.898207187652588,
          2.8932063579559326,
          5.393133640289307,
          -4.00900936126709,
          3.1539437770843506,
          4.258577823638916,
          0.941245973110199,
          0.05061604455113411,
          4.917852401733398,
          4.7378950119018555,
          0.9075136780738831,
          1.2889949083328247,
          1.5177719593048096,
          0.43546542525291443,
          -0.37179484963417053,
          2.319801092147827,
          1.1879820823669434,
          0.5525668263435364,
          0.46874091029167175,
          0.38627564907073975,
          -0.45064777135849,
          -3.568744421005249,
          0.9565773010253906,
          2.6370649337768555,
          -8.46264934539795,
          -2.3415393829345703,
          -1.0850046873092651,
          6.122309684753418,
          7.368656158447266,
          1.6458865404129028,
          1.8875616788864136,
          1.3883094787597656,
          0.6682506799697876,
          -0.10025589168071747,
          -6.292238235473633,
          0.8268822431564331,
          3.5333549976348877,
          7.180068492889404,
          7.261989116668701,
          0.7335241436958313,
          -0.9008669853210449,
          5.043373107910156,
          6.378309726715088,
          1.1868586540222168,
          1.3208094835281372,
          1.073317527770996,
          6.82497501373291,
          0.6416359543800354,
          3.784712791442871,
          -0.12167560309171677,
          -4.274718761444092,
          3.1757562160491943,
          1.5166337490081787,
          5.251198768615723,
          -4.307760238647461,
          -1.858280062675476,
          0.39591678977012634,
          -2.231985330581665,
          -3.7341980934143066,
          -0.960486650466919,
          -5.928334712982178,
          -3.45729660987854,
          -1.9409921169281006,
          -4.644235610961914,
          -5.451150417327881,
          -1.0771433115005493,
          -1.9522137641906738,
          -5.524017333984375,
          -4.153600215911865,
          -2.107377290725708,
          -0.6163411140441895,
          -8.49993896484375,
          3.9787049293518066,
          -3.1798746585845947,
          -1.4239764213562012,
          -4.109410285949707,
          -5.164571285247803,
          -4.8286871910095215,
          -4.568172931671143,
          0.7427828907966614,
          0.016056125983595848,
          -0.4004867374897003,
          -1.814168095588684,
          0.5481467247009277,
          -3.87078595161438,
          -9.102524757385254,
          -3.7178404331207275,
          -3.500413179397583,
          -5.201125144958496,
          -4.065938472747803,
          -4.369997501373291,
          -2.5794999599456787,
          0.2922061085700989,
          -3.0963306427001953,
          0.661136269569397,
          -2.7547287940979004,
          -5.558726787567139,
          0.7703746557235718,
          -3.780641555786133,
          -4.994991779327393,
          -1.85235595703125,
          1.9640506505966187,
          1.2898818254470825,
          0.9186318516731262,
          4.375790119171143,
          -3.662686824798584,
          -1.4864805936813354,
          5.120135307312012,
          1.2755630016326904,
          -2.1392743587493896,
          6.641825199127197,
          5.569417953491211,
          -2.945258140563965,
          -0.8944036364555359,
          4.085122585296631,
          6.62615966796875,
          3.761018991470337,
          -3.579042434692383,
          -1.3780819177627563,
          -3.9845283031463623,
          -1.7998775243759155,
          0.9364607334136963,
          -0.17295020818710327,
          3.7738187313079834,
          -1.5100706815719604,
          -7.052197456359863,
          -2.5849926471710205,
          -4.316529750823975,
          -3.3607280254364014,
          6.86064338684082,
          -2.5728061199188232,
          2.1335346698760986,
          -4.223867416381836,
          -3.8180904388427734,
          -1.236124873161316,
          -3.4917967319488525,
          3.6857383251190186,
          -1.0731581449508667,
          -5.552797794342041,
          -4.186811447143555,
          -1.3414976596832275,
          -0.6328293085098267,
          1.573254108428955,
          -2.7643232345581055,
          1.5955524444580078,
          -6.656223773956299,
          4.580501079559326,
          -7.610867500305176,
          0.6242921352386475,
          -3.690236806869507,
          -5.959648609161377,
          -7.006537437438965,
          -1.9619141817092896,
          9.402436256408691,
          9.5576810836792,
          10.812007904052734,
          8.880653381347656,
          2.7142069339752197,
          10.415063858032227,
          10.005376815795898,
          8.366971969604492,
          5.86861515045166,
          9.073844909667969,
          7.072452068328857,
          8.289559364318848,
          8.206500053405762,
          10.83082389831543,
          6.7000250816345215,
          6.6193671226501465,
          9.764411926269531,
          10.21850299835205,
          8.225412368774414,
          5.412947177886963,
          8.684651374816895,
          3.260054349899292,
          10.53336238861084,
          6.7345356941223145,
          8.274625778198242,
          7.8626484870910645
         ]
        }
       ],
       "layout": {
        "height": 800,
        "scene": {
         "xaxis": {
          "title": {
           "text": "1st Component"
          }
         },
         "yaxis": {
          "title": {
           "text": "2nd Component"
          }
         },
         "zaxis": {
          "title": {
           "text": "3rd Component"
          }
         }
        },
        "template": {
         "data": {
          "bar": [
           {
            "error_x": {
             "color": "#2a3f5f"
            },
            "error_y": {
             "color": "#2a3f5f"
            },
            "marker": {
             "line": {
              "color": "#E5ECF6",
              "width": 0.5
             },
             "pattern": {
              "fillmode": "overlay",
              "size": 10,
              "solidity": 0.2
             }
            },
            "type": "bar"
           }
          ],
          "barpolar": [
           {
            "marker": {
             "line": {
              "color": "#E5ECF6",
              "width": 0.5
             },
             "pattern": {
              "fillmode": "overlay",
              "size": 10,
              "solidity": 0.2
             }
            },
            "type": "barpolar"
           }
          ],
          "carpet": [
           {
            "aaxis": {
             "endlinecolor": "#2a3f5f",
             "gridcolor": "white",
             "linecolor": "white",
             "minorgridcolor": "white",
             "startlinecolor": "#2a3f5f"
            },
            "baxis": {
             "endlinecolor": "#2a3f5f",
             "gridcolor": "white",
             "linecolor": "white",
             "minorgridcolor": "white",
             "startlinecolor": "#2a3f5f"
            },
            "type": "carpet"
           }
          ],
          "choropleth": [
           {
            "colorbar": {
             "outlinewidth": 0,
             "ticks": ""
            },
            "type": "choropleth"
           }
          ],
          "contour": [
           {
            "colorbar": {
             "outlinewidth": 0,
             "ticks": ""
            },
            "colorscale": [
             [
              0,
              "#0d0887"
             ],
             [
              0.1111111111111111,
              "#46039f"
             ],
             [
              0.2222222222222222,
              "#7201a8"
             ],
             [
              0.3333333333333333,
              "#9c179e"
             ],
             [
              0.4444444444444444,
              "#bd3786"
             ],
             [
              0.5555555555555556,
              "#d8576b"
             ],
             [
              0.6666666666666666,
              "#ed7953"
             ],
             [
              0.7777777777777778,
              "#fb9f3a"
             ],
             [
              0.8888888888888888,
              "#fdca26"
             ],
             [
              1,
              "#f0f921"
             ]
            ],
            "type": "contour"
           }
          ],
          "contourcarpet": [
           {
            "colorbar": {
             "outlinewidth": 0,
             "ticks": ""
            },
            "type": "contourcarpet"
           }
          ],
          "heatmap": [
           {
            "colorbar": {
             "outlinewidth": 0,
             "ticks": ""
            },
            "colorscale": [
             [
              0,
              "#0d0887"
             ],
             [
              0.1111111111111111,
              "#46039f"
             ],
             [
              0.2222222222222222,
              "#7201a8"
             ],
             [
              0.3333333333333333,
              "#9c179e"
             ],
             [
              0.4444444444444444,
              "#bd3786"
             ],
             [
              0.5555555555555556,
              "#d8576b"
             ],
             [
              0.6666666666666666,
              "#ed7953"
             ],
             [
              0.7777777777777778,
              "#fb9f3a"
             ],
             [
              0.8888888888888888,
              "#fdca26"
             ],
             [
              1,
              "#f0f921"
             ]
            ],
            "type": "heatmap"
           }
          ],
          "heatmapgl": [
           {
            "colorbar": {
             "outlinewidth": 0,
             "ticks": ""
            },
            "colorscale": [
             [
              0,
              "#0d0887"
             ],
             [
              0.1111111111111111,
              "#46039f"
             ],
             [
              0.2222222222222222,
              "#7201a8"
             ],
             [
              0.3333333333333333,
              "#9c179e"
             ],
             [
              0.4444444444444444,
              "#bd3786"
             ],
             [
              0.5555555555555556,
              "#d8576b"
             ],
             [
              0.6666666666666666,
              "#ed7953"
             ],
             [
              0.7777777777777778,
              "#fb9f3a"
             ],
             [
              0.8888888888888888,
              "#fdca26"
             ],
             [
              1,
              "#f0f921"
             ]
            ],
            "type": "heatmapgl"
           }
          ],
          "histogram": [
           {
            "marker": {
             "pattern": {
              "fillmode": "overlay",
              "size": 10,
              "solidity": 0.2
             }
            },
            "type": "histogram"
           }
          ],
          "histogram2d": [
           {
            "colorbar": {
             "outlinewidth": 0,
             "ticks": ""
            },
            "colorscale": [
             [
              0,
              "#0d0887"
             ],
             [
              0.1111111111111111,
              "#46039f"
             ],
             [
              0.2222222222222222,
              "#7201a8"
             ],
             [
              0.3333333333333333,
              "#9c179e"
             ],
             [
              0.4444444444444444,
              "#bd3786"
             ],
             [
              0.5555555555555556,
              "#d8576b"
             ],
             [
              0.6666666666666666,
              "#ed7953"
             ],
             [
              0.7777777777777778,
              "#fb9f3a"
             ],
             [
              0.8888888888888888,
              "#fdca26"
             ],
             [
              1,
              "#f0f921"
             ]
            ],
            "type": "histogram2d"
           }
          ],
          "histogram2dcontour": [
           {
            "colorbar": {
             "outlinewidth": 0,
             "ticks": ""
            },
            "colorscale": [
             [
              0,
              "#0d0887"
             ],
             [
              0.1111111111111111,
              "#46039f"
             ],
             [
              0.2222222222222222,
              "#7201a8"
             ],
             [
              0.3333333333333333,
              "#9c179e"
             ],
             [
              0.4444444444444444,
              "#bd3786"
             ],
             [
              0.5555555555555556,
              "#d8576b"
             ],
             [
              0.6666666666666666,
              "#ed7953"
             ],
             [
              0.7777777777777778,
              "#fb9f3a"
             ],
             [
              0.8888888888888888,
              "#fdca26"
             ],
             [
              1,
              "#f0f921"
             ]
            ],
            "type": "histogram2dcontour"
           }
          ],
          "mesh3d": [
           {
            "colorbar": {
             "outlinewidth": 0,
             "ticks": ""
            },
            "type": "mesh3d"
           }
          ],
          "parcoords": [
           {
            "line": {
             "colorbar": {
              "outlinewidth": 0,
              "ticks": ""
             }
            },
            "type": "parcoords"
           }
          ],
          "pie": [
           {
            "automargin": true,
            "type": "pie"
           }
          ],
          "scatter": [
           {
            "fillpattern": {
             "fillmode": "overlay",
             "size": 10,
             "solidity": 0.2
            },
            "type": "scatter"
           }
          ],
          "scatter3d": [
           {
            "line": {
             "colorbar": {
              "outlinewidth": 0,
              "ticks": ""
             }
            },
            "marker": {
             "colorbar": {
              "outlinewidth": 0,
              "ticks": ""
             }
            },
            "type": "scatter3d"
           }
          ],
          "scattercarpet": [
           {
            "marker": {
             "colorbar": {
              "outlinewidth": 0,
              "ticks": ""
             }
            },
            "type": "scattercarpet"
           }
          ],
          "scattergeo": [
           {
            "marker": {
             "colorbar": {
              "outlinewidth": 0,
              "ticks": ""
             }
            },
            "type": "scattergeo"
           }
          ],
          "scattergl": [
           {
            "marker": {
             "colorbar": {
              "outlinewidth": 0,
              "ticks": ""
             }
            },
            "type": "scattergl"
           }
          ],
          "scattermapbox": [
           {
            "marker": {
             "colorbar": {
              "outlinewidth": 0,
              "ticks": ""
             }
            },
            "type": "scattermapbox"
           }
          ],
          "scatterpolar": [
           {
            "marker": {
             "colorbar": {
              "outlinewidth": 0,
              "ticks": ""
             }
            },
            "type": "scatterpolar"
           }
          ],
          "scatterpolargl": [
           {
            "marker": {
             "colorbar": {
              "outlinewidth": 0,
              "ticks": ""
             }
            },
            "type": "scatterpolargl"
           }
          ],
          "scatterternary": [
           {
            "marker": {
             "colorbar": {
              "outlinewidth": 0,
              "ticks": ""
             }
            },
            "type": "scatterternary"
           }
          ],
          "surface": [
           {
            "colorbar": {
             "outlinewidth": 0,
             "ticks": ""
            },
            "colorscale": [
             [
              0,
              "#0d0887"
             ],
             [
              0.1111111111111111,
              "#46039f"
             ],
             [
              0.2222222222222222,
              "#7201a8"
             ],
             [
              0.3333333333333333,
              "#9c179e"
             ],
             [
              0.4444444444444444,
              "#bd3786"
             ],
             [
              0.5555555555555556,
              "#d8576b"
             ],
             [
              0.6666666666666666,
              "#ed7953"
             ],
             [
              0.7777777777777778,
              "#fb9f3a"
             ],
             [
              0.8888888888888888,
              "#fdca26"
             ],
             [
              1,
              "#f0f921"
             ]
            ],
            "type": "surface"
           }
          ],
          "table": [
           {
            "cells": {
             "fill": {
              "color": "#EBF0F8"
             },
             "line": {
              "color": "white"
             }
            },
            "header": {
             "fill": {
              "color": "#C8D4E3"
             },
             "line": {
              "color": "white"
             }
            },
            "type": "table"
           }
          ]
         },
         "layout": {
          "annotationdefaults": {
           "arrowcolor": "#2a3f5f",
           "arrowhead": 0,
           "arrowwidth": 1
          },
          "autotypenumbers": "strict",
          "coloraxis": {
           "colorbar": {
            "outlinewidth": 0,
            "ticks": ""
           }
          },
          "colorscale": {
           "diverging": [
            [
             0,
             "#8e0152"
            ],
            [
             0.1,
             "#c51b7d"
            ],
            [
             0.2,
             "#de77ae"
            ],
            [
             0.3,
             "#f1b6da"
            ],
            [
             0.4,
             "#fde0ef"
            ],
            [
             0.5,
             "#f7f7f7"
            ],
            [
             0.6,
             "#e6f5d0"
            ],
            [
             0.7,
             "#b8e186"
            ],
            [
             0.8,
             "#7fbc41"
            ],
            [
             0.9,
             "#4d9221"
            ],
            [
             1,
             "#276419"
            ]
           ],
           "sequential": [
            [
             0,
             "#0d0887"
            ],
            [
             0.1111111111111111,
             "#46039f"
            ],
            [
             0.2222222222222222,
             "#7201a8"
            ],
            [
             0.3333333333333333,
             "#9c179e"
            ],
            [
             0.4444444444444444,
             "#bd3786"
            ],
            [
             0.5555555555555556,
             "#d8576b"
            ],
            [
             0.6666666666666666,
             "#ed7953"
            ],
            [
             0.7777777777777778,
             "#fb9f3a"
            ],
            [
             0.8888888888888888,
             "#fdca26"
            ],
            [
             1,
             "#f0f921"
            ]
           ],
           "sequentialminus": [
            [
             0,
             "#0d0887"
            ],
            [
             0.1111111111111111,
             "#46039f"
            ],
            [
             0.2222222222222222,
             "#7201a8"
            ],
            [
             0.3333333333333333,
             "#9c179e"
            ],
            [
             0.4444444444444444,
             "#bd3786"
            ],
            [
             0.5555555555555556,
             "#d8576b"
            ],
            [
             0.6666666666666666,
             "#ed7953"
            ],
            [
             0.7777777777777778,
             "#fb9f3a"
            ],
            [
             0.8888888888888888,
             "#fdca26"
            ],
            [
             1,
             "#f0f921"
            ]
           ]
          },
          "colorway": [
           "#636efa",
           "#EF553B",
           "#00cc96",
           "#ab63fa",
           "#FFA15A",
           "#19d3f3",
           "#FF6692",
           "#B6E880",
           "#FF97FF",
           "#FECB52"
          ],
          "font": {
           "color": "#2a3f5f"
          },
          "geo": {
           "bgcolor": "white",
           "lakecolor": "white",
           "landcolor": "#E5ECF6",
           "showlakes": true,
           "showland": true,
           "subunitcolor": "white"
          },
          "hoverlabel": {
           "align": "left"
          },
          "hovermode": "closest",
          "mapbox": {
           "style": "light"
          },
          "paper_bgcolor": "white",
          "plot_bgcolor": "#E5ECF6",
          "polar": {
           "angularaxis": {
            "gridcolor": "white",
            "linecolor": "white",
            "ticks": ""
           },
           "bgcolor": "#E5ECF6",
           "radialaxis": {
            "gridcolor": "white",
            "linecolor": "white",
            "ticks": ""
           }
          },
          "scene": {
           "xaxis": {
            "backgroundcolor": "#E5ECF6",
            "gridcolor": "white",
            "gridwidth": 2,
            "linecolor": "white",
            "showbackground": true,
            "ticks": "",
            "zerolinecolor": "white"
           },
           "yaxis": {
            "backgroundcolor": "#E5ECF6",
            "gridcolor": "white",
            "gridwidth": 2,
            "linecolor": "white",
            "showbackground": true,
            "ticks": "",
            "zerolinecolor": "white"
           },
           "zaxis": {
            "backgroundcolor": "#E5ECF6",
            "gridcolor": "white",
            "gridwidth": 2,
            "linecolor": "white",
            "showbackground": true,
            "ticks": "",
            "zerolinecolor": "white"
           }
          },
          "shapedefaults": {
           "line": {
            "color": "#2a3f5f"
           }
          },
          "ternary": {
           "aaxis": {
            "gridcolor": "white",
            "linecolor": "white",
            "ticks": ""
           },
           "baxis": {
            "gridcolor": "white",
            "linecolor": "white",
            "ticks": ""
           },
           "bgcolor": "#E5ECF6",
           "caxis": {
            "gridcolor": "white",
            "linecolor": "white",
            "ticks": ""
           }
          },
          "title": {
           "x": 0.05
          },
          "xaxis": {
           "automargin": true,
           "gridcolor": "white",
           "linecolor": "white",
           "ticks": "",
           "title": {
            "standoff": 15
           },
           "zerolinecolor": "white",
           "zerolinewidth": 2
          },
          "yaxis": {
           "automargin": true,
           "gridcolor": "white",
           "linecolor": "white",
           "ticks": "",
           "title": {
            "standoff": 15
           },
           "zerolinecolor": "white",
           "zerolinewidth": 2
          }
         }
        },
        "title": {
         "text": "<b>path distance</b>",
         "x": 0.5,
         "xanchor": "center",
         "y": 0.85,
         "yanchor": "top"
        },
        "width": 1000
       }
      },
      "text/html": [
       "<div>                            <div id=\"84f37b29-de3c-4aed-a78d-1665254143f2\" class=\"plotly-graph-div\" style=\"height:800px; width:1000px;\"></div>            <script type=\"text/javascript\">                require([\"plotly\"], function(Plotly) {                    window.PLOTLYENV=window.PLOTLYENV || {};                                    if (document.getElementById(\"84f37b29-de3c-4aed-a78d-1665254143f2\")) {                    Plotly.newPlot(                        \"84f37b29-de3c-4aed-a78d-1665254143f2\",                        [{\"marker\":{\"color\":\"black\",\"opacity\":0.8,\"size\":5},\"mode\":\"markers\",\"x\":[-3.4035143852233887,-1.3140970468521118,-5.192994117736816,-2.168929100036621,-5.875274658203125,-4.635366916656494,-5.616009712219238,1.1494238376617432,-3.9658286571502686,-5.5050458908081055,-2.5527493953704834,-2.3772215843200684,-4.4201860427856445,-3.4079010486602783,-0.44466081261634827,1.0217236280441284,-5.082018852233887,6.668885231018066,-1.1760305166244507,-1.57939612865448,-2.4849424362182617,-4.269370079040527,-3.6440227031707764,-1.9719079732894897,-8.472356796264648,-9.150489807128906,-8.069801330566406,-2.660339117050171,7.743635654449463,-3.2473878860473633,-7.703686714172363,-3.723506212234497,1.1890933513641357,-6.392557621002197,-4.5370564460754395,-2.5204226970672607,-5.352269172668457,-0.8162011504173279,-6.8975830078125,1.0035003423690796,-6.005311012268066,-0.195978045463562,5.906755447387695,-0.615206241607666,-5.3292107582092285,6.834685325622559,11.080806732177734,-5.430791854858398,-5.486293792724609,-3.342844247817993,-4.170915603637695,4.176023006439209,-3.2038846015930176,3.263761520385742,-6.623797416687012,-1.0783621072769165,-4.87645959854126,-1.652884602546692,3.2324602603912354,-4.427411079406738,0.5723807215690613,4.194210529327393,2.7115705013275146,5.835559368133545,-4.992633819580078,-0.034877628087997437,-5.659765243530273,5.37740421295166,6.435220241546631,6.612796783447266,7.074500560760498,-3.1280884742736816,6.8930864334106445,0.15726572275161743,-3.341796398162842,3.663069486618042,5.958436012268066,-2.6220476627349854,-9.900274276733398,7.432026386260986,-4.636834144592285,4.999574184417725,8.92302131652832,7.643822193145752,-1.8932170867919922,2.5809004306793213,9.636579513549805,6.85064172744751,3.4887826442718506,0.29004722833633423,6.264122486114502,-6.413303852081299,-3.5600290298461914,-7.86342191696167,-5.74316930770874,-6.592665195465088,-4.635241985321045,-2.044851303100586,-1.7191869020462036,-5.277612209320068,-6.960842609405518,1.9331821203231812,-0.5116313099861145,2.212848663330078,-4.568112850189209,6.5367302894592285,-5.259039402008057,2.830500602722168,1.4310438632965088,5.209395408630371,-3.8592100143432617,-2.7020413875579834,-3.165506601333618,5.261693954467773,-3.692446708679199,-0.46587416529655457,-7.485414028167725,-6.575243949890137,-4.375245094299316,-4.947669982910156,-5.204449653625488,-0.5545312762260437,-4.077784538269043,1.2918834686279297,-1.1511987447738647,2.329240560531616,6.16817045211792,-6.36883544921875,-6.5604352951049805,4.502415180206299,0.5299907922744751,-1.2776631116867065,3.001887559890747,-8.67332935333252,-5.081652641296387,10.306230545043945,-2.6465814113616943,8.486431121826172,-0.23359231650829315,2.033716917037964,2.596865653991699,-3.273951768875122,-6.773125171661377,-2.988661766052246,-2.791447401046753,-5.242936611175537,0.36340126395225525,1.2621208429336548,-7.439728736877441,-2.6823623180389404,-2.7586452960968018,-4.37045431137085,-2.892071485519409,9.733198165893555,-8.323062896728516,-2.3557796478271484,-3.046572685241699,3.060887336730957,-5.427224636077881,-8.2752685546875,1.1346129179000854,-7.451338291168213,8.447443962097168,-1.412186861038208,-2.7618207931518555,-1.1187596321105957,8.83989429473877,9.246710777282715,-5.631227970123291,-7.3515143394470215,-1.0082390308380127,-5.197135925292969,-2.0707812309265137,3.948537826538086,-1.3794010877609253,-5.546376705169678,9.879843711853027,5.538943290710449,-9.860440254211426,-6.165701389312744,-5.986876487731934,-6.630317211151123,-0.9300287365913391,-9.07004451751709,-4.620925426483154,-1.7671782970428467,-0.6600268483161926,-0.32097551226615906,-9.779194831848145,-4.3929948806762695,5.489055633544922,10.704489707946777,6.2600250244140625,-4.993440628051758,-2.880269765853882,1.9951286315917969,-6.316837787628174,-5.810343265533447,-8.18006706237793,0.19498440623283386,6.7227325439453125,-6.9175848960876465,-7.270933151245117,-7.908114433288574,-6.014995098114014,4.845610618591309,-5.99162483215332,-8.496749877929688,-7.325170040130615,-4.069806098937988,2.991541624069214,-5.596215724945068,-5.511988639831543,-0.7722588181495667,-1.0373908281326294,9.256863594055176,-3.8670639991760254,-6.954530239105225,10.22391414642334,-4.50695276260376,6.373942852020264,-0.8740713596343994,-8.289871215820312,-4.15101432800293,-2.4389638900756836,-7.502575874328613,-0.8093082308769226,-4.00827169418335,-6.56076717376709,1.0792361497879028,-6.448914527893066,-4.93688440322876,-5.353741645812988,-6.774296283721924,-2.4410805702209473,-4.592984676361084,4.1573920249938965,-4.859807968139648,-5.728851795196533,-7.2657694816589355,-0.7806150913238525,-5.10951566696167,-0.8687341213226318,-6.870899200439453,5.3457136154174805,-2.9102249145507812,-4.787342548370361,5.209231853485107,2.0514848232269287,5.087323188781738,2.1821062564849854,5.181140422821045,-5.389703273773193,1.8598339557647705,-3.9628028869628906,1.4795981645584106,-4.15463399887085,2.336237668991089,-4.554271221160889,-0.27594462037086487,-0.8738327622413635,-3.001971483230591,7.461748123168945,6.698739528656006,-5.198167324066162,-1.808327078819275,-5.247620105743408,9.265110969543457,-0.17167557775974274,-7.0331830978393555,2.0338499546051025,-5.277902603149414,0.5180630087852478,-3.0588269233703613,-2.928022861480713,-2.0905683040618896,9.531522750854492,2.446209192276001,-2.2218925952911377,-3.739457368850708,1.1475173234939575,-2.3107118606567383,-1.4226442575454712,-0.962225079536438,1.691394329071045,-5.602634429931641,2.054694652557373,-0.5675272941589355,-2.997206449508667,-1.750691533088684,-3.205193281173706,0.2231774479150772,8.583586692810059,7.674166679382324,8.968437194824219,5.254978656768799,6.844831466674805,-4.535407543182373,5.761537551879883,-4.183764457702637,2.8540234565734863,4.485663414001465,-3.261350154876709,-5.091994285583496,4.248190879821777,7.677306175231934,-2.501803159713745,6.962502956390381,-2.101444959640503,6.269691467285156,4.4693379402160645,6.755460262298584,-1.8384743928909302,3.3253331184387207,1.9087674617767334,0.861283540725708,10.071921348571777,8.727029800415039,10.99771499633789,7.337432861328125,10.06946849822998,2.856250524520874,-1.696932315826416,5.308321952819824,5.6100029945373535,3.513993263244629,8.239880561828613,1.5812718868255615,7.026284694671631,10.02695083618164,6.30190896987915,10.730537414550781,3.7357349395751953,-6.781206130981445,10.717607498168945,2.511676549911499,-3.6239161491394043,-1.600144863128662,9.26122760772705,9.588532447814941,9.742111206054688,10.60102653503418,-4.1007490158081055,-0.07553279399871826,8.343402862548828,6.179929256439209,-1.4544055461883545,6.121607780456543,6.306406021118164,-2.3713948726654053,-7.699106693267822,5.56619930267334,6.389599323272705,10.182302474975586,-2.876345634460449,-1.6933914422988892,-0.6304529905319214,6.170604228973389,9.525437355041504,-4.000630855560303,9.061528205871582,2.5887365341186523,-2.890191078186035,0.7455844879150391,1.6996698379516602,1.561282992362976,6.046496868133545,-2.512744426727295,5.658321857452393,5.121732711791992,-4.058434963226318,-2.9781813621520996,-2.919689893722534,7.56252908706665,6.86366081237793,-1.4868066310882568,2.2249417304992676,5.46673583984375,-3.168297529220581,11.009221076965332,-2.5812509059906006,9.729433059692383,-0.0035895654000341892,5.836034297943115,-2.889801025390625,8.852417945861816,-4.139959335327148,-5.379470348358154,-2.920175313949585,7.866154193878174,-7.646256446838379,-7.5157599449157715,-5.941165924072266,-7.639776229858398,-8.060653686523438,-6.3867950439453125,-6.8067474365234375,-7.535359859466553,-8.471683502197266,-6.7313432693481445,-2.2778425216674805,-5.970193386077881,-5.836040496826172,-5.6153998374938965,-8.112473487854004,-6.473084449768066,-7.344359874725342,-7.591369152069092,-6.459980010986328,-8.588122367858887,-7.718404769897461,1.0972355604171753,-6.735990047454834,-8.134339332580566,-0.6399176120758057,-6.878783702850342],\"y\":[2.0159802436828613,-0.022441228851675987,-0.7492949962615967,5.720204830169678,0.5312249660491943,1.1970030069351196,-2.6855380535125732,0.6108261942863464,1.3040121793746948,-0.9600521326065063,3.9705448150634766,3.1288464069366455,-0.47590920329093933,-0.6679052114486694,0.979609489440918,4.569110870361328,-0.1441887766122818,0.8800124526023865,-0.0608622282743454,0.17262527346611023,-0.16537895798683167,4.420754432678223,-0.6153542995452881,2.7964701652526855,-2.3031516075134277,-1.8034265041351318,-0.6184768676757812,1.0852762460708618,-3.671393871307373,-4.001647472381592,-1.2912026643753052,2.671926498413086,0.01948692463338375,-2.5643181800842285,-1.6697850227355957,-7.642768859863281,-2.615542411804199,3.3506298065185547,7.116888523101807,1.0958718061447144,-0.4395871162414551,-2.910830020904541,1.6469022035598755,3.4292287826538086,-2.6293959617614746,0.6214581727981567,2.228640079498291,-0.8442766666412354,-1.1184616088867188,-4.830596446990967,5.0360822677612305,-0.23494012653827667,-3.5785841941833496,0.035038962960243225,-0.6418586373329163,-1.9710174798965454,-2.0995984077453613,-0.4571595788002014,0.24316230416297913,-0.7013228535652161,3.836571216583252,-0.3467871844768524,-1.4320350885391235,1.5174895524978638,-4.593847274780273,-2.183454751968384,-3.4973232746124268,-3.967827320098877,1.124138593673706,-0.15419688820838928,-2.6169562339782715,1.4953745603561401,-0.02643320895731449,-8.747382164001465,-4.122286319732666,0.480638712644577,-3.705409049987793,-1.6095978021621704,-2.972484827041626,1.7350000143051147,5.245613098144531,2.6875953674316406,1.8974542617797852,3.0192158222198486,-4.656686782836914,-3.448024034500122,4.463639736175537,0.319782018661499,-1.4865591526031494,-0.8199862241744995,2.7980971336364746,7.282111167907715,-1.133579969406128,4.585607051849365,5.5697760581970215,6.434725284576416,3.0588371753692627,3.1370041370391846,-2.4810845851898193,6.593080520629883,6.633962631225586,-0.8942169547080994,0.7585479021072388,0.859688401222229,-0.6487736105918884,0.2268190085887909,4.381856918334961,-0.016711028292775154,2.4593515396118164,-3.0901036262512207,-0.2688595950603485,-0.5939467549324036,-5.451606273651123,-2.356257915496826,-0.21153296530246735,0.4541134536266327,2.9611213207244873,2.9557790756225586,-0.5778040885925293,2.361522912979126,2.079538583755493,0.8153230547904968,4.3274617195129395,2.5219225883483887,3.49066424369812,0.28348520398139954,0.7336822748184204,5.744742393493652,4.496860980987549,0.207485631108284,1.719334363937378,5.480149745941162,-0.15850140154361725,-2.5887563228607178,2.2478525638580322,3.497161626815796,4.366451263427734,3.5654399394989014,0.06730207800865173,-1.1075115203857422,1.185262680053711,-0.20852325856685638,3.586229085922241,3.194474697113037,1.0666372776031494,2.880403995513916,0.4319923520088196,2.902303695678711,4.511256694793701,0.5316151976585388,0.2265579253435135,1.8894602060317993,1.5220648050308228,3.318002223968506,3.5300819873809814,2.586205005645752,1.7389366626739502,0.787417471408844,2.4500858783721924,2.96366810798645,-1.0578663349151611,5.234051704406738,2.9456350803375244,0.45331424474716187,1.1375685930252075,-0.03782719001173973,2.93733811378479,3.0524280071258545,2.457183361053467,4.761960983276367,3.905829906463623,2.095308303833008,5.2471842765808105,1.157730221748352,0.6413925886154175,5.940047740936279,2.284799337387085,1.1864473819732666,-2.8985376358032227,3.064136028289795,-0.8733094930648804,0.9155642986297607,0.6817901134490967,-1.559443712234497,0.11887015402317047,2.6132044792175293,3.4205708503723145,-0.4528624415397644,-3.114506483078003,4.468225479125977,3.0236523151397705,2.67584228515625,-3.399604558944702,7.002345561981201,1.220302700996399,1.8657983541488647,0.968596339225769,-0.9012497067451477,3.8411781787872314,3.6634442806243896,0.6223906874656677,1.628490924835205,1.993632197380066,6.1097283363342285,2.3020875453948975,2.839139699935913,2.4413862228393555,-1.1003310680389404,5.515000343322754,-0.7751303911209106,0.8526330590248108,4.029646396636963,5.483905792236328,0.6338734030723572,0.7939381003379822,2.6143851280212402,0.1539973020553589,2.5657382011413574,2.2411136627197266,5.815642356872559,0.14198651909828186,-0.03696423023939133,3.7361583709716797,-0.7409871816635132,5.17707633972168,-0.7517865300178528,0.6132628321647644,4.452735424041748,1.4609088897705078,-4.625756740570068,1.0269010066986084,2.103271722793579,1.502428412437439,0.835267186164856,3.607529401779175,-0.7518053650856018,0.2899310290813446,0.8217975497245789,5.295722007751465,2.8858015537261963,-0.30265602469444275,5.667088985443115,3.4978220462799072,0.29307809472084045,-2.9866445064544678,3.629537343978882,5.8232035636901855,-1.348601222038269,3.262781858444214,-0.509056568145752,0.8227701783180237,1.7176705598831177,4.570744514465332,3.4470977783203125,4.962278366088867,2.517319679260254,-2.456890344619751,-1.3487640619277954,0.048694100230932236,2.86122465133667,2.931945562362671,-1.1100050210952759,0.9102634787559509,0.7939017415046692,4.1263227462768555,1.4738119840621948,4.699230670928955,0.9953926205635071,3.8917031288146973,-0.15142053365707397,1.1068390607833862,-1.692103385925293,1.044051170349121,-0.6272965669631958,0.9583171606063843,1.4229153394699097,2.6226165294647217,-0.5110507011413574,4.374130725860596,3.1879873275756836,3.3306784629821777,3.805708408355713,4.071113109588623,4.936025619506836,1.8341220617294312,1.4086189270019531,0.8156840801239014,-1.9663108587265015,1.4503525495529175,2.9363763332366943,3.4112038612365723,-1.9380167722702026,1.2376561164855957,2.5526576042175293,0.5260580778121948,-0.05515717715024948,-2.5699453353881836,-2.3395228385925293,-0.07962017506361008,-2.753978729248047,-1.115317702293396,0.30757665634155273,-2.302619695663452,-3.1695685386657715,0.855660080909729,1.4857453107833862,-1.3054113388061523,0.684651792049408,-3.880751609802246,3.106551170349121,-0.36108165979385376,-1.453067660331726,-7.783791542053223,0.2876111567020416,-0.32150185108184814,-0.525929868221283,1.7062973976135254,2.0841333866119385,3.061826229095459,0.6088948249816895,2.633669853210449,-0.5416591167449951,-3.3675553798675537,-0.09169722348451614,-0.13929465413093567,0.35910463333129883,1.4453809261322021,-1.121042013168335,-0.010445849038660526,2.939704418182373,0.904356837272644,2.9896185398101807,-0.5948976278305054,-0.37216895818710327,2.934356212615967,-2.2541964054107666,-2.2700250148773193,-7.309178829193115,3.187256336212158,0.9447076320648193,0.640241801738739,3.71535325050354,-2.7625675201416016,-2.8711650371551514,2.8845953941345215,0.38578298687934875,-7.236713886260986,2.6602160930633545,0.07700631767511368,-1.1666169166564941,-1.5256497859954834,1.715156078338623,2.6535332202911377,3.4176645278930664,-6.254394054412842,-4.44911003112793,-5.580085277557373,1.844815969467163,0.858288586139679,-3.346726417541504,2.778589963912964,-3.140580177307129,-4.153719425201416,1.793125867843628,-1.2970885038375854,-7.009164333343506,2.6025235652923584,-4.533968925476074,2.0128226280212402,-4.202962398529053,-2.7332193851470947,-2.0227432250976562,-6.214315891265869,0.7807350158691406,-2.207951545715332,0.37896451354026794,-1.4191852807998657,-3.172687292098999,-2.5186920166015625,0.9808710217475891,-4.402198791503906,3.5801355838775635,-7.788963317871094,2.612067461013794,-3.8976199626922607,2.4036107063293457,-2.9838292598724365,-0.9533785581588745,-4.149484634399414,0.5588770508766174,6.118053913116455,6.420071601867676,1.204107642173767,6.240131855010986,4.799606800079346,1.6708999872207642,3.3290998935699463,1.9999828338623047,7.434828758239746,4.770888328552246,4.745202541351318,5.9538254737854,6.078316688537598,1.2046209573745728,7.558012962341309,7.121150016784668,6.740934371948242,6.211475372314453,5.5143656730651855,7.3225417137146,1.9319349527359009,4.519619464874268,1.2681622505187988,7.5008134841918945,2.9722869396209717,6.314393520355225],\"z\":[7.623159885406494,-3.1711182594299316,-6.228228569030762,2.851788282394409,0.7425222396850586,1.5788713693618774,-2.5899477005004883,2.4973812103271484,-2.9737749099731445,-7.587395191192627,6.939828395843506,3.967068672180176,-4.386728286743164,-4.335968494415283,-1.6100878715515137,3.364363193511963,-7.122983455657959,-1.2916431427001953,-4.879520416259766,-3.4141359329223633,4.168792724609375,6.9397172927856445,4.009586811065674,4.793294906616211,-7.130064010620117,-9.027953147888184,-8.57180118560791,-3.3346540927886963,-1.060072422027588,-3.6066880226135254,-0.6867947578430176,6.509133338928223,0.6346958875656128,-6.674685955047607,0.9567064046859741,-4.309228420257568,-8.628657341003418,1.6499216556549072,9.073390007019043,0.2269241064786911,-7.465390682220459,-1.5064657926559448,2.2495155334472656,4.239336967468262,-8.649303436279297,4.218444347381592,2.8724522590637207,0.7965318560600281,-7.861163139343262,-3.8875300884246826,0.4044502079486847,3.214462995529175,-3.931328296661377,3.170518636703491,-5.913788795471191,-4.649079322814941,-6.148451805114746,-4.094651222229004,2.9286742210388184,1.5520926713943481,4.551918983459473,-3.228881359100342,-2.931755304336548,-4.656738758087158,-6.393630504608154,-2.6844820976257324,-1.7645868062973022,-1.2628743648529053,-2.8925113677978516,-1.383010745048523,-0.5413525104522705,8.403694152832031,-0.4435500502586365,-4.669826030731201,-7.941313743591309,3.3687214851379395,-2.0442371368408203,-1.5336382389068604,-8.258432388305664,-4.4728922843933105,0.01465789694339037,1.9879224300384521,2.842442274093628,0.5498759150505066,-1.3359965085983276,-1.257745623588562,2.1849024295806885,0.1805647909641266,-2.0759150981903076,-3.7178847789764404,4.342982769012451,6.225855350494385,-10.015944480895996,2.888740062713623,9.374507904052734,7.25209903717041,1.1311076879501343,7.4194231033325195,-9.14339542388916,3.0126521587371826,10.522046089172363,-3.1609506607055664,-1.9715259075164795,-1.001215934753418,1.1399180889129639,5.279053688049316,9.736114501953125,-1.4979346990585327,-0.3530782163143158,0.05057418346405029,-4.26772403717041,-3.795565605163574,-3.6889150142669678,0.3290838599205017,-4.545243263244629,3.1423449516296387,5.018208980560303,6.218576431274414,2.1745493412017822,0.7615384459495544,0.7736905813217163,-0.933957040309906,7.662580490112305,2.264191150665283,4.538351535797119,-1.5629156827926636,0.9777856469154358,3.865293502807617,6.063266277313232,1.623785376548767,-2.40095591545105,2.0885555744171143,0.22691956162452698,-7.124495506286621,0.8156806826591492,4.237679958343506,0.8004122376441956,3.2191972732543945,2.723067283630371,-0.31624889373779297,1.186830759048462,5.0119218826293945,10.053820610046387,1.7143813371658325,7.140608310699463,6.223445415496826,3.120508909225464,1.7015421390533447,3.7766261100769043,4.3455328941345215,5.24534273147583,4.22351598739624,3.5420897006988525,6.457335948944092,6.735923767089844,7.414395332336426,3.4313559532165527,1.9130226373672485,9.276664733886719,5.624707221984863,0.3183928430080414,4.3625922203063965,3.9619622230529785,4.860270977020264,-3.2641804218292236,5.041434288024902,5.844122409820557,6.2690887451171875,8.441557884216309,6.192399024963379,3.1389224529266357,6.606871128082275,2.870302438735962,1.1511374711990356,4.699422359466553,4.936148166656494,6.156252861022949,4.054433345794678,-8.298540115356445,3.568246841430664,-6.247982025146484,3.013782501220703,1.1250594854354858,-9.840056419372559,5.5647053718566895,5.299048900604248,3.9417691230773926,-4.254090785980225,-7.87760591506958,1.535192608833313,5.826565265655518,1.5791648626327515,0.7475085258483887,7.885587215423584,3.9380741119384766,0.5422621965408325,6.613858222961426,0.47486186027526855,5.012712478637695,1.2248133420944214,4.266929626464844,6.971776008605957,7.943188190460205,4.232558250427246,7.372373104095459,1.9980509281158447,3.4076156616210938,-9.457592964172363,3.9585657119750977,2.9176793098449707,1.937340259552002,6.369638442993164,7.179845809936523,0.6553699374198914,2.7144765853881836,6.23399543762207,4.334995269775391,6.856229305267334,6.162900447845459,3.9950203895568848,5.404175758361816,-3.1271133422851562,6.9333953857421875,2.557645320892334,7.109854698181152,-0.14755979180335999,3.459254503250122,6.493696689605713,10.498397827148438,-6.151548862457275,3.319810628890991,4.292918682098389,7.012166976928711,1.1369032859802246,4.850434303283691,3.7800657749176025,1.9317545890808105,6.898207187652588,2.8932063579559326,5.393133640289307,-4.00900936126709,3.1539437770843506,4.258577823638916,0.941245973110199,0.05061604455113411,4.917852401733398,4.7378950119018555,0.9075136780738831,1.2889949083328247,1.5177719593048096,0.43546542525291443,-0.37179484963417053,2.319801092147827,1.1879820823669434,0.5525668263435364,0.46874091029167175,0.38627564907073975,-0.45064777135849,-3.568744421005249,0.9565773010253906,2.6370649337768555,-8.46264934539795,-2.3415393829345703,-1.0850046873092651,6.122309684753418,7.368656158447266,1.6458865404129028,1.8875616788864136,1.3883094787597656,0.6682506799697876,-0.10025589168071747,-6.292238235473633,0.8268822431564331,3.5333549976348877,7.180068492889404,7.261989116668701,0.7335241436958313,-0.9008669853210449,5.043373107910156,6.378309726715088,1.1868586540222168,1.3208094835281372,1.073317527770996,6.82497501373291,0.6416359543800354,3.784712791442871,-0.12167560309171677,-4.274718761444092,3.1757562160491943,1.5166337490081787,5.251198768615723,-4.307760238647461,-1.858280062675476,0.39591678977012634,-2.231985330581665,-3.7341980934143066,-0.960486650466919,-5.928334712982178,-3.45729660987854,-1.9409921169281006,-4.644235610961914,-5.451150417327881,-1.0771433115005493,-1.9522137641906738,-5.524017333984375,-4.153600215911865,-2.107377290725708,-0.6163411140441895,-8.49993896484375,3.9787049293518066,-3.1798746585845947,-1.4239764213562012,-4.109410285949707,-5.164571285247803,-4.8286871910095215,-4.568172931671143,0.7427828907966614,0.016056125983595848,-0.4004867374897003,-1.814168095588684,0.5481467247009277,-3.87078595161438,-9.102524757385254,-3.7178404331207275,-3.500413179397583,-5.201125144958496,-4.065938472747803,-4.369997501373291,-2.5794999599456787,0.2922061085700989,-3.0963306427001953,0.661136269569397,-2.7547287940979004,-5.558726787567139,0.7703746557235718,-3.780641555786133,-4.994991779327393,-1.85235595703125,1.9640506505966187,1.2898818254470825,0.9186318516731262,4.375790119171143,-3.662686824798584,-1.4864805936813354,5.120135307312012,1.2755630016326904,-2.1392743587493896,6.641825199127197,5.569417953491211,-2.945258140563965,-0.8944036364555359,4.085122585296631,6.62615966796875,3.761018991470337,-3.579042434692383,-1.3780819177627563,-3.9845283031463623,-1.7998775243759155,0.9364607334136963,-0.17295020818710327,3.7738187313079834,-1.5100706815719604,-7.052197456359863,-2.5849926471710205,-4.316529750823975,-3.3607280254364014,6.86064338684082,-2.5728061199188232,2.1335346698760986,-4.223867416381836,-3.8180904388427734,-1.236124873161316,-3.4917967319488525,3.6857383251190186,-1.0731581449508667,-5.552797794342041,-4.186811447143555,-1.3414976596832275,-0.6328293085098267,1.573254108428955,-2.7643232345581055,1.5955524444580078,-6.656223773956299,4.580501079559326,-7.610867500305176,0.6242921352386475,-3.690236806869507,-5.959648609161377,-7.006537437438965,-1.9619141817092896,9.402436256408691,9.5576810836792,10.812007904052734,8.880653381347656,2.7142069339752197,10.415063858032227,10.005376815795898,8.366971969604492,5.86861515045166,9.073844909667969,7.072452068328857,8.289559364318848,8.206500053405762,10.83082389831543,6.7000250816345215,6.6193671226501465,9.764411926269531,10.21850299835205,8.225412368774414,5.412947177886963,8.684651374816895,3.260054349899292,10.53336238861084,6.7345356941223145,8.274625778198242,7.8626484870910645],\"type\":\"scatter3d\"}],                        {\"height\":800,\"scene\":{\"xaxis\":{\"title\":{\"text\":\"1st Component\"}},\"yaxis\":{\"title\":{\"text\":\"2nd Component\"}},\"zaxis\":{\"title\":{\"text\":\"3rd Component\"}}},\"title\":{\"text\":\"<b>path distance</b>\",\"x\":0.5,\"xanchor\":\"center\",\"y\":0.85,\"yanchor\":\"top\"},\"width\":1000,\"template\":{\"data\":{\"histogram2dcontour\":[{\"type\":\"histogram2dcontour\",\"colorbar\":{\"outlinewidth\":0,\"ticks\":\"\"},\"colorscale\":[[0.0,\"#0d0887\"],[0.1111111111111111,\"#46039f\"],[0.2222222222222222,\"#7201a8\"],[0.3333333333333333,\"#9c179e\"],[0.4444444444444444,\"#bd3786\"],[0.5555555555555556,\"#d8576b\"],[0.6666666666666666,\"#ed7953\"],[0.7777777777777778,\"#fb9f3a\"],[0.8888888888888888,\"#fdca26\"],[1.0,\"#f0f921\"]]}],\"choropleth\":[{\"type\":\"choropleth\",\"colorbar\":{\"outlinewidth\":0,\"ticks\":\"\"}}],\"histogram2d\":[{\"type\":\"histogram2d\",\"colorbar\":{\"outlinewidth\":0,\"ticks\":\"\"},\"colorscale\":[[0.0,\"#0d0887\"],[0.1111111111111111,\"#46039f\"],[0.2222222222222222,\"#7201a8\"],[0.3333333333333333,\"#9c179e\"],[0.4444444444444444,\"#bd3786\"],[0.5555555555555556,\"#d8576b\"],[0.6666666666666666,\"#ed7953\"],[0.7777777777777778,\"#fb9f3a\"],[0.8888888888888888,\"#fdca26\"],[1.0,\"#f0f921\"]]}],\"heatmap\":[{\"type\":\"heatmap\",\"colorbar\":{\"outlinewidth\":0,\"ticks\":\"\"},\"colorscale\":[[0.0,\"#0d0887\"],[0.1111111111111111,\"#46039f\"],[0.2222222222222222,\"#7201a8\"],[0.3333333333333333,\"#9c179e\"],[0.4444444444444444,\"#bd3786\"],[0.5555555555555556,\"#d8576b\"],[0.6666666666666666,\"#ed7953\"],[0.7777777777777778,\"#fb9f3a\"],[0.8888888888888888,\"#fdca26\"],[1.0,\"#f0f921\"]]}],\"heatmapgl\":[{\"type\":\"heatmapgl\",\"colorbar\":{\"outlinewidth\":0,\"ticks\":\"\"},\"colorscale\":[[0.0,\"#0d0887\"],[0.1111111111111111,\"#46039f\"],[0.2222222222222222,\"#7201a8\"],[0.3333333333333333,\"#9c179e\"],[0.4444444444444444,\"#bd3786\"],[0.5555555555555556,\"#d8576b\"],[0.6666666666666666,\"#ed7953\"],[0.7777777777777778,\"#fb9f3a\"],[0.8888888888888888,\"#fdca26\"],[1.0,\"#f0f921\"]]}],\"contourcarpet\":[{\"type\":\"contourcarpet\",\"colorbar\":{\"outlinewidth\":0,\"ticks\":\"\"}}],\"contour\":[{\"type\":\"contour\",\"colorbar\":{\"outlinewidth\":0,\"ticks\":\"\"},\"colorscale\":[[0.0,\"#0d0887\"],[0.1111111111111111,\"#46039f\"],[0.2222222222222222,\"#7201a8\"],[0.3333333333333333,\"#9c179e\"],[0.4444444444444444,\"#bd3786\"],[0.5555555555555556,\"#d8576b\"],[0.6666666666666666,\"#ed7953\"],[0.7777777777777778,\"#fb9f3a\"],[0.8888888888888888,\"#fdca26\"],[1.0,\"#f0f921\"]]}],\"surface\":[{\"type\":\"surface\",\"colorbar\":{\"outlinewidth\":0,\"ticks\":\"\"},\"colorscale\":[[0.0,\"#0d0887\"],[0.1111111111111111,\"#46039f\"],[0.2222222222222222,\"#7201a8\"],[0.3333333333333333,\"#9c179e\"],[0.4444444444444444,\"#bd3786\"],[0.5555555555555556,\"#d8576b\"],[0.6666666666666666,\"#ed7953\"],[0.7777777777777778,\"#fb9f3a\"],[0.8888888888888888,\"#fdca26\"],[1.0,\"#f0f921\"]]}],\"mesh3d\":[{\"type\":\"mesh3d\",\"colorbar\":{\"outlinewidth\":0,\"ticks\":\"\"}}],\"scatter\":[{\"fillpattern\":{\"fillmode\":\"overlay\",\"size\":10,\"solidity\":0.2},\"type\":\"scatter\"}],\"parcoords\":[{\"type\":\"parcoords\",\"line\":{\"colorbar\":{\"outlinewidth\":0,\"ticks\":\"\"}}}],\"scatterpolargl\":[{\"type\":\"scatterpolargl\",\"marker\":{\"colorbar\":{\"outlinewidth\":0,\"ticks\":\"\"}}}],\"bar\":[{\"error_x\":{\"color\":\"#2a3f5f\"},\"error_y\":{\"color\":\"#2a3f5f\"},\"marker\":{\"line\":{\"color\":\"#E5ECF6\",\"width\":0.5},\"pattern\":{\"fillmode\":\"overlay\",\"size\":10,\"solidity\":0.2}},\"type\":\"bar\"}],\"scattergeo\":[{\"type\":\"scattergeo\",\"marker\":{\"colorbar\":{\"outlinewidth\":0,\"ticks\":\"\"}}}],\"scatterpolar\":[{\"type\":\"scatterpolar\",\"marker\":{\"colorbar\":{\"outlinewidth\":0,\"ticks\":\"\"}}}],\"histogram\":[{\"marker\":{\"pattern\":{\"fillmode\":\"overlay\",\"size\":10,\"solidity\":0.2}},\"type\":\"histogram\"}],\"scattergl\":[{\"type\":\"scattergl\",\"marker\":{\"colorbar\":{\"outlinewidth\":0,\"ticks\":\"\"}}}],\"scatter3d\":[{\"type\":\"scatter3d\",\"line\":{\"colorbar\":{\"outlinewidth\":0,\"ticks\":\"\"}},\"marker\":{\"colorbar\":{\"outlinewidth\":0,\"ticks\":\"\"}}}],\"scattermapbox\":[{\"type\":\"scattermapbox\",\"marker\":{\"colorbar\":{\"outlinewidth\":0,\"ticks\":\"\"}}}],\"scatterternary\":[{\"type\":\"scatterternary\",\"marker\":{\"colorbar\":{\"outlinewidth\":0,\"ticks\":\"\"}}}],\"scattercarpet\":[{\"type\":\"scattercarpet\",\"marker\":{\"colorbar\":{\"outlinewidth\":0,\"ticks\":\"\"}}}],\"carpet\":[{\"aaxis\":{\"endlinecolor\":\"#2a3f5f\",\"gridcolor\":\"white\",\"linecolor\":\"white\",\"minorgridcolor\":\"white\",\"startlinecolor\":\"#2a3f5f\"},\"baxis\":{\"endlinecolor\":\"#2a3f5f\",\"gridcolor\":\"white\",\"linecolor\":\"white\",\"minorgridcolor\":\"white\",\"startlinecolor\":\"#2a3f5f\"},\"type\":\"carpet\"}],\"table\":[{\"cells\":{\"fill\":{\"color\":\"#EBF0F8\"},\"line\":{\"color\":\"white\"}},\"header\":{\"fill\":{\"color\":\"#C8D4E3\"},\"line\":{\"color\":\"white\"}},\"type\":\"table\"}],\"barpolar\":[{\"marker\":{\"line\":{\"color\":\"#E5ECF6\",\"width\":0.5},\"pattern\":{\"fillmode\":\"overlay\",\"size\":10,\"solidity\":0.2}},\"type\":\"barpolar\"}],\"pie\":[{\"automargin\":true,\"type\":\"pie\"}]},\"layout\":{\"autotypenumbers\":\"strict\",\"colorway\":[\"#636efa\",\"#EF553B\",\"#00cc96\",\"#ab63fa\",\"#FFA15A\",\"#19d3f3\",\"#FF6692\",\"#B6E880\",\"#FF97FF\",\"#FECB52\"],\"font\":{\"color\":\"#2a3f5f\"},\"hovermode\":\"closest\",\"hoverlabel\":{\"align\":\"left\"},\"paper_bgcolor\":\"white\",\"plot_bgcolor\":\"#E5ECF6\",\"polar\":{\"bgcolor\":\"#E5ECF6\",\"angularaxis\":{\"gridcolor\":\"white\",\"linecolor\":\"white\",\"ticks\":\"\"},\"radialaxis\":{\"gridcolor\":\"white\",\"linecolor\":\"white\",\"ticks\":\"\"}},\"ternary\":{\"bgcolor\":\"#E5ECF6\",\"aaxis\":{\"gridcolor\":\"white\",\"linecolor\":\"white\",\"ticks\":\"\"},\"baxis\":{\"gridcolor\":\"white\",\"linecolor\":\"white\",\"ticks\":\"\"},\"caxis\":{\"gridcolor\":\"white\",\"linecolor\":\"white\",\"ticks\":\"\"}},\"coloraxis\":{\"colorbar\":{\"outlinewidth\":0,\"ticks\":\"\"}},\"colorscale\":{\"sequential\":[[0.0,\"#0d0887\"],[0.1111111111111111,\"#46039f\"],[0.2222222222222222,\"#7201a8\"],[0.3333333333333333,\"#9c179e\"],[0.4444444444444444,\"#bd3786\"],[0.5555555555555556,\"#d8576b\"],[0.6666666666666666,\"#ed7953\"],[0.7777777777777778,\"#fb9f3a\"],[0.8888888888888888,\"#fdca26\"],[1.0,\"#f0f921\"]],\"sequentialminus\":[[0.0,\"#0d0887\"],[0.1111111111111111,\"#46039f\"],[0.2222222222222222,\"#7201a8\"],[0.3333333333333333,\"#9c179e\"],[0.4444444444444444,\"#bd3786\"],[0.5555555555555556,\"#d8576b\"],[0.6666666666666666,\"#ed7953\"],[0.7777777777777778,\"#fb9f3a\"],[0.8888888888888888,\"#fdca26\"],[1.0,\"#f0f921\"]],\"diverging\":[[0,\"#8e0152\"],[0.1,\"#c51b7d\"],[0.2,\"#de77ae\"],[0.3,\"#f1b6da\"],[0.4,\"#fde0ef\"],[0.5,\"#f7f7f7\"],[0.6,\"#e6f5d0\"],[0.7,\"#b8e186\"],[0.8,\"#7fbc41\"],[0.9,\"#4d9221\"],[1,\"#276419\"]]},\"xaxis\":{\"gridcolor\":\"white\",\"linecolor\":\"white\",\"ticks\":\"\",\"title\":{\"standoff\":15},\"zerolinecolor\":\"white\",\"automargin\":true,\"zerolinewidth\":2},\"yaxis\":{\"gridcolor\":\"white\",\"linecolor\":\"white\",\"ticks\":\"\",\"title\":{\"standoff\":15},\"zerolinecolor\":\"white\",\"automargin\":true,\"zerolinewidth\":2},\"scene\":{\"xaxis\":{\"backgroundcolor\":\"#E5ECF6\",\"gridcolor\":\"white\",\"linecolor\":\"white\",\"showbackground\":true,\"ticks\":\"\",\"zerolinecolor\":\"white\",\"gridwidth\":2},\"yaxis\":{\"backgroundcolor\":\"#E5ECF6\",\"gridcolor\":\"white\",\"linecolor\":\"white\",\"showbackground\":true,\"ticks\":\"\",\"zerolinecolor\":\"white\",\"gridwidth\":2},\"zaxis\":{\"backgroundcolor\":\"#E5ECF6\",\"gridcolor\":\"white\",\"linecolor\":\"white\",\"showbackground\":true,\"ticks\":\"\",\"zerolinecolor\":\"white\",\"gridwidth\":2}},\"shapedefaults\":{\"line\":{\"color\":\"#2a3f5f\"}},\"annotationdefaults\":{\"arrowcolor\":\"#2a3f5f\",\"arrowhead\":0,\"arrowwidth\":1},\"geo\":{\"bgcolor\":\"white\",\"landcolor\":\"#E5ECF6\",\"subunitcolor\":\"white\",\"showland\":true,\"showlakes\":true,\"lakecolor\":\"white\"},\"title\":{\"x\":0.05},\"mapbox\":{\"style\":\"light\"}}}},                        {\"responsive\": true}                    ).then(function(){\n",
       "                            \n",
       "var gd = document.getElementById('84f37b29-de3c-4aed-a78d-1665254143f2');\n",
       "var x = new MutationObserver(function (mutations, observer) {{\n",
       "        var display = window.getComputedStyle(gd).display;\n",
       "        if (!display || display === 'none') {{\n",
       "            console.log([gd, 'removed!']);\n",
       "            Plotly.purge(gd);\n",
       "            observer.disconnect();\n",
       "        }}\n",
       "}});\n",
       "\n",
       "// Listen for the removal of the full notebook cells\n",
       "var notebookContainer = gd.closest('#notebook-container');\n",
       "if (notebookContainer) {{\n",
       "    x.observe(notebookContainer, {childList: true});\n",
       "}}\n",
       "\n",
       "// Listen for the clearing of the current output cell\n",
       "var outputEl = gd.closest('.output');\n",
       "if (outputEl) {{\n",
       "    x.observe(outputEl, {childList: true});\n",
       "}}\n",
       "\n",
       "                        })                };                });            </script>        </div>"
      ]
     },
     "metadata": {},
     "output_type": "display_data"
    }
   ],
   "source": [
    "for metric in data_embedded_sel.keys():\n",
    "    trace = go.Scatter3d(\n",
    "    x=data_embedded_sel[metric][:,0],\n",
    "    y=data_embedded_sel[metric][:,1],\n",
    "    z=data_embedded_sel[metric][:,2],\n",
    "    mode='markers',\n",
    "    marker=dict(\n",
    "            size=5,\n",
    "            color= 'black',\n",
    "            opacity=0.8\n",
    "            )\n",
    "    )\n",
    "    layout = go.Layout(\n",
    "            width = 1000,\n",
    "            height = 800,\n",
    "            title={'text':  '%s'%('<b>radial distance</b>' if metric == 'rad' else '<b>path distance</b>'),\n",
    "                            'x': 0.5,\n",
    "                            'y': 0.85,\n",
    "                            'xanchor': 'center',\n",
    "                            'yanchor': 'top'\n",
    "                       },\n",
    "            scene=dict(\n",
    "                xaxis=dict(title='1st Component'),\n",
    "                yaxis=dict(title='2nd Component'),\n",
    "                zaxis=dict(title='3rd Component')\n",
    "            )\n",
    "    \n",
    "    )\n",
    "    fig = go.Figure(data=[trace], layout=layout)\n",
    "    fig.show()\n"
   ]
  },
  {
   "cell_type": "markdown",
   "metadata": {},
   "source": [
    "###### Trying to cluster the projected morphos using  K-means"
   ]
  },
  {
   "cell_type": "code",
   "execution_count": 538,
   "metadata": {},
   "outputs": [],
   "source": [
    "# We try to optimize the number of clusters using the elbow method \n",
    "# Also, because of randomness present in K-means initialization, we repeat the procedure 10 times and we plot only the average of\n",
    "# the sse values  (Sum of Squared Errors)\n",
    "k_values = range(1, 11)  # Possible number of clusters\n",
    "all_sse = {}\n",
    "for metric in data_embedded_sel.keys():\n",
    "    all_sse[metric] = []\n",
    "    for rep in range(20):\n",
    "        tmp_data = data_embedded_sel[metric]\n",
    "        sse = []\n",
    "        for k in k_values:\n",
    "            kmeans = KMeans(n_clusters = k, n_init = 'auto')\n",
    "            kmeans.fit(tmp_data)\n",
    "            sse.append(kmeans.inertia_)\n",
    "        all_sse[metric].append(sse)\n",
    "    all_sse[metric] = np.asarray(all_sse[metric])"
   ]
  },
  {
   "cell_type": "code",
   "execution_count": 539,
   "metadata": {},
   "outputs": [],
   "source": [
    "# Computing mean and std over the 20 repetitions\n",
    "sse_mean_rad = np.mean(all_sse['rad'], axis = 0)\n",
    "sse_std_rad = np.std(all_sse['rad'], axis = 0)\n",
    "sse_mean_path = np.mean(all_sse['path'], axis = 0)\n",
    "sse_std_path = np.std(all_sse['path'], axis = 0)"
   ]
  },
  {
   "cell_type": "code",
   "execution_count": 540,
   "metadata": {},
   "outputs": [
    {
     "data": {
      "image/png": "[encoded data removed]",
      "text/plain": [
       "<Figure size 360x360 with 1 Axes>"
      ]
     },
     "metadata": {},
     "output_type": "display_data"
    }
   ],
   "source": [
    "plt.figure(figsize = (5,5))\n",
    "# RADIAL\n",
    "plt.plot(k_values, sse_mean_rad, color = 'steelblue', ls = '-', lw = 3, marker = '.', ms = 20, label = 'Radial distance')\n",
    "plt.plot(k_values, sse_mean_path, color = 'skyblue', ls = '-', lw = 3, marker = '.', ms = 20, label = 'Path distance')\n",
    "plt.xlabel('Number of Clusters (K)', fontsize = 14, weight = 'bold')\n",
    "plt.ylabel('Sum of Squared Distances', fontsize = 14, weight = 'bold')\n",
    "plt.title('Elbow method', fontsize = 18, weight = 'bold')\n",
    "plt.xticks(k_values, fontsize = 14, weight = 'bold')\n",
    "plt.yticks(fontsize = 14)\n",
    "plt.legend(fontsize = 14, bbox_to_anchor = (1.05,1))\n",
    "ax = plt.gca()\n",
    "ax.spines['top'].set_visible(False)\n",
    "ax.spines['right'].set_visible(False)\n",
    "plt.savefig('../Results/Figures/Elbow_method_kmeans_optimization.png',dpi = 300, bbox_inches = 'tight')\n",
    "plt.show()"
   ]
  },
  {
   "cell_type": "code",
   "execution_count": 542,
   "metadata": {},
   "outputs": [
    {
     "data": {
      "application/vnd.plotly.v1+json": {
       "config": {
        "plotlyServerURL": "https://plot.ly"
       },
       "data": [
        {
         "marker": {
          "opacity": 0.8,
          "size": 4
         },
         "mode": "markers",
         "type": "scatter3d",
         "x": [
          -4.5760626792907715,
          -1.892551064491272,
          -4.496692180633545,
          -1.9427751302719116,
          -0.48127180337905884,
          -2.348139762878418,
          -4.604316711425781,
          -1.6998482942581177,
          -3.8650572299957275,
          -7.267542362213135,
          -4.3043694496154785,
          -4.441471576690674,
          -5.177999019622803,
          -5.7709431648254395,
          -5.662247180938721,
          -5.447255611419678,
          -4.1101861000061035,
          -5.546571254730225,
          -5.695276260375977,
          -7.176786422729492,
          -5.830595970153809,
          -1.6663044691085815,
          -3.382283926010132,
          -6.2350969314575195,
          -6.699410915374756,
          -5.7107625007629395,
          -7.797801971435547,
          -5.694843769073486,
          -3.684454917907715,
          -4.366377830505371,
          -5.660096168518066,
          -6.30813455581665,
          -0.5345323085784912,
          -2.091155529022217,
          -2.7104156017303467,
          -6.154538631439209,
          -2.6604459285736084,
          -3.3141167163848877,
          -1.795845866203308,
          -3.2682149410247803,
          -3.3060123920440674,
          -7.892618179321289,
          -2.946432590484619,
          -1.5794298648834229,
          -6.035188674926758,
          -7.06712532043457,
          -6.747227668762207,
          -2.7162222862243652,
          -1.9118518829345703,
          -2.980620861053467,
          -6.249421119689941,
          -6.439361572265625,
          -5.415477275848389,
          -7.314622402191162,
          -1.117748737335205,
          -3.3133914470672607,
          -3.2457973957061768,
          -4.617466449737549,
          -5.357977867126465,
          -4.518615245819092,
          -3.68546462059021,
          -2.0327939987182617,
          -1.3944451808929443,
          -4.788984298706055,
          -3.6785149574279785,
          -5.173915386199951,
          -7.353692531585693,
          -7.126920700073242,
          -6.03397798538208,
          -6.833116054534912,
          -5.420348644256592,
          -5.2451019287109375,
          -3.898941993713379,
          -5.765612602233887,
          -4.990771770477295,
          -1.3806729316711426,
          -2.460407018661499,
          -7.186514854431152,
          -2.7921998500823975,
          -7.89868688583374,
          -4.2969069480896,
          -2.6399526596069336,
          -3.188519239425659,
          -4.683922290802002,
          -3.233719825744629,
          -5.049738883972168,
          -4.56035041809082,
          -1.8808728456497192,
          -3.933164358139038,
          -3.964040994644165,
          -4.198779582977295,
          -6.239009857177734,
          -3.657235860824585,
          -1.9921985864639282,
          -4.432431697845459,
          -1.998498797416687,
          -4.720232963562012,
          -4.434382438659668,
          -6.019491195678711,
          -1.038989543914795,
          -5.0203423500061035,
          -3.2177414894104004,
          -4.391151428222656,
          -5.039697647094727,
          -4.079687595367432,
          -3.099212408065796,
          -2.5834007263183594,
          -5.179755687713623,
          -1.9159127473831177,
          -2.2633872032165527,
          -5.319084167480469,
          -1.7797478437423706,
          -2.367678165435791,
          -0.551362156867981,
          -5.604599475860596,
          -0.8892355561256409,
          -5.119839668273926,
          -1.2759259939193726,
          -7.236912250518799,
          -6.772773265838623,
          -7.266374111175537,
          -8.317815780639648,
          -4.100143909454346,
          -6.519662857055664,
          -2.479585647583008,
          -1.2798138856887817,
          -3.1518402099609375,
          -4.338468074798584,
          -1.9964817762374878,
          -2.5007827281951904,
          -4.803502082824707,
          -7.554473400115967,
          -6.839993476867676,
          -6.596458435058594,
          -7.139561176300049,
          -7.29398775100708,
          -6.5293288230896,
          -7.172225475311279,
          -6.4078593254089355,
          -6.845428466796875,
          -7.354949951171875,
          -6.866085529327393,
          -2.1462769508361816,
          -6.2680134773254395,
          -4.8883161544799805,
          -6.375711441040039,
          -6.512606620788574,
          -5.065238952636719,
          -7.0259552001953125,
          -6.864325523376465,
          -6.082874774932861,
          -7.938066482543945,
          -6.319859981536865,
          -7.3053741455078125,
          -6.557943344116211,
          -2.5721914768218994,
          -6.4007768630981445
         ],
         "y": [
          2.7983760833740234,
          8.307832717895508,
          1.1097487211227417,
          5.524333477020264,
          7.049415111541748,
          4.949549674987793,
          7.246116638183594,
          2.49112868309021,
          2.4575421810150146,
          8.157576560974121,
          2.1046411991119385,
          4.164078712463379,
          5.296163082122803,
          3.8922922611236572,
          3.9504647254943848,
          6.137836456298828,
          2.364536762237549,
          3.0338048934936523,
          0.8083315491676331,
          5.857883930206299,
          4.016688823699951,
          4.704499244689941,
          7.448065280914307,
          3.9325759410858154,
          5.623142242431641,
          0.7720111608505249,
          3.945647716522217,
          5.140627861022949,
          0.646439790725708,
          0.6195846199989319,
          4.06470251083374,
          5.32034969329834,
          7.085249423980713,
          3.7373907566070557,
          2.957620859146118,
          9.98609447479248,
          5.025137424468994,
          4.69366455078125,
          3.309936285018921,
          1.8492214679718018,
          3.4568471908569336,
          4.02790641784668,
          6.736730098724365,
          1.665891408920288,
          9.167984008789062,
          4.794859409332275,
          5.859462261199951,
          5.030025005340576,
          2.0715787410736084,
          4.23839807510376,
          8.673450469970703,
          8.466340065002441,
          8.240376472473145,
          5.5289626121521,
          5.882368087768555,
          4.673437595367432,
          6.360124588012695,
          7.824944496154785,
          4.807224273681641,
          2.167487382888794,
          2.6186635494232178,
          5.2613725662231445,
          7.368588447570801,
          7.616789817810059,
          2.08539080619812,
          4.341660022735596,
          3.440696954727173,
          3.4252798557281494,
          4.447821140289307,
          6.006990432739258,
          3.539515972137451,
          7.563353538513184,
          1.5678625106811523,
          5.582502365112305,
          8.108576774597168,
          1.6983004808425903,
          2.436469793319702,
          3.4940030574798584,
          1.9658098220825195,
          3.7801098823547363,
          1.3177990913391113,
          7.602721214294434,
          6.4946184158325195,
          1.0605756044387817,
          4.560024261474609,
          -0.10173249244689941,
          0.7200982570648193,
          5.241751670837402,
          2.6266777515411377,
          2.236203670501709,
          7.011643886566162,
          4.427599906921387,
          7.019981384277344,
          5.862255096435547,
          0.30499592423439026,
          5.163734436035156,
          5.254613399505615,
          6.366988658905029,
          3.77651047706604,
          1.243334412574768,
          6.440154075622559,
          2.8350682258605957,
          3.4154460430145264,
          -0.014813108369708061,
          1.81113862991333,
          6.379447937011719,
          6.7977399826049805,
          2.2445755004882812,
          1.4132486581802368,
          8.793771743774414,
          2.0203542709350586,
          3.3636693954467773,
          4.863011360168457,
          7.184247970581055,
          4.266507625579834,
          2.8184709548950195,
          2.272584915161133,
          6.606875419616699,
          8.06687068939209,
          5.257503509521484,
          3.8524820804595947,
          4.600205898284912,
          8.256217956542969,
          6.161184310913086,
          1.7391273975372314,
          3.4511826038360596,
          7.913167953491211,
          4.089431285858154,
          3.4751596450805664,
          1.9489951133728027,
          5.183409214019775,
          3.651618719100952,
          9.6259126663208,
          9.902725219726562,
          7.296133518218994,
          8.572517395019531,
          5.251212120056152,
          7.466188430786133,
          8.851067543029785,
          5.673238277435303,
          8.136893272399902,
          5.668484687805176,
          7.5535454750061035,
          9.112672805786133,
          8.620179176330566,
          6.683819770812988,
          9.777179718017578,
          9.228553771972656,
          9.763678550720215,
          6.090559482574463,
          8.542693138122559,
          6.1845831871032715,
          9.522298812866211,
          8.500795364379883,
          10.303668975830078,
          8.985639572143555,
          9.30462646484375
         ],
         "z": [
          -2.9608583450317383,
          1.4576181173324585,
          -1.017215609550476,
          -0.1485270857810974,
          1.377297043800354,
          0.9875088930130005,
          -0.21451278030872345,
          -0.7848405241966248,
          -1.2431474924087524,
          -2.4813711643218994,
          -4.634267807006836,
          -4.889847755432129,
          -0.8223257064819336,
          -2.259470224380493,
          -2.0518906116485596,
          -2.534311294555664,
          -4.521744728088379,
          -5.260082721710205,
          -5.545866012573242,
          -3.3430263996124268,
          -5.230831146240234,
          1.0354210138320923,
          -0.06952253729104996,
          -2.9929511547088623,
          -5.043866157531738,
          -5.5577826499938965,
          0.35977068543434143,
          0.8145296573638916,
          0.5176531076431274,
          -2.188938617706299,
          -5.26139497756958,
          0.08602540194988251,
          0.7445430755615234,
          2.3636248111724854,
          0.9127764105796814,
          1.4735649824142456,
          3.5083084106445312,
          3.397951602935791,
          1.1580402851104736,
          -2.586303234100342,
          0.37582796812057495,
          0.8721516132354736,
          2.8359360694885254,
          -0.9696561098098755,
          -1.3079687356948853,
          1.1427459716796875,
          1.0207329988479614,
          3.676373243331909,
          0.1811356395483017,
          0.5398154258728027,
          0.9127053022384644,
          1.3158087730407715,
          2.1948235034942627,
          0.9584187865257263,
          0.628176212310791,
          3.377976655960083,
          -0.9438662528991699,
          0.41637203097343445,
          0.0712902843952179,
          1.545749306678772,
          1.162551999092102,
          1.7576966285705566,
          2.1519596576690674,
          2.182901382446289,
          -2.322596788406372,
          1.0250786542892456,
          1.2441316843032837,
          1.6789393424987793,
          0.07161320000886917,
          -5.482336044311523,
          1.869604468345642,
          -0.8162687420845032,
          -2.4134726524353027,
          -0.10414726287126541,
          2.059237003326416,
          -1.279706358909607,
          2.2454895973205566,
          1.6520788669586182,
          -2.6322364807128906,
          -0.24521851539611816,
          -1.9482017755508423,
          2.6559600830078125,
          2.841487407684326,
          1.6611049175262451,
          1.8209378719329834,
          2.017805814743042,
          1.0837743282318115,
          1.5763496160507202,
          1.7455695867538452,
          2.1351728439331055,
          -0.3262953460216522,
          1.0881468057632446,
          -0.3576522767543793,
          -0.1900995373725891,
          1.5353481769561768,
          1.7555046081542969,
          -2.039886951446533,
          -0.7223321795463562,
          -2.855245590209961,
          -3.0178606510162354,
          -0.19192180037498474,
          0.8379009962081909,
          -3.496438980102539,
          1.955979585647583,
          -2.4192583560943604,
          2.9969985485076904,
          -0.041923150420188904,
          -3.157780885696411,
          -3.2140867710113525,
          1.5314377546310425,
          -3.0739896297454834,
          0.25904735922813416,
          2.1221089363098145,
          1.3722457885742188,
          -1.9767224788665771,
          -1.9409312009811401,
          -4.924314022064209,
          3.1112143993377686,
          -2.4866321086883545,
          -3.0734498500823975,
          -3.1011037826538086,
          1.2901819944381714,
          1.2410154342651367,
          -2.5919601917266846,
          -2.790994167327881,
          -1.547457218170166,
          2.260223627090454,
          -4.811142921447754,
          -1.1740672588348389,
          2.5374867916107178,
          -1.9662271738052368,
          -3.13329815864563,
          -0.34983956813812256,
          0.41265687346458435,
          -3.798919439315796,
          -0.7773793339729309,
          -5.065701007843018,
          -3.507211923599243,
          1.7803280353546143,
          -3.612837553024292,
          -2.585893392562866,
          -4.021117687225342,
          2.354177713394165,
          2.6372451782226562,
          0.9183356165885925,
          -1.991109848022461,
          -0.011538722552359104,
          0.0899694412946701,
          1.462382435798645,
          -5.2328290939331055,
          1.8480803966522217,
          -2.824310302734375,
          -0.005023492034524679,
          -0.7333309054374695,
          -0.3591371178627014,
          1.499895691871643,
          0.5909808278083801
         ]
        },
        {
         "marker": {
          "opacity": 0.8,
          "size": 4
         },
         "mode": "markers",
         "type": "scatter3d",
         "x": [
          1.919529914855957,
          2.0576229095458984,
          5.7010579109191895,
          -1.6766968965530396,
          8.290471076965332,
          3.059896469116211,
          2.581031084060669,
          1.5707459449768066,
          3.461361885070801,
          0.6342701315879822,
          1.861317753791809,
          -0.15078416466712952,
          1.2970378398895264,
          2.8283979892730713,
          3.3198931217193604,
          1.9530376195907593,
          1.4406256675720215,
          3.465158700942993,
          2.1083309650421143,
          6.410425186157227,
          2.524569511413574,
          4.650489807128906,
          6.7426886558532715,
          4.6329545974731445,
          1.6098666191101074,
          6.949484825134277,
          2.5857555866241455,
          0.5897578001022339,
          2.5874154567718506,
          4.127579212188721,
          4.526998043060303,
          1.8288061618804932,
          1.7514182329177856,
          2.610506296157837,
          0.3414616882801056,
          3.6012933254241943,
          2.7519869804382324,
          6.657390117645264,
          6.169722080230713,
          0.1339515894651413,
          1.6817407608032227,
          3.759373188018799,
          0.023763755336403847,
          3.6599295139312744,
          4.6177144050598145,
          5.033656120300293,
          2.5324745178222656,
          3.8577702045440674,
          0.8305271863937378,
          1.8861364126205444,
          4.221814155578613,
          2.339552164077759,
          2.7232131958007812,
          2.98586368560791,
          1.3214837312698364,
          2.639714479446411,
          -0.497747004032135,
          -1.1694960594177246,
          2.4117908477783203,
          2.9082045555114746,
          -0.7219889760017395,
          -0.22527313232421875,
          -1.5193358659744263,
          0.8249951004981995,
          0.015684565529227257,
          2.0824201107025146,
          -1.6608631610870361,
          5.751861095428467,
          1.1090582609176636,
          7.556559085845947,
          3.028399705886841,
          3.1938509941101074,
          1.6914087533950806,
          0.426017165184021,
          4.081357479095459,
          -1.6271740198135376,
          -0.9419307112693787,
          0.4797650873661041,
          1.5026191473007202,
          0.14237013459205627,
          -1.7752604484558105,
          4.923308372497559,
          6.6585869789123535,
          6.391847133636475,
          3.3645291328430176,
          3.928865432739258,
          3.426265239715576,
          5.882422924041748,
          3.3923089504241943,
          2.703500509262085,
          -1.7893317937850952,
          3.8566484451293945,
          1.6161482334136963,
          5.755807876586914,
          5.300054550170898,
          4.526699066162109,
          2.11942720413208,
          2.301281690597534,
          1.8698242902755737,
          -0.8041014075279236,
          5.239437103271484,
          3.2412378787994385,
          2.5510740280151367,
          0.7357227802276611,
          3.4559919834136963,
          3.1735711097717285,
          -0.7402799129486084,
          3.334146022796631,
          4.176345348358154,
          2.4816195964813232,
          6.7738165855407715,
          3.690166473388672,
          1.4367398023605347,
          1.3702279329299927,
          0.24631665647029877,
          0.3445684313774109,
          3.0647695064544678,
          -0.04552285745739937,
          4.441391944885254,
          2.7671689987182617,
          2.4503471851348877,
          5.573736190795898,
          0.5559785962104797,
          2.5843613147735596,
          3.568028211593628,
          3.3454959392547607,
          4.267733573913574,
          2.4736692905426025,
          1.223037838935852,
          3.26576566696167,
          3.9185121059417725,
          0.33337342739105225,
          2.769479274749756,
          0.5798346400260925,
          4.385947227478027,
          2.667525291442871,
          3.5640203952789307,
          2.262676239013672,
          2.155311107635498,
          1.7617987394332886,
          2.6304595470428467,
          0.40152451395988464,
          2.7028324604034424,
          2.3704564571380615,
          -0.9560494422912598,
          2.809709310531616,
          3.8012988567352295,
          1.606722116470337,
          6.604646682739258,
          6.159878730773926,
          2.086805820465088,
          4.570435047149658,
          1.860905647277832
         ],
         "y": [
          1.0552573204040527,
          0.9040819406509399,
          0.054132893681526184,
          0.4239661693572998,
          -1.6149883270263672,
          0.5474701523780823,
          3.147580623626709,
          0.2827884256839752,
          0.2088465541601181,
          3.4655911922454834,
          1.5288987159729004,
          1.0246024131774902,
          2.3795273303985596,
          3.84413480758667,
          3.4487011432647705,
          4.07448148727417,
          -2.168811559677124,
          -1.2589057683944702,
          -0.844568133354187,
          -2.9964311122894287,
          1.8853487968444824,
          -0.984528124332428,
          -0.5277033448219299,
          3.285916566848755,
          2.1942014694213867,
          -2.535295009613037,
          0.4810448884963989,
          4.0534820556640625,
          0.3921986520290375,
          3.6206274032592773,
          -1.1296772956848145,
          -2.2807531356811523,
          0.2163766771554947,
          -0.6217816472053528,
          4.430714130401611,
          -1.6062310934066772,
          2.3195528984069824,
          -0.2058684080839157,
          -0.3810248076915741,
          3.1259026527404785,
          -0.3539832532405853,
          0.28162074089050293,
          3.421480655670166,
          -1.6211186647415161,
          2.722172498703003,
          1.6961417198181152,
          1.2950040102005005,
          1.0193923711776733,
          1.06205415725708,
          3.606504440307617,
          2.1535191535949707,
          1.5034397840499878,
          -0.5990498065948486,
          0.07161285728216171,
          3.1038269996643066,
          3.828646183013916,
          3.670757293701172,
          2.099855422973633,
          -0.5802159309387207,
          0.2692541778087616,
          0.6207271218299866,
          3.1350314617156982,
          2.53566575050354,
          3.1397547721862793,
          2.4329066276550293,
          -2.4509902000427246,
          0.6653866171836853,
          0.13840065896511078,
          1.05832839012146,
          -0.05268144980072975,
          -0.11610416322946548,
          0.3120538294315338,
          2.4411909580230713,
          2.080338954925537,
          2.9919354915618896,
          2.648796796798706,
          1.8631036281585693,
          4.263463020324707,
          -0.27524688839912415,
          2.9438037872314453,
          2.7551703453063965,
          2.0798683166503906,
          -0.433999627828598,
          -0.4337064027786255,
          3.636760711669922,
          3.4360058307647705,
          1.1786623001098633,
          0.503979504108429,
          3.5748467445373535,
          2.9450645446777344,
          0.35255587100982666,
          -0.7035160064697266,
          2.75172758102417,
          0.9530823230743408,
          1.5274378061294556,
          1.2032768726348877,
          3.206571102142334,
          -0.35715043544769287,
          2.1939308643341064,
          2.9840288162231445,
          1.365177035331726,
          -0.9528958201408386,
          0.3438427746295929,
          2.6899542808532715,
          2.3737802505493164,
          -1.2000515460968018,
          1.0652929544448853,
          -0.024251308292150497,
          -0.46185240149497986,
          -1.312617540359497,
          -0.9795504212379456,
          -0.6799967288970947,
          -1.4990226030349731,
          2.9873785972595215,
          -0.9416585564613342,
          -0.5672813057899475,
          -0.33428457379341125,
          -2.1012818813323975,
          -0.7448104023933411,
          3.169318914413452,
          -1.6422220468521118,
          -0.9365644454956055,
          -1.4880890846252441,
          -0.06973282992839813,
          -0.09154433757066727,
          0.024735474959015846,
          -0.6676151156425476,
          1.6401214599609375,
          -2.246691942214966,
          -1.077562928199768,
          -0.6800636053085327,
          -1.5711109638214111,
          -1.0162556171417236,
          -2.4580349922180176,
          -0.7624976634979248,
          -0.24511389434337616,
          -0.10628998279571533,
          0.008396007120609283,
          -2.4775824546813965,
          2.2771694660186768,
          3.479138135910034,
          4.928544044494629,
          1.580779790878296,
          0.39179477095603943,
          1.4958783388137817,
          0.09813740849494934,
          -4.54200553894043,
          1.209090232849121,
          -0.10358870774507523,
          -1.5878933668136597,
          3.573150396347046,
          3.4862864017486572,
          2.380451202392578
         ],
         "z": [
          0.0450475811958313,
          1.7063732147216797,
          2.6914920806884766,
          2.7241222858428955,
          1.0585942268371582,
          -0.9862253069877625,
          -0.11647195369005203,
          -1.7355057001113892,
          4.130671977996826,
          -0.37659329175949097,
          4.122742176055908,
          5.740640163421631,
          -3.1280648708343506,
          0.7676052451133728,
          -0.11962587386369705,
          -3.015824794769287,
          1.8928860425949097,
          2.4514002799987793,
          4.138703346252441,
          -0.3351615071296692,
          1.5371266603469849,
          2.381957530975342,
          -0.26984360814094543,
          -0.47077029943466187,
          -3.284191131591797,
          0.232106015086174,
          3.161947727203369,
          -0.4462548792362213,
          -3.214949607849121,
          -1.1450674533843994,
          1.6671347618103027,
          1.5463720560073853,
          1.3732819557189941,
          0.4817085564136505,
          3.4319159984588623,
          -0.46685805916786194,
          -0.4319423735141754,
          -0.17202919721603394,
          -0.6542503833770752,
          1.3741313219070435,
          1.4033223390579224,
          -1.790297269821167,
          -0.6718348860740662,
          -0.28160741925239563,
          0.7907835841178894,
          1.1567440032958984,
          2.2737395763397217,
          -0.4512006938457489,
          6.505356788635254,
          -2.7102458477020264,
          4.368854522705078,
          2.320845365524292,
          -1.9487719535827637,
          -1.0761518478393555,
          1.3670326471328735,
          -1.4061877727508545,
          1.8753570318222046,
          6.021730899810791,
          0.6506263017654419,
          -2.330066204071045,
          -1.554161548614502,
          0.6628583073616028,
          5.5568437576293945,
          1.8477786779403687,
          1.193082571029663,
          -0.32877418398857117,
          -0.5848796367645264,
          4.740434169769287,
          6.084258079528809,
          -0.13686297833919525,
          -1.5545451641082764,
          -0.5649045705795288,
          4.817012786865234,
          1.8770637512207031,
          0.691381573677063,
          5.479431629180908,
          6.036726474761963,
          3.4744277000427246,
          0.7310585379600525,
          0.6613351106643677,
          6.063981056213379,
          1.193801760673523,
          -0.22344154119491577,
          1.8381978273391724,
          -0.790226936340332,
          -1.2134910821914673,
          -0.4668114483356476,
          3.5346648693084717,
          -1.7394375801086426,
          -0.6204264760017395,
          2.754258155822754,
          -1.977777361869812,
          -1.4984997510910034,
          2.7799789905548096,
          1.8146764039993286,
          3.9898507595062256,
          -1.074532389640808,
          -1.9393645524978638,
          -1.3247348070144653,
          1.097452163696289,
          3.64505672454834,
          -0.9397755861282349,
          -3.0273094177246094,
          -3.1643319129943848,
          -0.21808308362960815,
          -0.5471287369728088,
          -3.1347789764404297,
          5.333555221557617,
          6.232462406158447,
          3.1412906646728516,
          1.184374213218689,
          3.694457530975342,
          3.320586919784546,
          4.997281074523926,
          4.2822794914245605,
          4.686649322509766,
          6.448467254638672,
          2.835256576538086,
          3.167874336242676,
          1.6042429208755493,
          2.1939916610717773,
          1.907900333404541,
          3.608478307723999,
          5.087527275085449,
          5.2274489402771,
          6.973680019378662,
          3.683525562286377,
          5.57997989654541,
          1.7564810514450073,
          3.4844868183135986,
          3.4497673511505127,
          3.5021567344665527,
          6.537565231323242,
          1.9403849840164185,
          3.906921863555908,
          6.128783702850342,
          3.506437063217163,
          6.1952056884765625,
          1.4026641845703125,
          5.030172348022461,
          -2.38481068611145,
          3.260728597640991,
          5.459105014801025,
          -3.5581130981445312,
          -1.348581075668335,
          3.5062127113342285,
          1.2991746664047241,
          4.235599994659424,
          0.434438556432724,
          -1.4154706001281738,
          1.3829973936080933,
          -0.08333759009838104,
          -3.1273975372314453
         ]
        },
        {
         "marker": {
          "opacity": 0.8,
          "size": 4
         },
         "mode": "markers",
         "type": "scatter3d",
         "x": [
          -0.8932235836982727,
          -3.7120604515075684,
          -2.7910804748535156,
          -2.6186702251434326,
          -3.018754005432129,
          -4.847369194030762,
          -0.43242931365966797,
          -4.076068878173828,
          -3.323152780532837,
          -5.587585926055908,
          1.466315746307373,
          0.3887386918067932,
          -4.604599475860596,
          -5.657450199127197,
          -5.87903356552124,
          -1.319612979888916,
          -2.606909990310669,
          -3.2260987758636475,
          -3.842942476272583,
          -2.9698410034179688,
          -2.0989491939544678,
          -3.1676509380340576,
          -5.313350200653076,
          -1.5823217630386353,
          -3.05177903175354,
          -2.7583532333374023,
          -4.778030872344971,
          -1.7987298965454102,
          -2.7893974781036377,
          -4.954529762268066,
          1.0086548328399658,
          -2.736175060272217,
          -0.6516625285148621,
          -2.4993791580200195,
          -1.6774051189422607,
          -0.6385163068771362,
          -3.0864760875701904,
          1.9796733856201172,
          -0.39104920625686646,
          -2.6757330894470215,
          -5.6424336433410645,
          0.378684401512146,
          1.0945552587509155,
          -2.3820979595184326,
          -1.1326265335083008,
          -2.594250202178955,
          -3.053980827331543,
          0.17351603507995605,
          1.4575178623199463,
          -0.11091794073581696,
          -3.3148622512817383,
          -5.332089900970459,
          -4.682002067565918,
          0.8331226706504822,
          -5.266632556915283,
          -1.1757514476776123,
          -5.9909586906433105,
          -4.841671466827393,
          -5.091067314147949,
          -5.51666784286499,
          -4.008666515350342,
          -3.6758973598480225,
          -5.1186957359313965,
          -1.2936748266220093,
          -5.259832859039307,
          -0.5502457618713379,
          1.4927257299423218,
          -3.091423511505127,
          -3.844348192214966,
          -3.8397531509399414,
          1.1716324090957642,
          1.651655912399292,
          -3.7105813026428223,
          -0.9216957688331604,
          -2.469860315322876,
          -0.16176395118236542,
          0.8039751052856445,
          -0.027167582884430885,
          -0.5921715497970581,
          -0.14808803796768188,
          -5.219326496124268,
          -1.244789719581604,
          -2.6059484481811523,
          -3.088529586791992,
          1.7024644613265991,
          0.3866303861141205,
          -1.510414958000183,
          0.3459213972091675,
          0.4885750114917755,
          -2.1821675300598145,
          -0.504595935344696,
          -2.6636741161346436,
          -0.6285063028335571,
          3.499289035797119,
          -2.5798285007476807,
          -3.0450220108032227,
          -3.120958089828491,
          1.8579137325286865,
          0.5565437078475952,
          -0.3985486924648285,
          -1.944192886352539,
          3.250778913497925,
          -5.010073661804199,
          -3.7751147747039795,
          -3.915403366088867,
          -2.215392827987671
         ],
         "y": [
          -3.2125065326690674,
          -4.727011203765869,
          -2.310737371444702,
          -2.1274023056030273,
          -2.712675094604492,
          -6.942422389984131,
          -2.6151082515716553,
          -5.831099033355713,
          -4.768650054931641,
          -6.9900383949279785,
          -3.0082132816314697,
          -4.818392753601074,
          -7.887746810913086,
          -9.362255096435547,
          -9.085498809814453,
          -2.7946572303771973,
          -3.461883068084717,
          -6.641635417938232,
          -6.726868152618408,
          0.006011705379933119,
          -8.01533031463623,
          -8.92556381225586,
          -6.744527339935303,
          -2.819291830062866,
          -8.1701021194458,
          -1.657368540763855,
          -6.971832275390625,
          -3.9844586849212646,
          -4.141693115234375,
          -5.650420188903809,
          -4.574735164642334,
          -4.6313276290893555,
          -3.4733989238739014,
          0.3461824059486389,
          -7.847678184509277,
          -4.2111639976501465,
          -0.3421577215194702,
          -6.1109161376953125,
          -8.007019996643066,
          -1.676231861114502,
          -8.193612098693848,
          -3.271219253540039,
          -3.2454075813293457,
          -9.187817573547363,
          -7.819567680358887,
          0.046590983867645264,
          -4.338991641998291,
          -2.64642071723938,
          -1.8355299234390259,
          -3.030644655227661,
          -3.2214314937591553,
          -2.6071650981903076,
          -7.9170684814453125,
          -2.461113214492798,
          -2.4646737575531006,
          -1.5104721784591675,
          -8.178528785705566,
          -5.969071388244629,
          -10.019111633300781,
          -8.108749389648438,
          -0.5417555570602417,
          -1.0542595386505127,
          -9.97767448425293,
          -0.7507373690605164,
          -0.7882525324821472,
          -5.202579975128174,
          -2.869339942932129,
          -2.4445841312408447,
          -6.630657196044922,
          -5.810752868652344,
          -4.217940807342529,
          -2.2893753051757812,
          -6.865602493286133,
          -1.8038195371627808,
          -1.8203758001327515,
          -7.624675273895264,
          -4.413426399230957,
          -2.4316656589508057,
          -3.1275317668914795,
          -7.653791904449463,
          -5.3035502433776855,
          -3.876624822616577,
          -1.1915714740753174,
          -5.895118713378906,
          -2.4315929412841797,
          -3.254619836807251,
          -3.3540256023406982,
          -4.273560047149658,
          -4.806836128234863,
          -0.8345745205879211,
          -3.1310513019561768,
          -6.553591251373291,
          -4.256222724914551,
          -3.4461326599121094,
          -3.629194974899292,
          -5.9081525802612305,
          -2.0999834537506104,
          -6.470381259918213,
          -2.873488664627075,
          -4.14118766784668,
          -6.261025905609131,
          -8.404300689697266,
          -7.2174506187438965,
          -6.664519786834717,
          -4.705194473266602,
          -6.374738693237305
         ],
         "z": [
          0.3799033463001251,
          1.1357371807098389,
          2.768763542175293,
          3.6375572681427,
          -1.0532022714614868,
          0.9360457062721252,
          -5.26507043838501,
          0.6339069604873657,
          0.8366841077804565,
          0.7034738659858704,
          0.33345332741737366,
          -2.609706401824951,
          -2.1534128189086914,
          -1.1075408458709717,
          -0.6074270009994507,
          -0.4529094696044922,
          2.6436214447021484,
          3.089299440383911,
          -1.1874127388000488,
          1.806971788406372,
          2.402351140975952,
          0.09943609684705734,
          0.346118688583374,
          0.8841925859451294,
          1.9922683238983154,
          2.973544120788574,
          0.824476957321167,
          3.329606533050537,
          2.2666656970977783,
          -0.7915017008781433,
          1.4680081605911255,
          0.7801655530929565,
          0.2134319692850113,
          -0.012767031788825989,
          1.7345056533813477,
          1.629650592803955,
          4.262699127197266,
          -5.535043716430664,
          2.2102673053741455,
          -1.5078922510147095,
          -2.4091145992279053,
          -7.0587944984436035,
          0.7794183492660522,
          0.5298601388931274,
          0.969933271408081,
          0.24675288796424866,
          0.7259149551391602,
          1.7493829727172852,
          -3.9265360832214355,
          0.21425394713878632,
          -1.1064486503601074,
          3.50437068939209,
          -2.31427001953125,
          -4.849428176879883,
          3.410130023956299,
          -1.0245506763458252,
          -2.477257490158081,
          -0.22072723507881165,
          -0.41261595487594604,
          -2.7012758255004883,
          1.85305655002594,
          2.241860866546631,
          -0.40967097878456116,
          -1.7563409805297852,
          2.2779974937438965,
          0.01319018006324768,
          0.30075639486312866,
          -1.142167091369629,
          -1.104950189590454,
          0.6878569722175598,
          1.243723750114441,
          -4.108374118804932,
          1.0036699771881104,
          3.2876217365264893,
          3.477724313735962,
          2.216599225997925,
          -6.324235439300537,
          2.410006046295166,
          1.634817123413086,
          2.2110652923583984,
          -0.9175658226013184,
          1.0802398920059204,
          -1.8507736921310425,
          0.6451975107192993,
          -4.2391676902771,
          -7.062312602996826,
          0.6925222277641296,
          -5.341098785400391,
          -2.7875678539276123,
          -2.0314276218414307,
          -5.326756954193115,
          1.9300588369369507,
          -0.06657475233078003,
          -5.0485944747924805,
          2.875342607498169,
          0.653351366519928,
          -1.3842822313308716,
          -5.729854106903076,
          -0.3421701192855835,
          -0.3552855849266052,
          2.6512441635131836,
          -2.3803186416625977,
          1.4637315273284912,
          0.8679654598236084,
          1.0840814113616943,
          2.50677490234375
         ]
        }
       ],
       "layout": {
        "legend": {
         "font": {
          "size": 18
         }
        },
        "template": {
         "data": {
          "bar": [
           {
            "error_x": {
             "color": "#2a3f5f"
            },
            "error_y": {
             "color": "#2a3f5f"
            },
            "marker": {
             "line": {
              "color": "#E5ECF6",
              "width": 0.5
             },
             "pattern": {
              "fillmode": "overlay",
              "size": 10,
              "solidity": 0.2
             }
            },
            "type": "bar"
           }
          ],
          "barpolar": [
           {
            "marker": {
             "line": {
              "color": "#E5ECF6",
              "width": 0.5
             },
             "pattern": {
              "fillmode": "overlay",
              "size": 10,
              "solidity": 0.2
             }
            },
            "type": "barpolar"
           }
          ],
          "carpet": [
           {
            "aaxis": {
             "endlinecolor": "#2a3f5f",
             "gridcolor": "white",
             "linecolor": "white",
             "minorgridcolor": "white",
             "startlinecolor": "#2a3f5f"
            },
            "baxis": {
             "endlinecolor": "#2a3f5f",
             "gridcolor": "white",
             "linecolor": "white",
             "minorgridcolor": "white",
             "startlinecolor": "#2a3f5f"
            },
            "type": "carpet"
           }
          ],
          "choropleth": [
           {
            "colorbar": {
             "outlinewidth": 0,
             "ticks": ""
            },
            "type": "choropleth"
           }
          ],
          "contour": [
           {
            "colorbar": {
             "outlinewidth": 0,
             "ticks": ""
            },
            "colorscale": [
             [
              0,
              "#0d0887"
             ],
             [
              0.1111111111111111,
              "#46039f"
             ],
             [
              0.2222222222222222,
              "#7201a8"
             ],
             [
              0.3333333333333333,
              "#9c179e"
             ],
             [
              0.4444444444444444,
              "#bd3786"
             ],
             [
              0.5555555555555556,
              "#d8576b"
             ],
             [
              0.6666666666666666,
              "#ed7953"
             ],
             [
              0.7777777777777778,
              "#fb9f3a"
             ],
             [
              0.8888888888888888,
              "#fdca26"
             ],
             [
              1,
              "#f0f921"
             ]
            ],
            "type": "contour"
           }
          ],
          "contourcarpet": [
           {
            "colorbar": {
             "outlinewidth": 0,
             "ticks": ""
            },
            "type": "contourcarpet"
           }
          ],
          "heatmap": [
           {
            "colorbar": {
             "outlinewidth": 0,
             "ticks": ""
            },
            "colorscale": [
             [
              0,
              "#0d0887"
             ],
             [
              0.1111111111111111,
              "#46039f"
             ],
             [
              0.2222222222222222,
              "#7201a8"
             ],
             [
              0.3333333333333333,
              "#9c179e"
             ],
             [
              0.4444444444444444,
              "#bd3786"
             ],
             [
              0.5555555555555556,
              "#d8576b"
             ],
             [
              0.6666666666666666,
              "#ed7953"
             ],
             [
              0.7777777777777778,
              "#fb9f3a"
             ],
             [
              0.8888888888888888,
              "#fdca26"
             ],
             [
              1,
              "#f0f921"
             ]
            ],
            "type": "heatmap"
           }
          ],
          "heatmapgl": [
           {
            "colorbar": {
             "outlinewidth": 0,
             "ticks": ""
            },
            "colorscale": [
             [
              0,
              "#0d0887"
             ],
             [
              0.1111111111111111,
              "#46039f"
             ],
             [
              0.2222222222222222,
              "#7201a8"
             ],
             [
              0.3333333333333333,
              "#9c179e"
             ],
             [
              0.4444444444444444,
              "#bd3786"
             ],
             [
              0.5555555555555556,
              "#d8576b"
             ],
             [
              0.6666666666666666,
              "#ed7953"
             ],
             [
              0.7777777777777778,
              "#fb9f3a"
             ],
             [
              0.8888888888888888,
              "#fdca26"
             ],
             [
              1,
              "#f0f921"
             ]
            ],
            "type": "heatmapgl"
           }
          ],
          "histogram": [
           {
            "marker": {
             "pattern": {
              "fillmode": "overlay",
              "size": 10,
              "solidity": 0.2
             }
            },
            "type": "histogram"
           }
          ],
          "histogram2d": [
           {
            "colorbar": {
             "outlinewidth": 0,
             "ticks": ""
            },
            "colorscale": [
             [
              0,
              "#0d0887"
             ],
             [
              0.1111111111111111,
              "#46039f"
             ],
             [
              0.2222222222222222,
              "#7201a8"
             ],
             [
              0.3333333333333333,
              "#9c179e"
             ],
             [
              0.4444444444444444,
              "#bd3786"
             ],
             [
              0.5555555555555556,
              "#d8576b"
             ],
             [
              0.6666666666666666,
              "#ed7953"
             ],
             [
              0.7777777777777778,
              "#fb9f3a"
             ],
             [
              0.8888888888888888,
              "#fdca26"
             ],
             [
              1,
              "#f0f921"
             ]
            ],
            "type": "histogram2d"
           }
          ],
          "histogram2dcontour": [
           {
            "colorbar": {
             "outlinewidth": 0,
             "ticks": ""
            },
            "colorscale": [
             [
              0,
              "#0d0887"
             ],
             [
              0.1111111111111111,
              "#46039f"
             ],
             [
              0.2222222222222222,
              "#7201a8"
             ],
             [
              0.3333333333333333,
              "#9c179e"
             ],
             [
              0.4444444444444444,
              "#bd3786"
             ],
             [
              0.5555555555555556,
              "#d8576b"
             ],
             [
              0.6666666666666666,
              "#ed7953"
             ],
             [
              0.7777777777777778,
              "#fb9f3a"
             ],
             [
              0.8888888888888888,
              "#fdca26"
             ],
             [
              1,
              "#f0f921"
             ]
            ],
            "type": "histogram2dcontour"
           }
          ],
          "mesh3d": [
           {
            "colorbar": {
             "outlinewidth": 0,
             "ticks": ""
            },
            "type": "mesh3d"
           }
          ],
          "parcoords": [
           {
            "line": {
             "colorbar": {
              "outlinewidth": 0,
              "ticks": ""
             }
            },
            "type": "parcoords"
           }
          ],
          "pie": [
           {
            "automargin": true,
            "type": "pie"
           }
          ],
          "scatter": [
           {
            "fillpattern": {
             "fillmode": "overlay",
             "size": 10,
             "solidity": 0.2
            },
            "type": "scatter"
           }
          ],
          "scatter3d": [
           {
            "line": {
             "colorbar": {
              "outlinewidth": 0,
              "ticks": ""
             }
            },
            "marker": {
             "colorbar": {
              "outlinewidth": 0,
              "ticks": ""
             }
            },
            "type": "scatter3d"
           }
          ],
          "scattercarpet": [
           {
            "marker": {
             "colorbar": {
              "outlinewidth": 0,
              "ticks": ""
             }
            },
            "type": "scattercarpet"
           }
          ],
          "scattergeo": [
           {
            "marker": {
             "colorbar": {
              "outlinewidth": 0,
              "ticks": ""
             }
            },
            "type": "scattergeo"
           }
          ],
          "scattergl": [
           {
            "marker": {
             "colorbar": {
              "outlinewidth": 0,
              "ticks": ""
             }
            },
            "type": "scattergl"
           }
          ],
          "scattermapbox": [
           {
            "marker": {
             "colorbar": {
              "outlinewidth": 0,
              "ticks": ""
             }
            },
            "type": "scattermapbox"
           }
          ],
          "scatterpolar": [
           {
            "marker": {
             "colorbar": {
              "outlinewidth": 0,
              "ticks": ""
             }
            },
            "type": "scatterpolar"
           }
          ],
          "scatterpolargl": [
           {
            "marker": {
             "colorbar": {
              "outlinewidth": 0,
              "ticks": ""
             }
            },
            "type": "scatterpolargl"
           }
          ],
          "scatterternary": [
           {
            "marker": {
             "colorbar": {
              "outlinewidth": 0,
              "ticks": ""
             }
            },
            "type": "scatterternary"
           }
          ],
          "surface": [
           {
            "colorbar": {
             "outlinewidth": 0,
             "ticks": ""
            },
            "colorscale": [
             [
              0,
              "#0d0887"
             ],
             [
              0.1111111111111111,
              "#46039f"
             ],
             [
              0.2222222222222222,
              "#7201a8"
             ],
             [
              0.3333333333333333,
              "#9c179e"
             ],
             [
              0.4444444444444444,
              "#bd3786"
             ],
             [
              0.5555555555555556,
              "#d8576b"
             ],
             [
              0.6666666666666666,
              "#ed7953"
             ],
             [
              0.7777777777777778,
              "#fb9f3a"
             ],
             [
              0.8888888888888888,
              "#fdca26"
             ],
             [
              1,
              "#f0f921"
             ]
            ],
            "type": "surface"
           }
          ],
          "table": [
           {
            "cells": {
             "fill": {
              "color": "#EBF0F8"
             },
             "line": {
              "color": "white"
             }
            },
            "header": {
             "fill": {
              "color": "#C8D4E3"
             },
             "line": {
              "color": "white"
             }
            },
            "type": "table"
           }
          ]
         },
         "layout": {
          "annotationdefaults": {
           "arrowcolor": "#2a3f5f",
           "arrowhead": 0,
           "arrowwidth": 1
          },
          "autotypenumbers": "strict",
          "coloraxis": {
           "colorbar": {
            "outlinewidth": 0,
            "ticks": ""
           }
          },
          "colorscale": {
           "diverging": [
            [
             0,
             "#8e0152"
            ],
            [
             0.1,
             "#c51b7d"
            ],
            [
             0.2,
             "#de77ae"
            ],
            [
             0.3,
             "#f1b6da"
            ],
            [
             0.4,
             "#fde0ef"
            ],
            [
             0.5,
             "#f7f7f7"
            ],
            [
             0.6,
             "#e6f5d0"
            ],
            [
             0.7,
             "#b8e186"
            ],
            [
             0.8,
             "#7fbc41"
            ],
            [
             0.9,
             "#4d9221"
            ],
            [
             1,
             "#276419"
            ]
           ],
           "sequential": [
            [
             0,
             "#0d0887"
            ],
            [
             0.1111111111111111,
             "#46039f"
            ],
            [
             0.2222222222222222,
             "#7201a8"
            ],
            [
             0.3333333333333333,
             "#9c179e"
            ],
            [
             0.4444444444444444,
             "#bd3786"
            ],
            [
             0.5555555555555556,
             "#d8576b"
            ],
            [
             0.6666666666666666,
             "#ed7953"
            ],
            [
             0.7777777777777778,
             "#fb9f3a"
            ],
            [
             0.8888888888888888,
             "#fdca26"
            ],
            [
             1,
             "#f0f921"
            ]
           ],
           "sequentialminus": [
            [
             0,
             "#0d0887"
            ],
            [
             0.1111111111111111,
             "#46039f"
            ],
            [
             0.2222222222222222,
             "#7201a8"
            ],
            [
             0.3333333333333333,
             "#9c179e"
            ],
            [
             0.4444444444444444,
             "#bd3786"
            ],
            [
             0.5555555555555556,
             "#d8576b"
            ],
            [
             0.6666666666666666,
             "#ed7953"
            ],
            [
             0.7777777777777778,
             "#fb9f3a"
            ],
            [
             0.8888888888888888,
             "#fdca26"
            ],
            [
             1,
             "#f0f921"
            ]
           ]
          },
          "colorway": [
           "#636efa",
           "#EF553B",
           "#00cc96",
           "#ab63fa",
           "#FFA15A",
           "#19d3f3",
           "#FF6692",
           "#B6E880",
           "#FF97FF",
           "#FECB52"
          ],
          "font": {
           "color": "#2a3f5f"
          },
          "geo": {
           "bgcolor": "white",
           "lakecolor": "white",
           "landcolor": "#E5ECF6",
           "showlakes": true,
           "showland": true,
           "subunitcolor": "white"
          },
          "hoverlabel": {
           "align": "left"
          },
          "hovermode": "closest",
          "mapbox": {
           "style": "light"
          },
          "paper_bgcolor": "white",
          "plot_bgcolor": "#E5ECF6",
          "polar": {
           "angularaxis": {
            "gridcolor": "white",
            "linecolor": "white",
            "ticks": ""
           },
           "bgcolor": "#E5ECF6",
           "radialaxis": {
            "gridcolor": "white",
            "linecolor": "white",
            "ticks": ""
           }
          },
          "scene": {
           "xaxis": {
            "backgroundcolor": "#E5ECF6",
            "gridcolor": "white",
            "gridwidth": 2,
            "linecolor": "white",
            "showbackground": true,
            "ticks": "",
            "zerolinecolor": "white"
           },
           "yaxis": {
            "backgroundcolor": "#E5ECF6",
            "gridcolor": "white",
            "gridwidth": 2,
            "linecolor": "white",
            "showbackground": true,
            "ticks": "",
            "zerolinecolor": "white"
           },
           "zaxis": {
            "backgroundcolor": "#E5ECF6",
            "gridcolor": "white",
            "gridwidth": 2,
            "linecolor": "white",
            "showbackground": true,
            "ticks": "",
            "zerolinecolor": "white"
           }
          },
          "shapedefaults": {
           "line": {
            "color": "#2a3f5f"
           }
          },
          "ternary": {
           "aaxis": {
            "gridcolor": "white",
            "linecolor": "white",
            "ticks": ""
           },
           "baxis": {
            "gridcolor": "white",
            "linecolor": "white",
            "ticks": ""
           },
           "bgcolor": "#E5ECF6",
           "caxis": {
            "gridcolor": "white",
            "linecolor": "white",
            "ticks": ""
           }
          },
          "title": {
           "x": 0.05
          },
          "xaxis": {
           "automargin": true,
           "gridcolor": "white",
           "linecolor": "white",
           "ticks": "",
           "title": {
            "standoff": 15
           },
           "zerolinecolor": "white",
           "zerolinewidth": 2
          },
          "yaxis": {
           "automargin": true,
           "gridcolor": "white",
           "linecolor": "white",
           "ticks": "",
           "title": {
            "standoff": 15
           },
           "zerolinecolor": "white",
           "zerolinewidth": 2
          }
         }
        }
       }
      },
      "text/html": [
       "<div>                            <div id=\"0777fa47-9fd1-41c1-b35d-44e1077d287e\" class=\"plotly-graph-div\" style=\"height:525px; width:100%;\"></div>            <script type=\"text/javascript\">                require([\"plotly\"], function(Plotly) {                    window.PLOTLYENV=window.PLOTLYENV || {};                                    if (document.getElementById(\"0777fa47-9fd1-41c1-b35d-44e1077d287e\")) {                    Plotly.newPlot(                        \"0777fa47-9fd1-41c1-b35d-44e1077d287e\",                        [{\"marker\":{\"opacity\":0.8,\"size\":4},\"mode\":\"markers\",\"x\":[-4.5760626792907715,-1.892551064491272,-4.496692180633545,-1.9427751302719116,-0.48127180337905884,-2.348139762878418,-4.604316711425781,-1.6998482942581177,-3.8650572299957275,-7.267542362213135,-4.3043694496154785,-4.441471576690674,-5.177999019622803,-5.7709431648254395,-5.662247180938721,-5.447255611419678,-4.1101861000061035,-5.546571254730225,-5.695276260375977,-7.176786422729492,-5.830595970153809,-1.6663044691085815,-3.382283926010132,-6.2350969314575195,-6.699410915374756,-5.7107625007629395,-7.797801971435547,-5.694843769073486,-3.684454917907715,-4.366377830505371,-5.660096168518066,-6.30813455581665,-0.5345323085784912,-2.091155529022217,-2.7104156017303467,-6.154538631439209,-2.6604459285736084,-3.3141167163848877,-1.795845866203308,-3.2682149410247803,-3.3060123920440674,-7.892618179321289,-2.946432590484619,-1.5794298648834229,-6.035188674926758,-7.06712532043457,-6.747227668762207,-2.7162222862243652,-1.9118518829345703,-2.980620861053467,-6.249421119689941,-6.439361572265625,-5.415477275848389,-7.314622402191162,-1.117748737335205,-3.3133914470672607,-3.2457973957061768,-4.617466449737549,-5.357977867126465,-4.518615245819092,-3.68546462059021,-2.0327939987182617,-1.3944451808929443,-4.788984298706055,-3.6785149574279785,-5.173915386199951,-7.353692531585693,-7.126920700073242,-6.03397798538208,-6.833116054534912,-5.420348644256592,-5.2451019287109375,-3.898941993713379,-5.765612602233887,-4.990771770477295,-1.3806729316711426,-2.460407018661499,-7.186514854431152,-2.7921998500823975,-7.89868688583374,-4.2969069480896,-2.6399526596069336,-3.188519239425659,-4.683922290802002,-3.233719825744629,-5.049738883972168,-4.56035041809082,-1.8808728456497192,-3.933164358139038,-3.964040994644165,-4.198779582977295,-6.239009857177734,-3.657235860824585,-1.9921985864639282,-4.432431697845459,-1.998498797416687,-4.720232963562012,-4.434382438659668,-6.019491195678711,-1.038989543914795,-5.0203423500061035,-3.2177414894104004,-4.391151428222656,-5.039697647094727,-4.079687595367432,-3.099212408065796,-2.5834007263183594,-5.179755687713623,-1.9159127473831177,-2.2633872032165527,-5.319084167480469,-1.7797478437423706,-2.367678165435791,-0.551362156867981,-5.604599475860596,-0.8892355561256409,-5.119839668273926,-1.2759259939193726,-7.236912250518799,-6.772773265838623,-7.266374111175537,-8.317815780639648,-4.100143909454346,-6.519662857055664,-2.479585647583008,-1.2798138856887817,-3.1518402099609375,-4.338468074798584,-1.9964817762374878,-2.5007827281951904,-4.803502082824707,-7.554473400115967,-6.839993476867676,-6.596458435058594,-7.139561176300049,-7.29398775100708,-6.5293288230896,-7.172225475311279,-6.4078593254089355,-6.845428466796875,-7.354949951171875,-6.866085529327393,-2.1462769508361816,-6.2680134773254395,-4.8883161544799805,-6.375711441040039,-6.512606620788574,-5.065238952636719,-7.0259552001953125,-6.864325523376465,-6.082874774932861,-7.938066482543945,-6.319859981536865,-7.3053741455078125,-6.557943344116211,-2.5721914768218994,-6.4007768630981445],\"y\":[2.7983760833740234,8.307832717895508,1.1097487211227417,5.524333477020264,7.049415111541748,4.949549674987793,7.246116638183594,2.49112868309021,2.4575421810150146,8.157576560974121,2.1046411991119385,4.164078712463379,5.296163082122803,3.8922922611236572,3.9504647254943848,6.137836456298828,2.364536762237549,3.0338048934936523,0.8083315491676331,5.857883930206299,4.016688823699951,4.704499244689941,7.448065280914307,3.9325759410858154,5.623142242431641,0.7720111608505249,3.945647716522217,5.140627861022949,0.646439790725708,0.6195846199989319,4.06470251083374,5.32034969329834,7.085249423980713,3.7373907566070557,2.957620859146118,9.98609447479248,5.025137424468994,4.69366455078125,3.309936285018921,1.8492214679718018,3.4568471908569336,4.02790641784668,6.736730098724365,1.665891408920288,9.167984008789062,4.794859409332275,5.859462261199951,5.030025005340576,2.0715787410736084,4.23839807510376,8.673450469970703,8.466340065002441,8.240376472473145,5.5289626121521,5.882368087768555,4.673437595367432,6.360124588012695,7.824944496154785,4.807224273681641,2.167487382888794,2.6186635494232178,5.2613725662231445,7.368588447570801,7.616789817810059,2.08539080619812,4.341660022735596,3.440696954727173,3.4252798557281494,4.447821140289307,6.006990432739258,3.539515972137451,7.563353538513184,1.5678625106811523,5.582502365112305,8.108576774597168,1.6983004808425903,2.436469793319702,3.4940030574798584,1.9658098220825195,3.7801098823547363,1.3177990913391113,7.602721214294434,6.4946184158325195,1.0605756044387817,4.560024261474609,-0.10173249244689941,0.7200982570648193,5.241751670837402,2.6266777515411377,2.236203670501709,7.011643886566162,4.427599906921387,7.019981384277344,5.862255096435547,0.30499592423439026,5.163734436035156,5.254613399505615,6.366988658905029,3.77651047706604,1.243334412574768,6.440154075622559,2.8350682258605957,3.4154460430145264,-0.014813108369708061,1.81113862991333,6.379447937011719,6.7977399826049805,2.2445755004882812,1.4132486581802368,8.793771743774414,2.0203542709350586,3.3636693954467773,4.863011360168457,7.184247970581055,4.266507625579834,2.8184709548950195,2.272584915161133,6.606875419616699,8.06687068939209,5.257503509521484,3.8524820804595947,4.600205898284912,8.256217956542969,6.161184310913086,1.7391273975372314,3.4511826038360596,7.913167953491211,4.089431285858154,3.4751596450805664,1.9489951133728027,5.183409214019775,3.651618719100952,9.6259126663208,9.902725219726562,7.296133518218994,8.572517395019531,5.251212120056152,7.466188430786133,8.851067543029785,5.673238277435303,8.136893272399902,5.668484687805176,7.5535454750061035,9.112672805786133,8.620179176330566,6.683819770812988,9.777179718017578,9.228553771972656,9.763678550720215,6.090559482574463,8.542693138122559,6.1845831871032715,9.522298812866211,8.500795364379883,10.303668975830078,8.985639572143555,9.30462646484375],\"z\":[-2.9608583450317383,1.4576181173324585,-1.017215609550476,-0.1485270857810974,1.377297043800354,0.9875088930130005,-0.21451278030872345,-0.7848405241966248,-1.2431474924087524,-2.4813711643218994,-4.634267807006836,-4.889847755432129,-0.8223257064819336,-2.259470224380493,-2.0518906116485596,-2.534311294555664,-4.521744728088379,-5.260082721710205,-5.545866012573242,-3.3430263996124268,-5.230831146240234,1.0354210138320923,-0.06952253729104996,-2.9929511547088623,-5.043866157531738,-5.5577826499938965,0.35977068543434143,0.8145296573638916,0.5176531076431274,-2.188938617706299,-5.26139497756958,0.08602540194988251,0.7445430755615234,2.3636248111724854,0.9127764105796814,1.4735649824142456,3.5083084106445312,3.397951602935791,1.1580402851104736,-2.586303234100342,0.37582796812057495,0.8721516132354736,2.8359360694885254,-0.9696561098098755,-1.3079687356948853,1.1427459716796875,1.0207329988479614,3.676373243331909,0.1811356395483017,0.5398154258728027,0.9127053022384644,1.3158087730407715,2.1948235034942627,0.9584187865257263,0.628176212310791,3.377976655960083,-0.9438662528991699,0.41637203097343445,0.0712902843952179,1.545749306678772,1.162551999092102,1.7576966285705566,2.1519596576690674,2.182901382446289,-2.322596788406372,1.0250786542892456,1.2441316843032837,1.6789393424987793,0.07161320000886917,-5.482336044311523,1.869604468345642,-0.8162687420845032,-2.4134726524353027,-0.10414726287126541,2.059237003326416,-1.279706358909607,2.2454895973205566,1.6520788669586182,-2.6322364807128906,-0.24521851539611816,-1.9482017755508423,2.6559600830078125,2.841487407684326,1.6611049175262451,1.8209378719329834,2.017805814743042,1.0837743282318115,1.5763496160507202,1.7455695867538452,2.1351728439331055,-0.3262953460216522,1.0881468057632446,-0.3576522767543793,-0.1900995373725891,1.5353481769561768,1.7555046081542969,-2.039886951446533,-0.7223321795463562,-2.855245590209961,-3.0178606510162354,-0.19192180037498474,0.8379009962081909,-3.496438980102539,1.955979585647583,-2.4192583560943604,2.9969985485076904,-0.041923150420188904,-3.157780885696411,-3.2140867710113525,1.5314377546310425,-3.0739896297454834,0.25904735922813416,2.1221089363098145,1.3722457885742188,-1.9767224788665771,-1.9409312009811401,-4.924314022064209,3.1112143993377686,-2.4866321086883545,-3.0734498500823975,-3.1011037826538086,1.2901819944381714,1.2410154342651367,-2.5919601917266846,-2.790994167327881,-1.547457218170166,2.260223627090454,-4.811142921447754,-1.1740672588348389,2.5374867916107178,-1.9662271738052368,-3.13329815864563,-0.34983956813812256,0.41265687346458435,-3.798919439315796,-0.7773793339729309,-5.065701007843018,-3.507211923599243,1.7803280353546143,-3.612837553024292,-2.585893392562866,-4.021117687225342,2.354177713394165,2.6372451782226562,0.9183356165885925,-1.991109848022461,-0.011538722552359104,0.0899694412946701,1.462382435798645,-5.2328290939331055,1.8480803966522217,-2.824310302734375,-0.005023492034524679,-0.7333309054374695,-0.3591371178627014,1.499895691871643,0.5909808278083801],\"type\":\"scatter3d\"},{\"marker\":{\"opacity\":0.8,\"size\":4},\"mode\":\"markers\",\"x\":[1.919529914855957,2.0576229095458984,5.7010579109191895,-1.6766968965530396,8.290471076965332,3.059896469116211,2.581031084060669,1.5707459449768066,3.461361885070801,0.6342701315879822,1.861317753791809,-0.15078416466712952,1.2970378398895264,2.8283979892730713,3.3198931217193604,1.9530376195907593,1.4406256675720215,3.465158700942993,2.1083309650421143,6.410425186157227,2.524569511413574,4.650489807128906,6.7426886558532715,4.6329545974731445,1.6098666191101074,6.949484825134277,2.5857555866241455,0.5897578001022339,2.5874154567718506,4.127579212188721,4.526998043060303,1.8288061618804932,1.7514182329177856,2.610506296157837,0.3414616882801056,3.6012933254241943,2.7519869804382324,6.657390117645264,6.169722080230713,0.1339515894651413,1.6817407608032227,3.759373188018799,0.023763755336403847,3.6599295139312744,4.6177144050598145,5.033656120300293,2.5324745178222656,3.8577702045440674,0.8305271863937378,1.8861364126205444,4.221814155578613,2.339552164077759,2.7232131958007812,2.98586368560791,1.3214837312698364,2.639714479446411,-0.497747004032135,-1.1694960594177246,2.4117908477783203,2.9082045555114746,-0.7219889760017395,-0.22527313232421875,-1.5193358659744263,0.8249951004981995,0.015684565529227257,2.0824201107025146,-1.6608631610870361,5.751861095428467,1.1090582609176636,7.556559085845947,3.028399705886841,3.1938509941101074,1.6914087533950806,0.426017165184021,4.081357479095459,-1.6271740198135376,-0.9419307112693787,0.4797650873661041,1.5026191473007202,0.14237013459205627,-1.7752604484558105,4.923308372497559,6.6585869789123535,6.391847133636475,3.3645291328430176,3.928865432739258,3.426265239715576,5.882422924041748,3.3923089504241943,2.703500509262085,-1.7893317937850952,3.8566484451293945,1.6161482334136963,5.755807876586914,5.300054550170898,4.526699066162109,2.11942720413208,2.301281690597534,1.8698242902755737,-0.8041014075279236,5.239437103271484,3.2412378787994385,2.5510740280151367,0.7357227802276611,3.4559919834136963,3.1735711097717285,-0.7402799129486084,3.334146022796631,4.176345348358154,2.4816195964813232,6.7738165855407715,3.690166473388672,1.4367398023605347,1.3702279329299927,0.24631665647029877,0.3445684313774109,3.0647695064544678,-0.04552285745739937,4.441391944885254,2.7671689987182617,2.4503471851348877,5.573736190795898,0.5559785962104797,2.5843613147735596,3.568028211593628,3.3454959392547607,4.267733573913574,2.4736692905426025,1.223037838935852,3.26576566696167,3.9185121059417725,0.33337342739105225,2.769479274749756,0.5798346400260925,4.385947227478027,2.667525291442871,3.5640203952789307,2.262676239013672,2.155311107635498,1.7617987394332886,2.6304595470428467,0.40152451395988464,2.7028324604034424,2.3704564571380615,-0.9560494422912598,2.809709310531616,3.8012988567352295,1.606722116470337,6.604646682739258,6.159878730773926,2.086805820465088,4.570435047149658,1.860905647277832],\"y\":[1.0552573204040527,0.9040819406509399,0.054132893681526184,0.4239661693572998,-1.6149883270263672,0.5474701523780823,3.147580623626709,0.2827884256839752,0.2088465541601181,3.4655911922454834,1.5288987159729004,1.0246024131774902,2.3795273303985596,3.84413480758667,3.4487011432647705,4.07448148727417,-2.168811559677124,-1.2589057683944702,-0.844568133354187,-2.9964311122894287,1.8853487968444824,-0.984528124332428,-0.5277033448219299,3.285916566848755,2.1942014694213867,-2.535295009613037,0.4810448884963989,4.0534820556640625,0.3921986520290375,3.6206274032592773,-1.1296772956848145,-2.2807531356811523,0.2163766771554947,-0.6217816472053528,4.430714130401611,-1.6062310934066772,2.3195528984069824,-0.2058684080839157,-0.3810248076915741,3.1259026527404785,-0.3539832532405853,0.28162074089050293,3.421480655670166,-1.6211186647415161,2.722172498703003,1.6961417198181152,1.2950040102005005,1.0193923711776733,1.06205415725708,3.606504440307617,2.1535191535949707,1.5034397840499878,-0.5990498065948486,0.07161285728216171,3.1038269996643066,3.828646183013916,3.670757293701172,2.099855422973633,-0.5802159309387207,0.2692541778087616,0.6207271218299866,3.1350314617156982,2.53566575050354,3.1397547721862793,2.4329066276550293,-2.4509902000427246,0.6653866171836853,0.13840065896511078,1.05832839012146,-0.05268144980072975,-0.11610416322946548,0.3120538294315338,2.4411909580230713,2.080338954925537,2.9919354915618896,2.648796796798706,1.8631036281585693,4.263463020324707,-0.27524688839912415,2.9438037872314453,2.7551703453063965,2.0798683166503906,-0.433999627828598,-0.4337064027786255,3.636760711669922,3.4360058307647705,1.1786623001098633,0.503979504108429,3.5748467445373535,2.9450645446777344,0.35255587100982666,-0.7035160064697266,2.75172758102417,0.9530823230743408,1.5274378061294556,1.2032768726348877,3.206571102142334,-0.35715043544769287,2.1939308643341064,2.9840288162231445,1.365177035331726,-0.9528958201408386,0.3438427746295929,2.6899542808532715,2.3737802505493164,-1.2000515460968018,1.0652929544448853,-0.024251308292150497,-0.46185240149497986,-1.312617540359497,-0.9795504212379456,-0.6799967288970947,-1.4990226030349731,2.9873785972595215,-0.9416585564613342,-0.5672813057899475,-0.33428457379341125,-2.1012818813323975,-0.7448104023933411,3.169318914413452,-1.6422220468521118,-0.9365644454956055,-1.4880890846252441,-0.06973282992839813,-0.09154433757066727,0.024735474959015846,-0.6676151156425476,1.6401214599609375,-2.246691942214966,-1.077562928199768,-0.6800636053085327,-1.5711109638214111,-1.0162556171417236,-2.4580349922180176,-0.7624976634979248,-0.24511389434337616,-0.10628998279571533,0.008396007120609283,-2.4775824546813965,2.2771694660186768,3.479138135910034,4.928544044494629,1.580779790878296,0.39179477095603943,1.4958783388137817,0.09813740849494934,-4.54200553894043,1.209090232849121,-0.10358870774507523,-1.5878933668136597,3.573150396347046,3.4862864017486572,2.380451202392578],\"z\":[0.0450475811958313,1.7063732147216797,2.6914920806884766,2.7241222858428955,1.0585942268371582,-0.9862253069877625,-0.11647195369005203,-1.7355057001113892,4.130671977996826,-0.37659329175949097,4.122742176055908,5.740640163421631,-3.1280648708343506,0.7676052451133728,-0.11962587386369705,-3.015824794769287,1.8928860425949097,2.4514002799987793,4.138703346252441,-0.3351615071296692,1.5371266603469849,2.381957530975342,-0.26984360814094543,-0.47077029943466187,-3.284191131591797,0.232106015086174,3.161947727203369,-0.4462548792362213,-3.214949607849121,-1.1450674533843994,1.6671347618103027,1.5463720560073853,1.3732819557189941,0.4817085564136505,3.4319159984588623,-0.46685805916786194,-0.4319423735141754,-0.17202919721603394,-0.6542503833770752,1.3741313219070435,1.4033223390579224,-1.790297269821167,-0.6718348860740662,-0.28160741925239563,0.7907835841178894,1.1567440032958984,2.2737395763397217,-0.4512006938457489,6.505356788635254,-2.7102458477020264,4.368854522705078,2.320845365524292,-1.9487719535827637,-1.0761518478393555,1.3670326471328735,-1.4061877727508545,1.8753570318222046,6.021730899810791,0.6506263017654419,-2.330066204071045,-1.554161548614502,0.6628583073616028,5.5568437576293945,1.8477786779403687,1.193082571029663,-0.32877418398857117,-0.5848796367645264,4.740434169769287,6.084258079528809,-0.13686297833919525,-1.5545451641082764,-0.5649045705795288,4.817012786865234,1.8770637512207031,0.691381573677063,5.479431629180908,6.036726474761963,3.4744277000427246,0.7310585379600525,0.6613351106643677,6.063981056213379,1.193801760673523,-0.22344154119491577,1.8381978273391724,-0.790226936340332,-1.2134910821914673,-0.4668114483356476,3.5346648693084717,-1.7394375801086426,-0.6204264760017395,2.754258155822754,-1.977777361869812,-1.4984997510910034,2.7799789905548096,1.8146764039993286,3.9898507595062256,-1.074532389640808,-1.9393645524978638,-1.3247348070144653,1.097452163696289,3.64505672454834,-0.9397755861282349,-3.0273094177246094,-3.1643319129943848,-0.21808308362960815,-0.5471287369728088,-3.1347789764404297,5.333555221557617,6.232462406158447,3.1412906646728516,1.184374213218689,3.694457530975342,3.320586919784546,4.997281074523926,4.2822794914245605,4.686649322509766,6.448467254638672,2.835256576538086,3.167874336242676,1.6042429208755493,2.1939916610717773,1.907900333404541,3.608478307723999,5.087527275085449,5.2274489402771,6.973680019378662,3.683525562286377,5.57997989654541,1.7564810514450073,3.4844868183135986,3.4497673511505127,3.5021567344665527,6.537565231323242,1.9403849840164185,3.906921863555908,6.128783702850342,3.506437063217163,6.1952056884765625,1.4026641845703125,5.030172348022461,-2.38481068611145,3.260728597640991,5.459105014801025,-3.5581130981445312,-1.348581075668335,3.5062127113342285,1.2991746664047241,4.235599994659424,0.434438556432724,-1.4154706001281738,1.3829973936080933,-0.08333759009838104,-3.1273975372314453],\"type\":\"scatter3d\"},{\"marker\":{\"opacity\":0.8,\"size\":4},\"mode\":\"markers\",\"x\":[-0.8932235836982727,-3.7120604515075684,-2.7910804748535156,-2.6186702251434326,-3.018754005432129,-4.847369194030762,-0.43242931365966797,-4.076068878173828,-3.323152780532837,-5.587585926055908,1.466315746307373,0.3887386918067932,-4.604599475860596,-5.657450199127197,-5.87903356552124,-1.319612979888916,-2.606909990310669,-3.2260987758636475,-3.842942476272583,-2.9698410034179688,-2.0989491939544678,-3.1676509380340576,-5.313350200653076,-1.5823217630386353,-3.05177903175354,-2.7583532333374023,-4.778030872344971,-1.7987298965454102,-2.7893974781036377,-4.954529762268066,1.0086548328399658,-2.736175060272217,-0.6516625285148621,-2.4993791580200195,-1.6774051189422607,-0.6385163068771362,-3.0864760875701904,1.9796733856201172,-0.39104920625686646,-2.6757330894470215,-5.6424336433410645,0.378684401512146,1.0945552587509155,-2.3820979595184326,-1.1326265335083008,-2.594250202178955,-3.053980827331543,0.17351603507995605,1.4575178623199463,-0.11091794073581696,-3.3148622512817383,-5.332089900970459,-4.682002067565918,0.8331226706504822,-5.266632556915283,-1.1757514476776123,-5.9909586906433105,-4.841671466827393,-5.091067314147949,-5.51666784286499,-4.008666515350342,-3.6758973598480225,-5.1186957359313965,-1.2936748266220093,-5.259832859039307,-0.5502457618713379,1.4927257299423218,-3.091423511505127,-3.844348192214966,-3.8397531509399414,1.1716324090957642,1.651655912399292,-3.7105813026428223,-0.9216957688331604,-2.469860315322876,-0.16176395118236542,0.8039751052856445,-0.027167582884430885,-0.5921715497970581,-0.14808803796768188,-5.219326496124268,-1.244789719581604,-2.6059484481811523,-3.088529586791992,1.7024644613265991,0.3866303861141205,-1.510414958000183,0.3459213972091675,0.4885750114917755,-2.1821675300598145,-0.504595935344696,-2.6636741161346436,-0.6285063028335571,3.499289035797119,-2.5798285007476807,-3.0450220108032227,-3.120958089828491,1.8579137325286865,0.5565437078475952,-0.3985486924648285,-1.944192886352539,3.250778913497925,-5.010073661804199,-3.7751147747039795,-3.915403366088867,-2.215392827987671],\"y\":[-3.2125065326690674,-4.727011203765869,-2.310737371444702,-2.1274023056030273,-2.712675094604492,-6.942422389984131,-2.6151082515716553,-5.831099033355713,-4.768650054931641,-6.9900383949279785,-3.0082132816314697,-4.818392753601074,-7.887746810913086,-9.362255096435547,-9.085498809814453,-2.7946572303771973,-3.461883068084717,-6.641635417938232,-6.726868152618408,0.006011705379933119,-8.01533031463623,-8.92556381225586,-6.744527339935303,-2.819291830062866,-8.1701021194458,-1.657368540763855,-6.971832275390625,-3.9844586849212646,-4.141693115234375,-5.650420188903809,-4.574735164642334,-4.6313276290893555,-3.4733989238739014,0.3461824059486389,-7.847678184509277,-4.2111639976501465,-0.3421577215194702,-6.1109161376953125,-8.007019996643066,-1.676231861114502,-8.193612098693848,-3.271219253540039,-3.2454075813293457,-9.187817573547363,-7.819567680358887,0.046590983867645264,-4.338991641998291,-2.64642071723938,-1.8355299234390259,-3.030644655227661,-3.2214314937591553,-2.6071650981903076,-7.9170684814453125,-2.461113214492798,-2.4646737575531006,-1.5104721784591675,-8.178528785705566,-5.969071388244629,-10.019111633300781,-8.108749389648438,-0.5417555570602417,-1.0542595386505127,-9.97767448425293,-0.7507373690605164,-0.7882525324821472,-5.202579975128174,-2.869339942932129,-2.4445841312408447,-6.630657196044922,-5.810752868652344,-4.217940807342529,-2.2893753051757812,-6.865602493286133,-1.8038195371627808,-1.8203758001327515,-7.624675273895264,-4.413426399230957,-2.4316656589508057,-3.1275317668914795,-7.653791904449463,-5.3035502433776855,-3.876624822616577,-1.1915714740753174,-5.895118713378906,-2.4315929412841797,-3.254619836807251,-3.3540256023406982,-4.273560047149658,-4.806836128234863,-0.8345745205879211,-3.1310513019561768,-6.553591251373291,-4.256222724914551,-3.4461326599121094,-3.629194974899292,-5.9081525802612305,-2.0999834537506104,-6.470381259918213,-2.873488664627075,-4.14118766784668,-6.261025905609131,-8.404300689697266,-7.2174506187438965,-6.664519786834717,-4.705194473266602,-6.374738693237305],\"z\":[0.3799033463001251,1.1357371807098389,2.768763542175293,3.6375572681427,-1.0532022714614868,0.9360457062721252,-5.26507043838501,0.6339069604873657,0.8366841077804565,0.7034738659858704,0.33345332741737366,-2.609706401824951,-2.1534128189086914,-1.1075408458709717,-0.6074270009994507,-0.4529094696044922,2.6436214447021484,3.089299440383911,-1.1874127388000488,1.806971788406372,2.402351140975952,0.09943609684705734,0.346118688583374,0.8841925859451294,1.9922683238983154,2.973544120788574,0.824476957321167,3.329606533050537,2.2666656970977783,-0.7915017008781433,1.4680081605911255,0.7801655530929565,0.2134319692850113,-0.012767031788825989,1.7345056533813477,1.629650592803955,4.262699127197266,-5.535043716430664,2.2102673053741455,-1.5078922510147095,-2.4091145992279053,-7.0587944984436035,0.7794183492660522,0.5298601388931274,0.969933271408081,0.24675288796424866,0.7259149551391602,1.7493829727172852,-3.9265360832214355,0.21425394713878632,-1.1064486503601074,3.50437068939209,-2.31427001953125,-4.849428176879883,3.410130023956299,-1.0245506763458252,-2.477257490158081,-0.22072723507881165,-0.41261595487594604,-2.7012758255004883,1.85305655002594,2.241860866546631,-0.40967097878456116,-1.7563409805297852,2.2779974937438965,0.01319018006324768,0.30075639486312866,-1.142167091369629,-1.104950189590454,0.6878569722175598,1.243723750114441,-4.108374118804932,1.0036699771881104,3.2876217365264893,3.477724313735962,2.216599225997925,-6.324235439300537,2.410006046295166,1.634817123413086,2.2110652923583984,-0.9175658226013184,1.0802398920059204,-1.8507736921310425,0.6451975107192993,-4.2391676902771,-7.062312602996826,0.6925222277641296,-5.341098785400391,-2.7875678539276123,-2.0314276218414307,-5.326756954193115,1.9300588369369507,-0.06657475233078003,-5.0485944747924805,2.875342607498169,0.653351366519928,-1.3842822313308716,-5.729854106903076,-0.3421701192855835,-0.3552855849266052,2.6512441635131836,-2.3803186416625977,1.4637315273284912,0.8679654598236084,1.0840814113616943,2.50677490234375],\"type\":\"scatter3d\"}],                        {\"template\":{\"data\":{\"histogram2dcontour\":[{\"type\":\"histogram2dcontour\",\"colorbar\":{\"outlinewidth\":0,\"ticks\":\"\"},\"colorscale\":[[0.0,\"#0d0887\"],[0.1111111111111111,\"#46039f\"],[0.2222222222222222,\"#7201a8\"],[0.3333333333333333,\"#9c179e\"],[0.4444444444444444,\"#bd3786\"],[0.5555555555555556,\"#d8576b\"],[0.6666666666666666,\"#ed7953\"],[0.7777777777777778,\"#fb9f3a\"],[0.8888888888888888,\"#fdca26\"],[1.0,\"#f0f921\"]]}],\"choropleth\":[{\"type\":\"choropleth\",\"colorbar\":{\"outlinewidth\":0,\"ticks\":\"\"}}],\"histogram2d\":[{\"type\":\"histogram2d\",\"colorbar\":{\"outlinewidth\":0,\"ticks\":\"\"},\"colorscale\":[[0.0,\"#0d0887\"],[0.1111111111111111,\"#46039f\"],[0.2222222222222222,\"#7201a8\"],[0.3333333333333333,\"#9c179e\"],[0.4444444444444444,\"#bd3786\"],[0.5555555555555556,\"#d8576b\"],[0.6666666666666666,\"#ed7953\"],[0.7777777777777778,\"#fb9f3a\"],[0.8888888888888888,\"#fdca26\"],[1.0,\"#f0f921\"]]}],\"heatmap\":[{\"type\":\"heatmap\",\"colorbar\":{\"outlinewidth\":0,\"ticks\":\"\"},\"colorscale\":[[0.0,\"#0d0887\"],[0.1111111111111111,\"#46039f\"],[0.2222222222222222,\"#7201a8\"],[0.3333333333333333,\"#9c179e\"],[0.4444444444444444,\"#bd3786\"],[0.5555555555555556,\"#d8576b\"],[0.6666666666666666,\"#ed7953\"],[0.7777777777777778,\"#fb9f3a\"],[0.8888888888888888,\"#fdca26\"],[1.0,\"#f0f921\"]]}],\"heatmapgl\":[{\"type\":\"heatmapgl\",\"colorbar\":{\"outlinewidth\":0,\"ticks\":\"\"},\"colorscale\":[[0.0,\"#0d0887\"],[0.1111111111111111,\"#46039f\"],[0.2222222222222222,\"#7201a8\"],[0.3333333333333333,\"#9c179e\"],[0.4444444444444444,\"#bd3786\"],[0.5555555555555556,\"#d8576b\"],[0.6666666666666666,\"#ed7953\"],[0.7777777777777778,\"#fb9f3a\"],[0.8888888888888888,\"#fdca26\"],[1.0,\"#f0f921\"]]}],\"contourcarpet\":[{\"type\":\"contourcarpet\",\"colorbar\":{\"outlinewidth\":0,\"ticks\":\"\"}}],\"contour\":[{\"type\":\"contour\",\"colorbar\":{\"outlinewidth\":0,\"ticks\":\"\"},\"colorscale\":[[0.0,\"#0d0887\"],[0.1111111111111111,\"#46039f\"],[0.2222222222222222,\"#7201a8\"],[0.3333333333333333,\"#9c179e\"],[0.4444444444444444,\"#bd3786\"],[0.5555555555555556,\"#d8576b\"],[0.6666666666666666,\"#ed7953\"],[0.7777777777777778,\"#fb9f3a\"],[0.8888888888888888,\"#fdca26\"],[1.0,\"#f0f921\"]]}],\"surface\":[{\"type\":\"surface\",\"colorbar\":{\"outlinewidth\":0,\"ticks\":\"\"},\"colorscale\":[[0.0,\"#0d0887\"],[0.1111111111111111,\"#46039f\"],[0.2222222222222222,\"#7201a8\"],[0.3333333333333333,\"#9c179e\"],[0.4444444444444444,\"#bd3786\"],[0.5555555555555556,\"#d8576b\"],[0.6666666666666666,\"#ed7953\"],[0.7777777777777778,\"#fb9f3a\"],[0.8888888888888888,\"#fdca26\"],[1.0,\"#f0f921\"]]}],\"mesh3d\":[{\"type\":\"mesh3d\",\"colorbar\":{\"outlinewidth\":0,\"ticks\":\"\"}}],\"scatter\":[{\"fillpattern\":{\"fillmode\":\"overlay\",\"size\":10,\"solidity\":0.2},\"type\":\"scatter\"}],\"parcoords\":[{\"type\":\"parcoords\",\"line\":{\"colorbar\":{\"outlinewidth\":0,\"ticks\":\"\"}}}],\"scatterpolargl\":[{\"type\":\"scatterpolargl\",\"marker\":{\"colorbar\":{\"outlinewidth\":0,\"ticks\":\"\"}}}],\"bar\":[{\"error_x\":{\"color\":\"#2a3f5f\"},\"error_y\":{\"color\":\"#2a3f5f\"},\"marker\":{\"line\":{\"color\":\"#E5ECF6\",\"width\":0.5},\"pattern\":{\"fillmode\":\"overlay\",\"size\":10,\"solidity\":0.2}},\"type\":\"bar\"}],\"scattergeo\":[{\"type\":\"scattergeo\",\"marker\":{\"colorbar\":{\"outlinewidth\":0,\"ticks\":\"\"}}}],\"scatterpolar\":[{\"type\":\"scatterpolar\",\"marker\":{\"colorbar\":{\"outlinewidth\":0,\"ticks\":\"\"}}}],\"histogram\":[{\"marker\":{\"pattern\":{\"fillmode\":\"overlay\",\"size\":10,\"solidity\":0.2}},\"type\":\"histogram\"}],\"scattergl\":[{\"type\":\"scattergl\",\"marker\":{\"colorbar\":{\"outlinewidth\":0,\"ticks\":\"\"}}}],\"scatter3d\":[{\"type\":\"scatter3d\",\"line\":{\"colorbar\":{\"outlinewidth\":0,\"ticks\":\"\"}},\"marker\":{\"colorbar\":{\"outlinewidth\":0,\"ticks\":\"\"}}}],\"scattermapbox\":[{\"type\":\"scattermapbox\",\"marker\":{\"colorbar\":{\"outlinewidth\":0,\"ticks\":\"\"}}}],\"scatterternary\":[{\"type\":\"scatterternary\",\"marker\":{\"colorbar\":{\"outlinewidth\":0,\"ticks\":\"\"}}}],\"scattercarpet\":[{\"type\":\"scattercarpet\",\"marker\":{\"colorbar\":{\"outlinewidth\":0,\"ticks\":\"\"}}}],\"carpet\":[{\"aaxis\":{\"endlinecolor\":\"#2a3f5f\",\"gridcolor\":\"white\",\"linecolor\":\"white\",\"minorgridcolor\":\"white\",\"startlinecolor\":\"#2a3f5f\"},\"baxis\":{\"endlinecolor\":\"#2a3f5f\",\"gridcolor\":\"white\",\"linecolor\":\"white\",\"minorgridcolor\":\"white\",\"startlinecolor\":\"#2a3f5f\"},\"type\":\"carpet\"}],\"table\":[{\"cells\":{\"fill\":{\"color\":\"#EBF0F8\"},\"line\":{\"color\":\"white\"}},\"header\":{\"fill\":{\"color\":\"#C8D4E3\"},\"line\":{\"color\":\"white\"}},\"type\":\"table\"}],\"barpolar\":[{\"marker\":{\"line\":{\"color\":\"#E5ECF6\",\"width\":0.5},\"pattern\":{\"fillmode\":\"overlay\",\"size\":10,\"solidity\":0.2}},\"type\":\"barpolar\"}],\"pie\":[{\"automargin\":true,\"type\":\"pie\"}]},\"layout\":{\"autotypenumbers\":\"strict\",\"colorway\":[\"#636efa\",\"#EF553B\",\"#00cc96\",\"#ab63fa\",\"#FFA15A\",\"#19d3f3\",\"#FF6692\",\"#B6E880\",\"#FF97FF\",\"#FECB52\"],\"font\":{\"color\":\"#2a3f5f\"},\"hovermode\":\"closest\",\"hoverlabel\":{\"align\":\"left\"},\"paper_bgcolor\":\"white\",\"plot_bgcolor\":\"#E5ECF6\",\"polar\":{\"bgcolor\":\"#E5ECF6\",\"angularaxis\":{\"gridcolor\":\"white\",\"linecolor\":\"white\",\"ticks\":\"\"},\"radialaxis\":{\"gridcolor\":\"white\",\"linecolor\":\"white\",\"ticks\":\"\"}},\"ternary\":{\"bgcolor\":\"#E5ECF6\",\"aaxis\":{\"gridcolor\":\"white\",\"linecolor\":\"white\",\"ticks\":\"\"},\"baxis\":{\"gridcolor\":\"white\",\"linecolor\":\"white\",\"ticks\":\"\"},\"caxis\":{\"gridcolor\":\"white\",\"linecolor\":\"white\",\"ticks\":\"\"}},\"coloraxis\":{\"colorbar\":{\"outlinewidth\":0,\"ticks\":\"\"}},\"colorscale\":{\"sequential\":[[0.0,\"#0d0887\"],[0.1111111111111111,\"#46039f\"],[0.2222222222222222,\"#7201a8\"],[0.3333333333333333,\"#9c179e\"],[0.4444444444444444,\"#bd3786\"],[0.5555555555555556,\"#d8576b\"],[0.6666666666666666,\"#ed7953\"],[0.7777777777777778,\"#fb9f3a\"],[0.8888888888888888,\"#fdca26\"],[1.0,\"#f0f921\"]],\"sequentialminus\":[[0.0,\"#0d0887\"],[0.1111111111111111,\"#46039f\"],[0.2222222222222222,\"#7201a8\"],[0.3333333333333333,\"#9c179e\"],[0.4444444444444444,\"#bd3786\"],[0.5555555555555556,\"#d8576b\"],[0.6666666666666666,\"#ed7953\"],[0.7777777777777778,\"#fb9f3a\"],[0.8888888888888888,\"#fdca26\"],[1.0,\"#f0f921\"]],\"diverging\":[[0,\"#8e0152\"],[0.1,\"#c51b7d\"],[0.2,\"#de77ae\"],[0.3,\"#f1b6da\"],[0.4,\"#fde0ef\"],[0.5,\"#f7f7f7\"],[0.6,\"#e6f5d0\"],[0.7,\"#b8e186\"],[0.8,\"#7fbc41\"],[0.9,\"#4d9221\"],[1,\"#276419\"]]},\"xaxis\":{\"gridcolor\":\"white\",\"linecolor\":\"white\",\"ticks\":\"\",\"title\":{\"standoff\":15},\"zerolinecolor\":\"white\",\"automargin\":true,\"zerolinewidth\":2},\"yaxis\":{\"gridcolor\":\"white\",\"linecolor\":\"white\",\"ticks\":\"\",\"title\":{\"standoff\":15},\"zerolinecolor\":\"white\",\"automargin\":true,\"zerolinewidth\":2},\"scene\":{\"xaxis\":{\"backgroundcolor\":\"#E5ECF6\",\"gridcolor\":\"white\",\"linecolor\":\"white\",\"showbackground\":true,\"ticks\":\"\",\"zerolinecolor\":\"white\",\"gridwidth\":2},\"yaxis\":{\"backgroundcolor\":\"#E5ECF6\",\"gridcolor\":\"white\",\"linecolor\":\"white\",\"showbackground\":true,\"ticks\":\"\",\"zerolinecolor\":\"white\",\"gridwidth\":2},\"zaxis\":{\"backgroundcolor\":\"#E5ECF6\",\"gridcolor\":\"white\",\"linecolor\":\"white\",\"showbackground\":true,\"ticks\":\"\",\"zerolinecolor\":\"white\",\"gridwidth\":2}},\"shapedefaults\":{\"line\":{\"color\":\"#2a3f5f\"}},\"annotationdefaults\":{\"arrowcolor\":\"#2a3f5f\",\"arrowhead\":0,\"arrowwidth\":1},\"geo\":{\"bgcolor\":\"white\",\"landcolor\":\"#E5ECF6\",\"subunitcolor\":\"white\",\"showland\":true,\"showlakes\":true,\"lakecolor\":\"white\"},\"title\":{\"x\":0.05},\"mapbox\":{\"style\":\"light\"}}},\"legend\":{\"font\":{\"size\":18}}},                        {\"responsive\": true}                    ).then(function(){\n",
       "                            \n",
       "var gd = document.getElementById('0777fa47-9fd1-41c1-b35d-44e1077d287e');\n",
       "var x = new MutationObserver(function (mutations, observer) {{\n",
       "        var display = window.getComputedStyle(gd).display;\n",
       "        if (!display || display === 'none') {{\n",
       "            console.log([gd, 'removed!']);\n",
       "            Plotly.purge(gd);\n",
       "            observer.disconnect();\n",
       "        }}\n",
       "}});\n",
       "\n",
       "// Listen for the removal of the full notebook cells\n",
       "var notebookContainer = gd.closest('#notebook-container');\n",
       "if (notebookContainer) {{\n",
       "    x.observe(notebookContainer, {childList: true});\n",
       "}}\n",
       "\n",
       "// Listen for the clearing of the current output cell\n",
       "var outputEl = gd.closest('.output');\n",
       "if (outputEl) {{\n",
       "    x.observe(outputEl, {childList: true});\n",
       "}}\n",
       "\n",
       "                        })                };                });            </script>        </div>"
      ]
     },
     "metadata": {},
     "output_type": "display_data"
    },
    {
     "data": {
      "application/vnd.plotly.v1+json": {
       "config": {
        "plotlyServerURL": "https://plot.ly"
       },
       "data": [
        {
         "marker": {
          "opacity": 0.8,
          "size": 4
         },
         "mode": "markers",
         "type": "scatter3d",
         "x": [
          1.1494238376617432,
          6.668885231018066,
          7.743635654449463,
          1.1890933513641357,
          1.0035003423690796,
          5.906755447387695,
          6.834685325622559,
          11.080806732177734,
          4.176023006439209,
          3.263761520385742,
          3.2324602603912354,
          4.194210529327393,
          2.7115705013275146,
          5.835559368133545,
          5.37740421295166,
          6.435220241546631,
          6.612796783447266,
          7.074500560760498,
          6.8930864334106445,
          3.663069486618042,
          5.958436012268066,
          7.432026386260986,
          4.999574184417725,
          8.92302131652832,
          7.643822193145752,
          2.5809004306793213,
          9.636579513549805,
          6.85064172744751,
          3.4887826442718506,
          6.264122486114502,
          2.212848663330078,
          6.5367302894592285,
          2.830500602722168,
          1.4310438632965088,
          5.209395408630371,
          5.261693954467773,
          1.2918834686279297,
          2.329240560531616,
          6.16817045211792,
          4.502415180206299,
          3.001887559890747,
          10.306230545043945,
          8.486431121826172,
          2.033716917037964,
          2.596865653991699,
          1.2621208429336548,
          9.733198165893555,
          3.060887336730957,
          1.1346129179000854,
          8.447443962097168,
          8.83989429473877,
          9.246710777282715,
          3.948537826538086,
          9.879843711853027,
          5.538943290710449,
          5.489055633544922,
          10.704489707946777,
          6.2600250244140625,
          1.9951286315917969,
          6.7227325439453125,
          4.845610618591309,
          2.991541624069214,
          9.256863594055176,
          10.22391414642334,
          6.373942852020264,
          4.1573920249938965,
          5.3457136154174805,
          5.209231853485107,
          2.0514848232269287,
          5.087323188781738,
          2.1821062564849854,
          5.181140422821045,
          1.8598339557647705,
          1.4795981645584106,
          2.336237668991089,
          7.461748123168945,
          6.698739528656006,
          9.265110969543457,
          2.0338499546051025,
          0.5180630087852478,
          9.531522750854492,
          2.446209192276001,
          1.1475173234939575,
          1.691394329071045,
          2.054694652557373,
          8.583586692810059,
          7.674166679382324,
          8.968437194824219,
          5.254978656768799,
          6.844831466674805,
          5.761537551879883,
          4.485663414001465,
          4.248190879821777,
          7.677306175231934,
          6.962502956390381,
          6.269691467285156,
          4.4693379402160645,
          6.755460262298584,
          3.3253331184387207,
          10.071921348571777,
          8.727029800415039,
          10.99771499633789,
          7.337432861328125,
          10.06946849822998,
          2.856250524520874,
          5.308321952819824,
          5.6100029945373535,
          3.513993263244629,
          8.239880561828613,
          7.026284694671631,
          10.02695083618164,
          6.30190896987915,
          10.730537414550781,
          3.7357349395751953,
          10.717607498168945,
          9.26122760772705,
          9.588532447814941,
          9.742111206054688,
          10.60102653503418,
          8.343402862548828,
          6.179929256439209,
          6.121607780456543,
          6.306406021118164,
          5.56619930267334,
          6.389599323272705,
          10.182302474975586,
          6.170604228973389,
          9.525437355041504,
          9.061528205871582,
          2.5887365341186523,
          6.046496868133545,
          5.658321857452393,
          5.121732711791992,
          7.56252908706665,
          6.86366081237793,
          5.46673583984375,
          11.009221076965332,
          9.729433059692383,
          5.836034297943115,
          8.852417945861816,
          7.866154193878174
         ],
         "y": [
          0.6108261942863464,
          0.8800124526023865,
          -3.671393871307373,
          0.01948692463338375,
          1.0958718061447144,
          1.6469022035598755,
          0.6214581727981567,
          2.228640079498291,
          -0.23494012653827667,
          0.035038962960243225,
          0.24316230416297913,
          -0.3467871844768524,
          -1.4320350885391235,
          1.5174895524978638,
          -3.967827320098877,
          1.124138593673706,
          -0.15419688820838928,
          -2.6169562339782715,
          -0.02643320895731449,
          0.480638712644577,
          -3.705409049987793,
          1.7350000143051147,
          2.6875953674316406,
          1.8974542617797852,
          3.0192158222198486,
          -3.448024034500122,
          4.463639736175537,
          0.319782018661499,
          -1.4865591526031494,
          2.7980971336364746,
          0.859688401222229,
          0.2268190085887909,
          -0.016711028292775154,
          2.4593515396118164,
          -3.0901036262512207,
          -2.356257915496826,
          2.5219225883483887,
          0.28348520398139954,
          0.7336822748184204,
          0.207485631108284,
          -0.15850140154361725,
          3.497161626815796,
          3.5654399394989014,
          -1.1075115203857422,
          1.185262680053711,
          2.902303695678711,
          3.318002223968506,
          0.787417471408844,
          -1.0578663349151611,
          2.9456350803375244,
          2.93733811378479,
          3.0524280071258545,
          1.157730221748352,
          2.284799337387085,
          1.1864473819732666,
          3.0236523151397705,
          2.67584228515625,
          -3.399604558944702,
          1.8657983541488647,
          0.6223906874656677,
          2.839139699935913,
          0.8526330590248108,
          2.6143851280212402,
          2.2411136627197266,
          0.14198651909828186,
          0.2899310290813446,
          -2.9866445064544678,
          -1.348601222038269,
          3.262781858444214,
          -0.509056568145752,
          0.8227701783180237,
          1.7176705598831177,
          3.4470977783203125,
          2.517319679260254,
          -1.3487640619277954,
          0.9102634787559509,
          0.7939017415046692,
          0.9953926205635071,
          1.1068390607833862,
          1.044051170349121,
          2.6226165294647217,
          -0.5110507011413574,
          3.3306784629821777,
          1.8341220617294312,
          0.8156840801239014,
          1.2376561164855957,
          2.5526576042175293,
          0.5260580778121948,
          -0.05515717715024948,
          -2.5699453353881836,
          -0.07962017506361008,
          0.30757665634155273,
          0.855660080909729,
          1.4857453107833862,
          0.684651792049408,
          3.106551170349121,
          -0.36108165979385376,
          -1.453067660331726,
          0.2876111567020416,
          1.7062973976135254,
          2.0841333866119385,
          3.061826229095459,
          0.6088948249816895,
          2.633669853210449,
          -0.5416591167449951,
          -0.09169722348451614,
          -0.13929465413093567,
          0.35910463333129883,
          1.4453809261322021,
          -0.010445849038660526,
          2.939704418182373,
          0.904356837272644,
          2.9896185398101807,
          -0.5948976278305054,
          2.934356212615967,
          3.187256336212158,
          0.9447076320648193,
          0.640241801738739,
          3.71535325050354,
          2.8845953941345215,
          0.38578298687934875,
          2.6602160930633545,
          0.07700631767511368,
          1.715156078338623,
          2.6535332202911377,
          3.4176645278930664,
          1.844815969467163,
          0.858288586139679,
          2.778589963912964,
          -3.140580177307129,
          2.6025235652923584,
          2.0128226280212402,
          -4.202962398529053,
          0.7807350158691406,
          -2.207951545715332,
          -3.172687292098999,
          0.9808710217475891,
          3.5801355838775635,
          2.612067461013794,
          2.4036107063293457,
          0.5588770508766174
         ],
         "z": [
          2.4973812103271484,
          -1.2916431427001953,
          -1.060072422027588,
          0.6346958875656128,
          0.2269241064786911,
          2.2495155334472656,
          4.218444347381592,
          2.8724522590637207,
          3.214462995529175,
          3.170518636703491,
          2.9286742210388184,
          -3.228881359100342,
          -2.931755304336548,
          -4.656738758087158,
          -1.2628743648529053,
          -2.8925113677978516,
          -1.383010745048523,
          -0.5413525104522705,
          -0.4435500502586365,
          3.3687214851379395,
          -2.0442371368408203,
          -4.4728922843933105,
          1.9879224300384521,
          2.842442274093628,
          0.5498759150505066,
          -1.257745623588562,
          2.1849024295806885,
          0.1805647909641266,
          -2.0759150981903076,
          4.342982769012451,
          -1.001215934753418,
          5.279053688049316,
          -1.4979346990585327,
          -0.3530782163143158,
          0.05057418346405029,
          0.3290838599205017,
          2.264191150665283,
          -1.5629156827926636,
          0.9777856469154358,
          1.623785376548767,
          0.22691956162452698,
          4.237679958343506,
          3.2191972732543945,
          -0.31624889373779297,
          1.186830759048462,
          1.7015421390533447,
          6.457335948944092,
          1.9130226373672485,
          0.3183928430080414,
          3.9619622230529785,
          5.844122409820557,
          6.2690887451171875,
          1.1511374711990356,
          6.156252861022949,
          4.054433345794678,
          5.826565265655518,
          1.5791648626327515,
          0.7475085258483887,
          0.5422621965408325,
          4.266929626464844,
          1.9980509281158447,
          1.937340259552002,
          6.23399543762207,
          6.162900447845459,
          5.404175758361816,
          1.9317545890808105,
          0.05061604455113411,
          0.9075136780738831,
          1.2889949083328247,
          1.5177719593048096,
          0.43546542525291443,
          -0.37179484963417053,
          1.1879820823669434,
          0.46874091029167175,
          -0.45064777135849,
          -2.3415393829345703,
          -1.0850046873092651,
          1.8875616788864136,
          -0.10025589168071747,
          0.8268822431564331,
          0.7335241436958313,
          -0.9008669853210449,
          1.1868586540222168,
          0.6416359543800354,
          -0.12167560309171677,
          -1.858280062675476,
          0.39591678977012634,
          -2.231985330581665,
          -3.7341980934143066,
          -0.960486650466919,
          -3.45729660987854,
          -5.451150417327881,
          -5.524017333984375,
          -4.153600215911865,
          -0.6163411140441895,
          3.9787049293518066,
          -3.1798746585845947,
          -1.4239764213562012,
          -5.164571285247803,
          0.7427828907966614,
          0.016056125983595848,
          -0.4004867374897003,
          -1.814168095588684,
          0.5481467247009277,
          -3.87078595161438,
          -3.7178404331207275,
          -3.500413179397583,
          -5.201125144958496,
          -4.065938472747803,
          -2.5794999599456787,
          0.2922061085700989,
          -3.0963306427001953,
          0.661136269569397,
          -2.7547287940979004,
          0.7703746557235718,
          1.9640506505966187,
          1.2898818254470825,
          0.9186318516731262,
          4.375790119171143,
          5.120135307312012,
          1.2755630016326904,
          6.641825199127197,
          5.569417953491211,
          4.085122585296631,
          6.62615966796875,
          3.761018991470337,
          -1.7998775243759155,
          0.9364607334136963,
          3.7738187313079834,
          -1.5100706815719604,
          6.86064338684082,
          2.1335346698760986,
          -4.223867416381836,
          3.6857383251190186,
          -1.0731581449508667,
          -1.3414976596832275,
          1.573254108428955,
          1.5955524444580078,
          4.580501079559326,
          0.6242921352386475,
          -1.9619141817092896
         ]
        },
        {
         "marker": {
          "opacity": 0.8,
          "size": 4
         },
         "mode": "markers",
         "type": "scatter3d",
         "x": [
          -3.4035143852233887,
          -2.168929100036621,
          -5.875274658203125,
          -4.635366916656494,
          -2.5527493953704834,
          -2.3772215843200684,
          1.0217236280441284,
          -2.4849424362182617,
          -4.269370079040527,
          -3.6440227031707764,
          -1.9719079732894897,
          -3.723506212234497,
          -0.8162011504173279,
          -6.8975830078125,
          -0.615206241607666,
          -4.170915603637695,
          -4.427411079406738,
          0.5723807215690613,
          -3.1280884742736816,
          -4.636834144592285,
          -6.413303852081299,
          -7.86342191696167,
          -5.74316930770874,
          -6.592665195465088,
          -4.635241985321045,
          -2.044851303100586,
          -5.277612209320068,
          -6.960842609405518,
          -4.568112850189209,
          -5.259039402008057,
          -0.46587416529655457,
          -7.485414028167725,
          -6.575243949890137,
          -4.375245094299316,
          -4.947669982910156,
          -5.204449653625488,
          -4.077784538269043,
          -1.1511987447738647,
          -6.36883544921875,
          -6.5604352951049805,
          -1.2776631116867065,
          -5.081652641296387,
          -2.6465814113616943,
          -0.23359231650829315,
          -3.273951768875122,
          -6.773125171661377,
          -2.988661766052246,
          -2.791447401046753,
          -5.242936611175537,
          0.36340126395225525,
          -7.439728736877441,
          -2.6823623180389404,
          -2.7586452960968018,
          -4.37045431137085,
          -2.892071485519409,
          -8.323062896728516,
          -2.3557796478271484,
          -3.046572685241699,
          -5.427224636077881,
          -8.2752685546875,
          -7.451338291168213,
          -1.412186861038208,
          -1.1187596321105957,
          -5.631227970123291,
          -7.3515143394470215,
          -1.0082390308380127,
          -5.197135925292969,
          -2.0707812309265137,
          -1.3794010877609253,
          -5.546376705169678,
          -6.165701389312744,
          -6.630317211151123,
          -0.9300287365913391,
          -4.620925426483154,
          -1.7671782970428467,
          -0.6600268483161926,
          -4.3929948806762695,
          -4.993440628051758,
          -2.880269765853882,
          -6.316837787628174,
          -8.18006706237793,
          0.19498440623283386,
          -6.9175848960876465,
          -7.270933151245117,
          -7.908114433288574,
          -6.014995098114014,
          -5.99162483215332,
          -7.325170040130615,
          -4.069806098937988,
          -5.596215724945068,
          -5.511988639831543,
          -1.0373908281326294,
          -3.8670639991760254,
          -6.954530239105225,
          -4.50695276260376,
          -8.289871215820312,
          -4.15101432800293,
          -2.4389638900756836,
          -0.8093082308769226,
          -4.00827169418335,
          -6.56076717376709,
          -6.448914527893066,
          -4.93688440322876,
          -5.353741645812988,
          -6.774296283721924,
          -2.4410805702209473,
          -4.592984676361084,
          -4.859807968139648,
          -5.728851795196533,
          -7.2657694816589355,
          -5.10951566696167,
          -0.8687341213226318,
          -6.870899200439453,
          -2.9102249145507812,
          -4.787342548370361,
          -5.389703273773193,
          -3.9628028869628906,
          -0.27594462037086487,
          -0.8738327622413635,
          -5.198167324066162,
          -1.808327078819275,
          -5.247620105743408,
          -0.17167557775974274,
          -7.0331830978393555,
          -3.0588269233703613,
          -2.928022861480713,
          -2.0905683040618896,
          -2.2218925952911377,
          -3.739457368850708,
          -2.3107118606567383,
          -1.4226442575454712,
          -0.962225079536438,
          -5.602634429931641,
          -2.997206449508667,
          -1.750691533088684,
          -3.205193281173706,
          -7.646256446838379,
          -7.5157599449157715,
          -5.941165924072266,
          -7.639776229858398,
          -8.060653686523438,
          -6.3867950439453125,
          -6.8067474365234375,
          -7.535359859466553,
          -8.471683502197266,
          -6.7313432693481445,
          -2.2778425216674805,
          -5.970193386077881,
          -5.836040496826172,
          -5.6153998374938965,
          -8.112473487854004,
          -6.473084449768066,
          -7.344359874725342,
          -7.591369152069092,
          -6.459980010986328,
          -8.588122367858887,
          -7.718404769897461,
          1.0972355604171753,
          -6.735990047454834,
          -8.134339332580566,
          -0.6399176120758057,
          -6.878783702850342
         ],
         "y": [
          2.0159802436828613,
          5.720204830169678,
          0.5312249660491943,
          1.1970030069351196,
          3.9705448150634766,
          3.1288464069366455,
          4.569110870361328,
          -0.16537895798683167,
          4.420754432678223,
          -0.6153542995452881,
          2.7964701652526855,
          2.671926498413086,
          3.3506298065185547,
          7.116888523101807,
          3.4292287826538086,
          5.0360822677612305,
          -0.7013228535652161,
          3.836571216583252,
          1.4953745603561401,
          5.245613098144531,
          7.282111167907715,
          4.585607051849365,
          5.5697760581970215,
          6.434725284576416,
          3.0588371753692627,
          3.1370041370391846,
          6.593080520629883,
          6.633962631225586,
          -0.6487736105918884,
          4.381856918334961,
          0.4541134536266327,
          2.9611213207244873,
          2.9557790756225586,
          -0.5778040885925293,
          2.361522912979126,
          2.079538583755493,
          4.3274617195129395,
          3.49066424369812,
          5.744742393493652,
          4.496860980987549,
          5.480149745941162,
          2.2478525638580322,
          4.366451263427734,
          0.06730207800865173,
          -0.20852325856685638,
          3.586229085922241,
          3.194474697113037,
          1.0666372776031494,
          2.880403995513916,
          0.4319923520088196,
          4.511256694793701,
          0.5316151976585388,
          0.2265579253435135,
          1.8894602060317993,
          1.5220648050308228,
          3.5300819873809814,
          2.586205005645752,
          1.7389366626739502,
          2.4500858783721924,
          2.96366810798645,
          5.234051704406738,
          0.45331424474716187,
          -0.03782719001173973,
          2.457183361053467,
          4.761960983276367,
          3.905829906463623,
          2.095308303833008,
          5.2471842765808105,
          0.6413925886154175,
          5.940047740936279,
          3.064136028289795,
          0.9155642986297607,
          0.6817901134490967,
          0.11887015402317047,
          2.6132044792175293,
          3.4205708503723145,
          4.468225479125977,
          7.002345561981201,
          1.220302700996399,
          0.968596339225769,
          3.8411781787872314,
          3.6634442806243896,
          1.628490924835205,
          1.993632197380066,
          6.1097283363342285,
          2.3020875453948975,
          2.4413862228393555,
          5.515000343322754,
          -0.7751303911209106,
          4.029646396636963,
          5.483905792236328,
          0.7939381003379822,
          0.1539973020553589,
          2.5657382011413574,
          5.815642356872559,
          3.7361583709716797,
          -0.7409871816635132,
          5.17707633972168,
          0.6132628321647644,
          4.452735424041748,
          1.4609088897705078,
          1.0269010066986084,
          2.103271722793579,
          1.502428412437439,
          0.835267186164856,
          3.607529401779175,
          -0.7518053650856018,
          0.8217975497245789,
          5.295722007751465,
          2.8858015537261963,
          5.667088985443115,
          3.4978220462799072,
          0.29307809472084045,
          3.629537343978882,
          5.8232035636901855,
          4.570744514465332,
          4.962278366088867,
          2.86122465133667,
          2.931945562362671,
          4.1263227462768555,
          1.4738119840621948,
          4.699230670928955,
          3.8917031288146973,
          -0.15142053365707397,
          -0.6272965669631958,
          0.9583171606063843,
          1.4229153394699097,
          4.374130725860596,
          3.1879873275756836,
          3.805708408355713,
          4.071113109588623,
          4.936025619506836,
          1.4086189270019531,
          1.4503525495529175,
          2.9363763332366943,
          3.4112038612365723,
          6.118053913116455,
          6.420071601867676,
          1.204107642173767,
          6.240131855010986,
          4.799606800079346,
          1.6708999872207642,
          3.3290998935699463,
          1.9999828338623047,
          7.434828758239746,
          4.770888328552246,
          4.745202541351318,
          5.9538254737854,
          6.078316688537598,
          1.2046209573745728,
          7.558012962341309,
          7.121150016784668,
          6.740934371948242,
          6.211475372314453,
          5.5143656730651855,
          7.3225417137146,
          1.9319349527359009,
          4.519619464874268,
          1.2681622505187988,
          7.5008134841918945,
          2.9722869396209717,
          6.314393520355225
         ],
         "z": [
          7.623159885406494,
          2.851788282394409,
          0.7425222396850586,
          1.5788713693618774,
          6.939828395843506,
          3.967068672180176,
          3.364363193511963,
          4.168792724609375,
          6.9397172927856445,
          4.009586811065674,
          4.793294906616211,
          6.509133338928223,
          1.6499216556549072,
          9.073390007019043,
          4.239336967468262,
          0.4044502079486847,
          1.5520926713943481,
          4.551918983459473,
          8.403694152832031,
          0.01465789694339037,
          6.225855350494385,
          2.888740062713623,
          9.374507904052734,
          7.25209903717041,
          1.1311076879501343,
          7.4194231033325195,
          3.0126521587371826,
          10.522046089172363,
          1.1399180889129639,
          9.736114501953125,
          3.1423449516296387,
          5.018208980560303,
          6.218576431274414,
          2.1745493412017822,
          0.7615384459495544,
          0.7736905813217163,
          7.662580490112305,
          4.538351535797119,
          3.865293502807617,
          6.063266277313232,
          2.0885555744171143,
          0.8156806826591492,
          0.8004122376441956,
          2.723067283630371,
          5.0119218826293945,
          10.053820610046387,
          1.7143813371658325,
          7.140608310699463,
          6.223445415496826,
          3.120508909225464,
          3.7766261100769043,
          4.3455328941345215,
          5.24534273147583,
          4.22351598739624,
          3.5420897006988525,
          6.735923767089844,
          7.414395332336426,
          3.4313559532165527,
          9.276664733886719,
          5.624707221984863,
          4.3625922203063965,
          4.860270977020264,
          5.041434288024902,
          8.441557884216309,
          6.192399024963379,
          3.1389224529266357,
          6.606871128082275,
          2.870302438735962,
          4.699422359466553,
          4.936148166656494,
          3.568246841430664,
          3.013782501220703,
          1.1250594854354858,
          5.5647053718566895,
          5.299048900604248,
          3.9417691230773926,
          1.535192608833313,
          7.885587215423584,
          3.9380741119384766,
          6.613858222961426,
          5.012712478637695,
          1.2248133420944214,
          6.971776008605957,
          7.943188190460205,
          4.232558250427246,
          7.372373104095459,
          3.4076156616210938,
          3.9585657119750977,
          2.9176793098449707,
          6.369638442993164,
          7.179845809936523,
          2.7144765853881836,
          4.334995269775391,
          6.856229305267334,
          3.9950203895568848,
          6.9333953857421875,
          2.557645320892334,
          7.109854698181152,
          3.459254503250122,
          6.493696689605713,
          10.498397827148438,
          3.319810628890991,
          4.292918682098389,
          7.012166976928711,
          1.1369032859802246,
          4.850434303283691,
          3.7800657749176025,
          6.898207187652588,
          2.8932063579559326,
          5.393133640289307,
          3.1539437770843506,
          4.258577823638916,
          0.941245973110199,
          4.917852401733398,
          4.7378950119018555,
          2.319801092147827,
          0.5525668263435364,
          0.9565773010253906,
          2.6370649337768555,
          6.122309684753418,
          7.368656158447266,
          1.6458865404129028,
          1.3883094787597656,
          0.6682506799697876,
          3.5333549976348877,
          7.180068492889404,
          7.261989116668701,
          5.043373107910156,
          6.378309726715088,
          1.3208094835281372,
          1.073317527770996,
          6.82497501373291,
          3.784712791442871,
          3.1757562160491943,
          1.5166337490081787,
          5.251198768615723,
          9.402436256408691,
          9.5576810836792,
          10.812007904052734,
          8.880653381347656,
          2.7142069339752197,
          10.415063858032227,
          10.005376815795898,
          8.366971969604492,
          5.86861515045166,
          9.073844909667969,
          7.072452068328857,
          8.289559364318848,
          8.206500053405762,
          10.83082389831543,
          6.7000250816345215,
          6.6193671226501465,
          9.764411926269531,
          10.21850299835205,
          8.225412368774414,
          5.412947177886963,
          8.684651374816895,
          3.260054349899292,
          10.53336238861084,
          6.7345356941223145,
          8.274625778198242,
          7.8626484870910645
         ]
        },
        {
         "marker": {
          "opacity": 0.8,
          "size": 4
         },
         "mode": "markers",
         "type": "scatter3d",
         "x": [
          -1.3140970468521118,
          -5.192994117736816,
          -5.616009712219238,
          -3.9658286571502686,
          -5.5050458908081055,
          -4.4201860427856445,
          -3.4079010486602783,
          -0.44466081261634827,
          -5.082018852233887,
          -1.1760305166244507,
          -1.57939612865448,
          -8.472356796264648,
          -9.150489807128906,
          -8.069801330566406,
          -2.660339117050171,
          -3.2473878860473633,
          -7.703686714172363,
          -6.392557621002197,
          -4.5370564460754395,
          -2.5204226970672607,
          -5.352269172668457,
          -6.005311012268066,
          -0.195978045463562,
          -5.3292107582092285,
          -5.430791854858398,
          -5.486293792724609,
          -3.342844247817993,
          -3.2038846015930176,
          -6.623797416687012,
          -1.0783621072769165,
          -4.87645959854126,
          -1.652884602546692,
          -4.992633819580078,
          -0.034877628087997437,
          -5.659765243530273,
          0.15726572275161743,
          -3.341796398162842,
          -2.6220476627349854,
          -9.900274276733398,
          -1.8932170867919922,
          0.29004722833633423,
          -3.5600290298461914,
          -1.7191869020462036,
          1.9331821203231812,
          -0.5116313099861145,
          -3.8592100143432617,
          -2.7020413875579834,
          -3.165506601333618,
          -3.692446708679199,
          -0.5545312762260437,
          0.5299907922744751,
          -8.67332935333252,
          -2.7618207931518555,
          -9.860440254211426,
          -5.986876487731934,
          -9.07004451751709,
          -0.32097551226615906,
          -9.779194831848145,
          -5.810343265533447,
          -8.496749877929688,
          -0.7722588181495667,
          -0.8740713596343994,
          -7.502575874328613,
          1.0792361497879028,
          -0.7806150913238525,
          -4.15463399887085,
          -4.554271221160889,
          -3.001971483230591,
          -5.277902603149414,
          -0.5675272941589355,
          0.2231774479150772,
          -4.535407543182373,
          -4.183764457702637,
          2.8540234565734863,
          -3.261350154876709,
          -5.091994285583496,
          -2.501803159713745,
          -2.101444959640503,
          -1.8384743928909302,
          1.9087674617767334,
          0.861283540725708,
          -1.696932315826416,
          1.5812718868255615,
          -6.781206130981445,
          2.511676549911499,
          -3.6239161491394043,
          -1.600144863128662,
          -4.1007490158081055,
          -0.07553279399871826,
          -1.4544055461883545,
          -2.3713948726654053,
          -7.699106693267822,
          -2.876345634460449,
          -1.6933914422988892,
          -0.6304529905319214,
          -4.000630855560303,
          -2.890191078186035,
          0.7455844879150391,
          1.6996698379516602,
          1.561282992362976,
          -2.512744426727295,
          -4.058434963226318,
          -2.9781813621520996,
          -2.919689893722534,
          -1.4868066310882568,
          2.2249417304992676,
          -3.168297529220581,
          -2.5812509059906006,
          -0.0035895654000341892,
          -2.889801025390625,
          -4.139959335327148,
          -5.379470348358154,
          -2.920175313949585
         ],
         "y": [
          -0.022441228851675987,
          -0.7492949962615967,
          -2.6855380535125732,
          1.3040121793746948,
          -0.9600521326065063,
          -0.47590920329093933,
          -0.6679052114486694,
          0.979609489440918,
          -0.1441887766122818,
          -0.0608622282743454,
          0.17262527346611023,
          -2.3031516075134277,
          -1.8034265041351318,
          -0.6184768676757812,
          1.0852762460708618,
          -4.001647472381592,
          -1.2912026643753052,
          -2.5643181800842285,
          -1.6697850227355957,
          -7.642768859863281,
          -2.615542411804199,
          -0.4395871162414551,
          -2.910830020904541,
          -2.6293959617614746,
          -0.8442766666412354,
          -1.1184616088867188,
          -4.830596446990967,
          -3.5785841941833496,
          -0.6418586373329163,
          -1.9710174798965454,
          -2.0995984077453613,
          -0.4571595788002014,
          -4.593847274780273,
          -2.183454751968384,
          -3.4973232746124268,
          -8.747382164001465,
          -4.122286319732666,
          -1.6095978021621704,
          -2.972484827041626,
          -4.656686782836914,
          -0.8199862241744995,
          -1.133579969406128,
          -2.4810845851898193,
          -0.8942169547080994,
          0.7585479021072388,
          -0.2688595950603485,
          -0.5939467549324036,
          -5.451606273651123,
          -0.21153296530246735,
          0.8153230547904968,
          1.719334363937378,
          -2.5887563228607178,
          1.1375685930252075,
          -2.8985376358032227,
          -0.8733094930648804,
          -1.559443712234497,
          -0.4528624415397644,
          -3.114506483078003,
          -0.9012497067451477,
          -1.1003310680389404,
          0.6338734030723572,
          -0.03696423023939133,
          -0.7517865300178528,
          -4.625756740570068,
          -0.30265602469444275,
          -2.456890344619751,
          0.048694100230932236,
          -1.1100050210952759,
          -1.692103385925293,
          -1.9663108587265015,
          -1.9380167722702026,
          -2.3395228385925293,
          -2.753978729248047,
          -1.115317702293396,
          -2.302619695663452,
          -3.1695685386657715,
          -1.3054113388061523,
          -3.880751609802246,
          -7.783791542053223,
          -0.32150185108184814,
          -0.525929868221283,
          -3.3675553798675537,
          -1.121042013168335,
          -0.37216895818710327,
          -2.2541964054107666,
          -2.2700250148773193,
          -7.309178829193115,
          -2.7625675201416016,
          -2.8711650371551514,
          -7.236713886260986,
          -1.1666169166564941,
          -1.5256497859954834,
          -6.254394054412842,
          -4.44911003112793,
          -5.580085277557373,
          -3.346726417541504,
          -4.153719425201416,
          1.793125867843628,
          -1.2970885038375854,
          -7.009164333343506,
          -4.533968925476074,
          -2.7332193851470947,
          -2.0227432250976562,
          -6.214315891265869,
          0.37896451354026794,
          -1.4191852807998657,
          -2.5186920166015625,
          -4.402198791503906,
          -7.788963317871094,
          -3.8976199626922607,
          -2.9838292598724365,
          -0.9533785581588745,
          -4.149484634399414
         ],
         "z": [
          -3.1711182594299316,
          -6.228228569030762,
          -2.5899477005004883,
          -2.9737749099731445,
          -7.587395191192627,
          -4.386728286743164,
          -4.335968494415283,
          -1.6100878715515137,
          -7.122983455657959,
          -4.879520416259766,
          -3.4141359329223633,
          -7.130064010620117,
          -9.027953147888184,
          -8.57180118560791,
          -3.3346540927886963,
          -3.6066880226135254,
          -0.6867947578430176,
          -6.674685955047607,
          0.9567064046859741,
          -4.309228420257568,
          -8.628657341003418,
          -7.465390682220459,
          -1.5064657926559448,
          -8.649303436279297,
          0.7965318560600281,
          -7.861163139343262,
          -3.8875300884246826,
          -3.931328296661377,
          -5.913788795471191,
          -4.649079322814941,
          -6.148451805114746,
          -4.094651222229004,
          -6.393630504608154,
          -2.6844820976257324,
          -1.7645868062973022,
          -4.669826030731201,
          -7.941313743591309,
          -1.5336382389068604,
          -8.258432388305664,
          -1.3359965085983276,
          -3.7178847789764404,
          -10.015944480895996,
          -9.14339542388916,
          -3.1609506607055664,
          -1.9715259075164795,
          -4.26772403717041,
          -3.795565605163574,
          -3.6889150142669678,
          -4.545243263244629,
          -0.933957040309906,
          -2.40095591545105,
          -7.124495506286621,
          -3.2641804218292236,
          -8.298540115356445,
          -6.247982025146484,
          -9.840056419372559,
          -4.254090785980225,
          -7.87760591506958,
          0.47486186027526855,
          -9.457592964172363,
          0.6553699374198914,
          -3.1271133422851562,
          -0.14755979180335999,
          -6.151548862457275,
          -4.00900936126709,
          0.38627564907073975,
          -3.568744421005249,
          -8.46264934539795,
          -6.292238235473633,
          -4.274718761444092,
          -4.307760238647461,
          -5.928334712982178,
          -1.9409921169281006,
          -4.644235610961914,
          -1.0771433115005493,
          -1.9522137641906738,
          -2.107377290725708,
          -8.49993896484375,
          -4.109410285949707,
          -4.8286871910095215,
          -4.568172931671143,
          -9.102524757385254,
          -4.369997501373291,
          -5.558726787567139,
          -3.780641555786133,
          -4.994991779327393,
          -1.85235595703125,
          -3.662686824798584,
          -1.4864805936813354,
          -2.1392743587493896,
          -2.945258140563965,
          -0.8944036364555359,
          -3.579042434692383,
          -1.3780819177627563,
          -3.9845283031463623,
          -0.17295020818710327,
          -7.052197456359863,
          -2.5849926471710205,
          -4.316529750823975,
          -3.3607280254364014,
          -2.5728061199188232,
          -3.8180904388427734,
          -1.236124873161316,
          -3.4917967319488525,
          -5.552797794342041,
          -4.186811447143555,
          -0.6328293085098267,
          -2.7643232345581055,
          -6.656223773956299,
          -7.610867500305176,
          -3.690236806869507,
          -5.959648609161377,
          -7.006537437438965
         ]
        }
       ],
       "layout": {
        "legend": {
         "font": {
          "size": 18
         }
        },
        "template": {
         "data": {
          "bar": [
           {
            "error_x": {
             "color": "#2a3f5f"
            },
            "error_y": {
             "color": "#2a3f5f"
            },
            "marker": {
             "line": {
              "color": "#E5ECF6",
              "width": 0.5
             },
             "pattern": {
              "fillmode": "overlay",
              "size": 10,
              "solidity": 0.2
             }
            },
            "type": "bar"
           }
          ],
          "barpolar": [
           {
            "marker": {
             "line": {
              "color": "#E5ECF6",
              "width": 0.5
             },
             "pattern": {
              "fillmode": "overlay",
              "size": 10,
              "solidity": 0.2
             }
            },
            "type": "barpolar"
           }
          ],
          "carpet": [
           {
            "aaxis": {
             "endlinecolor": "#2a3f5f",
             "gridcolor": "white",
             "linecolor": "white",
             "minorgridcolor": "white",
             "startlinecolor": "#2a3f5f"
            },
            "baxis": {
             "endlinecolor": "#2a3f5f",
             "gridcolor": "white",
             "linecolor": "white",
             "minorgridcolor": "white",
             "startlinecolor": "#2a3f5f"
            },
            "type": "carpet"
           }
          ],
          "choropleth": [
           {
            "colorbar": {
             "outlinewidth": 0,
             "ticks": ""
            },
            "type": "choropleth"
           }
          ],
          "contour": [
           {
            "colorbar": {
             "outlinewidth": 0,
             "ticks": ""
            },
            "colorscale": [
             [
              0,
              "#0d0887"
             ],
             [
              0.1111111111111111,
              "#46039f"
             ],
             [
              0.2222222222222222,
              "#7201a8"
             ],
             [
              0.3333333333333333,
              "#9c179e"
             ],
             [
              0.4444444444444444,
              "#bd3786"
             ],
             [
              0.5555555555555556,
              "#d8576b"
             ],
             [
              0.6666666666666666,
              "#ed7953"
             ],
             [
              0.7777777777777778,
              "#fb9f3a"
             ],
             [
              0.8888888888888888,
              "#fdca26"
             ],
             [
              1,
              "#f0f921"
             ]
            ],
            "type": "contour"
           }
          ],
          "contourcarpet": [
           {
            "colorbar": {
             "outlinewidth": 0,
             "ticks": ""
            },
            "type": "contourcarpet"
           }
          ],
          "heatmap": [
           {
            "colorbar": {
             "outlinewidth": 0,
             "ticks": ""
            },
            "colorscale": [
             [
              0,
              "#0d0887"
             ],
             [
              0.1111111111111111,
              "#46039f"
             ],
             [
              0.2222222222222222,
              "#7201a8"
             ],
             [
              0.3333333333333333,
              "#9c179e"
             ],
             [
              0.4444444444444444,
              "#bd3786"
             ],
             [
              0.5555555555555556,
              "#d8576b"
             ],
             [
              0.6666666666666666,
              "#ed7953"
             ],
             [
              0.7777777777777778,
              "#fb9f3a"
             ],
             [
              0.8888888888888888,
              "#fdca26"
             ],
             [
              1,
              "#f0f921"
             ]
            ],
            "type": "heatmap"
           }
          ],
          "heatmapgl": [
           {
            "colorbar": {
             "outlinewidth": 0,
             "ticks": ""
            },
            "colorscale": [
             [
              0,
              "#0d0887"
             ],
             [
              0.1111111111111111,
              "#46039f"
             ],
             [
              0.2222222222222222,
              "#7201a8"
             ],
             [
              0.3333333333333333,
              "#9c179e"
             ],
             [
              0.4444444444444444,
              "#bd3786"
             ],
             [
              0.5555555555555556,
              "#d8576b"
             ],
             [
              0.6666666666666666,
              "#ed7953"
             ],
             [
              0.7777777777777778,
              "#fb9f3a"
             ],
             [
              0.8888888888888888,
              "#fdca26"
             ],
             [
              1,
              "#f0f921"
             ]
            ],
            "type": "heatmapgl"
           }
          ],
          "histogram": [
           {
            "marker": {
             "pattern": {
              "fillmode": "overlay",
              "size": 10,
              "solidity": 0.2
             }
            },
            "type": "histogram"
           }
          ],
          "histogram2d": [
           {
            "colorbar": {
             "outlinewidth": 0,
             "ticks": ""
            },
            "colorscale": [
             [
              0,
              "#0d0887"
             ],
             [
              0.1111111111111111,
              "#46039f"
             ],
             [
              0.2222222222222222,
              "#7201a8"
             ],
             [
              0.3333333333333333,
              "#9c179e"
             ],
             [
              0.4444444444444444,
              "#bd3786"
             ],
             [
              0.5555555555555556,
              "#d8576b"
             ],
             [
              0.6666666666666666,
              "#ed7953"
             ],
             [
              0.7777777777777778,
              "#fb9f3a"
             ],
             [
              0.8888888888888888,
              "#fdca26"
             ],
             [
              1,
              "#f0f921"
             ]
            ],
            "type": "histogram2d"
           }
          ],
          "histogram2dcontour": [
           {
            "colorbar": {
             "outlinewidth": 0,
             "ticks": ""
            },
            "colorscale": [
             [
              0,
              "#0d0887"
             ],
             [
              0.1111111111111111,
              "#46039f"
             ],
             [
              0.2222222222222222,
              "#7201a8"
             ],
             [
              0.3333333333333333,
              "#9c179e"
             ],
             [
              0.4444444444444444,
              "#bd3786"
             ],
             [
              0.5555555555555556,
              "#d8576b"
             ],
             [
              0.6666666666666666,
              "#ed7953"
             ],
             [
              0.7777777777777778,
              "#fb9f3a"
             ],
             [
              0.8888888888888888,
              "#fdca26"
             ],
             [
              1,
              "#f0f921"
             ]
            ],
            "type": "histogram2dcontour"
           }
          ],
          "mesh3d": [
           {
            "colorbar": {
             "outlinewidth": 0,
             "ticks": ""
            },
            "type": "mesh3d"
           }
          ],
          "parcoords": [
           {
            "line": {
             "colorbar": {
              "outlinewidth": 0,
              "ticks": ""
             }
            },
            "type": "parcoords"
           }
          ],
          "pie": [
           {
            "automargin": true,
            "type": "pie"
           }
          ],
          "scatter": [
           {
            "fillpattern": {
             "fillmode": "overlay",
             "size": 10,
             "solidity": 0.2
            },
            "type": "scatter"
           }
          ],
          "scatter3d": [
           {
            "line": {
             "colorbar": {
              "outlinewidth": 0,
              "ticks": ""
             }
            },
            "marker": {
             "colorbar": {
              "outlinewidth": 0,
              "ticks": ""
             }
            },
            "type": "scatter3d"
           }
          ],
          "scattercarpet": [
           {
            "marker": {
             "colorbar": {
              "outlinewidth": 0,
              "ticks": ""
             }
            },
            "type": "scattercarpet"
           }
          ],
          "scattergeo": [
           {
            "marker": {
             "colorbar": {
              "outlinewidth": 0,
              "ticks": ""
             }
            },
            "type": "scattergeo"
           }
          ],
          "scattergl": [
           {
            "marker": {
             "colorbar": {
              "outlinewidth": 0,
              "ticks": ""
             }
            },
            "type": "scattergl"
           }
          ],
          "scattermapbox": [
           {
            "marker": {
             "colorbar": {
              "outlinewidth": 0,
              "ticks": ""
             }
            },
            "type": "scattermapbox"
           }
          ],
          "scatterpolar": [
           {
            "marker": {
             "colorbar": {
              "outlinewidth": 0,
              "ticks": ""
             }
            },
            "type": "scatterpolar"
           }
          ],
          "scatterpolargl": [
           {
            "marker": {
             "colorbar": {
              "outlinewidth": 0,
              "ticks": ""
             }
            },
            "type": "scatterpolargl"
           }
          ],
          "scatterternary": [
           {
            "marker": {
             "colorbar": {
              "outlinewidth": 0,
              "ticks": ""
             }
            },
            "type": "scatterternary"
           }
          ],
          "surface": [
           {
            "colorbar": {
             "outlinewidth": 0,
             "ticks": ""
            },
            "colorscale": [
             [
              0,
              "#0d0887"
             ],
             [
              0.1111111111111111,
              "#46039f"
             ],
             [
              0.2222222222222222,
              "#7201a8"
             ],
             [
              0.3333333333333333,
              "#9c179e"
             ],
             [
              0.4444444444444444,
              "#bd3786"
             ],
             [
              0.5555555555555556,
              "#d8576b"
             ],
             [
              0.6666666666666666,
              "#ed7953"
             ],
             [
              0.7777777777777778,
              "#fb9f3a"
             ],
             [
              0.8888888888888888,
              "#fdca26"
             ],
             [
              1,
              "#f0f921"
             ]
            ],
            "type": "surface"
           }
          ],
          "table": [
           {
            "cells": {
             "fill": {
              "color": "#EBF0F8"
             },
             "line": {
              "color": "white"
             }
            },
            "header": {
             "fill": {
              "color": "#C8D4E3"
             },
             "line": {
              "color": "white"
             }
            },
            "type": "table"
           }
          ]
         },
         "layout": {
          "annotationdefaults": {
           "arrowcolor": "#2a3f5f",
           "arrowhead": 0,
           "arrowwidth": 1
          },
          "autotypenumbers": "strict",
          "coloraxis": {
           "colorbar": {
            "outlinewidth": 0,
            "ticks": ""
           }
          },
          "colorscale": {
           "diverging": [
            [
             0,
             "#8e0152"
            ],
            [
             0.1,
             "#c51b7d"
            ],
            [
             0.2,
             "#de77ae"
            ],
            [
             0.3,
             "#f1b6da"
            ],
            [
             0.4,
             "#fde0ef"
            ],
            [
             0.5,
             "#f7f7f7"
            ],
            [
             0.6,
             "#e6f5d0"
            ],
            [
             0.7,
             "#b8e186"
            ],
            [
             0.8,
             "#7fbc41"
            ],
            [
             0.9,
             "#4d9221"
            ],
            [
             1,
             "#276419"
            ]
           ],
           "sequential": [
            [
             0,
             "#0d0887"
            ],
            [
             0.1111111111111111,
             "#46039f"
            ],
            [
             0.2222222222222222,
             "#7201a8"
            ],
            [
             0.3333333333333333,
             "#9c179e"
            ],
            [
             0.4444444444444444,
             "#bd3786"
            ],
            [
             0.5555555555555556,
             "#d8576b"
            ],
            [
             0.6666666666666666,
             "#ed7953"
            ],
            [
             0.7777777777777778,
             "#fb9f3a"
            ],
            [
             0.8888888888888888,
             "#fdca26"
            ],
            [
             1,
             "#f0f921"
            ]
           ],
           "sequentialminus": [
            [
             0,
             "#0d0887"
            ],
            [
             0.1111111111111111,
             "#46039f"
            ],
            [
             0.2222222222222222,
             "#7201a8"
            ],
            [
             0.3333333333333333,
             "#9c179e"
            ],
            [
             0.4444444444444444,
             "#bd3786"
            ],
            [
             0.5555555555555556,
             "#d8576b"
            ],
            [
             0.6666666666666666,
             "#ed7953"
            ],
            [
             0.7777777777777778,
             "#fb9f3a"
            ],
            [
             0.8888888888888888,
             "#fdca26"
            ],
            [
             1,
             "#f0f921"
            ]
           ]
          },
          "colorway": [
           "#636efa",
           "#EF553B",
           "#00cc96",
           "#ab63fa",
           "#FFA15A",
           "#19d3f3",
           "#FF6692",
           "#B6E880",
           "#FF97FF",
           "#FECB52"
          ],
          "font": {
           "color": "#2a3f5f"
          },
          "geo": {
           "bgcolor": "white",
           "lakecolor": "white",
           "landcolor": "#E5ECF6",
           "showlakes": true,
           "showland": true,
           "subunitcolor": "white"
          },
          "hoverlabel": {
           "align": "left"
          },
          "hovermode": "closest",
          "mapbox": {
           "style": "light"
          },
          "paper_bgcolor": "white",
          "plot_bgcolor": "#E5ECF6",
          "polar": {
           "angularaxis": {
            "gridcolor": "white",
            "linecolor": "white",
            "ticks": ""
           },
           "bgcolor": "#E5ECF6",
           "radialaxis": {
            "gridcolor": "white",
            "linecolor": "white",
            "ticks": ""
           }
          },
          "scene": {
           "xaxis": {
            "backgroundcolor": "#E5ECF6",
            "gridcolor": "white",
            "gridwidth": 2,
            "linecolor": "white",
            "showbackground": true,
            "ticks": "",
            "zerolinecolor": "white"
           },
           "yaxis": {
            "backgroundcolor": "#E5ECF6",
            "gridcolor": "white",
            "gridwidth": 2,
            "linecolor": "white",
            "showbackground": true,
            "ticks": "",
            "zerolinecolor": "white"
           },
           "zaxis": {
            "backgroundcolor": "#E5ECF6",
            "gridcolor": "white",
            "gridwidth": 2,
            "linecolor": "white",
            "showbackground": true,
            "ticks": "",
            "zerolinecolor": "white"
           }
          },
          "shapedefaults": {
           "line": {
            "color": "#2a3f5f"
           }
          },
          "ternary": {
           "aaxis": {
            "gridcolor": "white",
            "linecolor": "white",
            "ticks": ""
           },
           "baxis": {
            "gridcolor": "white",
            "linecolor": "white",
            "ticks": ""
           },
           "bgcolor": "#E5ECF6",
           "caxis": {
            "gridcolor": "white",
            "linecolor": "white",
            "ticks": ""
           }
          },
          "title": {
           "x": 0.05
          },
          "xaxis": {
           "automargin": true,
           "gridcolor": "white",
           "linecolor": "white",
           "ticks": "",
           "title": {
            "standoff": 15
           },
           "zerolinecolor": "white",
           "zerolinewidth": 2
          },
          "yaxis": {
           "automargin": true,
           "gridcolor": "white",
           "linecolor": "white",
           "ticks": "",
           "title": {
            "standoff": 15
           },
           "zerolinecolor": "white",
           "zerolinewidth": 2
          }
         }
        }
       }
      },
      "text/html": [
       "<div>                            <div id=\"e996687f-4e26-447d-986f-83824ccc3a68\" class=\"plotly-graph-div\" style=\"height:525px; width:100%;\"></div>            <script type=\"text/javascript\">                require([\"plotly\"], function(Plotly) {                    window.PLOTLYENV=window.PLOTLYENV || {};                                    if (document.getElementById(\"e996687f-4e26-447d-986f-83824ccc3a68\")) {                    Plotly.newPlot(                        \"e996687f-4e26-447d-986f-83824ccc3a68\",                        [{\"marker\":{\"opacity\":0.8,\"size\":4},\"mode\":\"markers\",\"x\":[1.1494238376617432,6.668885231018066,7.743635654449463,1.1890933513641357,1.0035003423690796,5.906755447387695,6.834685325622559,11.080806732177734,4.176023006439209,3.263761520385742,3.2324602603912354,4.194210529327393,2.7115705013275146,5.835559368133545,5.37740421295166,6.435220241546631,6.612796783447266,7.074500560760498,6.8930864334106445,3.663069486618042,5.958436012268066,7.432026386260986,4.999574184417725,8.92302131652832,7.643822193145752,2.5809004306793213,9.636579513549805,6.85064172744751,3.4887826442718506,6.264122486114502,2.212848663330078,6.5367302894592285,2.830500602722168,1.4310438632965088,5.209395408630371,5.261693954467773,1.2918834686279297,2.329240560531616,6.16817045211792,4.502415180206299,3.001887559890747,10.306230545043945,8.486431121826172,2.033716917037964,2.596865653991699,1.2621208429336548,9.733198165893555,3.060887336730957,1.1346129179000854,8.447443962097168,8.83989429473877,9.246710777282715,3.948537826538086,9.879843711853027,5.538943290710449,5.489055633544922,10.704489707946777,6.2600250244140625,1.9951286315917969,6.7227325439453125,4.845610618591309,2.991541624069214,9.256863594055176,10.22391414642334,6.373942852020264,4.1573920249938965,5.3457136154174805,5.209231853485107,2.0514848232269287,5.087323188781738,2.1821062564849854,5.181140422821045,1.8598339557647705,1.4795981645584106,2.336237668991089,7.461748123168945,6.698739528656006,9.265110969543457,2.0338499546051025,0.5180630087852478,9.531522750854492,2.446209192276001,1.1475173234939575,1.691394329071045,2.054694652557373,8.583586692810059,7.674166679382324,8.968437194824219,5.254978656768799,6.844831466674805,5.761537551879883,4.485663414001465,4.248190879821777,7.677306175231934,6.962502956390381,6.269691467285156,4.4693379402160645,6.755460262298584,3.3253331184387207,10.071921348571777,8.727029800415039,10.99771499633789,7.337432861328125,10.06946849822998,2.856250524520874,5.308321952819824,5.6100029945373535,3.513993263244629,8.239880561828613,7.026284694671631,10.02695083618164,6.30190896987915,10.730537414550781,3.7357349395751953,10.717607498168945,9.26122760772705,9.588532447814941,9.742111206054688,10.60102653503418,8.343402862548828,6.179929256439209,6.121607780456543,6.306406021118164,5.56619930267334,6.389599323272705,10.182302474975586,6.170604228973389,9.525437355041504,9.061528205871582,2.5887365341186523,6.046496868133545,5.658321857452393,5.121732711791992,7.56252908706665,6.86366081237793,5.46673583984375,11.009221076965332,9.729433059692383,5.836034297943115,8.852417945861816,7.866154193878174],\"y\":[0.6108261942863464,0.8800124526023865,-3.671393871307373,0.01948692463338375,1.0958718061447144,1.6469022035598755,0.6214581727981567,2.228640079498291,-0.23494012653827667,0.035038962960243225,0.24316230416297913,-0.3467871844768524,-1.4320350885391235,1.5174895524978638,-3.967827320098877,1.124138593673706,-0.15419688820838928,-2.6169562339782715,-0.02643320895731449,0.480638712644577,-3.705409049987793,1.7350000143051147,2.6875953674316406,1.8974542617797852,3.0192158222198486,-3.448024034500122,4.463639736175537,0.319782018661499,-1.4865591526031494,2.7980971336364746,0.859688401222229,0.2268190085887909,-0.016711028292775154,2.4593515396118164,-3.0901036262512207,-2.356257915496826,2.5219225883483887,0.28348520398139954,0.7336822748184204,0.207485631108284,-0.15850140154361725,3.497161626815796,3.5654399394989014,-1.1075115203857422,1.185262680053711,2.902303695678711,3.318002223968506,0.787417471408844,-1.0578663349151611,2.9456350803375244,2.93733811378479,3.0524280071258545,1.157730221748352,2.284799337387085,1.1864473819732666,3.0236523151397705,2.67584228515625,-3.399604558944702,1.8657983541488647,0.6223906874656677,2.839139699935913,0.8526330590248108,2.6143851280212402,2.2411136627197266,0.14198651909828186,0.2899310290813446,-2.9866445064544678,-1.348601222038269,3.262781858444214,-0.509056568145752,0.8227701783180237,1.7176705598831177,3.4470977783203125,2.517319679260254,-1.3487640619277954,0.9102634787559509,0.7939017415046692,0.9953926205635071,1.1068390607833862,1.044051170349121,2.6226165294647217,-0.5110507011413574,3.3306784629821777,1.8341220617294312,0.8156840801239014,1.2376561164855957,2.5526576042175293,0.5260580778121948,-0.05515717715024948,-2.5699453353881836,-0.07962017506361008,0.30757665634155273,0.855660080909729,1.4857453107833862,0.684651792049408,3.106551170349121,-0.36108165979385376,-1.453067660331726,0.2876111567020416,1.7062973976135254,2.0841333866119385,3.061826229095459,0.6088948249816895,2.633669853210449,-0.5416591167449951,-0.09169722348451614,-0.13929465413093567,0.35910463333129883,1.4453809261322021,-0.010445849038660526,2.939704418182373,0.904356837272644,2.9896185398101807,-0.5948976278305054,2.934356212615967,3.187256336212158,0.9447076320648193,0.640241801738739,3.71535325050354,2.8845953941345215,0.38578298687934875,2.6602160930633545,0.07700631767511368,1.715156078338623,2.6535332202911377,3.4176645278930664,1.844815969467163,0.858288586139679,2.778589963912964,-3.140580177307129,2.6025235652923584,2.0128226280212402,-4.202962398529053,0.7807350158691406,-2.207951545715332,-3.172687292098999,0.9808710217475891,3.5801355838775635,2.612067461013794,2.4036107063293457,0.5588770508766174],\"z\":[2.4973812103271484,-1.2916431427001953,-1.060072422027588,0.6346958875656128,0.2269241064786911,2.2495155334472656,4.218444347381592,2.8724522590637207,3.214462995529175,3.170518636703491,2.9286742210388184,-3.228881359100342,-2.931755304336548,-4.656738758087158,-1.2628743648529053,-2.8925113677978516,-1.383010745048523,-0.5413525104522705,-0.4435500502586365,3.3687214851379395,-2.0442371368408203,-4.4728922843933105,1.9879224300384521,2.842442274093628,0.5498759150505066,-1.257745623588562,2.1849024295806885,0.1805647909641266,-2.0759150981903076,4.342982769012451,-1.001215934753418,5.279053688049316,-1.4979346990585327,-0.3530782163143158,0.05057418346405029,0.3290838599205017,2.264191150665283,-1.5629156827926636,0.9777856469154358,1.623785376548767,0.22691956162452698,4.237679958343506,3.2191972732543945,-0.31624889373779297,1.186830759048462,1.7015421390533447,6.457335948944092,1.9130226373672485,0.3183928430080414,3.9619622230529785,5.844122409820557,6.2690887451171875,1.1511374711990356,6.156252861022949,4.054433345794678,5.826565265655518,1.5791648626327515,0.7475085258483887,0.5422621965408325,4.266929626464844,1.9980509281158447,1.937340259552002,6.23399543762207,6.162900447845459,5.404175758361816,1.9317545890808105,0.05061604455113411,0.9075136780738831,1.2889949083328247,1.5177719593048096,0.43546542525291443,-0.37179484963417053,1.1879820823669434,0.46874091029167175,-0.45064777135849,-2.3415393829345703,-1.0850046873092651,1.8875616788864136,-0.10025589168071747,0.8268822431564331,0.7335241436958313,-0.9008669853210449,1.1868586540222168,0.6416359543800354,-0.12167560309171677,-1.858280062675476,0.39591678977012634,-2.231985330581665,-3.7341980934143066,-0.960486650466919,-3.45729660987854,-5.451150417327881,-5.524017333984375,-4.153600215911865,-0.6163411140441895,3.9787049293518066,-3.1798746585845947,-1.4239764213562012,-5.164571285247803,0.7427828907966614,0.016056125983595848,-0.4004867374897003,-1.814168095588684,0.5481467247009277,-3.87078595161438,-3.7178404331207275,-3.500413179397583,-5.201125144958496,-4.065938472747803,-2.5794999599456787,0.2922061085700989,-3.0963306427001953,0.661136269569397,-2.7547287940979004,0.7703746557235718,1.9640506505966187,1.2898818254470825,0.9186318516731262,4.375790119171143,5.120135307312012,1.2755630016326904,6.641825199127197,5.569417953491211,4.085122585296631,6.62615966796875,3.761018991470337,-1.7998775243759155,0.9364607334136963,3.7738187313079834,-1.5100706815719604,6.86064338684082,2.1335346698760986,-4.223867416381836,3.6857383251190186,-1.0731581449508667,-1.3414976596832275,1.573254108428955,1.5955524444580078,4.580501079559326,0.6242921352386475,-1.9619141817092896],\"type\":\"scatter3d\"},{\"marker\":{\"opacity\":0.8,\"size\":4},\"mode\":\"markers\",\"x\":[-3.4035143852233887,-2.168929100036621,-5.875274658203125,-4.635366916656494,-2.5527493953704834,-2.3772215843200684,1.0217236280441284,-2.4849424362182617,-4.269370079040527,-3.6440227031707764,-1.9719079732894897,-3.723506212234497,-0.8162011504173279,-6.8975830078125,-0.615206241607666,-4.170915603637695,-4.427411079406738,0.5723807215690613,-3.1280884742736816,-4.636834144592285,-6.413303852081299,-7.86342191696167,-5.74316930770874,-6.592665195465088,-4.635241985321045,-2.044851303100586,-5.277612209320068,-6.960842609405518,-4.568112850189209,-5.259039402008057,-0.46587416529655457,-7.485414028167725,-6.575243949890137,-4.375245094299316,-4.947669982910156,-5.204449653625488,-4.077784538269043,-1.1511987447738647,-6.36883544921875,-6.5604352951049805,-1.2776631116867065,-5.081652641296387,-2.6465814113616943,-0.23359231650829315,-3.273951768875122,-6.773125171661377,-2.988661766052246,-2.791447401046753,-5.242936611175537,0.36340126395225525,-7.439728736877441,-2.6823623180389404,-2.7586452960968018,-4.37045431137085,-2.892071485519409,-8.323062896728516,-2.3557796478271484,-3.046572685241699,-5.427224636077881,-8.2752685546875,-7.451338291168213,-1.412186861038208,-1.1187596321105957,-5.631227970123291,-7.3515143394470215,-1.0082390308380127,-5.197135925292969,-2.0707812309265137,-1.3794010877609253,-5.546376705169678,-6.165701389312744,-6.630317211151123,-0.9300287365913391,-4.620925426483154,-1.7671782970428467,-0.6600268483161926,-4.3929948806762695,-4.993440628051758,-2.880269765853882,-6.316837787628174,-8.18006706237793,0.19498440623283386,-6.9175848960876465,-7.270933151245117,-7.908114433288574,-6.014995098114014,-5.99162483215332,-7.325170040130615,-4.069806098937988,-5.596215724945068,-5.511988639831543,-1.0373908281326294,-3.8670639991760254,-6.954530239105225,-4.50695276260376,-8.289871215820312,-4.15101432800293,-2.4389638900756836,-0.8093082308769226,-4.00827169418335,-6.56076717376709,-6.448914527893066,-4.93688440322876,-5.353741645812988,-6.774296283721924,-2.4410805702209473,-4.592984676361084,-4.859807968139648,-5.728851795196533,-7.2657694816589355,-5.10951566696167,-0.8687341213226318,-6.870899200439453,-2.9102249145507812,-4.787342548370361,-5.389703273773193,-3.9628028869628906,-0.27594462037086487,-0.8738327622413635,-5.198167324066162,-1.808327078819275,-5.247620105743408,-0.17167557775974274,-7.0331830978393555,-3.0588269233703613,-2.928022861480713,-2.0905683040618896,-2.2218925952911377,-3.739457368850708,-2.3107118606567383,-1.4226442575454712,-0.962225079536438,-5.602634429931641,-2.997206449508667,-1.750691533088684,-3.205193281173706,-7.646256446838379,-7.5157599449157715,-5.941165924072266,-7.639776229858398,-8.060653686523438,-6.3867950439453125,-6.8067474365234375,-7.535359859466553,-8.471683502197266,-6.7313432693481445,-2.2778425216674805,-5.970193386077881,-5.836040496826172,-5.6153998374938965,-8.112473487854004,-6.473084449768066,-7.344359874725342,-7.591369152069092,-6.459980010986328,-8.588122367858887,-7.718404769897461,1.0972355604171753,-6.735990047454834,-8.134339332580566,-0.6399176120758057,-6.878783702850342],\"y\":[2.0159802436828613,5.720204830169678,0.5312249660491943,1.1970030069351196,3.9705448150634766,3.1288464069366455,4.569110870361328,-0.16537895798683167,4.420754432678223,-0.6153542995452881,2.7964701652526855,2.671926498413086,3.3506298065185547,7.116888523101807,3.4292287826538086,5.0360822677612305,-0.7013228535652161,3.836571216583252,1.4953745603561401,5.245613098144531,7.282111167907715,4.585607051849365,5.5697760581970215,6.434725284576416,3.0588371753692627,3.1370041370391846,6.593080520629883,6.633962631225586,-0.6487736105918884,4.381856918334961,0.4541134536266327,2.9611213207244873,2.9557790756225586,-0.5778040885925293,2.361522912979126,2.079538583755493,4.3274617195129395,3.49066424369812,5.744742393493652,4.496860980987549,5.480149745941162,2.2478525638580322,4.366451263427734,0.06730207800865173,-0.20852325856685638,3.586229085922241,3.194474697113037,1.0666372776031494,2.880403995513916,0.4319923520088196,4.511256694793701,0.5316151976585388,0.2265579253435135,1.8894602060317993,1.5220648050308228,3.5300819873809814,2.586205005645752,1.7389366626739502,2.4500858783721924,2.96366810798645,5.234051704406738,0.45331424474716187,-0.03782719001173973,2.457183361053467,4.761960983276367,3.905829906463623,2.095308303833008,5.2471842765808105,0.6413925886154175,5.940047740936279,3.064136028289795,0.9155642986297607,0.6817901134490967,0.11887015402317047,2.6132044792175293,3.4205708503723145,4.468225479125977,7.002345561981201,1.220302700996399,0.968596339225769,3.8411781787872314,3.6634442806243896,1.628490924835205,1.993632197380066,6.1097283363342285,2.3020875453948975,2.4413862228393555,5.515000343322754,-0.7751303911209106,4.029646396636963,5.483905792236328,0.7939381003379822,0.1539973020553589,2.5657382011413574,5.815642356872559,3.7361583709716797,-0.7409871816635132,5.17707633972168,0.6132628321647644,4.452735424041748,1.4609088897705078,1.0269010066986084,2.103271722793579,1.502428412437439,0.835267186164856,3.607529401779175,-0.7518053650856018,0.8217975497245789,5.295722007751465,2.8858015537261963,5.667088985443115,3.4978220462799072,0.29307809472084045,3.629537343978882,5.8232035636901855,4.570744514465332,4.962278366088867,2.86122465133667,2.931945562362671,4.1263227462768555,1.4738119840621948,4.699230670928955,3.8917031288146973,-0.15142053365707397,-0.6272965669631958,0.9583171606063843,1.4229153394699097,4.374130725860596,3.1879873275756836,3.805708408355713,4.071113109588623,4.936025619506836,1.4086189270019531,1.4503525495529175,2.9363763332366943,3.4112038612365723,6.118053913116455,6.420071601867676,1.204107642173767,6.240131855010986,4.799606800079346,1.6708999872207642,3.3290998935699463,1.9999828338623047,7.434828758239746,4.770888328552246,4.745202541351318,5.9538254737854,6.078316688537598,1.2046209573745728,7.558012962341309,7.121150016784668,6.740934371948242,6.211475372314453,5.5143656730651855,7.3225417137146,1.9319349527359009,4.519619464874268,1.2681622505187988,7.5008134841918945,2.9722869396209717,6.314393520355225],\"z\":[7.623159885406494,2.851788282394409,0.7425222396850586,1.5788713693618774,6.939828395843506,3.967068672180176,3.364363193511963,4.168792724609375,6.9397172927856445,4.009586811065674,4.793294906616211,6.509133338928223,1.6499216556549072,9.073390007019043,4.239336967468262,0.4044502079486847,1.5520926713943481,4.551918983459473,8.403694152832031,0.01465789694339037,6.225855350494385,2.888740062713623,9.374507904052734,7.25209903717041,1.1311076879501343,7.4194231033325195,3.0126521587371826,10.522046089172363,1.1399180889129639,9.736114501953125,3.1423449516296387,5.018208980560303,6.218576431274414,2.1745493412017822,0.7615384459495544,0.7736905813217163,7.662580490112305,4.538351535797119,3.865293502807617,6.063266277313232,2.0885555744171143,0.8156806826591492,0.8004122376441956,2.723067283630371,5.0119218826293945,10.053820610046387,1.7143813371658325,7.140608310699463,6.223445415496826,3.120508909225464,3.7766261100769043,4.3455328941345215,5.24534273147583,4.22351598739624,3.5420897006988525,6.735923767089844,7.414395332336426,3.4313559532165527,9.276664733886719,5.624707221984863,4.3625922203063965,4.860270977020264,5.041434288024902,8.441557884216309,6.192399024963379,3.1389224529266357,6.606871128082275,2.870302438735962,4.699422359466553,4.936148166656494,3.568246841430664,3.013782501220703,1.1250594854354858,5.5647053718566895,5.299048900604248,3.9417691230773926,1.535192608833313,7.885587215423584,3.9380741119384766,6.613858222961426,5.012712478637695,1.2248133420944214,6.971776008605957,7.943188190460205,4.232558250427246,7.372373104095459,3.4076156616210938,3.9585657119750977,2.9176793098449707,6.369638442993164,7.179845809936523,2.7144765853881836,4.334995269775391,6.856229305267334,3.9950203895568848,6.9333953857421875,2.557645320892334,7.109854698181152,3.459254503250122,6.493696689605713,10.498397827148438,3.319810628890991,4.292918682098389,7.012166976928711,1.1369032859802246,4.850434303283691,3.7800657749176025,6.898207187652588,2.8932063579559326,5.393133640289307,3.1539437770843506,4.258577823638916,0.941245973110199,4.917852401733398,4.7378950119018555,2.319801092147827,0.5525668263435364,0.9565773010253906,2.6370649337768555,6.122309684753418,7.368656158447266,1.6458865404129028,1.3883094787597656,0.6682506799697876,3.5333549976348877,7.180068492889404,7.261989116668701,5.043373107910156,6.378309726715088,1.3208094835281372,1.073317527770996,6.82497501373291,3.784712791442871,3.1757562160491943,1.5166337490081787,5.251198768615723,9.402436256408691,9.5576810836792,10.812007904052734,8.880653381347656,2.7142069339752197,10.415063858032227,10.005376815795898,8.366971969604492,5.86861515045166,9.073844909667969,7.072452068328857,8.289559364318848,8.206500053405762,10.83082389831543,6.7000250816345215,6.6193671226501465,9.764411926269531,10.21850299835205,8.225412368774414,5.412947177886963,8.684651374816895,3.260054349899292,10.53336238861084,6.7345356941223145,8.274625778198242,7.8626484870910645],\"type\":\"scatter3d\"},{\"marker\":{\"opacity\":0.8,\"size\":4},\"mode\":\"markers\",\"x\":[-1.3140970468521118,-5.192994117736816,-5.616009712219238,-3.9658286571502686,-5.5050458908081055,-4.4201860427856445,-3.4079010486602783,-0.44466081261634827,-5.082018852233887,-1.1760305166244507,-1.57939612865448,-8.472356796264648,-9.150489807128906,-8.069801330566406,-2.660339117050171,-3.2473878860473633,-7.703686714172363,-6.392557621002197,-4.5370564460754395,-2.5204226970672607,-5.352269172668457,-6.005311012268066,-0.195978045463562,-5.3292107582092285,-5.430791854858398,-5.486293792724609,-3.342844247817993,-3.2038846015930176,-6.623797416687012,-1.0783621072769165,-4.87645959854126,-1.652884602546692,-4.992633819580078,-0.034877628087997437,-5.659765243530273,0.15726572275161743,-3.341796398162842,-2.6220476627349854,-9.900274276733398,-1.8932170867919922,0.29004722833633423,-3.5600290298461914,-1.7191869020462036,1.9331821203231812,-0.5116313099861145,-3.8592100143432617,-2.7020413875579834,-3.165506601333618,-3.692446708679199,-0.5545312762260437,0.5299907922744751,-8.67332935333252,-2.7618207931518555,-9.860440254211426,-5.986876487731934,-9.07004451751709,-0.32097551226615906,-9.779194831848145,-5.810343265533447,-8.496749877929688,-0.7722588181495667,-0.8740713596343994,-7.502575874328613,1.0792361497879028,-0.7806150913238525,-4.15463399887085,-4.554271221160889,-3.001971483230591,-5.277902603149414,-0.5675272941589355,0.2231774479150772,-4.535407543182373,-4.183764457702637,2.8540234565734863,-3.261350154876709,-5.091994285583496,-2.501803159713745,-2.101444959640503,-1.8384743928909302,1.9087674617767334,0.861283540725708,-1.696932315826416,1.5812718868255615,-6.781206130981445,2.511676549911499,-3.6239161491394043,-1.600144863128662,-4.1007490158081055,-0.07553279399871826,-1.4544055461883545,-2.3713948726654053,-7.699106693267822,-2.876345634460449,-1.6933914422988892,-0.6304529905319214,-4.000630855560303,-2.890191078186035,0.7455844879150391,1.6996698379516602,1.561282992362976,-2.512744426727295,-4.058434963226318,-2.9781813621520996,-2.919689893722534,-1.4868066310882568,2.2249417304992676,-3.168297529220581,-2.5812509059906006,-0.0035895654000341892,-2.889801025390625,-4.139959335327148,-5.379470348358154,-2.920175313949585],\"y\":[-0.022441228851675987,-0.7492949962615967,-2.6855380535125732,1.3040121793746948,-0.9600521326065063,-0.47590920329093933,-0.6679052114486694,0.979609489440918,-0.1441887766122818,-0.0608622282743454,0.17262527346611023,-2.3031516075134277,-1.8034265041351318,-0.6184768676757812,1.0852762460708618,-4.001647472381592,-1.2912026643753052,-2.5643181800842285,-1.6697850227355957,-7.642768859863281,-2.615542411804199,-0.4395871162414551,-2.910830020904541,-2.6293959617614746,-0.8442766666412354,-1.1184616088867188,-4.830596446990967,-3.5785841941833496,-0.6418586373329163,-1.9710174798965454,-2.0995984077453613,-0.4571595788002014,-4.593847274780273,-2.183454751968384,-3.4973232746124268,-8.747382164001465,-4.122286319732666,-1.6095978021621704,-2.972484827041626,-4.656686782836914,-0.8199862241744995,-1.133579969406128,-2.4810845851898193,-0.8942169547080994,0.7585479021072388,-0.2688595950603485,-0.5939467549324036,-5.451606273651123,-0.21153296530246735,0.8153230547904968,1.719334363937378,-2.5887563228607178,1.1375685930252075,-2.8985376358032227,-0.8733094930648804,-1.559443712234497,-0.4528624415397644,-3.114506483078003,-0.9012497067451477,-1.1003310680389404,0.6338734030723572,-0.03696423023939133,-0.7517865300178528,-4.625756740570068,-0.30265602469444275,-2.456890344619751,0.048694100230932236,-1.1100050210952759,-1.692103385925293,-1.9663108587265015,-1.9380167722702026,-2.3395228385925293,-2.753978729248047,-1.115317702293396,-2.302619695663452,-3.1695685386657715,-1.3054113388061523,-3.880751609802246,-7.783791542053223,-0.32150185108184814,-0.525929868221283,-3.3675553798675537,-1.121042013168335,-0.37216895818710327,-2.2541964054107666,-2.2700250148773193,-7.309178829193115,-2.7625675201416016,-2.8711650371551514,-7.236713886260986,-1.1666169166564941,-1.5256497859954834,-6.254394054412842,-4.44911003112793,-5.580085277557373,-3.346726417541504,-4.153719425201416,1.793125867843628,-1.2970885038375854,-7.009164333343506,-4.533968925476074,-2.7332193851470947,-2.0227432250976562,-6.214315891265869,0.37896451354026794,-1.4191852807998657,-2.5186920166015625,-4.402198791503906,-7.788963317871094,-3.8976199626922607,-2.9838292598724365,-0.9533785581588745,-4.149484634399414],\"z\":[-3.1711182594299316,-6.228228569030762,-2.5899477005004883,-2.9737749099731445,-7.587395191192627,-4.386728286743164,-4.335968494415283,-1.6100878715515137,-7.122983455657959,-4.879520416259766,-3.4141359329223633,-7.130064010620117,-9.027953147888184,-8.57180118560791,-3.3346540927886963,-3.6066880226135254,-0.6867947578430176,-6.674685955047607,0.9567064046859741,-4.309228420257568,-8.628657341003418,-7.465390682220459,-1.5064657926559448,-8.649303436279297,0.7965318560600281,-7.861163139343262,-3.8875300884246826,-3.931328296661377,-5.913788795471191,-4.649079322814941,-6.148451805114746,-4.094651222229004,-6.393630504608154,-2.6844820976257324,-1.7645868062973022,-4.669826030731201,-7.941313743591309,-1.5336382389068604,-8.258432388305664,-1.3359965085983276,-3.7178847789764404,-10.015944480895996,-9.14339542388916,-3.1609506607055664,-1.9715259075164795,-4.26772403717041,-3.795565605163574,-3.6889150142669678,-4.545243263244629,-0.933957040309906,-2.40095591545105,-7.124495506286621,-3.2641804218292236,-8.298540115356445,-6.247982025146484,-9.840056419372559,-4.254090785980225,-7.87760591506958,0.47486186027526855,-9.457592964172363,0.6553699374198914,-3.1271133422851562,-0.14755979180335999,-6.151548862457275,-4.00900936126709,0.38627564907073975,-3.568744421005249,-8.46264934539795,-6.292238235473633,-4.274718761444092,-4.307760238647461,-5.928334712982178,-1.9409921169281006,-4.644235610961914,-1.0771433115005493,-1.9522137641906738,-2.107377290725708,-8.49993896484375,-4.109410285949707,-4.8286871910095215,-4.568172931671143,-9.102524757385254,-4.369997501373291,-5.558726787567139,-3.780641555786133,-4.994991779327393,-1.85235595703125,-3.662686824798584,-1.4864805936813354,-2.1392743587493896,-2.945258140563965,-0.8944036364555359,-3.579042434692383,-1.3780819177627563,-3.9845283031463623,-0.17295020818710327,-7.052197456359863,-2.5849926471710205,-4.316529750823975,-3.3607280254364014,-2.5728061199188232,-3.8180904388427734,-1.236124873161316,-3.4917967319488525,-5.552797794342041,-4.186811447143555,-0.6328293085098267,-2.7643232345581055,-6.656223773956299,-7.610867500305176,-3.690236806869507,-5.959648609161377,-7.006537437438965],\"type\":\"scatter3d\"}],                        {\"template\":{\"data\":{\"histogram2dcontour\":[{\"type\":\"histogram2dcontour\",\"colorbar\":{\"outlinewidth\":0,\"ticks\":\"\"},\"colorscale\":[[0.0,\"#0d0887\"],[0.1111111111111111,\"#46039f\"],[0.2222222222222222,\"#7201a8\"],[0.3333333333333333,\"#9c179e\"],[0.4444444444444444,\"#bd3786\"],[0.5555555555555556,\"#d8576b\"],[0.6666666666666666,\"#ed7953\"],[0.7777777777777778,\"#fb9f3a\"],[0.8888888888888888,\"#fdca26\"],[1.0,\"#f0f921\"]]}],\"choropleth\":[{\"type\":\"choropleth\",\"colorbar\":{\"outlinewidth\":0,\"ticks\":\"\"}}],\"histogram2d\":[{\"type\":\"histogram2d\",\"colorbar\":{\"outlinewidth\":0,\"ticks\":\"\"},\"colorscale\":[[0.0,\"#0d0887\"],[0.1111111111111111,\"#46039f\"],[0.2222222222222222,\"#7201a8\"],[0.3333333333333333,\"#9c179e\"],[0.4444444444444444,\"#bd3786\"],[0.5555555555555556,\"#d8576b\"],[0.6666666666666666,\"#ed7953\"],[0.7777777777777778,\"#fb9f3a\"],[0.8888888888888888,\"#fdca26\"],[1.0,\"#f0f921\"]]}],\"heatmap\":[{\"type\":\"heatmap\",\"colorbar\":{\"outlinewidth\":0,\"ticks\":\"\"},\"colorscale\":[[0.0,\"#0d0887\"],[0.1111111111111111,\"#46039f\"],[0.2222222222222222,\"#7201a8\"],[0.3333333333333333,\"#9c179e\"],[0.4444444444444444,\"#bd3786\"],[0.5555555555555556,\"#d8576b\"],[0.6666666666666666,\"#ed7953\"],[0.7777777777777778,\"#fb9f3a\"],[0.8888888888888888,\"#fdca26\"],[1.0,\"#f0f921\"]]}],\"heatmapgl\":[{\"type\":\"heatmapgl\",\"colorbar\":{\"outlinewidth\":0,\"ticks\":\"\"},\"colorscale\":[[0.0,\"#0d0887\"],[0.1111111111111111,\"#46039f\"],[0.2222222222222222,\"#7201a8\"],[0.3333333333333333,\"#9c179e\"],[0.4444444444444444,\"#bd3786\"],[0.5555555555555556,\"#d8576b\"],[0.6666666666666666,\"#ed7953\"],[0.7777777777777778,\"#fb9f3a\"],[0.8888888888888888,\"#fdca26\"],[1.0,\"#f0f921\"]]}],\"contourcarpet\":[{\"type\":\"contourcarpet\",\"colorbar\":{\"outlinewidth\":0,\"ticks\":\"\"}}],\"contour\":[{\"type\":\"contour\",\"colorbar\":{\"outlinewidth\":0,\"ticks\":\"\"},\"colorscale\":[[0.0,\"#0d0887\"],[0.1111111111111111,\"#46039f\"],[0.2222222222222222,\"#7201a8\"],[0.3333333333333333,\"#9c179e\"],[0.4444444444444444,\"#bd3786\"],[0.5555555555555556,\"#d8576b\"],[0.6666666666666666,\"#ed7953\"],[0.7777777777777778,\"#fb9f3a\"],[0.8888888888888888,\"#fdca26\"],[1.0,\"#f0f921\"]]}],\"surface\":[{\"type\":\"surface\",\"colorbar\":{\"outlinewidth\":0,\"ticks\":\"\"},\"colorscale\":[[0.0,\"#0d0887\"],[0.1111111111111111,\"#46039f\"],[0.2222222222222222,\"#7201a8\"],[0.3333333333333333,\"#9c179e\"],[0.4444444444444444,\"#bd3786\"],[0.5555555555555556,\"#d8576b\"],[0.6666666666666666,\"#ed7953\"],[0.7777777777777778,\"#fb9f3a\"],[0.8888888888888888,\"#fdca26\"],[1.0,\"#f0f921\"]]}],\"mesh3d\":[{\"type\":\"mesh3d\",\"colorbar\":{\"outlinewidth\":0,\"ticks\":\"\"}}],\"scatter\":[{\"fillpattern\":{\"fillmode\":\"overlay\",\"size\":10,\"solidity\":0.2},\"type\":\"scatter\"}],\"parcoords\":[{\"type\":\"parcoords\",\"line\":{\"colorbar\":{\"outlinewidth\":0,\"ticks\":\"\"}}}],\"scatterpolargl\":[{\"type\":\"scatterpolargl\",\"marker\":{\"colorbar\":{\"outlinewidth\":0,\"ticks\":\"\"}}}],\"bar\":[{\"error_x\":{\"color\":\"#2a3f5f\"},\"error_y\":{\"color\":\"#2a3f5f\"},\"marker\":{\"line\":{\"color\":\"#E5ECF6\",\"width\":0.5},\"pattern\":{\"fillmode\":\"overlay\",\"size\":10,\"solidity\":0.2}},\"type\":\"bar\"}],\"scattergeo\":[{\"type\":\"scattergeo\",\"marker\":{\"colorbar\":{\"outlinewidth\":0,\"ticks\":\"\"}}}],\"scatterpolar\":[{\"type\":\"scatterpolar\",\"marker\":{\"colorbar\":{\"outlinewidth\":0,\"ticks\":\"\"}}}],\"histogram\":[{\"marker\":{\"pattern\":{\"fillmode\":\"overlay\",\"size\":10,\"solidity\":0.2}},\"type\":\"histogram\"}],\"scattergl\":[{\"type\":\"scattergl\",\"marker\":{\"colorbar\":{\"outlinewidth\":0,\"ticks\":\"\"}}}],\"scatter3d\":[{\"type\":\"scatter3d\",\"line\":{\"colorbar\":{\"outlinewidth\":0,\"ticks\":\"\"}},\"marker\":{\"colorbar\":{\"outlinewidth\":0,\"ticks\":\"\"}}}],\"scattermapbox\":[{\"type\":\"scattermapbox\",\"marker\":{\"colorbar\":{\"outlinewidth\":0,\"ticks\":\"\"}}}],\"scatterternary\":[{\"type\":\"scatterternary\",\"marker\":{\"colorbar\":{\"outlinewidth\":0,\"ticks\":\"\"}}}],\"scattercarpet\":[{\"type\":\"scattercarpet\",\"marker\":{\"colorbar\":{\"outlinewidth\":0,\"ticks\":\"\"}}}],\"carpet\":[{\"aaxis\":{\"endlinecolor\":\"#2a3f5f\",\"gridcolor\":\"white\",\"linecolor\":\"white\",\"minorgridcolor\":\"white\",\"startlinecolor\":\"#2a3f5f\"},\"baxis\":{\"endlinecolor\":\"#2a3f5f\",\"gridcolor\":\"white\",\"linecolor\":\"white\",\"minorgridcolor\":\"white\",\"startlinecolor\":\"#2a3f5f\"},\"type\":\"carpet\"}],\"table\":[{\"cells\":{\"fill\":{\"color\":\"#EBF0F8\"},\"line\":{\"color\":\"white\"}},\"header\":{\"fill\":{\"color\":\"#C8D4E3\"},\"line\":{\"color\":\"white\"}},\"type\":\"table\"}],\"barpolar\":[{\"marker\":{\"line\":{\"color\":\"#E5ECF6\",\"width\":0.5},\"pattern\":{\"fillmode\":\"overlay\",\"size\":10,\"solidity\":0.2}},\"type\":\"barpolar\"}],\"pie\":[{\"automargin\":true,\"type\":\"pie\"}]},\"layout\":{\"autotypenumbers\":\"strict\",\"colorway\":[\"#636efa\",\"#EF553B\",\"#00cc96\",\"#ab63fa\",\"#FFA15A\",\"#19d3f3\",\"#FF6692\",\"#B6E880\",\"#FF97FF\",\"#FECB52\"],\"font\":{\"color\":\"#2a3f5f\"},\"hovermode\":\"closest\",\"hoverlabel\":{\"align\":\"left\"},\"paper_bgcolor\":\"white\",\"plot_bgcolor\":\"#E5ECF6\",\"polar\":{\"bgcolor\":\"#E5ECF6\",\"angularaxis\":{\"gridcolor\":\"white\",\"linecolor\":\"white\",\"ticks\":\"\"},\"radialaxis\":{\"gridcolor\":\"white\",\"linecolor\":\"white\",\"ticks\":\"\"}},\"ternary\":{\"bgcolor\":\"#E5ECF6\",\"aaxis\":{\"gridcolor\":\"white\",\"linecolor\":\"white\",\"ticks\":\"\"},\"baxis\":{\"gridcolor\":\"white\",\"linecolor\":\"white\",\"ticks\":\"\"},\"caxis\":{\"gridcolor\":\"white\",\"linecolor\":\"white\",\"ticks\":\"\"}},\"coloraxis\":{\"colorbar\":{\"outlinewidth\":0,\"ticks\":\"\"}},\"colorscale\":{\"sequential\":[[0.0,\"#0d0887\"],[0.1111111111111111,\"#46039f\"],[0.2222222222222222,\"#7201a8\"],[0.3333333333333333,\"#9c179e\"],[0.4444444444444444,\"#bd3786\"],[0.5555555555555556,\"#d8576b\"],[0.6666666666666666,\"#ed7953\"],[0.7777777777777778,\"#fb9f3a\"],[0.8888888888888888,\"#fdca26\"],[1.0,\"#f0f921\"]],\"sequentialminus\":[[0.0,\"#0d0887\"],[0.1111111111111111,\"#46039f\"],[0.2222222222222222,\"#7201a8\"],[0.3333333333333333,\"#9c179e\"],[0.4444444444444444,\"#bd3786\"],[0.5555555555555556,\"#d8576b\"],[0.6666666666666666,\"#ed7953\"],[0.7777777777777778,\"#fb9f3a\"],[0.8888888888888888,\"#fdca26\"],[1.0,\"#f0f921\"]],\"diverging\":[[0,\"#8e0152\"],[0.1,\"#c51b7d\"],[0.2,\"#de77ae\"],[0.3,\"#f1b6da\"],[0.4,\"#fde0ef\"],[0.5,\"#f7f7f7\"],[0.6,\"#e6f5d0\"],[0.7,\"#b8e186\"],[0.8,\"#7fbc41\"],[0.9,\"#4d9221\"],[1,\"#276419\"]]},\"xaxis\":{\"gridcolor\":\"white\",\"linecolor\":\"white\",\"ticks\":\"\",\"title\":{\"standoff\":15},\"zerolinecolor\":\"white\",\"automargin\":true,\"zerolinewidth\":2},\"yaxis\":{\"gridcolor\":\"white\",\"linecolor\":\"white\",\"ticks\":\"\",\"title\":{\"standoff\":15},\"zerolinecolor\":\"white\",\"automargin\":true,\"zerolinewidth\":2},\"scene\":{\"xaxis\":{\"backgroundcolor\":\"#E5ECF6\",\"gridcolor\":\"white\",\"linecolor\":\"white\",\"showbackground\":true,\"ticks\":\"\",\"zerolinecolor\":\"white\",\"gridwidth\":2},\"yaxis\":{\"backgroundcolor\":\"#E5ECF6\",\"gridcolor\":\"white\",\"linecolor\":\"white\",\"showbackground\":true,\"ticks\":\"\",\"zerolinecolor\":\"white\",\"gridwidth\":2},\"zaxis\":{\"backgroundcolor\":\"#E5ECF6\",\"gridcolor\":\"white\",\"linecolor\":\"white\",\"showbackground\":true,\"ticks\":\"\",\"zerolinecolor\":\"white\",\"gridwidth\":2}},\"shapedefaults\":{\"line\":{\"color\":\"#2a3f5f\"}},\"annotationdefaults\":{\"arrowcolor\":\"#2a3f5f\",\"arrowhead\":0,\"arrowwidth\":1},\"geo\":{\"bgcolor\":\"white\",\"landcolor\":\"#E5ECF6\",\"subunitcolor\":\"white\",\"showland\":true,\"showlakes\":true,\"lakecolor\":\"white\"},\"title\":{\"x\":0.05},\"mapbox\":{\"style\":\"light\"}}},\"legend\":{\"font\":{\"size\":18}}},                        {\"responsive\": true}                    ).then(function(){\n",
       "                            \n",
       "var gd = document.getElementById('e996687f-4e26-447d-986f-83824ccc3a68');\n",
       "var x = new MutationObserver(function (mutations, observer) {{\n",
       "        var display = window.getComputedStyle(gd).display;\n",
       "        if (!display || display === 'none') {{\n",
       "            console.log([gd, 'removed!']);\n",
       "            Plotly.purge(gd);\n",
       "            observer.disconnect();\n",
       "        }}\n",
       "}});\n",
       "\n",
       "// Listen for the removal of the full notebook cells\n",
       "var notebookContainer = gd.closest('#notebook-container');\n",
       "if (notebookContainer) {{\n",
       "    x.observe(notebookContainer, {childList: true});\n",
       "}}\n",
       "\n",
       "// Listen for the clearing of the current output cell\n",
       "var outputEl = gd.closest('.output');\n",
       "if (outputEl) {{\n",
       "    x.observe(outputEl, {childList: true});\n",
       "}}\n",
       "\n",
       "                        })                };                });            </script>        </div>"
      ]
     },
     "metadata": {},
     "output_type": "display_data"
    }
   ],
   "source": [
    "for metric in data_embedded_sel.keys():\n",
    "    kmeans = KMeans(n_clusters = 3, n_init = 'auto').fit(data_embedded_sel[metric])\n",
    "    labels = kmeans.labels_\n",
    "    all_data = []\n",
    "    for l in np.unique(labels):\n",
    "        # Create the 3D scatter plot\n",
    "        all_data.append(go.Scatter3d(\n",
    "                        x = data_embedded_sel[metric][labels == l,0],\n",
    "                        y = data_embedded_sel[metric][labels == l,1],\n",
    "                        z = data_embedded_sel[metric][labels == l,2],\n",
    "                        mode = 'markers',\n",
    "                        marker = dict(size = 4, opacity = 0.8)))\n",
    "    fig = go.Figure(data = all_data)\n",
    "    fig.update_layout(legend = dict(font = dict(size = 18)))\n",
    "    fig.show()"
   ]
  },
  {
   "cell_type": "markdown",
   "metadata": {},
   "source": [
    "###### Computing how much the clusters found using Path Distance and Radial Distance overlap"
   ]
  },
  {
   "cell_type": "code",
   "execution_count": 543,
   "metadata": {},
   "outputs": [],
   "source": [
    "k = 3\n",
    "kmeans = KMeans(n_clusters = k, n_init = 'auto').fit(data_embedded_sel['rad'])\n",
    "labels_rad = kmeans.labels_\n",
    "kmeans = KMeans(n_clusters = k, n_init = 'auto').fit(data_embedded_sel['path'])\n",
    "labels_path = kmeans.labels_"
   ]
  },
  {
   "cell_type": "code",
   "execution_count": 544,
   "metadata": {},
   "outputs": [],
   "source": [
    "sets_rad = {}\n",
    "for lab in np.unique(labels_rad):\n",
    "    sets_rad[lab] = set(np.where(labels_rad == lab)[0])\n",
    "sets_path = {}\n",
    "for lab in np.unique(labels_path):\n",
    "    sets_path[lab] = set(np.where(labels_path == lab)[0])"
   ]
  },
  {
   "cell_type": "code",
   "execution_count": 545,
   "metadata": {},
   "outputs": [],
   "source": [
    "vals_intersec = []\n",
    "for set1 in sets_rad.keys():\n",
    "    for set2 in sets_path.keys():\n",
    "        inter = sets_rad[set1].intersection(sets_path[set2])\n",
    "        vals_intersec.append(100* len(inter)/len(sets_rad[set1]))\n",
    "vals_intersec = np.asarray(vals_intersec)\n",
    "vals_intersec = np.reshape(vals_intersec, (k,k))"
   ]
  },
  {
   "cell_type": "code",
   "execution_count": 547,
   "metadata": {},
   "outputs": [
    {
     "data": {
      "image/png": "[encoded data removed]",
      "text/plain": [
       "<Figure size 432x432 with 1 Axes>"
      ]
     },
     "metadata": {},
     "output_type": "display_data"
    }
   ],
   "source": [
    "plt.figure(figsize = (6,6))\n",
    "plt.imshow(vals_intersec, aspect = 'auto', cmap = 'Blues', vmin = 0, vmax = 100)\n",
    "\n",
    "# Labels\n",
    "ax = plt.gca()\n",
    "ax.set_xticks(np.arange(k))\n",
    "ax.set_yticks(np.arange(k))\n",
    "ax.set_xticklabels(range(k), fontsize = 18, weight = 'bold')\n",
    "ax.set_yticklabels(range(k), fontsize = 18, weight = 'bold')\n",
    "plt.setp(ax.get_xticklabels(), ha = 'right', rotation_mode = 'anchor')\n",
    "plt.ylabel('Radial', fontsize = 24, weight = 'bold')\n",
    "plt.xlabel('Path', fontsize = 24, weight = 'bold')\n",
    "\n",
    "# Loop over data dimensions and create text annotations to show the percentage of percentage of predictions for each combination\n",
    "for i in range(k):\n",
    "    for j in range(k):\n",
    "        if vals_intersec[i, j] > 50:\n",
    "            text = ax.text(j, i, str(round(vals_intersec[i, j],2)) + '%', ha = 'center', va = 'center', color = 'white', fontsize = 18)\n",
    "        if vals_intersec[i, j] < 50:\n",
    "            text = ax.text(j, i, str(round(vals_intersec[i, j],2)) + '%', ha = 'center', va = 'center', color = 'black', fontsize = 18)\n",
    "\n",
    "plt.title('Intersection in \\nidentified clusters', fontsize = 28, weight = 'bold')         \n",
    "plt.savefig('../Results/Figures/Intersection_clusters_kmeans.png',dpi = 300, bbox_inches = 'tight')\n",
    "plt.show()"
   ]
  },
  {
   "cell_type": "markdown",
   "metadata": {},
   "source": []
  },
  {
   "cell_type": "code",
   "execution_count": null,
   "metadata": {},
   "outputs": [],
   "source": []
  },
  {
   "cell_type": "code",
   "execution_count": null,
   "metadata": {},
   "outputs": [],
   "source": []
  },
  {
   "cell_type": "code",
   "execution_count": null,
   "metadata": {},
   "outputs": [],
   "source": []
  }
 ],
 "metadata": {
  "kernelspec": {
   "display_name": "Python 3",
   "language": "python",
   "name": "python3"
  },
  "language_info": {
   "codemirror_mode": {
    "name": "ipython",
    "version": 3
   },
   "file_extension": ".py",
   "mimetype": "text/x-python",
   "name": "python",
   "nbconvert_exporter": "python",
   "pygments_lexer": "ipython3",
   "version": "3.8.3"
  }
 },
 "nbformat": 4,
 "nbformat_minor": 4
}
