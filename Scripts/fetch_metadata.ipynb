{
 "cells": [
  {
   "cell_type": "code",
   "execution_count": 26,
   "metadata": {},
   "outputs": [],
   "source": [
    "import os, json\n",
    "from subprocess import Popen, PIPE, STDOUT\n",
    "import pandas as pd\n",
    "import numpy as np"
   ]
  },
  {
   "cell_type": "code",
   "execution_count": 58,
   "metadata": {},
   "outputs": [],
   "source": [
    "class MorphologyData:\n",
    "    def __init__(self, master_path='regions/', json_save_dir='morph_metadata/'):\n",
    "        self.master_path = master_path\n",
    "        self.json_save_dir = json_save_dir\n",
    "        self.df = None\n",
    "        self.morpho_df = None\n",
    "        self.as_morph = None\n",
    "        self.as_metadata = None\n",
    "\n",
    "    @staticmethod\n",
    "    def check_swc(curdir):\n",
    "        for i in os.path.listdir(curdir):\n",
    "            if i.endswith('swc'):\n",
    "                return True\n",
    "        return False\n",
    "\n",
    "    def check_metadata_exists(self, name):\n",
    "        for i in os.listdir(self.json_save_dir):\n",
    "            if i == f'{name}.json':\n",
    "                return True\n",
    "        return False\n",
    "\n",
    "    def fetch_metadata(self):\n",
    "        '''\n",
    "        STEP 1: Fetch metadata from neuromorpho.org using the name of the swc file (assumed its downloaded)\n",
    "        See neuromorpho to download all the data you want, then process them here\n",
    "        '''\n",
    "\n",
    "        print(f'Extracting data from {self.master_path}')\n",
    "        for i in os.listdir(f'{self.master_path}'):\n",
    "            name = i.split('.')[0]\n",
    "            if self.check_metadata_exists(name):\n",
    "                continue\n",
    "            command = f\"sh get_from_name.sh {name} {self.json_save_dir}\"\n",
    "            process = Popen(command, shell=True, stdout=PIPE, stderr=STDOUT)\n",
    "\n",
    "            with process.stdout:\n",
    "                for line in iter(process.stdout.readline, b''):\n",
    "                    print(line.decode(\"utf-8\").strip())\n",
    "\n",
    "\n",
    "    def combine_raw_metadata(self):\n",
    "            '''\n",
    "            STEP 2: After fetching metadata in separate json files, combine them into a single csv file before preprocessing\n",
    "            '''\n",
    "            dfs = []\n",
    "            for file in os.listdir(morph_data.json_save_dir):\n",
    "                try:\n",
    "                    with open(f'{morph_data.json_save_dir}/{file}') as f:\n",
    "                        json_data = pd.json_normalize(json.loads(f.read()))\n",
    "                    dfs.append(json_data)\n",
    "                except Exception as e:\n",
    "                    print(f'{file}:{str(e)}')\n",
    "                    \n",
    "            df = pd.concat(dfs, sort=False)  # or sort=True depending on your needs\n",
    "            df.reset_index(inplace=True, drop=True)\n",
    "            #df.to_csv('morpho_metadata_raw.csv')\n",
    "            return df\n",
    "\n",
    "    def clean_metadata(self,df):\n",
    "            '''\n",
    "            STEP 3: Clean the metadata\n",
    "            Reasonings for cleaning are explained in comments per section\n",
    "            '''\n",
    "            # experiment_condition\n",
    "            ## Some column variables are depicted as lists although there is 1 element. Groupby does not like that so lets take the 1st elem\n",
    "            df['experiment_condition'] = df['experiment_condition'].apply(lambda x: x[0])\n",
    "\n",
    "            # (Skipped) Reference_doi: Some list columns have more than 1 value or No value. Lets examine those\n",
    "            #refdoi = df.copy().reference_doi\n",
    "            #refdoi.dropna(inplace=True)\n",
    "\n",
    "            # Species \n",
    "            # Somehow morphoneuro name query returns non mouse morphologies. Filter them out\n",
    "            # lets also keep track of what we have dropped\n",
    "            shouldnt_be_in_df = df[df.species!='mouse']\n",
    "            df.drop(df[df.species!='mouse'].index,inplace=True) # somehow some queries returned non mouse entries\n",
    "\n",
    "            # Domain: remove all except dsa and dsna (n=3 cells only)\n",
    "            temp_df = df[df.domain != 'Dendrites, Soma, Axon']\n",
    "            temp_df = temp_df[temp_df.domain != 'Dendrites, Soma, No Axon']\n",
    "            df.drop(temp_df.index,inplace=True)\n",
    "            shouldnt_be_in_df = pd.concat([shouldnt_be_in_df,temp_df])\n",
    "\n",
    "            # Experiment-Control Group Difference\n",
    "            df_control_group = df[df.experiment_condition == 'Control']\n",
    "            df_experiment_group = df[df.experiment_condition != 'Control']\n",
    "\n",
    "            df = df.reset_index(drop=True)\n",
    "            df2 = df.copy()\n",
    "\n",
    "            # Brain regions: Convert from list to 5 level categories\n",
    "            max_level_in_data = np.max([len(i) for i in df2['brain_region']])\n",
    "            cols_brainreg = [f'brain_region_{i}' for i in range(1,max_level_in_data+1)]\n",
    "\n",
    "            reg_df = pd.DataFrame(index=df2.index,columns=cols_brainreg)\n",
    "\n",
    "            for idx,i in df2['brain_region'].items():\n",
    "                len_i = len(i)\n",
    "                for idx2,j in enumerate(i):\n",
    "                    reg_df.iloc[idx,idx2] = j\n",
    "\n",
    "            df2 = df2.join(reg_df)\n",
    "\n",
    "            # Cell types : Similar to brain regions but we have to do it for each cell type\n",
    "            max_level_in_cell_type = np.max([len(i) for i in df['cell_type']])\n",
    "            cols_celltype = [f'cell_type_{i}' for i in range(1,max_level_in_cell_type+1)]\n",
    "            cell_type_df = pd.DataFrame(index=df2.index,columns=cols_celltype)\n",
    "\n",
    "            for idx,i in df2['cell_type'].items():\n",
    "                for idx2,j in enumerate(i):\n",
    "                    cell_type_df.iloc[idx,idx2] = j\n",
    "\n",
    "            df2 = df2.join(cell_type_df)\n",
    "\n",
    "            # Reorder columns\n",
    "            new_col_order = ['neuron_id', 'neuron_name', 'archive', 'note', 'age_scale', 'gender',\n",
    "                'age_classification', 'brain_region','brain_region_1', 'brain_region_2', 'brain_region_3', 'brain_region_4',\n",
    "                'brain_region_5', 'cell_type','cell_type_1','cell_type_2','cell_type_3', 'species', 'strain',\n",
    "                'scientific_name', 'stain', 'experiment_condition', 'protocol',\n",
    "                'slicing_direction', 'reconstruction_software', 'objective_type',\n",
    "                'original_format', 'domain', 'attributes', 'magnification',\n",
    "                'upload_date', 'deposition_date', 'shrinkage_reported',\n",
    "                'shrinkage_corrected', 'reported_value', 'reported_xy', 'reported_z',\n",
    "                'corrected_value', 'corrected_xy', 'corrected_z', 'soma_surface',\n",
    "                'surface', 'volume', 'slicing_thickness', 'min_age', 'max_age',\n",
    "                'min_weight', 'max_weight', 'png_url', 'reference_pmid',\n",
    "                'reference_doi', 'physical_Integrity', '_links.self.href',\n",
    "                '_links.measurements.href', '_links.persistence_vector.href']\n",
    "            df2 = df2[new_col_order]\n",
    "\n",
    "            # filter out non-hippocampal regions\n",
    "            shouldnt_be_in_df2 = df2[df2.brain_region_1=='retina']\n",
    "            shouldnt_be_in_df2 = pd.concat([shouldnt_be_in_df2,df2[df2.brain_region_1=='neocortex']])\n",
    "\n",
    "            df2.drop(shouldnt_be_in_df2.index,inplace=True)\n",
    "\n",
    "            na_cols = df2.columns[df2.isna().all().values]\n",
    "            df2.drop(na_cols,axis=1,inplace=True)\n",
    "\n",
    "            # fill empty values with 'Unknown'\n",
    "            df2.reset_index(inplace=True,drop=True)\n",
    "            drop_idx = np.where(df2.shrinkage_corrected=='')[0]\n",
    "            df2.loc[drop_idx,'shrinkage_corrected'] = 'Unknown'\n",
    "\n",
    "            drop_idx2 = np.where(df2.shrinkage_reported=='')[0]\n",
    "            df2.loc[drop_idx2,'shrinkage_reported'] = 'Unknown'\n",
    "\n",
    "            df2.shrinkage_reported = df2.shrinkage_reported.str.title()\n",
    "            df2.shrinkage_corrected = df2.shrinkage_corrected.str.title()\n",
    "\n",
    "            # some morphologies are from control and some experiment group. \n",
    "            # Since each process might affect the morphology, we will keep them separate\n",
    "            df2_control_group = df2[df2.experiment_condition == 'Control']\n",
    "            df2_experiment_group = df2[df2.experiment_condition != 'Control']\n",
    "            df2_control_group.reset_index(inplace=True,drop=True)\n",
    "            df2_experiment_group.reset_index(inplace=True,drop=True)\n",
    "            df2_control_group.to_csv('morpho_metadata_controls.csv')\n",
    "            df2_experiment_group.to_csv('morpho_metadata_experiments.csv')\n",
    "\n",
    "            self.cleaned_metadata = df2\n",
    "            return df2\n",
    "\n",
    "\n",
    "    def save(self,save_path='morpho_metadata_processed.csv'):\n",
    "        '''\n",
    "        STEP 4: Save the cleaned metadata\n",
    "        '''\n",
    "        self.cleaned_metadata.to_csv(save_path)"
   ]
  },
  {
   "cell_type": "code",
   "execution_count": 59,
   "metadata": {},
   "outputs": [
    {
     "name": "stdout",
     "output_type": "stream",
     "text": [
      "Extracting data from ../data/morphologies/swc30/\n",
      "--2023-05-16 19:49:59--  http://neuromorpho.org/api/neuron/data/metadata/morph_features/\n",
      "Resolving bbpproxy.epfl.ch (bbpproxy.epfl.ch)... 192.33.211.34\n",
      "Connecting to bbpproxy.epfl.ch (bbpproxy.epfl.ch)|192.33.211.34|:80... connected.\n",
      "Proxy request sent, awaiting response... 301 Moved Permanently\n",
      "Location: https://neuromorpho.org/api/neuron/data/metadata/morph_features/ [following]\n",
      "--2023-05-16 19:50:00--  https://neuromorpho.org/api/neuron/data/metadata/morph_features/\n",
      "Connecting to bbpproxy.epfl.ch (bbpproxy.epfl.ch)|192.33.211.34|:80... connected.\n",
      "Proxy request sent, awaiting response... 404 Not Found\n",
      "2023-05-16 19:50:00 ERROR 404: Not Found.\n",
      "\n",
      "get_from_name.sh: line 2: /../data/metadata/morph_features/.json: No such file or directory\n"
     ]
    }
   ],
   "source": [
    "morph_data = MorphologyData(master_path='../data/morphologies/swc30/',json_save_dir='../data/metadata/morph_features/')\n",
    "morph_data.fetch_metadata()"
   ]
  },
  {
   "cell_type": "code",
   "execution_count": 60,
   "metadata": {},
   "outputs": [
    {
     "name": "stdout",
     "output_type": "stream",
     "text": [
      "AA1257.json:Expecting value: line 1 column 1 (char 0)\n",
      "AA1319.json:Expecting value: line 1 column 1 (char 0)\n",
      "AA1182.json:Expecting value: line 1 column 1 (char 0)\n",
      "AA1133.json:Expecting value: line 1 column 1 (char 0)\n",
      "AA1304.json:Expecting value: line 1 column 1 (char 0)\n",
      "AA1122.json:Expecting value: line 1 column 1 (char 0)\n",
      "AA1249.json:Expecting value: line 1 column 1 (char 0)\n",
      "AA1302.json:Expecting value: line 1 column 1 (char 0)\n",
      "AA1136.json:Expecting value: line 1 column 1 (char 0)\n",
      "AA1248.json:Expecting value: line 1 column 1 (char 0)\n",
      "AA1286.json:Expecting value: line 1 column 1 (char 0)\n",
      "AA1123.json:Expecting value: line 1 column 1 (char 0)\n",
      "AA1143.json:Expecting value: line 1 column 1 (char 0)\n",
      "AA1160.json:Expecting value: line 1 column 1 (char 0)\n"
     ]
    }
   ],
   "source": [
    "df = morph_data.combine_raw_metadata()\n",
    "# morph_data.clean_metadata()\n",
    "# morph_data.save()"
   ]
  },
  {
   "cell_type": "code",
   "execution_count": 72,
   "metadata": {},
   "outputs": [],
   "source": [
    "df.to_csv('../data/metadata/morpho_metadata_raw.csv')"
   ]
  },
  {
   "cell_type": "code",
   "execution_count": 62,
   "metadata": {},
   "outputs": [
    {
     "data": {
      "text/html": [
       "<div>\n",
       "<style scoped>\n",
       "    .dataframe tbody tr th:only-of-type {\n",
       "        vertical-align: middle;\n",
       "    }\n",
       "\n",
       "    .dataframe tbody tr th {\n",
       "        vertical-align: top;\n",
       "    }\n",
       "\n",
       "    .dataframe thead th {\n",
       "        text-align: right;\n",
       "    }\n",
       "</style>\n",
       "<table border=\"1\" class=\"dataframe\">\n",
       "  <thead>\n",
       "    <tr style=\"text-align: right;\">\n",
       "      <th></th>\n",
       "      <th>neuron_name</th>\n",
       "      <th>cell_type</th>\n",
       "    </tr>\n",
       "  </thead>\n",
       "  <tbody>\n",
       "    <tr>\n",
       "      <th>0</th>\n",
       "      <td>AA0088</td>\n",
       "      <td>[principal cell, projection]</td>\n",
       "    </tr>\n",
       "    <tr>\n",
       "      <th>1</th>\n",
       "      <td>AA1067</td>\n",
       "      <td>[principal cell, projection]</td>\n",
       "    </tr>\n",
       "    <tr>\n",
       "      <th>2</th>\n",
       "      <td>AA0846</td>\n",
       "      <td>[principal cell, pyramidal, projection]</td>\n",
       "    </tr>\n",
       "    <tr>\n",
       "      <th>3</th>\n",
       "      <td>AA0198</td>\n",
       "      <td>[principal cell, granule, projection]</td>\n",
       "    </tr>\n",
       "    <tr>\n",
       "      <th>4</th>\n",
       "      <td>AA0779</td>\n",
       "      <td>[principal cell, projection]</td>\n",
       "    </tr>\n",
       "    <tr>\n",
       "      <th>...</th>\n",
       "      <td>...</td>\n",
       "      <td>...</td>\n",
       "    </tr>\n",
       "    <tr>\n",
       "      <th>1106</th>\n",
       "      <td>AA0692</td>\n",
       "      <td>[principal cell, projection]</td>\n",
       "    </tr>\n",
       "    <tr>\n",
       "      <th>1107</th>\n",
       "      <td>AA0630</td>\n",
       "      <td>[principal cell, projection]</td>\n",
       "    </tr>\n",
       "    <tr>\n",
       "      <th>1108</th>\n",
       "      <td>AA0355</td>\n",
       "      <td>[principal cell, projection]</td>\n",
       "    </tr>\n",
       "    <tr>\n",
       "      <th>1109</th>\n",
       "      <td>AA0328</td>\n",
       "      <td>[principal cell, projection]</td>\n",
       "    </tr>\n",
       "    <tr>\n",
       "      <th>1110</th>\n",
       "      <td>AA1062</td>\n",
       "      <td>[principal cell, projection]</td>\n",
       "    </tr>\n",
       "  </tbody>\n",
       "</table>\n",
       "<p>1111 rows × 2 columns</p>\n",
       "</div>"
      ],
      "text/plain": [
       "     neuron_name                                cell_type\n",
       "0         AA0088             [principal cell, projection]\n",
       "1         AA1067             [principal cell, projection]\n",
       "2         AA0846  [principal cell, pyramidal, projection]\n",
       "3         AA0198    [principal cell, granule, projection]\n",
       "4         AA0779             [principal cell, projection]\n",
       "...          ...                                      ...\n",
       "1106      AA0692             [principal cell, projection]\n",
       "1107      AA0630             [principal cell, projection]\n",
       "1108      AA0355             [principal cell, projection]\n",
       "1109      AA0328             [principal cell, projection]\n",
       "1110      AA1062             [principal cell, projection]\n",
       "\n",
       "[1111 rows x 2 columns]"
      ]
     },
     "execution_count": 62,
     "metadata": {},
     "output_type": "execute_result"
    }
   ],
   "source": [
    "df[['neuron_name','cell_type']]"
   ]
  },
  {
   "cell_type": "code",
   "execution_count": 70,
   "metadata": {},
   "outputs": [
    {
     "data": {
      "text/plain": [
       "949    [principal cell, granule, projection]\n",
       "Name: cell_type, dtype: object"
      ]
     },
     "execution_count": 70,
     "metadata": {},
     "output_type": "execute_result"
    }
   ],
   "source": [
    "df[df.neuron_name=='AA0573'].cell_type"
   ]
  },
  {
   "cell_type": "code",
   "execution_count": 66,
   "metadata": {},
   "outputs": [
    {
     "data": {
      "text/plain": [
       "(array(['Purkinje', 'cervicothalamic tract', 'granule', 'interneuron',\n",
       "        'principal cell', 'projection', 'pyramidal'], dtype='<U21'),\n",
       " array([  45,    1,   41,   17, 1094, 1092,  616]))"
      ]
     },
     "execution_count": 66,
     "metadata": {},
     "output_type": "execute_result"
    }
   ],
   "source": [
    "np.unique(np.concatenate(df.cell_type),return_counts=True)"
   ]
  },
  {
   "cell_type": "code",
   "execution_count": 67,
   "metadata": {},
   "outputs": [
    {
     "data": {
      "text/plain": [
       "(array([list(['interneuron']),\n",
       "        list(['principal cell', 'Purkinje', 'projection']),\n",
       "        list(['principal cell', 'granule', 'projection']),\n",
       "        list(['principal cell', 'projection']),\n",
       "        list(['principal cell', 'projection', 'cervicothalamic tract']),\n",
       "        list(['principal cell', 'projection', 'pyramidal']),\n",
       "        list(['principal cell', 'pyramidal']),\n",
       "        list(['principal cell', 'pyramidal', 'projection'])], dtype=object),\n",
       " array([ 17,  45,  41, 391,   1,   1,   2, 613]))"
      ]
     },
     "execution_count": 67,
     "metadata": {},
     "output_type": "execute_result"
    }
   ],
   "source": [
    "np.unique(df.cell_type,return_counts=True)"
   ]
  },
  {
   "cell_type": "code",
   "execution_count": 47,
   "metadata": {},
   "outputs": [
    {
     "data": {
      "text/plain": [
       "3"
      ]
     },
     "execution_count": 47,
     "metadata": {},
     "output_type": "execute_result"
    }
   ],
   "source": [
    "max([len(i) for i in df['cell_type']])"
   ]
  },
  {
   "cell_type": "code",
   "execution_count": 54,
   "metadata": {},
   "outputs": [
    {
     "data": {
      "text/plain": [
       "6"
      ]
     },
     "execution_count": 54,
     "metadata": {},
     "output_type": "execute_result"
    }
   ],
   "source": [
    "max([len(i) for i in df['brain_region']])"
   ]
  },
  {
   "cell_type": "code",
   "execution_count": 52,
   "metadata": {},
   "outputs": [
    {
     "data": {
      "text/plain": [
       "3"
      ]
     },
     "execution_count": 52,
     "metadata": {},
     "output_type": "execute_result"
    }
   ],
   "source": [
    "max_level_in_cell_type = np.max([len(i) for i in df['cell_type']])\n",
    "max_level_in_cell_type"
   ]
  }
 ],
 "metadata": {
  "kernelspec": {
   "display_name": "venv2022",
   "language": "python",
   "name": "venv2022"
  },
  "language_info": {
   "codemirror_mode": {
    "name": "ipython",
    "version": 3
   },
   "file_extension": ".py",
   "mimetype": "text/x-python",
   "name": "python",
   "nbconvert_exporter": "python",
   "pygments_lexer": "ipython3",
   "version": "3.8.3"
  }
 },
 "nbformat": 4,
 "nbformat_minor": 4
}
