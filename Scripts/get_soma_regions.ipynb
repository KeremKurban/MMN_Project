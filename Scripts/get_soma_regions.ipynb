{
 "cells": [
  {
   "cell_type": "code",
   "execution_count": 6,
   "metadata": {},
   "outputs": [],
   "source": [
    "import numpy as np\n",
    "from voxcell import VoxelData\n",
    "from voxcell.nexus.voxelbrain import Atlas\n",
    "from utils import *\n",
    "import morphio\n",
    "import neurom as nm\n",
    "from voxcell.math_utils import voxel_intersection\n",
    "import os\n",
    "from utils import idx_to_voxel_id\n",
    "import pandas as pd"
   ]
  },
  {
   "cell_type": "code",
   "execution_count": 2,
   "metadata": {},
   "outputs": [],
   "source": [
    "atlas_dir = 'data/atlas/25um/'\n",
    "hierarchy_path = f'{atlas_dir}/hierarchy.json'\n",
    "sample_morph = 'data/morphologies/swc30/AA0998.swc'\n",
    "\n",
    "atlas = Atlas.open(atlas_dir)\n",
    "region_map = atlas.load_region_map()\n",
    "mask = atlas.get_region_mask('CA1')\n",
    "vd = VoxelData.load_nrrd(f'{atlas_dir}/brain_regions.nrrd')"
   ]
  },
  {
   "cell_type": "code",
   "execution_count": 3,
   "metadata": {},
   "outputs": [],
   "source": [
    "gray_matter_nonlayer_obj = ['FF', 'DN', 'SG', 'RT', 'CLI', 'LGv', 'SubG', 'PMd', 'POL', 'PAG', 'PCN', 'LSr', 'IAD', 'Eth', 'FOTU', 'SF', 'VTA', 'ANcr2', 'HY', 'TTv', 'LGd-sh', 'PH', 'SIM', 'DEC', 'VMPO', 'PAS', 'BLAp', 'IMD', 'PAR', 'ECU', 'AVP', 'FS', 'OLF', 'ANcr1', 'LGd-ip', 'IO', 'TTd', 'VCO', 'ACB', 'IPRL', 'RR', 'RE', 'CEAc', 'PVH', 'SPFm', 'PAA', 'LPO', 'LSc', 'PVi', 'GR', 'KF', 'CUN', 'FC', 'PN', 'MMp', 'RCH', 'PMv', 'Pa4', 'SPIV', 'BLAa', 'VPMpc', 'Pa5', 'LIN', 'PYR', 'MA3', 'PO', 'VLPO', 'MB', 'SUT', 'VII', 'BMAp', 'AV', 'DMH', 'PRE', 'PSV', 'RPO', 'IPN', 'SCO', 'SAG', 'VI', 'PVpo', 'MT', 'LP', 'SUB', 'MA', 'POST', 'MV', 'Acs5', 'x', 'APr', 'PPY', 'LAV', 'PPN', 'IPL', 'NTB', 'CENT2', 'PIL', 'CENT3', 'PRP', 'PST', 'AVPV', 'ZI', 'TU', 'ACVII', 'SLC', 'y', 'AT', 'SUV', 'STR', 'MS', 'CUL4, 5', 'Su3', 'MD', 'AP', 'BMAa', 'ARH', 'SMT', 'VPM', 'SCH', 'GRN', 'PRC', 'SPVC', 'IPI', 'DMX', 'VPL', 'VPLpc', 'LA', 'ME', 'NI', 'LT', 'TRS', 'LC', 'CL', 'PARN', 'AD', 'MPN', 'MEPO', 'ASO', 'TR', 'VM', 'SLD', 'VeCB', 'GPe', 'NTS', 'III', 'LRNm', 'CTXsp', 'MPO', 'CM', 'ADP', 'DTN', 'STN', 'OT', 'GPi', 'IRN', 'RPF', 'NOT', 'MARN', 'PRM', 'PDTg', 'TH', 'APN', 'MPT', 'ND', 'MH', 'LGd-co', 'SNc', 'Xi', 'COPY', 'IPR', 'SPVO', 'IGL', 'PIR', 'PeF', 'NLL', 'UVU', 'PGRNl', 'MEA', 'MEV', 'CU', 'CB', 'P', 'NR', 'OV', 'LM', 'TRN', 'XII', 'MGm', 'NOD', 'LRNp', 'RPA', 'BAC', 'IPA', 'PPT', 'LING', 'B', 'CP', 'SUM', 'AHN', 'LH', 'NB', 'MY', 'SOCl', 'BA', 'SNr', 'DCO', 'PSTN', 'PVHd', 'IPC', 'SPVI', 'PFL', 'SBPV', 'ISN', 'MRN', 'V', 'CS', 'SOCm', 'OP', 'IntG', 'AON', 'DP', 'PB', 'CEAl', 'CA1', 'PVp', 'NPC', 'POR', 'INC', 'PCG', 'ICe', 'BST', 'IAM', 'MOB', 'HATA', 'CEAm', 'PT', 'SO', 'P5', 'CLA', 'FN', 'IV', 'IA', 'I5', 'VMH', 'EW', 'FL', 'IPDM', 'PA', 'CA2', 'HPF', 'PRNr', 'PAL', 'CA3', 'SGN', 'RH', 'IPDL', 'DR', 'IF', 'RL', 'SH', 'PS', 'PD', 'COApm', 'MMm', 'MMme', 'PVa', 'LHA', 'PoT', 'ICB', 'COAa', 'ProS', 'ICc', 'LDT', 'MMl', 'COApl', 'SFO', 'VTN', 'PR', 'SI', 'RM', 'IG', 'IP', 'PP', 'RO', 'PG', 'SPFp', 'PC5', 'PBG', 'PRNc', 'NDB', 'PVT', 'PF', 'RN', 'AAA', 'VAL', 'DT', 'SPA']"
   ]
  },
  {
   "cell_type": "code",
   "execution_count": 4,
   "metadata": {},
   "outputs": [],
   "source": [
    "morphs_dir = 'data/morphologies/swc30/'"
   ]
  },
  {
   "cell_type": "code",
   "execution_count": 55,
   "metadata": {},
   "outputs": [
    {
     "name": "stdout",
     "output_type": "stream",
     "text": [
      "AA0977.swc: Out of bounds position\n",
      "AA0952.swc: Out of bounds position\n",
      "AA0964.swc: Out of bounds position\n",
      "AA0968.swc: Out of bounds position\n"
     ]
    }
   ],
   "source": [
    "morph_dict = {}\n",
    "for curmorphdir in os.listdir(morphs_dir):\n",
    "    if not curmorphdir.endswith('.swc'):\n",
    "        continue\n",
    "\n",
    "    try: \n",
    "        m = nm.load_morphology(f'{morphs_dir}/{curmorphdir}')\n",
    "        soma_pos = m.soma.points[:,:-1]\n",
    "        soma_idx = vd.positions_to_indices(soma_pos)\n",
    "        cur_soma_acronym = region_map.get(idx_to_voxel_id(vd,*soma_idx[0]), \"acronym\") \n",
    "        morph_dict[curmorphdir] = cur_soma_acronym\n",
    "    except Exception as e:\n",
    "        print(f'{curmorphdir}: {str(e)}')\n",
    "        morph_dict[curmorphdir] = np.nan"
   ]
  },
  {
   "cell_type": "code",
   "execution_count": 56,
   "metadata": {},
   "outputs": [],
   "source": [
    "df = pd.DataFrame(morph_dict,index=[0]).T\n",
    "df.columns = ['acronym']"
   ]
  },
  {
   "cell_type": "code",
   "execution_count": 57,
   "metadata": {},
   "outputs": [
    {
     "data": {
      "text/html": [
       "<div>\n",
       "<style scoped>\n",
       "    .dataframe tbody tr th:only-of-type {\n",
       "        vertical-align: middle;\n",
       "    }\n",
       "\n",
       "    .dataframe tbody tr th {\n",
       "        vertical-align: top;\n",
       "    }\n",
       "\n",
       "    .dataframe thead th {\n",
       "        text-align: right;\n",
       "    }\n",
       "</style>\n",
       "<table border=\"1\" class=\"dataframe\">\n",
       "  <thead>\n",
       "    <tr style=\"text-align: right;\">\n",
       "      <th></th>\n",
       "      <th>acronym</th>\n",
       "    </tr>\n",
       "  </thead>\n",
       "  <tbody>\n",
       "    <tr>\n",
       "      <th>AA0719.swc</th>\n",
       "      <td>VM</td>\n",
       "    </tr>\n",
       "    <tr>\n",
       "      <th>AA0253.swc</th>\n",
       "      <td>dhc</td>\n",
       "    </tr>\n",
       "    <tr>\n",
       "      <th>AA0333.swc</th>\n",
       "      <td>FRP6a</td>\n",
       "    </tr>\n",
       "    <tr>\n",
       "      <th>AA0961.swc</th>\n",
       "      <td>CENT3</td>\n",
       "    </tr>\n",
       "    <tr>\n",
       "      <th>AA0515.swc</th>\n",
       "      <td>PGRNd</td>\n",
       "    </tr>\n",
       "    <tr>\n",
       "      <th>...</th>\n",
       "      <td>...</td>\n",
       "    </tr>\n",
       "    <tr>\n",
       "      <th>AA0710.swc</th>\n",
       "      <td>PRE</td>\n",
       "    </tr>\n",
       "    <tr>\n",
       "      <th>AA0565.swc</th>\n",
       "      <td>dhc</td>\n",
       "    </tr>\n",
       "    <tr>\n",
       "      <th>AA0921.swc</th>\n",
       "      <td>VAL</td>\n",
       "    </tr>\n",
       "    <tr>\n",
       "      <th>AA0938.swc</th>\n",
       "      <td>PSTN</td>\n",
       "    </tr>\n",
       "    <tr>\n",
       "      <th>AA0489.swc</th>\n",
       "      <td>SUB</td>\n",
       "    </tr>\n",
       "  </tbody>\n",
       "</table>\n",
       "<p>1125 rows × 1 columns</p>\n",
       "</div>"
      ],
      "text/plain": [
       "           acronym\n",
       "AA0719.swc      VM\n",
       "AA0253.swc     dhc\n",
       "AA0333.swc   FRP6a\n",
       "AA0961.swc   CENT3\n",
       "AA0515.swc   PGRNd\n",
       "...            ...\n",
       "AA0710.swc     PRE\n",
       "AA0565.swc     dhc\n",
       "AA0921.swc     VAL\n",
       "AA0938.swc    PSTN\n",
       "AA0489.swc     SUB\n",
       "\n",
       "[1125 rows x 1 columns]"
      ]
     },
     "execution_count": 57,
     "metadata": {},
     "output_type": "execute_result"
    }
   ],
   "source": [
    "df"
   ]
  },
  {
   "cell_type": "code",
   "execution_count": 58,
   "metadata": {},
   "outputs": [],
   "source": [
    "df.to_csv('morph_regions.csv')"
   ]
  },
  {
   "cell_type": "code",
   "execution_count": 59,
   "metadata": {},
   "outputs": [
    {
     "name": "stdout",
     "output_type": "stream",
     "text": [
      "/gpfs/bbp.cscs.ch/project/proj142/home/kurban/MMN_Project\n"
     ]
    }
   ],
   "source": [
    "!pwd"
   ]
  },
  {
   "cell_type": "code",
   "execution_count": null,
   "metadata": {},
   "outputs": [],
   "source": []
  }
 ],
 "metadata": {
  "kernelspec": {
   "display_name": "venv2022",
   "language": "python",
   "name": "python3"
  },
  "language_info": {
   "codemirror_mode": {
    "name": "ipython",
    "version": 3
   },
   "file_extension": ".py",
   "mimetype": "text/x-python",
   "name": "python",
   "nbconvert_exporter": "python",
   "pygments_lexer": "ipython3",
   "version": "3.8.3"
  },
  "orig_nbformat": 4
 },
 "nbformat": 4,
 "nbformat_minor": 2
}
