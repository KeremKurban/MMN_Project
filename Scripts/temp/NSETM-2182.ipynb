{
 "cells": [
  {
   "cell_type": "code",
   "execution_count": 2,
   "metadata": {},
   "outputs": [],
   "source": [
    "import neurom as nm\n",
    "import morphio\n",
    "import numpy as np\n",
    "\n",
    "sample_morph = 'data/morphologies/swc30/AA0998.swc'\n",
    "\n",
    "morph = morphio.Morphology(sample_morph)\n",
    "\n",
    "m = nm.load_morphology(sample_morph)"
   ]
  },
  {
   "cell_type": "code",
   "execution_count": 3,
   "metadata": {},
   "outputs": [
    {
     "data": {
      "text/plain": [
       "(11240, 3)"
      ]
     },
     "execution_count": 3,
     "metadata": {},
     "output_type": "execute_result"
    }
   ],
   "source": [
    "axon_sec_pos = [i.points for i in m.sections if i.type.name=='axon']\n",
    "axon_sec_pos = np.concatenate(axon_sec_pos).tolist()\n",
    "# Reshape the list into a NumPy array with shape (n, 3)\n",
    "coords = np.reshape(axon_sec_pos, (-1, 3))\n",
    "coords.shape"
   ]
  },
  {
   "cell_type": "code",
   "execution_count": 4,
   "metadata": {},
   "outputs": [
    {
     "data": {
      "text/plain": [
       "(8430, 3)"
      ]
     },
     "execution_count": 4,
     "metadata": {},
     "output_type": "execute_result"
    }
   ],
   "source": [
    "axon_sec_pos = [i.points for i in morph.sections if i.type.name=='axon']\n",
    "axon_sec_pos = np.concatenate(axon_sec_pos).tolist()\n",
    "# Reshape the list into a NumPy array with shape (n, 3)\n",
    "coords = np.reshape(axon_sec_pos, (-1, 3))\n",
    "coords.shape"
   ]
  },
  {
   "cell_type": "code",
   "execution_count": null,
   "metadata": {},
   "outputs": [],
   "source": []
  }
 ],
 "metadata": {
  "kernelspec": {
   "display_name": "Python 3",
   "language": "python",
   "name": "python3"
  },
  "language_info": {
   "codemirror_mode": {
    "name": "ipython",
    "version": 3
   },
   "file_extension": ".py",
   "mimetype": "text/x-python",
   "name": "python",
   "nbconvert_exporter": "python",
   "pygments_lexer": "ipython3",
   "version": "3.8.3"
  }
 },
 "nbformat": 4,
 "nbformat_minor": 4
}
