{
 "cells": [
  {
   "cell_type": "code",
   "execution_count": null,
   "id": "59f41e4e-2d75-4997-bd55-e0d0d28aa344",
   "metadata": {},
   "outputs": [],
   "source": []
  },
  {
   "cell_type": "code",
   "execution_count": 1,
   "id": "2e498473-72b3-4176-ab61-475f0be248eb",
   "metadata": {},
   "outputs": [],
   "source": [
    "import os\n",
    "import requests\n",
    "import shutil\n",
    "import bs4\n",
    "import pandas as pd"
   ]
  },
  {
   "cell_type": "code",
   "execution_count": 31,
   "id": "634b8a97-1158-4f01-83fc-f11e0af3833f",
   "metadata": {},
   "outputs": [],
   "source": [
    "def filter_names(items, url):\n",
    "    names = []\n",
    "    for item in items:\n",
    "        s = item['href']\n",
    "        if not (s.startswith('/') or s.startswith('?')):\n",
    "            names.append(url+s)\n",
    "    return names\n",
    "        "
   ]
  },
  {
   "cell_type": "code",
   "execution_count": 2,
   "id": "b7d2f3fe-f3f5-4bb5-bcdc-78c338b570b2",
   "metadata": {},
   "outputs": [],
   "source": [
    "def isDirectory(url):\n",
    "    if(url.endswith('/')):\n",
    "        return True\n",
    "    else:\n",
    "        return False"
   ]
  },
  {
   "cell_type": "code",
   "execution_count": 3,
   "id": "fe5ec132-455d-4ed7-8577-9f897f41a4df",
   "metadata": {},
   "outputs": [],
   "source": [
    "def download_file(url):\n",
    "    # edited from: https://stackoverflow.com/questions/16694907/download-large-file-in-python-with-requests\n",
    "    print('Downloading:', url)\n",
    "    local_filename = url.split('/')[-1]\n",
    "    with requests.get(url, stream=True) as r:\n",
    "        with open(local_filename, 'wb') as f:\n",
    "            shutil.copyfileobj(r.raw, f)\n",
    "\n",
    "    return local_filename"
   ]
  },
  {
   "cell_type": "code",
   "execution_count": 33,
   "id": "4ea0e857-a0fe-458d-ba83-600427ada12e",
   "metadata": {},
   "outputs": [],
   "source": [
    "def download_dir(url):\n",
    "    # edited from: https://stackoverflow.com/questions/51702533/download-specific-files-in-a-directory-recursively\n",
    "    r = requests.get(url)\n",
    "    data = bs4.BeautifulSoup(r.text, \"html.parser\")\n",
    "    items = data.findAll('a', href=True)\n",
    "    \n",
    "    names = filter_names(items, url)\n",
    "    print(names)\n",
    "    print('\\n\\n')\n",
    "    return names\n",
    "\n",
    "\n",
    "    for name in names:\n",
    "\n",
    "        if isDirectory(name):\n",
    "            new_url = url + name    \n",
    "            #download_dir(new_url) #recursion happening here\n",
    "            print(new_url)\n",
    "        else:\n",
    "            #download_file(name)\n",
    "            print(name)\n"
   ]
  },
  {
   "cell_type": "code",
   "execution_count": null,
   "id": "eaadbda0-f1e5-4717-b440-267617ac10e5",
   "metadata": {},
   "outputs": [],
   "source": []
  },
  {
   "cell_type": "code",
   "execution_count": 5,
   "id": "9098b177-fe42-41ab-bb03-43dce0ec6376",
   "metadata": {},
   "outputs": [],
   "source": [
    "src_url=\"http://download.alleninstitute.org/informatics-archive/current-release/mouse_ccf/annotation/ccf_2022/\""
   ]
  },
  {
   "cell_type": "code",
   "execution_count": 6,
   "id": "18f6a92f-7795-41d0-ae04-d9dfedd3db31",
   "metadata": {},
   "outputs": [],
   "source": [
    "r = requests.get(src_url)"
   ]
  },
  {
   "cell_type": "code",
   "execution_count": 7,
   "id": "cf4c839c-5158-41a1-a284-72d3125344b7",
   "metadata": {},
   "outputs": [
    {
     "data": {
      "text/plain": [
       "<Response [200]>"
      ]
     },
     "execution_count": 7,
     "metadata": {},
     "output_type": "execute_result"
    }
   ],
   "source": [
    "r"
   ]
  },
  {
   "cell_type": "code",
   "execution_count": 8,
   "id": "cb5cb3f0-0bd5-4381-b6fd-f25b09a4e570",
   "metadata": {},
   "outputs": [
    {
     "data": {
      "text/plain": [
       "'<!DOCTYPE HTML PUBLIC \"-//W3C//DTD HTML 3.2 Final//EN\">\\n<html>\\n <head>\\n  <title>Index of /informatics-archive/current-release/mouse_ccf/annotation/ccf_2022</title>\\n </head>\\n <body>\\n<h1>Index of /informatics-archive/current-release/mouse_ccf/annotation/ccf_2022</h1>\\n<pre><img src=\"/icons/blank.gif\" alt=\"Icon \"> <a href=\"?C=N;O=D\">Name</a>                    <a href=\"?C=M;O=A\">Last modified</a>      <a href=\"?C=S;O=A\">Size</a>  <a href=\"?C=D;O=A\">Description</a><hr><img src=\"/icons/back.gif\" alt=\"[PARENTDIR]\"> <a href=\"/informatics-archive/current-release/mouse_ccf/annotation/\">Parent Directory</a>                             -   \\n<img src=\"/icons/unknown.gif\" alt=\"[   ]\"> <a href=\"annotation_10.nrrd\">annotation_10.nrrd</a>      2023-03-07 20:39   66M  \\n<img src=\"/icons/folder.gif\" alt=\"[DIR]\"> <a href=\"compacted/\">compacted/</a>              2023-03-07 20:42    -   \\n<img src=\"/icons/folder.gif\" alt=\"[DIR]\"> <a href=\"difference_masks/\">difference_masks/</a>       2023-03-07 20:41    -   \\n<img src=\"/icons/folder.gif\" alt=\"[DIR]\"> <a href=\"structure_masks/\">structure_masks/</a>        2023-03-07 20:40    -   \\n<img src=\"/icons/text.gif\" alt=\"[TXT]\"> <a href=\"voxel_count_and_differences.csv\">voxel_count_and_diff..&gt;</a> 2023-03-07 20:42  140K  \\n<hr></pre>\\n</body></html>\\n'"
      ]
     },
     "execution_count": 8,
     "metadata": {},
     "output_type": "execute_result"
    }
   ],
   "source": [
    "r.text"
   ]
  },
  {
   "cell_type": "code",
   "execution_count": 9,
   "id": "25c86384-23cb-4fc3-b4f3-2d5a11c50510",
   "metadata": {},
   "outputs": [
    {
     "name": "stdout",
     "output_type": "stream",
     "text": [
      "<!DOCTYPE HTML PUBLIC \"-//W3C//DTD HTML 3.2 Final//EN\">\n",
      "\n",
      "<html>\n",
      "<head>\n",
      "<title>Index of /informatics-archive/current-release/mouse_ccf/annotation/ccf_2022</title>\n",
      "</head>\n",
      "<body>\n",
      "<h1>Index of /informatics-archive/current-release/mouse_ccf/annotation/ccf_2022</h1>\n",
      "<pre><img alt=\"Icon \" src=\"/icons/blank.gif\"/> <a href=\"?C=N;O=D\">Name</a>                    <a href=\"?C=M;O=A\">Last modified</a>      <a href=\"?C=S;O=A\">Size</a>  <a href=\"?C=D;O=A\">Description</a><hr/><img alt=\"[PARENTDIR]\" src=\"/icons/back.gif\"/> <a href=\"/informatics-archive/current-release/mouse_ccf/annotation/\">Parent Directory</a>                             -   \n",
      "<img alt=\"[   ]\" src=\"/icons/unknown.gif\"/> <a href=\"annotation_10.nrrd\">annotation_10.nrrd</a>      2023-03-07 20:39   66M  \n",
      "<img alt=\"[DIR]\" src=\"/icons/folder.gif\"/> <a href=\"compacted/\">compacted/</a>              2023-03-07 20:42    -   \n",
      "<img alt=\"[DIR]\" src=\"/icons/folder.gif\"/> <a href=\"difference_masks/\">difference_masks/</a>       2023-03-07 20:41    -   \n",
      "<img alt=\"[DIR]\" src=\"/icons/folder.gif\"/> <a href=\"structure_masks/\">structure_masks/</a>        2023-03-07 20:40    -   \n",
      "<img alt=\"[TXT]\" src=\"/icons/text.gif\"/> <a href=\"voxel_count_and_differences.csv\">voxel_count_and_diff..&gt;</a> 2023-03-07 20:42  140K  \n",
      "<hr/></pre>\n",
      "</body></html>\n",
      "\n"
     ]
    }
   ],
   "source": [
    "print(bs4.BeautifulSoup(r.text, \"html.parser\"))"
   ]
  },
  {
   "cell_type": "code",
   "execution_count": 32,
   "id": "485e5fed-c567-41fd-b03f-cb8fe23ed7d8",
   "metadata": {},
   "outputs": [
    {
     "name": "stdout",
     "output_type": "stream",
     "text": [
      "['http://download.alleninstitute.org/informatics-archive/current-release/mouse_ccf/annotation/ccf_2022/annotation_10.nrrd', 'http://download.alleninstitute.org/informatics-archive/current-release/mouse_ccf/annotation/ccf_2022/compacted/', 'http://download.alleninstitute.org/informatics-archive/current-release/mouse_ccf/annotation/ccf_2022/difference_masks/', 'http://download.alleninstitute.org/informatics-archive/current-release/mouse_ccf/annotation/ccf_2022/structure_masks/', 'http://download.alleninstitute.org/informatics-archive/current-release/mouse_ccf/annotation/ccf_2022/voxel_count_and_differences.csv']\n",
      "\n",
      "\n",
      "\n",
      "Downloading: http://download.alleninstitute.org/informatics-archive/current-release/mouse_ccf/annotation/ccf_2022/annotation_10.nrrd\n",
      "http://download.alleninstitute.org/informatics-archive/current-release/mouse_ccf/annotation/ccf_2022/annotation_10.nrrd\n",
      "[]\n",
      "\n",
      "\n",
      "\n",
      "[]\n",
      "\n",
      "\n",
      "\n",
      "[]\n",
      "\n",
      "\n",
      "\n",
      "Downloading: http://download.alleninstitute.org/informatics-archive/current-release/mouse_ccf/annotation/ccf_2022/voxel_count_and_differences.csv\n",
      "http://download.alleninstitute.org/informatics-archive/current-release/mouse_ccf/annotation/ccf_2022/voxel_count_and_differences.csv\n"
     ]
    }
   ],
   "source": [
    "download_dir(src_url)"
   ]
  },
  {
   "cell_type": "code",
   "execution_count": 34,
   "id": "540142e4-481d-4e42-b8be-c8674d9d424d",
   "metadata": {},
   "outputs": [
    {
     "name": "stdout",
     "output_type": "stream",
     "text": [
      "['http://download.alleninstitute.org/informatics-archive/current-release/mouse_ccf/annotation/ccf_2022/annotation_10.nrrd', 'http://download.alleninstitute.org/informatics-archive/current-release/mouse_ccf/annotation/ccf_2022/compacted/', 'http://download.alleninstitute.org/informatics-archive/current-release/mouse_ccf/annotation/ccf_2022/difference_masks/', 'http://download.alleninstitute.org/informatics-archive/current-release/mouse_ccf/annotation/ccf_2022/structure_masks/', 'http://download.alleninstitute.org/informatics-archive/current-release/mouse_ccf/annotation/ccf_2022/voxel_count_and_differences.csv']\n",
      "\n",
      "\n",
      "\n",
      "http://download.alleninstitute.org/informatics-archive/current-release/mouse_ccf/annotation/ccf_2022/annotation_10.nrrd\n",
      "http://download.alleninstitute.org/informatics-archive/current-release/mouse_ccf/annotation/ccf_2022/http://download.alleninstitute.org/informatics-archive/current-release/mouse_ccf/annotation/ccf_2022/compacted/\n",
      "http://download.alleninstitute.org/informatics-archive/current-release/mouse_ccf/annotation/ccf_2022/http://download.alleninstitute.org/informatics-archive/current-release/mouse_ccf/annotation/ccf_2022/difference_masks/\n",
      "http://download.alleninstitute.org/informatics-archive/current-release/mouse_ccf/annotation/ccf_2022/http://download.alleninstitute.org/informatics-archive/current-release/mouse_ccf/annotation/ccf_2022/structure_masks/\n",
      "http://download.alleninstitute.org/informatics-archive/current-release/mouse_ccf/annotation/ccf_2022/voxel_count_and_differences.csv\n"
     ]
    }
   ],
   "source": [
    "download_dir(src_url)"
   ]
  },
  {
   "cell_type": "code",
   "execution_count": null,
   "id": "8933daae-b615-4bef-b771-98601abcaeb0",
   "metadata": {},
   "outputs": [],
   "source": [
    "print(data)"
   ]
  },
  {
   "cell_type": "code",
   "execution_count": null,
   "id": "2a8645d8-004a-48a2-9b43-e198dde70fdc",
   "metadata": {},
   "outputs": [],
   "source": [
    "data.find_all(\"a\")"
   ]
  },
  {
   "cell_type": "code",
   "execution_count": null,
   "id": "ef4c5808-8933-4a53-b6dd-e1d2dbef306a",
   "metadata": {},
   "outputs": [],
   "source": []
  },
  {
   "cell_type": "code",
   "execution_count": null,
   "id": "c92b04bc-f40e-4ee3-829b-78a68a145cc8",
   "metadata": {},
   "outputs": [],
   "source": [
    "items = data.findAll('a', href=True)"
   ]
  },
  {
   "cell_type": "code",
   "execution_count": null,
   "id": "0ded2b61-d1a6-4dc1-b95c-bfaed4fff367",
   "metadata": {},
   "outputs": [],
   "source": [
    "for link in items:\n",
    "    print(link['href'])\n",
    "    print(isDirectory(link['href']))"
   ]
  },
  {
   "cell_type": "code",
   "execution_count": null,
   "id": "fabfd6db-768c-4b76-96fe-deec2b9e60c9",
   "metadata": {},
   "outputs": [],
   "source": [
    "test_url = src_url + items[-1]['href']\n",
    "test_url"
   ]
  },
  {
   "cell_type": "code",
   "execution_count": null,
   "id": "bf851ddc-991c-4891-b131-6fbbc6a721fc",
   "metadata": {},
   "outputs": [],
   "source": [
    "download_file(test_url)"
   ]
  },
  {
   "cell_type": "code",
   "execution_count": null,
   "id": "e1c8dd45-eaa5-4a32-b1cf-1182649ea823",
   "metadata": {},
   "outputs": [],
   "source": [
    "requests.get(src_url).content"
   ]
  },
  {
   "cell_type": "code",
   "execution_count": null,
   "id": "9103000e-9dd3-461e-8e57-6ee009cbf90a",
   "metadata": {},
   "outputs": [],
   "source": []
  }
 ],
 "metadata": {
  "kernelspec": {
   "display_name": "Python 3",
   "language": "python",
   "name": "python3"
  },
  "language_info": {
   "codemirror_mode": {
    "name": "ipython",
    "version": 3
   },
   "file_extension": ".py",
   "mimetype": "text/x-python",
   "name": "python",
   "nbconvert_exporter": "python",
   "pygments_lexer": "ipython3",
   "version": "3.7.15"
  }
 },
 "nbformat": 4,
 "nbformat_minor": 5
}
